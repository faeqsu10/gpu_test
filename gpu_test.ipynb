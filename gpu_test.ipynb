{
 "cells": [
  {
   "cell_type": "code",
   "execution_count": 2,
   "metadata": {},
   "outputs": [],
   "source": [
    "import torch"
   ]
  },
  {
   "cell_type": "code",
   "execution_count": 3,
   "metadata": {},
   "outputs": [
    {
     "data": {
      "text/plain": [
       "True"
      ]
     },
     "execution_count": 3,
     "metadata": {},
     "output_type": "execute_result"
    }
   ],
   "source": [
    "torch.cuda.is_available()"
   ]
  },
  {
   "cell_type": "code",
   "execution_count": 4,
   "metadata": {},
   "outputs": [
    {
     "data": {
      "text/plain": [
       "4"
      ]
     },
     "execution_count": 4,
     "metadata": {},
     "output_type": "execute_result"
    }
   ],
   "source": [
    "torch.cuda.device_count()"
   ]
  },
  {
   "cell_type": "code",
   "execution_count": 13,
   "metadata": {},
   "outputs": [
    {
     "name": "stdout",
     "output_type": "stream",
     "text": [
      "NVIDIA GeForce RTX 4090\n",
      "NVIDIA GeForce RTX 4090\n",
      "NVIDIA GeForce RTX 4090\n",
      "NVIDIA GeForce RTX 4090\n"
     ]
    }
   ],
   "source": [
    "print(torch.cuda.get_device_name(0))\n",
    "print(torch.cuda.get_device_name(1))\n",
    "print(torch.cuda.get_device_name(2))\n",
    "print(torch.cuda.get_device_name(3))"
   ]
  },
  {
   "cell_type": "code",
   "execution_count": 16,
   "metadata": {},
   "outputs": [
    {
     "data": {
      "text/plain": [
       "tensor([[-0.1842,  0.6370, -0.0340,  ...,  0.4757,  0.1131,  0.3121],\n",
       "        [ 3.2340,  0.3629, -0.2374,  ..., -1.7905, -0.8786,  0.1112],\n",
       "        [ 0.5458,  1.1210,  0.3119,  ...,  2.3395,  0.7885,  1.1985],\n",
       "        ...,\n",
       "        [ 0.7070,  2.0689,  0.1866,  ..., -0.5867,  0.4930, -0.4070],\n",
       "        [ 1.6278,  0.2121, -0.3148,  ...,  0.1228,  1.0010,  1.1078],\n",
       "        [ 1.1153,  0.7940,  1.0757,  ...,  2.0178, -1.1921,  0.7135]],\n",
       "       device='cuda:0')"
      ]
     },
     "execution_count": 16,
     "metadata": {},
     "output_type": "execute_result"
    }
   ],
   "source": [
    "a = torch.randn(1000, 1000).cuda()\n",
    "a"
   ]
  },
  {
   "cell_type": "code",
   "execution_count": 17,
   "metadata": {},
   "outputs": [
    {
     "data": {
      "text/plain": [
       "tensor([[-0.5026, -0.8389, -0.7990,  ..., -1.7493,  0.3118,  0.4138],\n",
       "        [ 0.3896, -0.7856, -1.5003,  ...,  0.6089,  0.1476,  0.0341],\n",
       "        [-1.7369, -0.1411,  2.0454,  ..., -1.5893, -0.6648, -0.3526],\n",
       "        ...,\n",
       "        [ 0.5875,  0.7112,  0.1301,  ..., -1.0334,  0.1848, -0.6192],\n",
       "        [ 1.1421, -1.1504, -1.7052,  ...,  0.1580,  0.6474, -0.3289],\n",
       "        [ 0.7257, -0.5872, -0.0803,  ...,  1.3196,  0.8038, -0.4802]],\n",
       "       device='cuda:0')"
      ]
     },
     "execution_count": 17,
     "metadata": {},
     "output_type": "execute_result"
    }
   ],
   "source": [
    "b = torch.randn(1000, 1000).cuda()\n",
    "b"
   ]
  },
  {
   "cell_type": "code",
   "execution_count": 20,
   "metadata": {},
   "outputs": [
    {
     "data": {
      "text/plain": [
       "tensor([[-17.6604,  10.4880,   5.8070,  ..., -45.3051,  16.3151, -35.6679],\n",
       "        [-22.5406, -10.9611,  29.7924,  ..., -36.7116,   7.5680,  63.6083],\n",
       "        [-20.9866, -13.7775, -48.5634,  ..., -18.9081,   4.8025,  68.0040],\n",
       "        ...,\n",
       "        [-17.4713, -62.3071,  29.9990,  ...,  -1.1099,  19.2354,   6.6102],\n",
       "        [ -4.9585,  19.0683,  17.9659,  ...,  -5.9544, -29.0795, -30.0171],\n",
       "        [-13.8977,  11.4507,   9.8016,  ...,  -3.0743, -27.9545, -37.4177]],\n",
       "       device='cuda:0')"
      ]
     },
     "execution_count": 20,
     "metadata": {},
     "output_type": "execute_result"
    }
   ],
   "source": [
    "# matmul 의미: 행렬 곱셈\n",
    "c = torch.matmul(a, b)\n",
    "c"
   ]
  },
  {
   "cell_type": "markdown",
   "metadata": {},
   "source": [
    "---"
   ]
  },
  {
   "cell_type": "code",
   "execution_count": 22,
   "metadata": {},
   "outputs": [],
   "source": [
    "import torch\n",
    "import time"
   ]
  },
  {
   "cell_type": "code",
   "execution_count": 23,
   "metadata": {},
   "outputs": [
    {
     "data": {
      "text/plain": [
       "True"
      ]
     },
     "execution_count": 23,
     "metadata": {},
     "output_type": "execute_result"
    }
   ],
   "source": [
    "torch.cuda.is_available()"
   ]
  },
  {
   "cell_type": "code",
   "execution_count": 24,
   "metadata": {},
   "outputs": [
    {
     "data": {
      "text/plain": [
       "4"
      ]
     },
     "execution_count": 24,
     "metadata": {},
     "output_type": "execute_result"
    }
   ],
   "source": [
    "torch.cuda.device_count()"
   ]
  },
  {
   "cell_type": "code",
   "execution_count": 25,
   "metadata": {},
   "outputs": [
    {
     "name": "stdout",
     "output_type": "stream",
     "text": [
      "GPU 0: NVIDIA GeForce RTX 4090\n",
      "GPU 1: NVIDIA GeForce RTX 4090\n",
      "GPU 2: NVIDIA GeForce RTX 4090\n",
      "GPU 3: NVIDIA GeForce RTX 4090\n"
     ]
    }
   ],
   "source": [
    "for i in range(torch.cuda.device_count()):\n",
    "    print(f\"GPU {i}: {torch.cuda.get_device_name(i)}\")"
   ]
  },
  {
   "cell_type": "code",
   "execution_count": 29,
   "metadata": {},
   "outputs": [],
   "source": [
    "device = torch.device('cuda:0')\n",
    "device1 = torch.device('cuda:1')\n",
    "device2 = torch.device('cuda:2')\n",
    "device3 = torch.device('cuda:3')"
   ]
  },
  {
   "cell_type": "code",
   "execution_count": 28,
   "metadata": {},
   "outputs": [
    {
     "data": {
      "text/plain": [
       "tensor([[-0.4818, -0.1320,  0.9276,  ...,  0.5117, -0.5197,  0.0963],\n",
       "        [-0.7459, -1.1172, -1.2896,  ..., -0.9577,  0.9678,  1.3500],\n",
       "        [-0.2203,  1.6574, -0.1210,  ..., -0.4887, -0.3921, -0.7935],\n",
       "        ...,\n",
       "        [-0.5071, -0.2971, -0.4719,  ..., -0.7272,  1.1627,  0.1125],\n",
       "        [ 1.6476,  0.2658,  2.9646,  ..., -2.7423, -1.5203, -1.0457],\n",
       "        [-0.2754, -1.0999, -0.1122,  ..., -1.3414,  1.1141, -0.9444]],\n",
       "       device='cuda:0')"
      ]
     },
     "execution_count": 28,
     "metadata": {},
     "output_type": "execute_result"
    }
   ],
   "source": [
    "a = torch.randn(1000, 1000, device=device)\n",
    "a"
   ]
  },
  {
   "cell_type": "code",
   "execution_count": 35,
   "metadata": {},
   "outputs": [
    {
     "data": {
      "text/plain": [
       "tensor([[-0.2649,  1.7008, -1.2059,  ..., -0.1758,  0.6192,  1.1645],\n",
       "        [ 0.7570, -0.1401, -1.3408,  ...,  0.6451,  0.5398,  0.3684],\n",
       "        [-0.3273,  1.0406, -0.6758,  ...,  0.9466,  1.6686, -0.8463],\n",
       "        ...,\n",
       "        [-1.0864,  0.7465, -1.1611,  ..., -0.9053, -0.5888, -0.9984],\n",
       "        [ 0.4933, -0.6219, -0.6326,  ...,  0.2487, -1.2705, -0.1510],\n",
       "        [-0.4665, -0.9723, -0.1032,  ..., -0.3554, -0.0168, -0.0380]],\n",
       "       device='cuda:0')"
      ]
     },
     "execution_count": 35,
     "metadata": {},
     "output_type": "execute_result"
    }
   ],
   "source": [
    "b = torch.randn(1000, 1000, device=device) ; b"
   ]
  },
  {
   "cell_type": "code",
   "execution_count": 37,
   "metadata": {},
   "outputs": [],
   "source": [
    "start = time.time()\n",
    "c = torch.matmul(a, b)\n",
    "torch.cuda.synchronize()\n",
    "end = time.time()"
   ]
  },
  {
   "cell_type": "code",
   "execution_count": 38,
   "metadata": {},
   "outputs": [
    {
     "name": "stdout",
     "output_type": "stream",
     "text": [
      "연산 완료, 소요시간: 0.008 초\n"
     ]
    }
   ],
   "source": [
    "print(\"연산 완료, 소요시간:\", round(end - start, 3), \"초\")"
   ]
  }
 ],
 "metadata": {
  "kernelspec": {
   "display_name": "venv",
   "language": "python",
   "name": "python3"
  },
  "language_info": {
   "codemirror_mode": {
    "name": "ipython",
    "version": 3
   },
   "file_extension": ".py",
   "mimetype": "text/x-python",
   "name": "python",
   "nbconvert_exporter": "python",
   "pygments_lexer": "ipython3",
   "version": "3.12.3"
  }
 },
 "nbformat": 4,
 "nbformat_minor": 2
}
