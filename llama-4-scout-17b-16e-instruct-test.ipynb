{
 "cells": [
  {
   "cell_type": "code",
   "execution_count": 18,
   "metadata": {},
   "outputs": [],
   "source": [
    "from transformers import AutoProcessor, Llama4ForConditionalGeneration, AutoTokenizer # transformers 라이브러리에서 모델과 이미지/텍스트 프로세서 로딩 도구를 임포트\n",
    "import torch # PyTorch 연산을 위한 기본 라이브러리"
   ]
  },
  {
   "cell_type": "code",
   "execution_count": 3,
   "metadata": {},
   "outputs": [],
   "source": [
    "model_id = \"meta-llama/Llama-4-Scout-17B-16E-Instruct\""
   ]
  },
  {
   "cell_type": "code",
   "execution_count": null,
   "metadata": {},
   "outputs": [
    {
     "data": {
      "application/vnd.jupyter.widget-view+json": {
       "model_id": "78bb5bdf56f44dfcaa8118d67c139b4d",
       "version_major": 2,
       "version_minor": 0
      },
      "text/plain": [
       "processor_config.json:   0%|          | 0.00/128 [00:00<?, ?B/s]"
      ]
     },
     "metadata": {},
     "output_type": "display_data"
    },
    {
     "data": {
      "application/vnd.jupyter.widget-view+json": {
       "model_id": "8885cfc9ece44bab91bf519e3cc9d0b7",
       "version_major": 2,
       "version_minor": 0
      },
      "text/plain": [
       "chat_template.json:   0%|          | 0.00/5.18k [00:00<?, ?B/s]"
      ]
     },
     "metadata": {},
     "output_type": "display_data"
    },
    {
     "data": {
      "application/vnd.jupyter.widget-view+json": {
       "model_id": "6085a0303df64bcbb260c0a38c8a6ae0",
       "version_major": 2,
       "version_minor": 0
      },
      "text/plain": [
       "preprocessor_config.json:   0%|          | 0.00/636 [00:00<?, ?B/s]"
      ]
     },
     "metadata": {},
     "output_type": "display_data"
    },
    {
     "data": {
      "application/vnd.jupyter.widget-view+json": {
       "model_id": "5025546b2935489ba2c65b36b7bbd48d",
       "version_major": 2,
       "version_minor": 0
      },
      "text/plain": [
       "tokenizer_config.json:   0%|          | 0.00/237k [00:00<?, ?B/s]"
      ]
     },
     "metadata": {},
     "output_type": "display_data"
    },
    {
     "name": "stderr",
     "output_type": "stream",
     "text": [
      "Xet Storage is enabled for this repo, but the 'hf_xet' package is not installed. Falling back to regular HTTP download. For better performance, install the package with: `pip install huggingface_hub[hf_xet]` or `pip install hf_xet`\n"
     ]
    },
    {
     "data": {
      "application/vnd.jupyter.widget-view+json": {
       "model_id": "0cb813d63576406d91a250765af8d331",
       "version_major": 2,
       "version_minor": 0
      },
      "text/plain": [
       "tokenizer.json:   0%|          | 0.00/27.9M [00:00<?, ?B/s]"
      ]
     },
     "metadata": {},
     "output_type": "display_data"
    },
    {
     "name": "stderr",
     "output_type": "stream",
     "text": [
      "Xet Storage is enabled for this repo, but the 'hf_xet' package is not installed. Falling back to regular HTTP download. For better performance, install the package with: `pip install huggingface_hub[hf_xet]` or `pip install hf_xet`\n"
     ]
    },
    {
     "data": {
      "application/vnd.jupyter.widget-view+json": {
       "model_id": "4152ee81dd084d878335db3d1f36eef6",
       "version_major": 2,
       "version_minor": 0
      },
      "text/plain": [
       "tokenizer.model:   0%|          | 0.00/3.62M [00:00<?, ?B/s]"
      ]
     },
     "metadata": {},
     "output_type": "display_data"
    },
    {
     "data": {
      "application/vnd.jupyter.widget-view+json": {
       "model_id": "8922f03e2961435da5bb3013ef8d49eb",
       "version_major": 2,
       "version_minor": 0
      },
      "text/plain": [
       "special_tokens_map.json:   0%|          | 0.00/106 [00:00<?, ?B/s]"
      ]
     },
     "metadata": {},
     "output_type": "display_data"
    },
    {
     "data": {
      "text/plain": [
       "Llama4Processor:\n",
       "- image_processor: Llama4ImageProcessorFast {\n",
       "  \"crop_size\": null,\n",
       "  \"data_format\": \"channels_first\",\n",
       "  \"default_to_square\": true,\n",
       "  \"device\": null,\n",
       "  \"do_center_crop\": null,\n",
       "  \"do_convert_rgb\": true,\n",
       "  \"do_normalize\": true,\n",
       "  \"do_rescale\": true,\n",
       "  \"do_resize\": true,\n",
       "  \"image_mean\": [\n",
       "    0.5,\n",
       "    0.5,\n",
       "    0.5\n",
       "  ],\n",
       "  \"image_processor_type\": \"Llama4ImageProcessorFast\",\n",
       "  \"image_std\": [\n",
       "    0.5,\n",
       "    0.5,\n",
       "    0.5\n",
       "  ],\n",
       "  \"input_data_format\": null,\n",
       "  \"max_patches\": 16,\n",
       "  \"processor_class\": \"Llama4Processor\",\n",
       "  \"resample\": 2,\n",
       "  \"rescale_factor\": 0.00392156862745098,\n",
       "  \"resize_to_max_canvas\": false,\n",
       "  \"return_tensors\": null,\n",
       "  \"size\": {\n",
       "    \"height\": 336,\n",
       "    \"width\": 336\n",
       "  }\n",
       "}\n",
       "\n",
       "- tokenizer: PreTrainedTokenizerFast(name_or_path='meta-llama/Llama-4-Scout-17B-16E-Instruct', vocab_size=200000, model_max_length=10485760, is_fast=True, padding_side='right', truncation_side='right', special_tokens={'bos_token': '<|begin_of_text|>', 'eos_token': '<|eot|>', 'pad_token': '<|finetune_right_pad|>'}, clean_up_tokenization_spaces=False, added_tokens_decoder={\n",
       "\t200000: AddedToken(\"<|begin_of_text|>\", rstrip=False, lstrip=False, single_word=False, normalized=False, special=True),\n",
       "\t200001: AddedToken(\"<|end_of_text|>\", rstrip=False, lstrip=False, single_word=False, normalized=False, special=True),\n",
       "\t200002: AddedToken(\"<|fim_prefix|>\", rstrip=False, lstrip=False, single_word=False, normalized=False, special=True),\n",
       "\t200003: AddedToken(\"<|fim_middle|>\", rstrip=False, lstrip=False, single_word=False, normalized=False, special=True),\n",
       "\t200004: AddedToken(\"<|fim_suffix|>\", rstrip=False, lstrip=False, single_word=False, normalized=False, special=True),\n",
       "\t200005: AddedToken(\"<|header_start|>\", rstrip=False, lstrip=False, single_word=False, normalized=False, special=True),\n",
       "\t200006: AddedToken(\"<|header_end|>\", rstrip=False, lstrip=False, single_word=False, normalized=False, special=True),\n",
       "\t200007: AddedToken(\"<|eom|>\", rstrip=False, lstrip=False, single_word=False, normalized=False, special=True),\n",
       "\t200008: AddedToken(\"<|eot|>\", rstrip=False, lstrip=False, single_word=False, normalized=False, special=True),\n",
       "\t200009: AddedToken(\"<|step|>\", rstrip=False, lstrip=False, single_word=False, normalized=False, special=True),\n",
       "\t200010: AddedToken(\"<|text_post_train_reserved_special_token_0|>\", rstrip=False, lstrip=False, single_word=False, normalized=False, special=True),\n",
       "\t200011: AddedToken(\"<|text_post_train_reserved_special_token_1|>\", rstrip=False, lstrip=False, single_word=False, normalized=False, special=True),\n",
       "\t200012: AddedToken(\"<|text_post_train_reserved_special_token_2|>\", rstrip=False, lstrip=False, single_word=False, normalized=False, special=True),\n",
       "\t200013: AddedToken(\"<|text_post_train_reserved_special_token_3|>\", rstrip=False, lstrip=False, single_word=False, normalized=False, special=True),\n",
       "\t200014: AddedToken(\"<|text_post_train_reserved_special_token_4|>\", rstrip=False, lstrip=False, single_word=False, normalized=False, special=True),\n",
       "\t200015: AddedToken(\"<|text_post_train_reserved_special_token_5|>\", rstrip=False, lstrip=False, single_word=False, normalized=False, special=True),\n",
       "\t200016: AddedToken(\"<|python_start|>\", rstrip=False, lstrip=False, single_word=False, normalized=False, special=True),\n",
       "\t200017: AddedToken(\"<|python_end|>\", rstrip=False, lstrip=False, single_word=False, normalized=False, special=True),\n",
       "\t200018: AddedToken(\"<|finetune_right_pad|>\", rstrip=False, lstrip=False, single_word=False, normalized=False, special=True),\n",
       "\t200019: AddedToken(\"<|text_post_train_reserved_special_token_6|>\", rstrip=False, lstrip=False, single_word=False, normalized=False, special=True),\n",
       "\t200020: AddedToken(\"<|text_post_train_reserved_special_token_7|>\", rstrip=False, lstrip=False, single_word=False, normalized=False, special=True),\n",
       "\t200021: AddedToken(\"<|text_post_train_reserved_special_token_8|>\", rstrip=False, lstrip=False, single_word=False, normalized=False, special=True),\n",
       "\t200022: AddedToken(\"<|text_post_train_reserved_special_token_9|>\", rstrip=False, lstrip=False, single_word=False, normalized=False, special=True),\n",
       "\t200023: AddedToken(\"<|text_post_train_reserved_special_token_10|>\", rstrip=False, lstrip=False, single_word=False, normalized=False, special=True),\n",
       "\t200024: AddedToken(\"<|text_post_train_reserved_special_token_11|>\", rstrip=False, lstrip=False, single_word=False, normalized=False, special=True),\n",
       "\t200025: AddedToken(\"<|text_post_train_reserved_special_token_12|>\", rstrip=False, lstrip=False, single_word=False, normalized=False, special=True),\n",
       "\t200026: AddedToken(\"<|text_post_train_reserved_special_token_13|>\", rstrip=False, lstrip=False, single_word=False, normalized=False, special=True),\n",
       "\t200027: AddedToken(\"<|text_post_train_reserved_special_token_14|>\", rstrip=False, lstrip=False, single_word=False, normalized=False, special=True),\n",
       "\t200028: AddedToken(\"<|text_post_train_reserved_special_token_15|>\", rstrip=False, lstrip=False, single_word=False, normalized=False, special=True),\n",
       "\t200029: AddedToken(\"<|text_post_train_reserved_special_token_16|>\", rstrip=False, lstrip=False, single_word=False, normalized=False, special=True),\n",
       "\t200030: AddedToken(\"<|text_post_train_reserved_special_token_17|>\", rstrip=False, lstrip=False, single_word=False, normalized=False, special=True),\n",
       "\t200031: AddedToken(\"<|text_post_train_reserved_special_token_18|>\", rstrip=False, lstrip=False, single_word=False, normalized=False, special=True),\n",
       "\t200032: AddedToken(\"<|text_post_train_reserved_special_token_19|>\", rstrip=False, lstrip=False, single_word=False, normalized=False, special=True),\n",
       "\t200033: AddedToken(\"<|text_post_train_reserved_special_token_20|>\", rstrip=False, lstrip=False, single_word=False, normalized=False, special=True),\n",
       "\t200034: AddedToken(\"<|text_post_train_reserved_special_token_21|>\", rstrip=False, lstrip=False, single_word=False, normalized=False, special=True),\n",
       "\t200035: AddedToken(\"<|text_post_train_reserved_special_token_22|>\", rstrip=False, lstrip=False, single_word=False, normalized=False, special=True),\n",
       "\t200036: AddedToken(\"<|text_post_train_reserved_special_token_23|>\", rstrip=False, lstrip=False, single_word=False, normalized=False, special=True),\n",
       "\t200037: AddedToken(\"<|text_post_train_reserved_special_token_24|>\", rstrip=False, lstrip=False, single_word=False, normalized=False, special=True),\n",
       "\t200038: AddedToken(\"<|text_post_train_reserved_special_token_25|>\", rstrip=False, lstrip=False, single_word=False, normalized=False, special=True),\n",
       "\t200039: AddedToken(\"<|text_post_train_reserved_special_token_26|>\", rstrip=False, lstrip=False, single_word=False, normalized=False, special=True),\n",
       "\t200040: AddedToken(\"<|text_post_train_reserved_special_token_27|>\", rstrip=False, lstrip=False, single_word=False, normalized=False, special=True),\n",
       "\t200041: AddedToken(\"<|text_post_train_reserved_special_token_28|>\", rstrip=False, lstrip=False, single_word=False, normalized=False, special=True),\n",
       "\t200042: AddedToken(\"<|text_post_train_reserved_special_token_29|>\", rstrip=False, lstrip=False, single_word=False, normalized=False, special=True),\n",
       "\t200043: AddedToken(\"<|text_post_train_reserved_special_token_30|>\", rstrip=False, lstrip=False, single_word=False, normalized=False, special=True),\n",
       "\t200044: AddedToken(\"<|text_post_train_reserved_special_token_31|>\", rstrip=False, lstrip=False, single_word=False, normalized=False, special=True),\n",
       "\t200045: AddedToken(\"<|text_post_train_reserved_special_token_32|>\", rstrip=False, lstrip=False, single_word=False, normalized=False, special=True),\n",
       "\t200046: AddedToken(\"<|text_post_train_reserved_special_token_33|>\", rstrip=False, lstrip=False, single_word=False, normalized=False, special=True),\n",
       "\t200047: AddedToken(\"<|text_post_train_reserved_special_token_34|>\", rstrip=False, lstrip=False, single_word=False, normalized=False, special=True),\n",
       "\t200048: AddedToken(\"<|text_post_train_reserved_special_token_35|>\", rstrip=False, lstrip=False, single_word=False, normalized=False, special=True),\n",
       "\t200049: AddedToken(\"<|text_post_train_reserved_special_token_36|>\", rstrip=False, lstrip=False, single_word=False, normalized=False, special=True),\n",
       "\t200050: AddedToken(\"<|text_post_train_reserved_special_token_37|>\", rstrip=False, lstrip=False, single_word=False, normalized=False, special=True),\n",
       "\t200051: AddedToken(\"<|text_post_train_reserved_special_token_38|>\", rstrip=False, lstrip=False, single_word=False, normalized=False, special=True),\n",
       "\t200052: AddedToken(\"<|text_post_train_reserved_special_token_39|>\", rstrip=False, lstrip=False, single_word=False, normalized=False, special=True),\n",
       "\t200053: AddedToken(\"<|text_post_train_reserved_special_token_40|>\", rstrip=False, lstrip=False, single_word=False, normalized=False, special=True),\n",
       "\t200054: AddedToken(\"<|text_post_train_reserved_special_token_41|>\", rstrip=False, lstrip=False, single_word=False, normalized=False, special=True),\n",
       "\t200055: AddedToken(\"<|text_post_train_reserved_special_token_42|>\", rstrip=False, lstrip=False, single_word=False, normalized=False, special=True),\n",
       "\t200056: AddedToken(\"<|text_post_train_reserved_special_token_43|>\", rstrip=False, lstrip=False, single_word=False, normalized=False, special=True),\n",
       "\t200057: AddedToken(\"<|text_post_train_reserved_special_token_44|>\", rstrip=False, lstrip=False, single_word=False, normalized=False, special=True),\n",
       "\t200058: AddedToken(\"<|text_post_train_reserved_special_token_45|>\", rstrip=False, lstrip=False, single_word=False, normalized=False, special=True),\n",
       "\t200059: AddedToken(\"<|text_post_train_reserved_special_token_46|>\", rstrip=False, lstrip=False, single_word=False, normalized=False, special=True),\n",
       "\t200060: AddedToken(\"<|text_post_train_reserved_special_token_47|>\", rstrip=False, lstrip=False, single_word=False, normalized=False, special=True),\n",
       "\t200061: AddedToken(\"<|text_post_train_reserved_special_token_48|>\", rstrip=False, lstrip=False, single_word=False, normalized=False, special=True),\n",
       "\t200062: AddedToken(\"<|text_post_train_reserved_special_token_49|>\", rstrip=False, lstrip=False, single_word=False, normalized=False, special=True),\n",
       "\t200063: AddedToken(\"<|text_post_train_reserved_special_token_50|>\", rstrip=False, lstrip=False, single_word=False, normalized=False, special=True),\n",
       "\t200064: AddedToken(\"<|text_post_train_reserved_special_token_51|>\", rstrip=False, lstrip=False, single_word=False, normalized=False, special=True),\n",
       "\t200065: AddedToken(\"<|text_post_train_reserved_special_token_52|>\", rstrip=False, lstrip=False, single_word=False, normalized=False, special=True),\n",
       "\t200066: AddedToken(\"<|text_post_train_reserved_special_token_53|>\", rstrip=False, lstrip=False, single_word=False, normalized=False, special=True),\n",
       "\t200067: AddedToken(\"<|text_post_train_reserved_special_token_54|>\", rstrip=False, lstrip=False, single_word=False, normalized=False, special=True),\n",
       "\t200068: AddedToken(\"<|text_post_train_reserved_special_token_55|>\", rstrip=False, lstrip=False, single_word=False, normalized=False, special=True),\n",
       "\t200069: AddedToken(\"<|text_post_train_reserved_special_token_56|>\", rstrip=False, lstrip=False, single_word=False, normalized=False, special=True),\n",
       "\t200070: AddedToken(\"<|text_post_train_reserved_special_token_57|>\", rstrip=False, lstrip=False, single_word=False, normalized=False, special=True),\n",
       "\t200071: AddedToken(\"<|text_post_train_reserved_special_token_58|>\", rstrip=False, lstrip=False, single_word=False, normalized=False, special=True),\n",
       "\t200072: AddedToken(\"<|text_post_train_reserved_special_token_59|>\", rstrip=False, lstrip=False, single_word=False, normalized=False, special=True),\n",
       "\t200073: AddedToken(\"<|text_post_train_reserved_special_token_60|>\", rstrip=False, lstrip=False, single_word=False, normalized=False, special=True),\n",
       "\t200074: AddedToken(\"<|text_post_train_reserved_special_token_61|>\", rstrip=False, lstrip=False, single_word=False, normalized=False, special=True),\n",
       "\t200075: AddedToken(\"<|text_post_train_reserved_special_token_62|>\", rstrip=False, lstrip=False, single_word=False, normalized=False, special=True),\n",
       "\t200076: AddedToken(\"<|text_post_train_reserved_special_token_63|>\", rstrip=False, lstrip=False, single_word=False, normalized=False, special=True),\n",
       "\t200077: AddedToken(\"<|text_post_train_reserved_special_token_64|>\", rstrip=False, lstrip=False, single_word=False, normalized=False, special=True),\n",
       "\t200078: AddedToken(\"<|text_post_train_reserved_special_token_65|>\", rstrip=False, lstrip=False, single_word=False, normalized=False, special=True),\n",
       "\t200079: AddedToken(\"<|text_post_train_reserved_special_token_66|>\", rstrip=False, lstrip=False, single_word=False, normalized=False, special=True),\n",
       "\t200080: AddedToken(\"<|image_start|>\", rstrip=False, lstrip=False, single_word=False, normalized=False, special=True),\n",
       "\t200081: AddedToken(\"<|image_end|>\", rstrip=False, lstrip=False, single_word=False, normalized=False, special=True),\n",
       "\t200082: AddedToken(\"<|vision_reserved_special_token_0|>\", rstrip=False, lstrip=False, single_word=False, normalized=False, special=True),\n",
       "\t200083: AddedToken(\"<|vision_reserved_special_token_1|>\", rstrip=False, lstrip=False, single_word=False, normalized=False, special=True),\n",
       "\t200084: AddedToken(\"<|tile_x_separator|>\", rstrip=False, lstrip=False, single_word=False, normalized=False, special=True),\n",
       "\t200085: AddedToken(\"<|tile_y_separator|>\", rstrip=False, lstrip=False, single_word=False, normalized=False, special=True),\n",
       "\t200086: AddedToken(\"<|vision_reserved_special_token_2|>\", rstrip=False, lstrip=False, single_word=False, normalized=False, special=True),\n",
       "\t200087: AddedToken(\"<|vision_reserved_special_token_3|>\", rstrip=False, lstrip=False, single_word=False, normalized=False, special=True),\n",
       "\t200088: AddedToken(\"<|vision_reserved_special_token_4|>\", rstrip=False, lstrip=False, single_word=False, normalized=False, special=True),\n",
       "\t200089: AddedToken(\"<|vision_reserved_special_token_5|>\", rstrip=False, lstrip=False, single_word=False, normalized=False, special=True),\n",
       "\t200090: AddedToken(\"<|image|>\", rstrip=False, lstrip=False, single_word=False, normalized=False, special=True),\n",
       "\t200091: AddedToken(\"<|vision_reserved_special_token_6|>\", rstrip=False, lstrip=False, single_word=False, normalized=False, special=True),\n",
       "\t200092: AddedToken(\"<|patch|>\", rstrip=False, lstrip=False, single_word=False, normalized=False, special=True),\n",
       "\t200093: AddedToken(\"<|vision_reserved_special_token_7|>\", rstrip=False, lstrip=False, single_word=False, normalized=False, special=True),\n",
       "\t200094: AddedToken(\"<|vision_reserved_special_token_8|>\", rstrip=False, lstrip=False, single_word=False, normalized=False, special=True),\n",
       "\t200095: AddedToken(\"<|vision_reserved_special_token_9|>\", rstrip=False, lstrip=False, single_word=False, normalized=False, special=True),\n",
       "\t200096: AddedToken(\"<|vision_reserved_special_token_10|>\", rstrip=False, lstrip=False, single_word=False, normalized=False, special=True),\n",
       "\t200097: AddedToken(\"<|vision_reserved_special_token_11|>\", rstrip=False, lstrip=False, single_word=False, normalized=False, special=True),\n",
       "\t200098: AddedToken(\"<|vision_reserved_special_token_12|>\", rstrip=False, lstrip=False, single_word=False, normalized=False, special=True),\n",
       "\t200099: AddedToken(\"<|vision_reserved_special_token_13|>\", rstrip=False, lstrip=False, single_word=False, normalized=False, special=True),\n",
       "\t200100: AddedToken(\"<|vision_reserved_special_token_14|>\", rstrip=False, lstrip=False, single_word=False, normalized=False, special=True),\n",
       "\t200101: AddedToken(\"<|vision_reserved_special_token_15|>\", rstrip=False, lstrip=False, single_word=False, normalized=False, special=True),\n",
       "\t200102: AddedToken(\"<|vision_reserved_special_token_16|>\", rstrip=False, lstrip=False, single_word=False, normalized=False, special=True),\n",
       "\t200103: AddedToken(\"<|vision_reserved_special_token_17|>\", rstrip=False, lstrip=False, single_word=False, normalized=False, special=True),\n",
       "\t200104: AddedToken(\"<|vision_reserved_special_token_18|>\", rstrip=False, lstrip=False, single_word=False, normalized=False, special=True),\n",
       "\t200105: AddedToken(\"<|vision_reserved_special_token_19|>\", rstrip=False, lstrip=False, single_word=False, normalized=False, special=True),\n",
       "\t200106: AddedToken(\"<|vision_reserved_special_token_20|>\", rstrip=False, lstrip=False, single_word=False, normalized=False, special=True),\n",
       "\t200107: AddedToken(\"<|vision_reserved_special_token_21|>\", rstrip=False, lstrip=False, single_word=False, normalized=False, special=True),\n",
       "\t200108: AddedToken(\"<|vision_reserved_special_token_22|>\", rstrip=False, lstrip=False, single_word=False, normalized=False, special=True),\n",
       "\t200109: AddedToken(\"<|vision_reserved_special_token_23|>\", rstrip=False, lstrip=False, single_word=False, normalized=False, special=True),\n",
       "\t200110: AddedToken(\"<|vision_reserved_special_token_24|>\", rstrip=False, lstrip=False, single_word=False, normalized=False, special=True),\n",
       "\t200111: AddedToken(\"<|vision_reserved_special_token_25|>\", rstrip=False, lstrip=False, single_word=False, normalized=False, special=True),\n",
       "\t200112: AddedToken(\"<|vision_reserved_special_token_26|>\", rstrip=False, lstrip=False, single_word=False, normalized=False, special=True),\n",
       "\t200113: AddedToken(\"<|vision_reserved_special_token_27|>\", rstrip=False, lstrip=False, single_word=False, normalized=False, special=True),\n",
       "\t200114: AddedToken(\"<|vision_reserved_special_token_28|>\", rstrip=False, lstrip=False, single_word=False, normalized=False, special=True),\n",
       "\t200115: AddedToken(\"<|vision_reserved_special_token_29|>\", rstrip=False, lstrip=False, single_word=False, normalized=False, special=True),\n",
       "\t200116: AddedToken(\"<|vision_reserved_special_token_30|>\", rstrip=False, lstrip=False, single_word=False, normalized=False, special=True),\n",
       "\t200117: AddedToken(\"<|vision_reserved_special_token_31|>\", rstrip=False, lstrip=False, single_word=False, normalized=False, special=True),\n",
       "\t200118: AddedToken(\"<|vision_reserved_special_token_32|>\", rstrip=False, lstrip=False, single_word=False, normalized=False, special=True),\n",
       "\t200119: AddedToken(\"<|vision_reserved_special_token_33|>\", rstrip=False, lstrip=False, single_word=False, normalized=False, special=True),\n",
       "\t200120: AddedToken(\"<|vision_reserved_special_token_34|>\", rstrip=False, lstrip=False, single_word=False, normalized=False, special=True),\n",
       "\t200121: AddedToken(\"<|vision_reserved_special_token_35|>\", rstrip=False, lstrip=False, single_word=False, normalized=False, special=True),\n",
       "\t200122: AddedToken(\"<|vision_reserved_special_token_36|>\", rstrip=False, lstrip=False, single_word=False, normalized=False, special=True),\n",
       "\t200123: AddedToken(\"<|vision_reserved_special_token_37|>\", rstrip=False, lstrip=False, single_word=False, normalized=False, special=True),\n",
       "\t200124: AddedToken(\"<|vision_reserved_special_token_38|>\", rstrip=False, lstrip=False, single_word=False, normalized=False, special=True),\n",
       "\t200125: AddedToken(\"<|vision_reserved_special_token_39|>\", rstrip=False, lstrip=False, single_word=False, normalized=False, special=True),\n",
       "\t200126: AddedToken(\"<|vision_reserved_special_token_40|>\", rstrip=False, lstrip=False, single_word=False, normalized=False, special=True),\n",
       "\t200127: AddedToken(\"<|vision_reserved_special_token_41|>\", rstrip=False, lstrip=False, single_word=False, normalized=False, special=True),\n",
       "\t200128: AddedToken(\"<|vision_reserved_special_token_42|>\", rstrip=False, lstrip=False, single_word=False, normalized=False, special=True),\n",
       "\t200129: AddedToken(\"<|vision_reserved_special_token_43|>\", rstrip=False, lstrip=False, single_word=False, normalized=False, special=True),\n",
       "\t200130: AddedToken(\"<|vision_reserved_special_token_44|>\", rstrip=False, lstrip=False, single_word=False, normalized=False, special=True),\n",
       "\t200131: AddedToken(\"<|vision_reserved_special_token_45|>\", rstrip=False, lstrip=False, single_word=False, normalized=False, special=True),\n",
       "\t200132: AddedToken(\"<|vision_reserved_special_token_46|>\", rstrip=False, lstrip=False, single_word=False, normalized=False, special=True),\n",
       "\t200133: AddedToken(\"<|vision_reserved_special_token_47|>\", rstrip=False, lstrip=False, single_word=False, normalized=False, special=True),\n",
       "\t200134: AddedToken(\"<|vision_reserved_special_token_48|>\", rstrip=False, lstrip=False, single_word=False, normalized=False, special=True),\n",
       "\t200135: AddedToken(\"<|vision_reserved_special_token_49|>\", rstrip=False, lstrip=False, single_word=False, normalized=False, special=True),\n",
       "\t200136: AddedToken(\"<|vision_reserved_special_token_50|>\", rstrip=False, lstrip=False, single_word=False, normalized=False, special=True),\n",
       "\t200137: AddedToken(\"<|vision_reserved_special_token_51|>\", rstrip=False, lstrip=False, single_word=False, normalized=False, special=True),\n",
       "\t200138: AddedToken(\"<|vision_reserved_special_token_52|>\", rstrip=False, lstrip=False, single_word=False, normalized=False, special=True),\n",
       "\t200139: AddedToken(\"<|vision_reserved_special_token_53|>\", rstrip=False, lstrip=False, single_word=False, normalized=False, special=True),\n",
       "\t200140: AddedToken(\"<|vision_reserved_special_token_54|>\", rstrip=False, lstrip=False, single_word=False, normalized=False, special=True),\n",
       "\t200141: AddedToken(\"<|vision_reserved_special_token_55|>\", rstrip=False, lstrip=False, single_word=False, normalized=False, special=True),\n",
       "\t200142: AddedToken(\"<|vision_reserved_special_token_56|>\", rstrip=False, lstrip=False, single_word=False, normalized=False, special=True),\n",
       "\t200143: AddedToken(\"<|vision_reserved_special_token_57|>\", rstrip=False, lstrip=False, single_word=False, normalized=False, special=True),\n",
       "\t200144: AddedToken(\"<|vision_reserved_special_token_58|>\", rstrip=False, lstrip=False, single_word=False, normalized=False, special=True),\n",
       "\t200145: AddedToken(\"<|vision_reserved_special_token_59|>\", rstrip=False, lstrip=False, single_word=False, normalized=False, special=True),\n",
       "\t200146: AddedToken(\"<|vision_reserved_special_token_60|>\", rstrip=False, lstrip=False, single_word=False, normalized=False, special=True),\n",
       "\t200147: AddedToken(\"<|vision_reserved_special_token_61|>\", rstrip=False, lstrip=False, single_word=False, normalized=False, special=True),\n",
       "\t200148: AddedToken(\"<|vision_reserved_special_token_62|>\", rstrip=False, lstrip=False, single_word=False, normalized=False, special=True),\n",
       "\t200149: AddedToken(\"<|vision_reserved_special_token_63|>\", rstrip=False, lstrip=False, single_word=False, normalized=False, special=True),\n",
       "\t200150: AddedToken(\"<|vision_reserved_special_token_64|>\", rstrip=False, lstrip=False, single_word=False, normalized=False, special=True),\n",
       "\t200151: AddedToken(\"<|vision_reserved_special_token_65|>\", rstrip=False, lstrip=False, single_word=False, normalized=False, special=True),\n",
       "\t200152: AddedToken(\"<|vision_reserved_special_token_66|>\", rstrip=False, lstrip=False, single_word=False, normalized=False, special=True),\n",
       "\t200153: AddedToken(\"<|vision_reserved_special_token_67|>\", rstrip=False, lstrip=False, single_word=False, normalized=False, special=True),\n",
       "\t200154: AddedToken(\"<|vision_reserved_special_token_68|>\", rstrip=False, lstrip=False, single_word=False, normalized=False, special=True),\n",
       "\t200155: AddedToken(\"<|vision_reserved_special_token_69|>\", rstrip=False, lstrip=False, single_word=False, normalized=False, special=True),\n",
       "\t200156: AddedToken(\"<|vision_reserved_special_token_70|>\", rstrip=False, lstrip=False, single_word=False, normalized=False, special=True),\n",
       "\t200157: AddedToken(\"<|vision_reserved_special_token_71|>\", rstrip=False, lstrip=False, single_word=False, normalized=False, special=True),\n",
       "\t200158: AddedToken(\"<|vision_reserved_special_token_72|>\", rstrip=False, lstrip=False, single_word=False, normalized=False, special=True),\n",
       "\t200159: AddedToken(\"<|vision_reserved_special_token_73|>\", rstrip=False, lstrip=False, single_word=False, normalized=False, special=True),\n",
       "\t200160: AddedToken(\"<|vision_reserved_special_token_74|>\", rstrip=False, lstrip=False, single_word=False, normalized=False, special=True),\n",
       "\t200161: AddedToken(\"<|vision_reserved_special_token_75|>\", rstrip=False, lstrip=False, single_word=False, normalized=False, special=True),\n",
       "\t200162: AddedToken(\"<|vision_reserved_special_token_76|>\", rstrip=False, lstrip=False, single_word=False, normalized=False, special=True),\n",
       "\t200163: AddedToken(\"<|vision_reserved_special_token_77|>\", rstrip=False, lstrip=False, single_word=False, normalized=False, special=True),\n",
       "\t200164: AddedToken(\"<|vision_reserved_special_token_78|>\", rstrip=False, lstrip=False, single_word=False, normalized=False, special=True),\n",
       "\t200165: AddedToken(\"<|vision_reserved_special_token_79|>\", rstrip=False, lstrip=False, single_word=False, normalized=False, special=True),\n",
       "\t200166: AddedToken(\"<|vision_reserved_special_token_80|>\", rstrip=False, lstrip=False, single_word=False, normalized=False, special=True),\n",
       "\t200167: AddedToken(\"<|vision_reserved_special_token_81|>\", rstrip=False, lstrip=False, single_word=False, normalized=False, special=True),\n",
       "\t200168: AddedToken(\"<|vision_reserved_special_token_82|>\", rstrip=False, lstrip=False, single_word=False, normalized=False, special=True),\n",
       "\t200169: AddedToken(\"<|vision_reserved_special_token_83|>\", rstrip=False, lstrip=False, single_word=False, normalized=False, special=True),\n",
       "\t200170: AddedToken(\"<|vision_reserved_special_token_84|>\", rstrip=False, lstrip=False, single_word=False, normalized=False, special=True),\n",
       "\t200171: AddedToken(\"<|vision_reserved_special_token_85|>\", rstrip=False, lstrip=False, single_word=False, normalized=False, special=True),\n",
       "\t200172: AddedToken(\"<|vision_reserved_special_token_86|>\", rstrip=False, lstrip=False, single_word=False, normalized=False, special=True),\n",
       "\t200173: AddedToken(\"<|vision_reserved_special_token_87|>\", rstrip=False, lstrip=False, single_word=False, normalized=False, special=True),\n",
       "\t200174: AddedToken(\"<|vision_reserved_special_token_88|>\", rstrip=False, lstrip=False, single_word=False, normalized=False, special=True),\n",
       "\t200175: AddedToken(\"<|vision_reserved_special_token_89|>\", rstrip=False, lstrip=False, single_word=False, normalized=False, special=True),\n",
       "\t200176: AddedToken(\"<|vision_reserved_special_token_90|>\", rstrip=False, lstrip=False, single_word=False, normalized=False, special=True),\n",
       "\t200177: AddedToken(\"<|vision_reserved_special_token_91|>\", rstrip=False, lstrip=False, single_word=False, normalized=False, special=True),\n",
       "\t200178: AddedToken(\"<|vision_reserved_special_token_92|>\", rstrip=False, lstrip=False, single_word=False, normalized=False, special=True),\n",
       "\t200179: AddedToken(\"<|vision_reserved_special_token_93|>\", rstrip=False, lstrip=False, single_word=False, normalized=False, special=True),\n",
       "\t200180: AddedToken(\"<|vision_reserved_special_token_94|>\", rstrip=False, lstrip=False, single_word=False, normalized=False, special=True),\n",
       "\t200181: AddedToken(\"<|vision_reserved_special_token_95|>\", rstrip=False, lstrip=False, single_word=False, normalized=False, special=True),\n",
       "\t200182: AddedToken(\"<|vision_reserved_special_token_96|>\", rstrip=False, lstrip=False, single_word=False, normalized=False, special=True),\n",
       "\t200183: AddedToken(\"<|vision_reserved_special_token_97|>\", rstrip=False, lstrip=False, single_word=False, normalized=False, special=True),\n",
       "\t200184: AddedToken(\"<|vision_reserved_special_token_98|>\", rstrip=False, lstrip=False, single_word=False, normalized=False, special=True),\n",
       "\t200185: AddedToken(\"<|vision_reserved_special_token_99|>\", rstrip=False, lstrip=False, single_word=False, normalized=False, special=True),\n",
       "\t200186: AddedToken(\"<|vision_reserved_special_token_100|>\", rstrip=False, lstrip=False, single_word=False, normalized=False, special=True),\n",
       "\t200187: AddedToken(\"<|vision_reserved_special_token_101|>\", rstrip=False, lstrip=False, single_word=False, normalized=False, special=True),\n",
       "\t200188: AddedToken(\"<|vision_reserved_special_token_102|>\", rstrip=False, lstrip=False, single_word=False, normalized=False, special=True),\n",
       "\t200189: AddedToken(\"<|vision_reserved_special_token_103|>\", rstrip=False, lstrip=False, single_word=False, normalized=False, special=True),\n",
       "\t200190: AddedToken(\"<|vision_reserved_special_token_104|>\", rstrip=False, lstrip=False, single_word=False, normalized=False, special=True),\n",
       "\t200191: AddedToken(\"<|vision_reserved_special_token_105|>\", rstrip=False, lstrip=False, single_word=False, normalized=False, special=True),\n",
       "\t200192: AddedToken(\"<|vision_reserved_special_token_106|>\", rstrip=False, lstrip=False, single_word=False, normalized=False, special=True),\n",
       "\t200193: AddedToken(\"<|vision_reserved_special_token_107|>\", rstrip=False, lstrip=False, single_word=False, normalized=False, special=True),\n",
       "\t200194: AddedToken(\"<|vision_reserved_special_token_108|>\", rstrip=False, lstrip=False, single_word=False, normalized=False, special=True),\n",
       "\t200195: AddedToken(\"<|vision_reserved_special_token_109|>\", rstrip=False, lstrip=False, single_word=False, normalized=False, special=True),\n",
       "\t200196: AddedToken(\"<|vision_reserved_special_token_110|>\", rstrip=False, lstrip=False, single_word=False, normalized=False, special=True),\n",
       "\t200197: AddedToken(\"<|vision_reserved_special_token_111|>\", rstrip=False, lstrip=False, single_word=False, normalized=False, special=True),\n",
       "\t200198: AddedToken(\"<|vision_reserved_special_token_112|>\", rstrip=False, lstrip=False, single_word=False, normalized=False, special=True),\n",
       "\t200199: AddedToken(\"<|vision_reserved_special_token_113|>\", rstrip=False, lstrip=False, single_word=False, normalized=False, special=True),\n",
       "\t200200: AddedToken(\"<|vision_reserved_special_token_114|>\", rstrip=False, lstrip=False, single_word=False, normalized=False, special=True),\n",
       "\t200201: AddedToken(\"<|vision_reserved_special_token_115|>\", rstrip=False, lstrip=False, single_word=False, normalized=False, special=True),\n",
       "\t200202: AddedToken(\"<|vision_reserved_special_token_116|>\", rstrip=False, lstrip=False, single_word=False, normalized=False, special=True),\n",
       "\t200203: AddedToken(\"<|vision_reserved_special_token_117|>\", rstrip=False, lstrip=False, single_word=False, normalized=False, special=True),\n",
       "\t200204: AddedToken(\"<|vision_reserved_special_token_118|>\", rstrip=False, lstrip=False, single_word=False, normalized=False, special=True),\n",
       "\t200205: AddedToken(\"<|vision_reserved_special_token_119|>\", rstrip=False, lstrip=False, single_word=False, normalized=False, special=True),\n",
       "\t200206: AddedToken(\"<|vision_reserved_special_token_120|>\", rstrip=False, lstrip=False, single_word=False, normalized=False, special=True),\n",
       "\t200207: AddedToken(\"<|vision_reserved_special_token_121|>\", rstrip=False, lstrip=False, single_word=False, normalized=False, special=True),\n",
       "\t200208: AddedToken(\"<|vision_reserved_special_token_122|>\", rstrip=False, lstrip=False, single_word=False, normalized=False, special=True),\n",
       "\t200209: AddedToken(\"<|vision_reserved_special_token_123|>\", rstrip=False, lstrip=False, single_word=False, normalized=False, special=True),\n",
       "\t200210: AddedToken(\"<|vision_reserved_special_token_124|>\", rstrip=False, lstrip=False, single_word=False, normalized=False, special=True),\n",
       "\t200211: AddedToken(\"<|vision_reserved_special_token_125|>\", rstrip=False, lstrip=False, single_word=False, normalized=False, special=True),\n",
       "\t200212: AddedToken(\"<|vision_reserved_special_token_126|>\", rstrip=False, lstrip=False, single_word=False, normalized=False, special=True),\n",
       "\t200213: AddedToken(\"<|vision_reserved_special_token_127|>\", rstrip=False, lstrip=False, single_word=False, normalized=False, special=True),\n",
       "\t200214: AddedToken(\"<|vision_reserved_special_token_128|>\", rstrip=False, lstrip=False, single_word=False, normalized=False, special=True),\n",
       "\t200215: AddedToken(\"<|vision_reserved_special_token_129|>\", rstrip=False, lstrip=False, single_word=False, normalized=False, special=True),\n",
       "\t200216: AddedToken(\"<|vision_reserved_special_token_130|>\", rstrip=False, lstrip=False, single_word=False, normalized=False, special=True),\n",
       "\t200217: AddedToken(\"<|vision_reserved_special_token_131|>\", rstrip=False, lstrip=False, single_word=False, normalized=False, special=True),\n",
       "\t200218: AddedToken(\"<|vision_reserved_special_token_132|>\", rstrip=False, lstrip=False, single_word=False, normalized=False, special=True),\n",
       "\t200219: AddedToken(\"<|vision_reserved_special_token_133|>\", rstrip=False, lstrip=False, single_word=False, normalized=False, special=True),\n",
       "\t200220: AddedToken(\"<|vision_reserved_special_token_134|>\", rstrip=False, lstrip=False, single_word=False, normalized=False, special=True),\n",
       "\t200221: AddedToken(\"<|vision_reserved_special_token_135|>\", rstrip=False, lstrip=False, single_word=False, normalized=False, special=True),\n",
       "\t200222: AddedToken(\"<|vision_reserved_special_token_136|>\", rstrip=False, lstrip=False, single_word=False, normalized=False, special=True),\n",
       "\t200223: AddedToken(\"<|vision_reserved_special_token_137|>\", rstrip=False, lstrip=False, single_word=False, normalized=False, special=True),\n",
       "\t200224: AddedToken(\"<|vision_reserved_special_token_138|>\", rstrip=False, lstrip=False, single_word=False, normalized=False, special=True),\n",
       "\t200225: AddedToken(\"<|vision_reserved_special_token_139|>\", rstrip=False, lstrip=False, single_word=False, normalized=False, special=True),\n",
       "\t200226: AddedToken(\"<|vision_reserved_special_token_140|>\", rstrip=False, lstrip=False, single_word=False, normalized=False, special=True),\n",
       "\t200227: AddedToken(\"<|vision_reserved_special_token_141|>\", rstrip=False, lstrip=False, single_word=False, normalized=False, special=True),\n",
       "\t200228: AddedToken(\"<|vision_reserved_special_token_142|>\", rstrip=False, lstrip=False, single_word=False, normalized=False, special=True),\n",
       "\t200229: AddedToken(\"<|vision_reserved_special_token_143|>\", rstrip=False, lstrip=False, single_word=False, normalized=False, special=True),\n",
       "\t200230: AddedToken(\"<|vision_reserved_special_token_144|>\", rstrip=False, lstrip=False, single_word=False, normalized=False, special=True),\n",
       "\t200231: AddedToken(\"<|vision_reserved_special_token_145|>\", rstrip=False, lstrip=False, single_word=False, normalized=False, special=True),\n",
       "\t200232: AddedToken(\"<|vision_reserved_special_token_146|>\", rstrip=False, lstrip=False, single_word=False, normalized=False, special=True),\n",
       "\t200233: AddedToken(\"<|vision_reserved_special_token_147|>\", rstrip=False, lstrip=False, single_word=False, normalized=False, special=True),\n",
       "\t200234: AddedToken(\"<|vision_reserved_special_token_148|>\", rstrip=False, lstrip=False, single_word=False, normalized=False, special=True),\n",
       "\t200235: AddedToken(\"<|vision_reserved_special_token_149|>\", rstrip=False, lstrip=False, single_word=False, normalized=False, special=True),\n",
       "\t200236: AddedToken(\"<|vision_reserved_special_token_150|>\", rstrip=False, lstrip=False, single_word=False, normalized=False, special=True),\n",
       "\t200237: AddedToken(\"<|vision_reserved_special_token_151|>\", rstrip=False, lstrip=False, single_word=False, normalized=False, special=True),\n",
       "\t200238: AddedToken(\"<|vision_reserved_special_token_152|>\", rstrip=False, lstrip=False, single_word=False, normalized=False, special=True),\n",
       "\t200239: AddedToken(\"<|vision_reserved_special_token_153|>\", rstrip=False, lstrip=False, single_word=False, normalized=False, special=True),\n",
       "\t200240: AddedToken(\"<|vision_reserved_special_token_154|>\", rstrip=False, lstrip=False, single_word=False, normalized=False, special=True),\n",
       "\t200241: AddedToken(\"<|vision_reserved_special_token_155|>\", rstrip=False, lstrip=False, single_word=False, normalized=False, special=True),\n",
       "\t200242: AddedToken(\"<|vision_reserved_special_token_156|>\", rstrip=False, lstrip=False, single_word=False, normalized=False, special=True),\n",
       "\t200243: AddedToken(\"<|vision_reserved_special_token_157|>\", rstrip=False, lstrip=False, single_word=False, normalized=False, special=True),\n",
       "\t200244: AddedToken(\"<|vision_reserved_special_token_158|>\", rstrip=False, lstrip=False, single_word=False, normalized=False, special=True),\n",
       "\t200245: AddedToken(\"<|vision_reserved_special_token_159|>\", rstrip=False, lstrip=False, single_word=False, normalized=False, special=True),\n",
       "\t200246: AddedToken(\"<|vision_reserved_special_token_160|>\", rstrip=False, lstrip=False, single_word=False, normalized=False, special=True),\n",
       "\t200247: AddedToken(\"<|vision_reserved_special_token_161|>\", rstrip=False, lstrip=False, single_word=False, normalized=False, special=True),\n",
       "\t200248: AddedToken(\"<|vision_reserved_special_token_162|>\", rstrip=False, lstrip=False, single_word=False, normalized=False, special=True),\n",
       "\t200249: AddedToken(\"<|vision_reserved_special_token_163|>\", rstrip=False, lstrip=False, single_word=False, normalized=False, special=True),\n",
       "\t200250: AddedToken(\"<|vision_reserved_special_token_164|>\", rstrip=False, lstrip=False, single_word=False, normalized=False, special=True),\n",
       "\t200251: AddedToken(\"<|vision_reserved_special_token_165|>\", rstrip=False, lstrip=False, single_word=False, normalized=False, special=True),\n",
       "\t200252: AddedToken(\"<|vision_reserved_special_token_166|>\", rstrip=False, lstrip=False, single_word=False, normalized=False, special=True),\n",
       "\t200253: AddedToken(\"<|vision_reserved_special_token_167|>\", rstrip=False, lstrip=False, single_word=False, normalized=False, special=True),\n",
       "\t200254: AddedToken(\"<|vision_reserved_special_token_168|>\", rstrip=False, lstrip=False, single_word=False, normalized=False, special=True),\n",
       "\t200255: AddedToken(\"<|vision_reserved_special_token_169|>\", rstrip=False, lstrip=False, single_word=False, normalized=False, special=True),\n",
       "\t200256: AddedToken(\"<|vision_reserved_special_token_170|>\", rstrip=False, lstrip=False, single_word=False, normalized=False, special=True),\n",
       "\t200257: AddedToken(\"<|vision_reserved_special_token_171|>\", rstrip=False, lstrip=False, single_word=False, normalized=False, special=True),\n",
       "\t200258: AddedToken(\"<|vision_reserved_special_token_172|>\", rstrip=False, lstrip=False, single_word=False, normalized=False, special=True),\n",
       "\t200259: AddedToken(\"<|vision_reserved_special_token_173|>\", rstrip=False, lstrip=False, single_word=False, normalized=False, special=True),\n",
       "\t200260: AddedToken(\"<|vision_reserved_special_token_174|>\", rstrip=False, lstrip=False, single_word=False, normalized=False, special=True),\n",
       "\t200261: AddedToken(\"<|vision_reserved_special_token_175|>\", rstrip=False, lstrip=False, single_word=False, normalized=False, special=True),\n",
       "\t200262: AddedToken(\"<|vision_reserved_special_token_176|>\", rstrip=False, lstrip=False, single_word=False, normalized=False, special=True),\n",
       "\t200263: AddedToken(\"<|vision_reserved_special_token_177|>\", rstrip=False, lstrip=False, single_word=False, normalized=False, special=True),\n",
       "\t200264: AddedToken(\"<|vision_reserved_special_token_178|>\", rstrip=False, lstrip=False, single_word=False, normalized=False, special=True),\n",
       "\t200265: AddedToken(\"<|vision_reserved_special_token_179|>\", rstrip=False, lstrip=False, single_word=False, normalized=False, special=True),\n",
       "\t200266: AddedToken(\"<|vision_reserved_special_token_180|>\", rstrip=False, lstrip=False, single_word=False, normalized=False, special=True),\n",
       "\t200267: AddedToken(\"<|vision_reserved_special_token_181|>\", rstrip=False, lstrip=False, single_word=False, normalized=False, special=True),\n",
       "\t200268: AddedToken(\"<|vision_reserved_special_token_182|>\", rstrip=False, lstrip=False, single_word=False, normalized=False, special=True),\n",
       "\t200269: AddedToken(\"<|vision_reserved_special_token_183|>\", rstrip=False, lstrip=False, single_word=False, normalized=False, special=True),\n",
       "\t200270: AddedToken(\"<|vision_reserved_special_token_184|>\", rstrip=False, lstrip=False, single_word=False, normalized=False, special=True),\n",
       "\t200271: AddedToken(\"<|vision_reserved_special_token_185|>\", rstrip=False, lstrip=False, single_word=False, normalized=False, special=True),\n",
       "\t200272: AddedToken(\"<|vision_reserved_special_token_186|>\", rstrip=False, lstrip=False, single_word=False, normalized=False, special=True),\n",
       "\t200273: AddedToken(\"<|vision_reserved_special_token_187|>\", rstrip=False, lstrip=False, single_word=False, normalized=False, special=True),\n",
       "\t200274: AddedToken(\"<|vision_reserved_special_token_188|>\", rstrip=False, lstrip=False, single_word=False, normalized=False, special=True),\n",
       "\t200275: AddedToken(\"<|vision_reserved_special_token_189|>\", rstrip=False, lstrip=False, single_word=False, normalized=False, special=True),\n",
       "\t200276: AddedToken(\"<|vision_reserved_special_token_190|>\", rstrip=False, lstrip=False, single_word=False, normalized=False, special=True),\n",
       "\t200277: AddedToken(\"<|vision_reserved_special_token_191|>\", rstrip=False, lstrip=False, single_word=False, normalized=False, special=True),\n",
       "\t200278: AddedToken(\"<|vision_reserved_special_token_192|>\", rstrip=False, lstrip=False, single_word=False, normalized=False, special=True),\n",
       "\t200279: AddedToken(\"<|vision_reserved_special_token_193|>\", rstrip=False, lstrip=False, single_word=False, normalized=False, special=True),\n",
       "\t200280: AddedToken(\"<|vision_reserved_special_token_194|>\", rstrip=False, lstrip=False, single_word=False, normalized=False, special=True),\n",
       "\t200281: AddedToken(\"<|vision_reserved_special_token_195|>\", rstrip=False, lstrip=False, single_word=False, normalized=False, special=True),\n",
       "\t200282: AddedToken(\"<|vision_reserved_special_token_196|>\", rstrip=False, lstrip=False, single_word=False, normalized=False, special=True),\n",
       "\t200283: AddedToken(\"<|vision_reserved_special_token_197|>\", rstrip=False, lstrip=False, single_word=False, normalized=False, special=True),\n",
       "\t200284: AddedToken(\"<|vision_reserved_special_token_198|>\", rstrip=False, lstrip=False, single_word=False, normalized=False, special=True),\n",
       "\t200285: AddedToken(\"<|vision_reserved_special_token_199|>\", rstrip=False, lstrip=False, single_word=False, normalized=False, special=True),\n",
       "\t200286: AddedToken(\"<|vision_reserved_special_token_200|>\", rstrip=False, lstrip=False, single_word=False, normalized=False, special=True),\n",
       "\t200287: AddedToken(\"<|vision_reserved_special_token_201|>\", rstrip=False, lstrip=False, single_word=False, normalized=False, special=True),\n",
       "\t200288: AddedToken(\"<|vision_reserved_special_token_202|>\", rstrip=False, lstrip=False, single_word=False, normalized=False, special=True),\n",
       "\t200289: AddedToken(\"<|vision_reserved_special_token_203|>\", rstrip=False, lstrip=False, single_word=False, normalized=False, special=True),\n",
       "\t200290: AddedToken(\"<|vision_reserved_special_token_204|>\", rstrip=False, lstrip=False, single_word=False, normalized=False, special=True),\n",
       "\t200291: AddedToken(\"<|vision_reserved_special_token_205|>\", rstrip=False, lstrip=False, single_word=False, normalized=False, special=True),\n",
       "\t200292: AddedToken(\"<|vision_reserved_special_token_206|>\", rstrip=False, lstrip=False, single_word=False, normalized=False, special=True),\n",
       "\t200293: AddedToken(\"<|vision_reserved_special_token_207|>\", rstrip=False, lstrip=False, single_word=False, normalized=False, special=True),\n",
       "\t200294: AddedToken(\"<|vision_reserved_special_token_208|>\", rstrip=False, lstrip=False, single_word=False, normalized=False, special=True),\n",
       "\t200295: AddedToken(\"<|vision_reserved_special_token_209|>\", rstrip=False, lstrip=False, single_word=False, normalized=False, special=True),\n",
       "\t200296: AddedToken(\"<|vision_reserved_special_token_210|>\", rstrip=False, lstrip=False, single_word=False, normalized=False, special=True),\n",
       "\t200297: AddedToken(\"<|vision_reserved_special_token_211|>\", rstrip=False, lstrip=False, single_word=False, normalized=False, special=True),\n",
       "\t200298: AddedToken(\"<|vision_reserved_special_token_212|>\", rstrip=False, lstrip=False, single_word=False, normalized=False, special=True),\n",
       "\t200299: AddedToken(\"<|vision_reserved_special_token_213|>\", rstrip=False, lstrip=False, single_word=False, normalized=False, special=True),\n",
       "\t200300: AddedToken(\"<|vision_reserved_special_token_214|>\", rstrip=False, lstrip=False, single_word=False, normalized=False, special=True),\n",
       "\t200301: AddedToken(\"<|vision_reserved_special_token_215|>\", rstrip=False, lstrip=False, single_word=False, normalized=False, special=True),\n",
       "\t200302: AddedToken(\"<|vision_reserved_special_token_216|>\", rstrip=False, lstrip=False, single_word=False, normalized=False, special=True),\n",
       "\t200303: AddedToken(\"<|vision_reserved_special_token_217|>\", rstrip=False, lstrip=False, single_word=False, normalized=False, special=True),\n",
       "\t200304: AddedToken(\"<|vision_reserved_special_token_218|>\", rstrip=False, lstrip=False, single_word=False, normalized=False, special=True),\n",
       "\t200305: AddedToken(\"<|vision_reserved_special_token_219|>\", rstrip=False, lstrip=False, single_word=False, normalized=False, special=True),\n",
       "\t200306: AddedToken(\"<|vision_reserved_special_token_220|>\", rstrip=False, lstrip=False, single_word=False, normalized=False, special=True),\n",
       "\t200307: AddedToken(\"<|vision_reserved_special_token_221|>\", rstrip=False, lstrip=False, single_word=False, normalized=False, special=True),\n",
       "\t200308: AddedToken(\"<|vision_reserved_special_token_222|>\", rstrip=False, lstrip=False, single_word=False, normalized=False, special=True),\n",
       "\t200309: AddedToken(\"<|vision_reserved_special_token_223|>\", rstrip=False, lstrip=False, single_word=False, normalized=False, special=True),\n",
       "\t200310: AddedToken(\"<|vision_reserved_special_token_224|>\", rstrip=False, lstrip=False, single_word=False, normalized=False, special=True),\n",
       "\t200311: AddedToken(\"<|vision_reserved_special_token_225|>\", rstrip=False, lstrip=False, single_word=False, normalized=False, special=True),\n",
       "\t200312: AddedToken(\"<|vision_reserved_special_token_226|>\", rstrip=False, lstrip=False, single_word=False, normalized=False, special=True),\n",
       "\t200313: AddedToken(\"<|vision_reserved_special_token_227|>\", rstrip=False, lstrip=False, single_word=False, normalized=False, special=True),\n",
       "\t200314: AddedToken(\"<|vision_reserved_special_token_228|>\", rstrip=False, lstrip=False, single_word=False, normalized=False, special=True),\n",
       "\t200315: AddedToken(\"<|vision_reserved_special_token_229|>\", rstrip=False, lstrip=False, single_word=False, normalized=False, special=True),\n",
       "\t200316: AddedToken(\"<|vision_reserved_special_token_230|>\", rstrip=False, lstrip=False, single_word=False, normalized=False, special=True),\n",
       "\t200317: AddedToken(\"<|vision_reserved_special_token_231|>\", rstrip=False, lstrip=False, single_word=False, normalized=False, special=True),\n",
       "\t200318: AddedToken(\"<|vision_reserved_special_token_232|>\", rstrip=False, lstrip=False, single_word=False, normalized=False, special=True),\n",
       "\t200319: AddedToken(\"<|vision_reserved_special_token_233|>\", rstrip=False, lstrip=False, single_word=False, normalized=False, special=True),\n",
       "\t200320: AddedToken(\"<|vision_reserved_special_token_234|>\", rstrip=False, lstrip=False, single_word=False, normalized=False, special=True),\n",
       "\t200321: AddedToken(\"<|vision_reserved_special_token_235|>\", rstrip=False, lstrip=False, single_word=False, normalized=False, special=True),\n",
       "\t200322: AddedToken(\"<|vision_reserved_special_token_236|>\", rstrip=False, lstrip=False, single_word=False, normalized=False, special=True),\n",
       "\t200323: AddedToken(\"<|vision_reserved_special_token_237|>\", rstrip=False, lstrip=False, single_word=False, normalized=False, special=True),\n",
       "\t200324: AddedToken(\"<|vision_reserved_special_token_238|>\", rstrip=False, lstrip=False, single_word=False, normalized=False, special=True),\n",
       "\t200325: AddedToken(\"<|vision_reserved_special_token_239|>\", rstrip=False, lstrip=False, single_word=False, normalized=False, special=True),\n",
       "\t200326: AddedToken(\"<|vision_reserved_special_token_240|>\", rstrip=False, lstrip=False, single_word=False, normalized=False, special=True),\n",
       "\t200327: AddedToken(\"<|vision_reserved_special_token_241|>\", rstrip=False, lstrip=False, single_word=False, normalized=False, special=True),\n",
       "\t200328: AddedToken(\"<|vision_reserved_special_token_242|>\", rstrip=False, lstrip=False, single_word=False, normalized=False, special=True),\n",
       "\t200329: AddedToken(\"<|vision_reserved_special_token_243|>\", rstrip=False, lstrip=False, single_word=False, normalized=False, special=True),\n",
       "\t200330: AddedToken(\"<|vision_reserved_special_token_244|>\", rstrip=False, lstrip=False, single_word=False, normalized=False, special=True),\n",
       "\t200331: AddedToken(\"<|vision_reserved_special_token_245|>\", rstrip=False, lstrip=False, single_word=False, normalized=False, special=True),\n",
       "\t200332: AddedToken(\"<|vision_reserved_special_token_246|>\", rstrip=False, lstrip=False, single_word=False, normalized=False, special=True),\n",
       "\t200333: AddedToken(\"<|vision_reserved_special_token_247|>\", rstrip=False, lstrip=False, single_word=False, normalized=False, special=True),\n",
       "\t200334: AddedToken(\"<|vision_reserved_special_token_248|>\", rstrip=False, lstrip=False, single_word=False, normalized=False, special=True),\n",
       "\t200335: AddedToken(\"<|vision_reserved_special_token_249|>\", rstrip=False, lstrip=False, single_word=False, normalized=False, special=True),\n",
       "\t200336: AddedToken(\"<|vision_reserved_special_token_250|>\", rstrip=False, lstrip=False, single_word=False, normalized=False, special=True),\n",
       "\t200337: AddedToken(\"<|vision_reserved_special_token_251|>\", rstrip=False, lstrip=False, single_word=False, normalized=False, special=True),\n",
       "\t200338: AddedToken(\"<|vision_reserved_special_token_252|>\", rstrip=False, lstrip=False, single_word=False, normalized=False, special=True),\n",
       "\t200339: AddedToken(\"<|vision_reserved_special_token_253|>\", rstrip=False, lstrip=False, single_word=False, normalized=False, special=True),\n",
       "\t200340: AddedToken(\"<|vision_reserved_special_token_254|>\", rstrip=False, lstrip=False, single_word=False, normalized=False, special=True),\n",
       "\t200341: AddedToken(\"<|vision_reserved_special_token_255|>\", rstrip=False, lstrip=False, single_word=False, normalized=False, special=True),\n",
       "\t200342: AddedToken(\"<|vision_reserved_special_token_256|>\", rstrip=False, lstrip=False, single_word=False, normalized=False, special=True),\n",
       "\t200343: AddedToken(\"<|vision_reserved_special_token_257|>\", rstrip=False, lstrip=False, single_word=False, normalized=False, special=True),\n",
       "\t200344: AddedToken(\"<|vision_reserved_special_token_258|>\", rstrip=False, lstrip=False, single_word=False, normalized=False, special=True),\n",
       "\t200345: AddedToken(\"<|vision_reserved_special_token_259|>\", rstrip=False, lstrip=False, single_word=False, normalized=False, special=True),\n",
       "\t200346: AddedToken(\"<|vision_reserved_special_token_260|>\", rstrip=False, lstrip=False, single_word=False, normalized=False, special=True),\n",
       "\t200347: AddedToken(\"<|vision_reserved_special_token_261|>\", rstrip=False, lstrip=False, single_word=False, normalized=False, special=True),\n",
       "\t200348: AddedToken(\"<|vision_reserved_special_token_262|>\", rstrip=False, lstrip=False, single_word=False, normalized=False, special=True),\n",
       "\t200349: AddedToken(\"<|vision_reserved_special_token_263|>\", rstrip=False, lstrip=False, single_word=False, normalized=False, special=True),\n",
       "\t200350: AddedToken(\"<|vision_reserved_special_token_264|>\", rstrip=False, lstrip=False, single_word=False, normalized=False, special=True),\n",
       "\t200351: AddedToken(\"<|vision_reserved_special_token_265|>\", rstrip=False, lstrip=False, single_word=False, normalized=False, special=True),\n",
       "\t200352: AddedToken(\"<|vision_reserved_special_token_266|>\", rstrip=False, lstrip=False, single_word=False, normalized=False, special=True),\n",
       "\t200353: AddedToken(\"<|vision_reserved_special_token_267|>\", rstrip=False, lstrip=False, single_word=False, normalized=False, special=True),\n",
       "\t200354: AddedToken(\"<|vision_reserved_special_token_268|>\", rstrip=False, lstrip=False, single_word=False, normalized=False, special=True),\n",
       "\t200355: AddedToken(\"<|vision_reserved_special_token_269|>\", rstrip=False, lstrip=False, single_word=False, normalized=False, special=True),\n",
       "\t200356: AddedToken(\"<|vision_reserved_special_token_270|>\", rstrip=False, lstrip=False, single_word=False, normalized=False, special=True),\n",
       "\t200357: AddedToken(\"<|vision_reserved_special_token_271|>\", rstrip=False, lstrip=False, single_word=False, normalized=False, special=True),\n",
       "\t200358: AddedToken(\"<|vision_reserved_special_token_272|>\", rstrip=False, lstrip=False, single_word=False, normalized=False, special=True),\n",
       "\t200359: AddedToken(\"<|vision_reserved_special_token_273|>\", rstrip=False, lstrip=False, single_word=False, normalized=False, special=True),\n",
       "\t200360: AddedToken(\"<|vision_reserved_special_token_274|>\", rstrip=False, lstrip=False, single_word=False, normalized=False, special=True),\n",
       "\t200361: AddedToken(\"<|vision_reserved_special_token_275|>\", rstrip=False, lstrip=False, single_word=False, normalized=False, special=True),\n",
       "\t200362: AddedToken(\"<|vision_reserved_special_token_276|>\", rstrip=False, lstrip=False, single_word=False, normalized=False, special=True),\n",
       "\t200363: AddedToken(\"<|vision_reserved_special_token_277|>\", rstrip=False, lstrip=False, single_word=False, normalized=False, special=True),\n",
       "\t200364: AddedToken(\"<|vision_reserved_special_token_278|>\", rstrip=False, lstrip=False, single_word=False, normalized=False, special=True),\n",
       "\t200365: AddedToken(\"<|vision_reserved_special_token_279|>\", rstrip=False, lstrip=False, single_word=False, normalized=False, special=True),\n",
       "\t200366: AddedToken(\"<|vision_reserved_special_token_280|>\", rstrip=False, lstrip=False, single_word=False, normalized=False, special=True),\n",
       "\t200367: AddedToken(\"<|vision_reserved_special_token_281|>\", rstrip=False, lstrip=False, single_word=False, normalized=False, special=True),\n",
       "\t200368: AddedToken(\"<|vision_reserved_special_token_282|>\", rstrip=False, lstrip=False, single_word=False, normalized=False, special=True),\n",
       "\t200369: AddedToken(\"<|vision_reserved_special_token_283|>\", rstrip=False, lstrip=False, single_word=False, normalized=False, special=True),\n",
       "\t200370: AddedToken(\"<|vision_reserved_special_token_284|>\", rstrip=False, lstrip=False, single_word=False, normalized=False, special=True),\n",
       "\t200371: AddedToken(\"<|vision_reserved_special_token_285|>\", rstrip=False, lstrip=False, single_word=False, normalized=False, special=True),\n",
       "\t200372: AddedToken(\"<|vision_reserved_special_token_286|>\", rstrip=False, lstrip=False, single_word=False, normalized=False, special=True),\n",
       "\t200373: AddedToken(\"<|vision_reserved_special_token_287|>\", rstrip=False, lstrip=False, single_word=False, normalized=False, special=True),\n",
       "\t200374: AddedToken(\"<|vision_reserved_special_token_288|>\", rstrip=False, lstrip=False, single_word=False, normalized=False, special=True),\n",
       "\t200375: AddedToken(\"<|vision_reserved_special_token_289|>\", rstrip=False, lstrip=False, single_word=False, normalized=False, special=True),\n",
       "\t200376: AddedToken(\"<|vision_reserved_special_token_290|>\", rstrip=False, lstrip=False, single_word=False, normalized=False, special=True),\n",
       "\t200377: AddedToken(\"<|vision_reserved_special_token_291|>\", rstrip=False, lstrip=False, single_word=False, normalized=False, special=True),\n",
       "\t200378: AddedToken(\"<|vision_reserved_special_token_292|>\", rstrip=False, lstrip=False, single_word=False, normalized=False, special=True),\n",
       "\t200379: AddedToken(\"<|vision_reserved_special_token_293|>\", rstrip=False, lstrip=False, single_word=False, normalized=False, special=True),\n",
       "\t200380: AddedToken(\"<|vision_reserved_special_token_294|>\", rstrip=False, lstrip=False, single_word=False, normalized=False, special=True),\n",
       "\t200381: AddedToken(\"<|vision_reserved_special_token_295|>\", rstrip=False, lstrip=False, single_word=False, normalized=False, special=True),\n",
       "\t200382: AddedToken(\"<|vision_reserved_special_token_296|>\", rstrip=False, lstrip=False, single_word=False, normalized=False, special=True),\n",
       "\t200383: AddedToken(\"<|vision_reserved_special_token_297|>\", rstrip=False, lstrip=False, single_word=False, normalized=False, special=True),\n",
       "\t200384: AddedToken(\"<|vision_reserved_special_token_298|>\", rstrip=False, lstrip=False, single_word=False, normalized=False, special=True),\n",
       "\t200385: AddedToken(\"<|vision_reserved_special_token_299|>\", rstrip=False, lstrip=False, single_word=False, normalized=False, special=True),\n",
       "\t200386: AddedToken(\"<|vision_reserved_special_token_300|>\", rstrip=False, lstrip=False, single_word=False, normalized=False, special=True),\n",
       "\t200387: AddedToken(\"<|vision_reserved_special_token_301|>\", rstrip=False, lstrip=False, single_word=False, normalized=False, special=True),\n",
       "\t200388: AddedToken(\"<|vision_reserved_special_token_302|>\", rstrip=False, lstrip=False, single_word=False, normalized=False, special=True),\n",
       "\t200389: AddedToken(\"<|vision_reserved_special_token_303|>\", rstrip=False, lstrip=False, single_word=False, normalized=False, special=True),\n",
       "\t200390: AddedToken(\"<|vision_reserved_special_token_304|>\", rstrip=False, lstrip=False, single_word=False, normalized=False, special=True),\n",
       "\t200391: AddedToken(\"<|vision_reserved_special_token_305|>\", rstrip=False, lstrip=False, single_word=False, normalized=False, special=True),\n",
       "\t200392: AddedToken(\"<|vision_reserved_special_token_306|>\", rstrip=False, lstrip=False, single_word=False, normalized=False, special=True),\n",
       "\t200393: AddedToken(\"<|vision_reserved_special_token_307|>\", rstrip=False, lstrip=False, single_word=False, normalized=False, special=True),\n",
       "\t200394: AddedToken(\"<|vision_reserved_special_token_308|>\", rstrip=False, lstrip=False, single_word=False, normalized=False, special=True),\n",
       "\t200395: AddedToken(\"<|vision_reserved_special_token_309|>\", rstrip=False, lstrip=False, single_word=False, normalized=False, special=True),\n",
       "\t200396: AddedToken(\"<|vision_reserved_special_token_310|>\", rstrip=False, lstrip=False, single_word=False, normalized=False, special=True),\n",
       "\t200397: AddedToken(\"<|vision_reserved_special_token_311|>\", rstrip=False, lstrip=False, single_word=False, normalized=False, special=True),\n",
       "\t200398: AddedToken(\"<|vision_reserved_special_token_312|>\", rstrip=False, lstrip=False, single_word=False, normalized=False, special=True),\n",
       "\t200399: AddedToken(\"<|vision_reserved_special_token_313|>\", rstrip=False, lstrip=False, single_word=False, normalized=False, special=True),\n",
       "\t200400: AddedToken(\"<|vision_reserved_special_token_314|>\", rstrip=False, lstrip=False, single_word=False, normalized=False, special=True),\n",
       "\t200401: AddedToken(\"<|vision_reserved_special_token_315|>\", rstrip=False, lstrip=False, single_word=False, normalized=False, special=True),\n",
       "\t200402: AddedToken(\"<|vision_reserved_special_token_316|>\", rstrip=False, lstrip=False, single_word=False, normalized=False, special=True),\n",
       "\t200403: AddedToken(\"<|vision_reserved_special_token_317|>\", rstrip=False, lstrip=False, single_word=False, normalized=False, special=True),\n",
       "\t200404: AddedToken(\"<|vision_reserved_special_token_318|>\", rstrip=False, lstrip=False, single_word=False, normalized=False, special=True),\n",
       "\t200405: AddedToken(\"<|vision_reserved_special_token_319|>\", rstrip=False, lstrip=False, single_word=False, normalized=False, special=True),\n",
       "\t200406: AddedToken(\"<|vision_reserved_special_token_320|>\", rstrip=False, lstrip=False, single_word=False, normalized=False, special=True),\n",
       "\t200407: AddedToken(\"<|vision_reserved_special_token_321|>\", rstrip=False, lstrip=False, single_word=False, normalized=False, special=True),\n",
       "\t200408: AddedToken(\"<|vision_reserved_special_token_322|>\", rstrip=False, lstrip=False, single_word=False, normalized=False, special=True),\n",
       "\t200409: AddedToken(\"<|vision_reserved_special_token_323|>\", rstrip=False, lstrip=False, single_word=False, normalized=False, special=True),\n",
       "\t200410: AddedToken(\"<|vision_reserved_special_token_324|>\", rstrip=False, lstrip=False, single_word=False, normalized=False, special=True),\n",
       "\t200411: AddedToken(\"<|vision_reserved_special_token_325|>\", rstrip=False, lstrip=False, single_word=False, normalized=False, special=True),\n",
       "\t200412: AddedToken(\"<|vision_reserved_special_token_326|>\", rstrip=False, lstrip=False, single_word=False, normalized=False, special=True),\n",
       "\t200413: AddedToken(\"<|vision_reserved_special_token_327|>\", rstrip=False, lstrip=False, single_word=False, normalized=False, special=True),\n",
       "\t200414: AddedToken(\"<|vision_reserved_special_token_328|>\", rstrip=False, lstrip=False, single_word=False, normalized=False, special=True),\n",
       "\t200415: AddedToken(\"<|vision_reserved_special_token_329|>\", rstrip=False, lstrip=False, single_word=False, normalized=False, special=True),\n",
       "\t200416: AddedToken(\"<|vision_reserved_special_token_330|>\", rstrip=False, lstrip=False, single_word=False, normalized=False, special=True),\n",
       "\t200417: AddedToken(\"<|vision_reserved_special_token_331|>\", rstrip=False, lstrip=False, single_word=False, normalized=False, special=True),\n",
       "\t200418: AddedToken(\"<|vision_reserved_special_token_332|>\", rstrip=False, lstrip=False, single_word=False, normalized=False, special=True),\n",
       "\t200419: AddedToken(\"<|vision_reserved_special_token_333|>\", rstrip=False, lstrip=False, single_word=False, normalized=False, special=True),\n",
       "\t200420: AddedToken(\"<|vision_reserved_special_token_334|>\", rstrip=False, lstrip=False, single_word=False, normalized=False, special=True),\n",
       "\t200421: AddedToken(\"<|vision_reserved_special_token_335|>\", rstrip=False, lstrip=False, single_word=False, normalized=False, special=True),\n",
       "\t200422: AddedToken(\"<|vision_reserved_special_token_336|>\", rstrip=False, lstrip=False, single_word=False, normalized=False, special=True),\n",
       "\t200423: AddedToken(\"<|vision_reserved_special_token_337|>\", rstrip=False, lstrip=False, single_word=False, normalized=False, special=True),\n",
       "\t200424: AddedToken(\"<|vision_reserved_special_token_338|>\", rstrip=False, lstrip=False, single_word=False, normalized=False, special=True),\n",
       "\t200425: AddedToken(\"<|vision_reserved_special_token_339|>\", rstrip=False, lstrip=False, single_word=False, normalized=False, special=True),\n",
       "\t200426: AddedToken(\"<|vision_reserved_special_token_340|>\", rstrip=False, lstrip=False, single_word=False, normalized=False, special=True),\n",
       "\t200427: AddedToken(\"<|vision_reserved_special_token_341|>\", rstrip=False, lstrip=False, single_word=False, normalized=False, special=True),\n",
       "\t200428: AddedToken(\"<|vision_reserved_special_token_342|>\", rstrip=False, lstrip=False, single_word=False, normalized=False, special=True),\n",
       "\t200429: AddedToken(\"<|vision_reserved_special_token_343|>\", rstrip=False, lstrip=False, single_word=False, normalized=False, special=True),\n",
       "\t200430: AddedToken(\"<|vision_reserved_special_token_344|>\", rstrip=False, lstrip=False, single_word=False, normalized=False, special=True),\n",
       "\t200431: AddedToken(\"<|vision_reserved_special_token_345|>\", rstrip=False, lstrip=False, single_word=False, normalized=False, special=True),\n",
       "\t200432: AddedToken(\"<|vision_reserved_special_token_346|>\", rstrip=False, lstrip=False, single_word=False, normalized=False, special=True),\n",
       "\t200433: AddedToken(\"<|vision_reserved_special_token_347|>\", rstrip=False, lstrip=False, single_word=False, normalized=False, special=True),\n",
       "\t200434: AddedToken(\"<|vision_reserved_special_token_348|>\", rstrip=False, lstrip=False, single_word=False, normalized=False, special=True),\n",
       "\t200435: AddedToken(\"<|vision_reserved_special_token_349|>\", rstrip=False, lstrip=False, single_word=False, normalized=False, special=True),\n",
       "\t200436: AddedToken(\"<|vision_reserved_special_token_350|>\", rstrip=False, lstrip=False, single_word=False, normalized=False, special=True),\n",
       "\t200437: AddedToken(\"<|vision_reserved_special_token_351|>\", rstrip=False, lstrip=False, single_word=False, normalized=False, special=True),\n",
       "\t200438: AddedToken(\"<|vision_reserved_special_token_352|>\", rstrip=False, lstrip=False, single_word=False, normalized=False, special=True),\n",
       "\t200439: AddedToken(\"<|vision_reserved_special_token_353|>\", rstrip=False, lstrip=False, single_word=False, normalized=False, special=True),\n",
       "\t200440: AddedToken(\"<|vision_reserved_special_token_354|>\", rstrip=False, lstrip=False, single_word=False, normalized=False, special=True),\n",
       "\t200441: AddedToken(\"<|vision_reserved_special_token_355|>\", rstrip=False, lstrip=False, single_word=False, normalized=False, special=True),\n",
       "\t200442: AddedToken(\"<|vision_reserved_special_token_356|>\", rstrip=False, lstrip=False, single_word=False, normalized=False, special=True),\n",
       "\t200443: AddedToken(\"<|vision_reserved_special_token_357|>\", rstrip=False, lstrip=False, single_word=False, normalized=False, special=True),\n",
       "\t200444: AddedToken(\"<|vision_reserved_special_token_358|>\", rstrip=False, lstrip=False, single_word=False, normalized=False, special=True),\n",
       "\t200445: AddedToken(\"<|vision_reserved_special_token_359|>\", rstrip=False, lstrip=False, single_word=False, normalized=False, special=True),\n",
       "\t200446: AddedToken(\"<|vision_reserved_special_token_360|>\", rstrip=False, lstrip=False, single_word=False, normalized=False, special=True),\n",
       "\t200447: AddedToken(\"<|vision_reserved_special_token_361|>\", rstrip=False, lstrip=False, single_word=False, normalized=False, special=True),\n",
       "\t200448: AddedToken(\"<|vision_reserved_special_token_362|>\", rstrip=False, lstrip=False, single_word=False, normalized=False, special=True),\n",
       "\t200449: AddedToken(\"<|vision_reserved_special_token_363|>\", rstrip=False, lstrip=False, single_word=False, normalized=False, special=True),\n",
       "\t200450: AddedToken(\"<|vision_reserved_special_token_364|>\", rstrip=False, lstrip=False, single_word=False, normalized=False, special=True),\n",
       "\t200451: AddedToken(\"<|vision_reserved_special_token_365|>\", rstrip=False, lstrip=False, single_word=False, normalized=False, special=True),\n",
       "\t200452: AddedToken(\"<|vision_reserved_special_token_366|>\", rstrip=False, lstrip=False, single_word=False, normalized=False, special=True),\n",
       "\t200453: AddedToken(\"<|vision_reserved_special_token_367|>\", rstrip=False, lstrip=False, single_word=False, normalized=False, special=True),\n",
       "\t200454: AddedToken(\"<|vision_reserved_special_token_368|>\", rstrip=False, lstrip=False, single_word=False, normalized=False, special=True),\n",
       "\t200455: AddedToken(\"<|vision_reserved_special_token_369|>\", rstrip=False, lstrip=False, single_word=False, normalized=False, special=True),\n",
       "\t200456: AddedToken(\"<|vision_reserved_special_token_370|>\", rstrip=False, lstrip=False, single_word=False, normalized=False, special=True),\n",
       "\t200457: AddedToken(\"<|vision_reserved_special_token_371|>\", rstrip=False, lstrip=False, single_word=False, normalized=False, special=True),\n",
       "\t200458: AddedToken(\"<|vision_reserved_special_token_372|>\", rstrip=False, lstrip=False, single_word=False, normalized=False, special=True),\n",
       "\t200459: AddedToken(\"<|vision_reserved_special_token_373|>\", rstrip=False, lstrip=False, single_word=False, normalized=False, special=True),\n",
       "\t200460: AddedToken(\"<|vision_reserved_special_token_374|>\", rstrip=False, lstrip=False, single_word=False, normalized=False, special=True),\n",
       "\t200461: AddedToken(\"<|vision_reserved_special_token_375|>\", rstrip=False, lstrip=False, single_word=False, normalized=False, special=True),\n",
       "\t200462: AddedToken(\"<|vision_reserved_special_token_376|>\", rstrip=False, lstrip=False, single_word=False, normalized=False, special=True),\n",
       "\t200463: AddedToken(\"<|vision_reserved_special_token_377|>\", rstrip=False, lstrip=False, single_word=False, normalized=False, special=True),\n",
       "\t200464: AddedToken(\"<|vision_reserved_special_token_378|>\", rstrip=False, lstrip=False, single_word=False, normalized=False, special=True),\n",
       "\t200465: AddedToken(\"<|vision_reserved_special_token_379|>\", rstrip=False, lstrip=False, single_word=False, normalized=False, special=True),\n",
       "\t200466: AddedToken(\"<|vision_reserved_special_token_380|>\", rstrip=False, lstrip=False, single_word=False, normalized=False, special=True),\n",
       "\t200467: AddedToken(\"<|vision_reserved_special_token_381|>\", rstrip=False, lstrip=False, single_word=False, normalized=False, special=True),\n",
       "\t200468: AddedToken(\"<|vision_reserved_special_token_382|>\", rstrip=False, lstrip=False, single_word=False, normalized=False, special=True),\n",
       "\t200469: AddedToken(\"<|vision_reserved_special_token_383|>\", rstrip=False, lstrip=False, single_word=False, normalized=False, special=True),\n",
       "\t200470: AddedToken(\"<|vision_reserved_special_token_384|>\", rstrip=False, lstrip=False, single_word=False, normalized=False, special=True),\n",
       "\t200471: AddedToken(\"<|vision_reserved_special_token_385|>\", rstrip=False, lstrip=False, single_word=False, normalized=False, special=True),\n",
       "\t200472: AddedToken(\"<|vision_reserved_special_token_386|>\", rstrip=False, lstrip=False, single_word=False, normalized=False, special=True),\n",
       "\t200473: AddedToken(\"<|vision_reserved_special_token_387|>\", rstrip=False, lstrip=False, single_word=False, normalized=False, special=True),\n",
       "\t200474: AddedToken(\"<|vision_reserved_special_token_388|>\", rstrip=False, lstrip=False, single_word=False, normalized=False, special=True),\n",
       "\t200475: AddedToken(\"<|vision_reserved_special_token_389|>\", rstrip=False, lstrip=False, single_word=False, normalized=False, special=True),\n",
       "\t200476: AddedToken(\"<|vision_reserved_special_token_390|>\", rstrip=False, lstrip=False, single_word=False, normalized=False, special=True),\n",
       "\t200477: AddedToken(\"<|vision_reserved_special_token_391|>\", rstrip=False, lstrip=False, single_word=False, normalized=False, special=True),\n",
       "\t200478: AddedToken(\"<|vision_reserved_special_token_392|>\", rstrip=False, lstrip=False, single_word=False, normalized=False, special=True),\n",
       "\t200479: AddedToken(\"<|vision_reserved_special_token_393|>\", rstrip=False, lstrip=False, single_word=False, normalized=False, special=True),\n",
       "\t200480: AddedToken(\"<|vision_reserved_special_token_394|>\", rstrip=False, lstrip=False, single_word=False, normalized=False, special=True),\n",
       "\t200481: AddedToken(\"<|vision_reserved_special_token_395|>\", rstrip=False, lstrip=False, single_word=False, normalized=False, special=True),\n",
       "\t200482: AddedToken(\"<|vision_reserved_special_token_396|>\", rstrip=False, lstrip=False, single_word=False, normalized=False, special=True),\n",
       "\t200483: AddedToken(\"<|vision_reserved_special_token_397|>\", rstrip=False, lstrip=False, single_word=False, normalized=False, special=True),\n",
       "\t200484: AddedToken(\"<|vision_reserved_special_token_398|>\", rstrip=False, lstrip=False, single_word=False, normalized=False, special=True),\n",
       "\t200485: AddedToken(\"<|vision_reserved_special_token_399|>\", rstrip=False, lstrip=False, single_word=False, normalized=False, special=True),\n",
       "\t200486: AddedToken(\"<|vision_reserved_special_token_400|>\", rstrip=False, lstrip=False, single_word=False, normalized=False, special=True),\n",
       "\t200487: AddedToken(\"<|vision_reserved_special_token_401|>\", rstrip=False, lstrip=False, single_word=False, normalized=False, special=True),\n",
       "\t200488: AddedToken(\"<|vision_reserved_special_token_402|>\", rstrip=False, lstrip=False, single_word=False, normalized=False, special=True),\n",
       "\t200489: AddedToken(\"<|vision_reserved_special_token_403|>\", rstrip=False, lstrip=False, single_word=False, normalized=False, special=True),\n",
       "\t200490: AddedToken(\"<|vision_reserved_special_token_404|>\", rstrip=False, lstrip=False, single_word=False, normalized=False, special=True),\n",
       "\t200491: AddedToken(\"<|vision_reserved_special_token_405|>\", rstrip=False, lstrip=False, single_word=False, normalized=False, special=True),\n",
       "\t200492: AddedToken(\"<|vision_reserved_special_token_406|>\", rstrip=False, lstrip=False, single_word=False, normalized=False, special=True),\n",
       "\t200493: AddedToken(\"<|vision_reserved_special_token_407|>\", rstrip=False, lstrip=False, single_word=False, normalized=False, special=True),\n",
       "\t200494: AddedToken(\"<|vision_reserved_special_token_408|>\", rstrip=False, lstrip=False, single_word=False, normalized=False, special=True),\n",
       "\t200495: AddedToken(\"<|vision_reserved_special_token_409|>\", rstrip=False, lstrip=False, single_word=False, normalized=False, special=True),\n",
       "\t200496: AddedToken(\"<|vision_reserved_special_token_410|>\", rstrip=False, lstrip=False, single_word=False, normalized=False, special=True),\n",
       "\t200497: AddedToken(\"<|vision_reserved_special_token_411|>\", rstrip=False, lstrip=False, single_word=False, normalized=False, special=True),\n",
       "\t200498: AddedToken(\"<|vision_reserved_special_token_412|>\", rstrip=False, lstrip=False, single_word=False, normalized=False, special=True),\n",
       "\t200499: AddedToken(\"<|vision_reserved_special_token_413|>\", rstrip=False, lstrip=False, single_word=False, normalized=False, special=True),\n",
       "\t200500: AddedToken(\"<|vision_reserved_special_token_414|>\", rstrip=False, lstrip=False, single_word=False, normalized=False, special=True),\n",
       "\t200501: AddedToken(\"<|vision_reserved_special_token_415|>\", rstrip=False, lstrip=False, single_word=False, normalized=False, special=True),\n",
       "\t200502: AddedToken(\"<|vision_reserved_special_token_416|>\", rstrip=False, lstrip=False, single_word=False, normalized=False, special=True),\n",
       "\t200503: AddedToken(\"<|vision_reserved_special_token_417|>\", rstrip=False, lstrip=False, single_word=False, normalized=False, special=True),\n",
       "\t200504: AddedToken(\"<|vision_reserved_special_token_418|>\", rstrip=False, lstrip=False, single_word=False, normalized=False, special=True),\n",
       "\t200505: AddedToken(\"<|vision_reserved_special_token_419|>\", rstrip=False, lstrip=False, single_word=False, normalized=False, special=True),\n",
       "\t200506: AddedToken(\"<|vision_reserved_special_token_420|>\", rstrip=False, lstrip=False, single_word=False, normalized=False, special=True),\n",
       "\t200507: AddedToken(\"<|vision_reserved_special_token_421|>\", rstrip=False, lstrip=False, single_word=False, normalized=False, special=True),\n",
       "\t200508: AddedToken(\"<|vision_reserved_special_token_422|>\", rstrip=False, lstrip=False, single_word=False, normalized=False, special=True),\n",
       "\t200509: AddedToken(\"<|vision_reserved_special_token_423|>\", rstrip=False, lstrip=False, single_word=False, normalized=False, special=True),\n",
       "\t200510: AddedToken(\"<|vision_reserved_special_token_424|>\", rstrip=False, lstrip=False, single_word=False, normalized=False, special=True),\n",
       "\t200511: AddedToken(\"<|vision_reserved_special_token_425|>\", rstrip=False, lstrip=False, single_word=False, normalized=False, special=True),\n",
       "\t200512: AddedToken(\"<|vision_reserved_special_token_426|>\", rstrip=False, lstrip=False, single_word=False, normalized=False, special=True),\n",
       "\t200513: AddedToken(\"<|vision_reserved_special_token_427|>\", rstrip=False, lstrip=False, single_word=False, normalized=False, special=True),\n",
       "\t200514: AddedToken(\"<|vision_reserved_special_token_428|>\", rstrip=False, lstrip=False, single_word=False, normalized=False, special=True),\n",
       "\t200515: AddedToken(\"<|vision_reserved_special_token_429|>\", rstrip=False, lstrip=False, single_word=False, normalized=False, special=True),\n",
       "\t200516: AddedToken(\"<|vision_reserved_special_token_430|>\", rstrip=False, lstrip=False, single_word=False, normalized=False, special=True),\n",
       "\t200517: AddedToken(\"<|vision_reserved_special_token_431|>\", rstrip=False, lstrip=False, single_word=False, normalized=False, special=True),\n",
       "\t200518: AddedToken(\"<|vision_reserved_special_token_432|>\", rstrip=False, lstrip=False, single_word=False, normalized=False, special=True),\n",
       "\t200519: AddedToken(\"<|vision_reserved_special_token_433|>\", rstrip=False, lstrip=False, single_word=False, normalized=False, special=True),\n",
       "\t200520: AddedToken(\"<|vision_reserved_special_token_434|>\", rstrip=False, lstrip=False, single_word=False, normalized=False, special=True),\n",
       "\t200521: AddedToken(\"<|vision_reserved_special_token_435|>\", rstrip=False, lstrip=False, single_word=False, normalized=False, special=True),\n",
       "\t200522: AddedToken(\"<|vision_reserved_special_token_436|>\", rstrip=False, lstrip=False, single_word=False, normalized=False, special=True),\n",
       "\t200523: AddedToken(\"<|vision_reserved_special_token_437|>\", rstrip=False, lstrip=False, single_word=False, normalized=False, special=True),\n",
       "\t200524: AddedToken(\"<|vision_reserved_special_token_438|>\", rstrip=False, lstrip=False, single_word=False, normalized=False, special=True),\n",
       "\t200525: AddedToken(\"<|vision_reserved_special_token_439|>\", rstrip=False, lstrip=False, single_word=False, normalized=False, special=True),\n",
       "\t200526: AddedToken(\"<|vision_reserved_special_token_440|>\", rstrip=False, lstrip=False, single_word=False, normalized=False, special=True),\n",
       "\t200527: AddedToken(\"<|vision_reserved_special_token_441|>\", rstrip=False, lstrip=False, single_word=False, normalized=False, special=True),\n",
       "\t200528: AddedToken(\"<|vision_reserved_special_token_442|>\", rstrip=False, lstrip=False, single_word=False, normalized=False, special=True),\n",
       "\t200529: AddedToken(\"<|vision_reserved_special_token_443|>\", rstrip=False, lstrip=False, single_word=False, normalized=False, special=True),\n",
       "\t200530: AddedToken(\"<|vision_reserved_special_token_444|>\", rstrip=False, lstrip=False, single_word=False, normalized=False, special=True),\n",
       "\t200531: AddedToken(\"<|vision_reserved_special_token_445|>\", rstrip=False, lstrip=False, single_word=False, normalized=False, special=True),\n",
       "\t200532: AddedToken(\"<|vision_reserved_special_token_446|>\", rstrip=False, lstrip=False, single_word=False, normalized=False, special=True),\n",
       "\t200533: AddedToken(\"<|vision_reserved_special_token_447|>\", rstrip=False, lstrip=False, single_word=False, normalized=False, special=True),\n",
       "\t200534: AddedToken(\"<|vision_reserved_special_token_448|>\", rstrip=False, lstrip=False, single_word=False, normalized=False, special=True),\n",
       "\t200535: AddedToken(\"<|vision_reserved_special_token_449|>\", rstrip=False, lstrip=False, single_word=False, normalized=False, special=True),\n",
       "\t200536: AddedToken(\"<|vision_reserved_special_token_450|>\", rstrip=False, lstrip=False, single_word=False, normalized=False, special=True),\n",
       "\t200537: AddedToken(\"<|vision_reserved_special_token_451|>\", rstrip=False, lstrip=False, single_word=False, normalized=False, special=True),\n",
       "\t200538: AddedToken(\"<|vision_reserved_special_token_452|>\", rstrip=False, lstrip=False, single_word=False, normalized=False, special=True),\n",
       "\t200539: AddedToken(\"<|vision_reserved_special_token_453|>\", rstrip=False, lstrip=False, single_word=False, normalized=False, special=True),\n",
       "\t200540: AddedToken(\"<|vision_reserved_special_token_454|>\", rstrip=False, lstrip=False, single_word=False, normalized=False, special=True),\n",
       "\t200541: AddedToken(\"<|vision_reserved_special_token_455|>\", rstrip=False, lstrip=False, single_word=False, normalized=False, special=True),\n",
       "\t200542: AddedToken(\"<|vision_reserved_special_token_456|>\", rstrip=False, lstrip=False, single_word=False, normalized=False, special=True),\n",
       "\t200543: AddedToken(\"<|vision_reserved_special_token_457|>\", rstrip=False, lstrip=False, single_word=False, normalized=False, special=True),\n",
       "\t200544: AddedToken(\"<|vision_reserved_special_token_458|>\", rstrip=False, lstrip=False, single_word=False, normalized=False, special=True),\n",
       "\t200545: AddedToken(\"<|vision_reserved_special_token_459|>\", rstrip=False, lstrip=False, single_word=False, normalized=False, special=True),\n",
       "\t200546: AddedToken(\"<|vision_reserved_special_token_460|>\", rstrip=False, lstrip=False, single_word=False, normalized=False, special=True),\n",
       "\t200547: AddedToken(\"<|vision_reserved_special_token_461|>\", rstrip=False, lstrip=False, single_word=False, normalized=False, special=True),\n",
       "\t200548: AddedToken(\"<|vision_reserved_special_token_462|>\", rstrip=False, lstrip=False, single_word=False, normalized=False, special=True),\n",
       "\t200549: AddedToken(\"<|vision_reserved_special_token_463|>\", rstrip=False, lstrip=False, single_word=False, normalized=False, special=True),\n",
       "\t200550: AddedToken(\"<|vision_reserved_special_token_464|>\", rstrip=False, lstrip=False, single_word=False, normalized=False, special=True),\n",
       "\t200551: AddedToken(\"<|vision_reserved_special_token_465|>\", rstrip=False, lstrip=False, single_word=False, normalized=False, special=True),\n",
       "\t200552: AddedToken(\"<|vision_reserved_special_token_466|>\", rstrip=False, lstrip=False, single_word=False, normalized=False, special=True),\n",
       "\t200553: AddedToken(\"<|vision_reserved_special_token_467|>\", rstrip=False, lstrip=False, single_word=False, normalized=False, special=True),\n",
       "\t200554: AddedToken(\"<|vision_reserved_special_token_468|>\", rstrip=False, lstrip=False, single_word=False, normalized=False, special=True),\n",
       "\t200555: AddedToken(\"<|vision_reserved_special_token_469|>\", rstrip=False, lstrip=False, single_word=False, normalized=False, special=True),\n",
       "\t200556: AddedToken(\"<|vision_reserved_special_token_470|>\", rstrip=False, lstrip=False, single_word=False, normalized=False, special=True),\n",
       "\t200557: AddedToken(\"<|vision_reserved_special_token_471|>\", rstrip=False, lstrip=False, single_word=False, normalized=False, special=True),\n",
       "\t200558: AddedToken(\"<|vision_reserved_special_token_472|>\", rstrip=False, lstrip=False, single_word=False, normalized=False, special=True),\n",
       "\t200559: AddedToken(\"<|vision_reserved_special_token_473|>\", rstrip=False, lstrip=False, single_word=False, normalized=False, special=True),\n",
       "\t200560: AddedToken(\"<|vision_reserved_special_token_474|>\", rstrip=False, lstrip=False, single_word=False, normalized=False, special=True),\n",
       "\t200561: AddedToken(\"<|vision_reserved_special_token_475|>\", rstrip=False, lstrip=False, single_word=False, normalized=False, special=True),\n",
       "\t200562: AddedToken(\"<|vision_reserved_special_token_476|>\", rstrip=False, lstrip=False, single_word=False, normalized=False, special=True),\n",
       "\t200563: AddedToken(\"<|vision_reserved_special_token_477|>\", rstrip=False, lstrip=False, single_word=False, normalized=False, special=True),\n",
       "\t200564: AddedToken(\"<|vision_reserved_special_token_478|>\", rstrip=False, lstrip=False, single_word=False, normalized=False, special=True),\n",
       "\t200565: AddedToken(\"<|vision_reserved_special_token_479|>\", rstrip=False, lstrip=False, single_word=False, normalized=False, special=True),\n",
       "\t200566: AddedToken(\"<|vision_reserved_special_token_480|>\", rstrip=False, lstrip=False, single_word=False, normalized=False, special=True),\n",
       "\t200567: AddedToken(\"<|vision_reserved_special_token_481|>\", rstrip=False, lstrip=False, single_word=False, normalized=False, special=True),\n",
       "\t200568: AddedToken(\"<|vision_reserved_special_token_482|>\", rstrip=False, lstrip=False, single_word=False, normalized=False, special=True),\n",
       "\t200569: AddedToken(\"<|vision_reserved_special_token_483|>\", rstrip=False, lstrip=False, single_word=False, normalized=False, special=True),\n",
       "\t200570: AddedToken(\"<|vision_reserved_special_token_484|>\", rstrip=False, lstrip=False, single_word=False, normalized=False, special=True),\n",
       "\t200571: AddedToken(\"<|vision_reserved_special_token_485|>\", rstrip=False, lstrip=False, single_word=False, normalized=False, special=True),\n",
       "\t200572: AddedToken(\"<|vision_reserved_special_token_486|>\", rstrip=False, lstrip=False, single_word=False, normalized=False, special=True),\n",
       "\t200573: AddedToken(\"<|vision_reserved_special_token_487|>\", rstrip=False, lstrip=False, single_word=False, normalized=False, special=True),\n",
       "\t200574: AddedToken(\"<|vision_reserved_special_token_488|>\", rstrip=False, lstrip=False, single_word=False, normalized=False, special=True),\n",
       "\t200575: AddedToken(\"<|vision_reserved_special_token_489|>\", rstrip=False, lstrip=False, single_word=False, normalized=False, special=True),\n",
       "\t200576: AddedToken(\"<|vision_reserved_special_token_490|>\", rstrip=False, lstrip=False, single_word=False, normalized=False, special=True),\n",
       "\t200577: AddedToken(\"<|vision_reserved_special_token_491|>\", rstrip=False, lstrip=False, single_word=False, normalized=False, special=True),\n",
       "\t200578: AddedToken(\"<|vision_reserved_special_token_492|>\", rstrip=False, lstrip=False, single_word=False, normalized=False, special=True),\n",
       "\t200579: AddedToken(\"<|vision_reserved_special_token_493|>\", rstrip=False, lstrip=False, single_word=False, normalized=False, special=True),\n",
       "\t200580: AddedToken(\"<|vision_reserved_special_token_494|>\", rstrip=False, lstrip=False, single_word=False, normalized=False, special=True),\n",
       "\t200581: AddedToken(\"<|vision_reserved_special_token_495|>\", rstrip=False, lstrip=False, single_word=False, normalized=False, special=True),\n",
       "\t200582: AddedToken(\"<|vision_reserved_special_token_496|>\", rstrip=False, lstrip=False, single_word=False, normalized=False, special=True),\n",
       "\t200583: AddedToken(\"<|vision_reserved_special_token_497|>\", rstrip=False, lstrip=False, single_word=False, normalized=False, special=True),\n",
       "\t200584: AddedToken(\"<|vision_reserved_special_token_498|>\", rstrip=False, lstrip=False, single_word=False, normalized=False, special=True),\n",
       "\t200585: AddedToken(\"<|vision_reserved_special_token_499|>\", rstrip=False, lstrip=False, single_word=False, normalized=False, special=True),\n",
       "\t200586: AddedToken(\"<|vision_reserved_special_token_500|>\", rstrip=False, lstrip=False, single_word=False, normalized=False, special=True),\n",
       "\t200587: AddedToken(\"<|vision_reserved_special_token_501|>\", rstrip=False, lstrip=False, single_word=False, normalized=False, special=True),\n",
       "\t200588: AddedToken(\"<|vision_reserved_special_token_502|>\", rstrip=False, lstrip=False, single_word=False, normalized=False, special=True),\n",
       "\t200589: AddedToken(\"<|vision_reserved_special_token_503|>\", rstrip=False, lstrip=False, single_word=False, normalized=False, special=True),\n",
       "\t200590: AddedToken(\"<|vision_reserved_special_token_504|>\", rstrip=False, lstrip=False, single_word=False, normalized=False, special=True),\n",
       "\t200591: AddedToken(\"<|vision_reserved_special_token_505|>\", rstrip=False, lstrip=False, single_word=False, normalized=False, special=True),\n",
       "\t200592: AddedToken(\"<|vision_reserved_special_token_506|>\", rstrip=False, lstrip=False, single_word=False, normalized=False, special=True),\n",
       "\t200593: AddedToken(\"<|vision_reserved_special_token_507|>\", rstrip=False, lstrip=False, single_word=False, normalized=False, special=True),\n",
       "\t200594: AddedToken(\"<|vision_reserved_special_token_508|>\", rstrip=False, lstrip=False, single_word=False, normalized=False, special=True),\n",
       "\t200595: AddedToken(\"<|vision_reserved_special_token_509|>\", rstrip=False, lstrip=False, single_word=False, normalized=False, special=True),\n",
       "\t200596: AddedToken(\"<|vision_reserved_special_token_510|>\", rstrip=False, lstrip=False, single_word=False, normalized=False, special=True),\n",
       "\t200597: AddedToken(\"<|vision_reserved_special_token_511|>\", rstrip=False, lstrip=False, single_word=False, normalized=False, special=True),\n",
       "\t200598: AddedToken(\"<|vision_reserved_special_token_512|>\", rstrip=False, lstrip=False, single_word=False, normalized=False, special=True),\n",
       "\t200599: AddedToken(\"<|vision_reserved_special_token_513|>\", rstrip=False, lstrip=False, single_word=False, normalized=False, special=True),\n",
       "\t200600: AddedToken(\"<|vision_reserved_special_token_514|>\", rstrip=False, lstrip=False, single_word=False, normalized=False, special=True),\n",
       "\t200601: AddedToken(\"<|vision_reserved_special_token_515|>\", rstrip=False, lstrip=False, single_word=False, normalized=False, special=True),\n",
       "\t200602: AddedToken(\"<|vision_reserved_special_token_516|>\", rstrip=False, lstrip=False, single_word=False, normalized=False, special=True),\n",
       "\t200603: AddedToken(\"<|vision_reserved_special_token_517|>\", rstrip=False, lstrip=False, single_word=False, normalized=False, special=True),\n",
       "\t200604: AddedToken(\"<|vision_reserved_special_token_518|>\", rstrip=False, lstrip=False, single_word=False, normalized=False, special=True),\n",
       "\t200605: AddedToken(\"<|vision_reserved_special_token_519|>\", rstrip=False, lstrip=False, single_word=False, normalized=False, special=True),\n",
       "\t200606: AddedToken(\"<|vision_reserved_special_token_520|>\", rstrip=False, lstrip=False, single_word=False, normalized=False, special=True),\n",
       "\t200607: AddedToken(\"<|vision_reserved_special_token_521|>\", rstrip=False, lstrip=False, single_word=False, normalized=False, special=True),\n",
       "\t200608: AddedToken(\"<|vision_reserved_special_token_522|>\", rstrip=False, lstrip=False, single_word=False, normalized=False, special=True),\n",
       "\t200609: AddedToken(\"<|vision_reserved_special_token_523|>\", rstrip=False, lstrip=False, single_word=False, normalized=False, special=True),\n",
       "\t200610: AddedToken(\"<|vision_reserved_special_token_524|>\", rstrip=False, lstrip=False, single_word=False, normalized=False, special=True),\n",
       "\t200611: AddedToken(\"<|vision_reserved_special_token_525|>\", rstrip=False, lstrip=False, single_word=False, normalized=False, special=True),\n",
       "\t200612: AddedToken(\"<|vision_reserved_special_token_526|>\", rstrip=False, lstrip=False, single_word=False, normalized=False, special=True),\n",
       "\t200613: AddedToken(\"<|vision_reserved_special_token_527|>\", rstrip=False, lstrip=False, single_word=False, normalized=False, special=True),\n",
       "\t200614: AddedToken(\"<|vision_reserved_special_token_528|>\", rstrip=False, lstrip=False, single_word=False, normalized=False, special=True),\n",
       "\t200615: AddedToken(\"<|vision_reserved_special_token_529|>\", rstrip=False, lstrip=False, single_word=False, normalized=False, special=True),\n",
       "\t200616: AddedToken(\"<|vision_reserved_special_token_530|>\", rstrip=False, lstrip=False, single_word=False, normalized=False, special=True),\n",
       "\t200617: AddedToken(\"<|vision_reserved_special_token_531|>\", rstrip=False, lstrip=False, single_word=False, normalized=False, special=True),\n",
       "\t200618: AddedToken(\"<|vision_reserved_special_token_532|>\", rstrip=False, lstrip=False, single_word=False, normalized=False, special=True),\n",
       "\t200619: AddedToken(\"<|vision_reserved_special_token_533|>\", rstrip=False, lstrip=False, single_word=False, normalized=False, special=True),\n",
       "\t200620: AddedToken(\"<|vision_reserved_special_token_534|>\", rstrip=False, lstrip=False, single_word=False, normalized=False, special=True),\n",
       "\t200621: AddedToken(\"<|vision_reserved_special_token_535|>\", rstrip=False, lstrip=False, single_word=False, normalized=False, special=True),\n",
       "\t200622: AddedToken(\"<|vision_reserved_special_token_536|>\", rstrip=False, lstrip=False, single_word=False, normalized=False, special=True),\n",
       "\t200623: AddedToken(\"<|vision_reserved_special_token_537|>\", rstrip=False, lstrip=False, single_word=False, normalized=False, special=True),\n",
       "\t200624: AddedToken(\"<|vision_reserved_special_token_538|>\", rstrip=False, lstrip=False, single_word=False, normalized=False, special=True),\n",
       "\t200625: AddedToken(\"<|vision_reserved_special_token_539|>\", rstrip=False, lstrip=False, single_word=False, normalized=False, special=True),\n",
       "\t200626: AddedToken(\"<|vision_reserved_special_token_540|>\", rstrip=False, lstrip=False, single_word=False, normalized=False, special=True),\n",
       "\t200627: AddedToken(\"<|vision_reserved_special_token_541|>\", rstrip=False, lstrip=False, single_word=False, normalized=False, special=True),\n",
       "\t200628: AddedToken(\"<|vision_reserved_special_token_542|>\", rstrip=False, lstrip=False, single_word=False, normalized=False, special=True),\n",
       "\t200629: AddedToken(\"<|vision_reserved_special_token_543|>\", rstrip=False, lstrip=False, single_word=False, normalized=False, special=True),\n",
       "\t200630: AddedToken(\"<|vision_reserved_special_token_544|>\", rstrip=False, lstrip=False, single_word=False, normalized=False, special=True),\n",
       "\t200631: AddedToken(\"<|vision_reserved_special_token_545|>\", rstrip=False, lstrip=False, single_word=False, normalized=False, special=True),\n",
       "\t200632: AddedToken(\"<|vision_reserved_special_token_546|>\", rstrip=False, lstrip=False, single_word=False, normalized=False, special=True),\n",
       "\t200633: AddedToken(\"<|vision_reserved_special_token_547|>\", rstrip=False, lstrip=False, single_word=False, normalized=False, special=True),\n",
       "\t200634: AddedToken(\"<|vision_reserved_special_token_548|>\", rstrip=False, lstrip=False, single_word=False, normalized=False, special=True),\n",
       "\t200635: AddedToken(\"<|vision_reserved_special_token_549|>\", rstrip=False, lstrip=False, single_word=False, normalized=False, special=True),\n",
       "\t200636: AddedToken(\"<|vision_reserved_special_token_550|>\", rstrip=False, lstrip=False, single_word=False, normalized=False, special=True),\n",
       "\t200637: AddedToken(\"<|vision_reserved_special_token_551|>\", rstrip=False, lstrip=False, single_word=False, normalized=False, special=True),\n",
       "\t200638: AddedToken(\"<|vision_reserved_special_token_552|>\", rstrip=False, lstrip=False, single_word=False, normalized=False, special=True),\n",
       "\t200639: AddedToken(\"<|vision_reserved_special_token_553|>\", rstrip=False, lstrip=False, single_word=False, normalized=False, special=True),\n",
       "\t200640: AddedToken(\"<|vision_reserved_special_token_554|>\", rstrip=False, lstrip=False, single_word=False, normalized=False, special=True),\n",
       "\t200641: AddedToken(\"<|vision_reserved_special_token_555|>\", rstrip=False, lstrip=False, single_word=False, normalized=False, special=True),\n",
       "\t200642: AddedToken(\"<|vision_reserved_special_token_556|>\", rstrip=False, lstrip=False, single_word=False, normalized=False, special=True),\n",
       "\t200643: AddedToken(\"<|vision_reserved_special_token_557|>\", rstrip=False, lstrip=False, single_word=False, normalized=False, special=True),\n",
       "\t200644: AddedToken(\"<|vision_reserved_special_token_558|>\", rstrip=False, lstrip=False, single_word=False, normalized=False, special=True),\n",
       "\t200645: AddedToken(\"<|vision_reserved_special_token_559|>\", rstrip=False, lstrip=False, single_word=False, normalized=False, special=True),\n",
       "\t200646: AddedToken(\"<|vision_reserved_special_token_560|>\", rstrip=False, lstrip=False, single_word=False, normalized=False, special=True),\n",
       "\t200647: AddedToken(\"<|vision_reserved_special_token_561|>\", rstrip=False, lstrip=False, single_word=False, normalized=False, special=True),\n",
       "\t200648: AddedToken(\"<|vision_reserved_special_token_562|>\", rstrip=False, lstrip=False, single_word=False, normalized=False, special=True),\n",
       "\t200649: AddedToken(\"<|vision_reserved_special_token_563|>\", rstrip=False, lstrip=False, single_word=False, normalized=False, special=True),\n",
       "\t200650: AddedToken(\"<|vision_reserved_special_token_564|>\", rstrip=False, lstrip=False, single_word=False, normalized=False, special=True),\n",
       "\t200651: AddedToken(\"<|vision_reserved_special_token_565|>\", rstrip=False, lstrip=False, single_word=False, normalized=False, special=True),\n",
       "\t200652: AddedToken(\"<|vision_reserved_special_token_566|>\", rstrip=False, lstrip=False, single_word=False, normalized=False, special=True),\n",
       "\t200653: AddedToken(\"<|vision_reserved_special_token_567|>\", rstrip=False, lstrip=False, single_word=False, normalized=False, special=True),\n",
       "\t200654: AddedToken(\"<|vision_reserved_special_token_568|>\", rstrip=False, lstrip=False, single_word=False, normalized=False, special=True),\n",
       "\t200655: AddedToken(\"<|vision_reserved_special_token_569|>\", rstrip=False, lstrip=False, single_word=False, normalized=False, special=True),\n",
       "\t200656: AddedToken(\"<|vision_reserved_special_token_570|>\", rstrip=False, lstrip=False, single_word=False, normalized=False, special=True),\n",
       "\t200657: AddedToken(\"<|vision_reserved_special_token_571|>\", rstrip=False, lstrip=False, single_word=False, normalized=False, special=True),\n",
       "\t200658: AddedToken(\"<|vision_reserved_special_token_572|>\", rstrip=False, lstrip=False, single_word=False, normalized=False, special=True),\n",
       "\t200659: AddedToken(\"<|vision_reserved_special_token_573|>\", rstrip=False, lstrip=False, single_word=False, normalized=False, special=True),\n",
       "\t200660: AddedToken(\"<|vision_reserved_special_token_574|>\", rstrip=False, lstrip=False, single_word=False, normalized=False, special=True),\n",
       "\t200661: AddedToken(\"<|vision_reserved_special_token_575|>\", rstrip=False, lstrip=False, single_word=False, normalized=False, special=True),\n",
       "\t200662: AddedToken(\"<|vision_reserved_special_token_576|>\", rstrip=False, lstrip=False, single_word=False, normalized=False, special=True),\n",
       "\t200663: AddedToken(\"<|vision_reserved_special_token_577|>\", rstrip=False, lstrip=False, single_word=False, normalized=False, special=True),\n",
       "\t200664: AddedToken(\"<|vision_reserved_special_token_578|>\", rstrip=False, lstrip=False, single_word=False, normalized=False, special=True),\n",
       "\t200665: AddedToken(\"<|vision_reserved_special_token_579|>\", rstrip=False, lstrip=False, single_word=False, normalized=False, special=True),\n",
       "\t200666: AddedToken(\"<|vision_reserved_special_token_580|>\", rstrip=False, lstrip=False, single_word=False, normalized=False, special=True),\n",
       "\t200667: AddedToken(\"<|vision_reserved_special_token_581|>\", rstrip=False, lstrip=False, single_word=False, normalized=False, special=True),\n",
       "\t200668: AddedToken(\"<|vision_reserved_special_token_582|>\", rstrip=False, lstrip=False, single_word=False, normalized=False, special=True),\n",
       "\t200669: AddedToken(\"<|vision_reserved_special_token_583|>\", rstrip=False, lstrip=False, single_word=False, normalized=False, special=True),\n",
       "\t200670: AddedToken(\"<|vision_reserved_special_token_584|>\", rstrip=False, lstrip=False, single_word=False, normalized=False, special=True),\n",
       "\t200671: AddedToken(\"<|vision_reserved_special_token_585|>\", rstrip=False, lstrip=False, single_word=False, normalized=False, special=True),\n",
       "\t200672: AddedToken(\"<|vision_reserved_special_token_586|>\", rstrip=False, lstrip=False, single_word=False, normalized=False, special=True),\n",
       "\t200673: AddedToken(\"<|vision_reserved_special_token_587|>\", rstrip=False, lstrip=False, single_word=False, normalized=False, special=True),\n",
       "\t200674: AddedToken(\"<|vision_reserved_special_token_588|>\", rstrip=False, lstrip=False, single_word=False, normalized=False, special=True),\n",
       "\t200675: AddedToken(\"<|vision_reserved_special_token_589|>\", rstrip=False, lstrip=False, single_word=False, normalized=False, special=True),\n",
       "\t200676: AddedToken(\"<|vision_reserved_special_token_590|>\", rstrip=False, lstrip=False, single_word=False, normalized=False, special=True),\n",
       "\t200677: AddedToken(\"<|vision_reserved_special_token_591|>\", rstrip=False, lstrip=False, single_word=False, normalized=False, special=True),\n",
       "\t200678: AddedToken(\"<|vision_reserved_special_token_592|>\", rstrip=False, lstrip=False, single_word=False, normalized=False, special=True),\n",
       "\t200679: AddedToken(\"<|vision_reserved_special_token_593|>\", rstrip=False, lstrip=False, single_word=False, normalized=False, special=True),\n",
       "\t200680: AddedToken(\"<|vision_reserved_special_token_594|>\", rstrip=False, lstrip=False, single_word=False, normalized=False, special=True),\n",
       "\t200681: AddedToken(\"<|vision_reserved_special_token_595|>\", rstrip=False, lstrip=False, single_word=False, normalized=False, special=True),\n",
       "\t200682: AddedToken(\"<|vision_reserved_special_token_596|>\", rstrip=False, lstrip=False, single_word=False, normalized=False, special=True),\n",
       "\t200683: AddedToken(\"<|vision_reserved_special_token_597|>\", rstrip=False, lstrip=False, single_word=False, normalized=False, special=True),\n",
       "\t200684: AddedToken(\"<|vision_reserved_special_token_598|>\", rstrip=False, lstrip=False, single_word=False, normalized=False, special=True),\n",
       "\t200685: AddedToken(\"<|vision_reserved_special_token_599|>\", rstrip=False, lstrip=False, single_word=False, normalized=False, special=True),\n",
       "\t200686: AddedToken(\"<|vision_reserved_special_token_600|>\", rstrip=False, lstrip=False, single_word=False, normalized=False, special=True),\n",
       "\t200687: AddedToken(\"<|vision_reserved_special_token_601|>\", rstrip=False, lstrip=False, single_word=False, normalized=False, special=True),\n",
       "\t200688: AddedToken(\"<|vision_reserved_special_token_602|>\", rstrip=False, lstrip=False, single_word=False, normalized=False, special=True),\n",
       "\t200689: AddedToken(\"<|vision_reserved_special_token_603|>\", rstrip=False, lstrip=False, single_word=False, normalized=False, special=True),\n",
       "\t200690: AddedToken(\"<|vision_reserved_special_token_604|>\", rstrip=False, lstrip=False, single_word=False, normalized=False, special=True),\n",
       "\t200691: AddedToken(\"<|vision_reserved_special_token_605|>\", rstrip=False, lstrip=False, single_word=False, normalized=False, special=True),\n",
       "\t200692: AddedToken(\"<|vision_reserved_special_token_606|>\", rstrip=False, lstrip=False, single_word=False, normalized=False, special=True),\n",
       "\t200693: AddedToken(\"<|vision_reserved_special_token_607|>\", rstrip=False, lstrip=False, single_word=False, normalized=False, special=True),\n",
       "\t200694: AddedToken(\"<|vision_reserved_special_token_608|>\", rstrip=False, lstrip=False, single_word=False, normalized=False, special=True),\n",
       "\t200695: AddedToken(\"<|vision_reserved_special_token_609|>\", rstrip=False, lstrip=False, single_word=False, normalized=False, special=True),\n",
       "\t200696: AddedToken(\"<|vision_reserved_special_token_610|>\", rstrip=False, lstrip=False, single_word=False, normalized=False, special=True),\n",
       "\t200697: AddedToken(\"<|vision_reserved_special_token_611|>\", rstrip=False, lstrip=False, single_word=False, normalized=False, special=True),\n",
       "\t200698: AddedToken(\"<|vision_reserved_special_token_612|>\", rstrip=False, lstrip=False, single_word=False, normalized=False, special=True),\n",
       "\t200699: AddedToken(\"<|vision_reserved_special_token_613|>\", rstrip=False, lstrip=False, single_word=False, normalized=False, special=True),\n",
       "\t200700: AddedToken(\"<|vision_reserved_special_token_614|>\", rstrip=False, lstrip=False, single_word=False, normalized=False, special=True),\n",
       "\t200701: AddedToken(\"<|vision_reserved_special_token_615|>\", rstrip=False, lstrip=False, single_word=False, normalized=False, special=True),\n",
       "\t200702: AddedToken(\"<|vision_reserved_special_token_616|>\", rstrip=False, lstrip=False, single_word=False, normalized=False, special=True),\n",
       "\t200703: AddedToken(\"<|vision_reserved_special_token_617|>\", rstrip=False, lstrip=False, single_word=False, normalized=False, special=True),\n",
       "\t200704: AddedToken(\"<|vision_reserved_special_token_618|>\", rstrip=False, lstrip=False, single_word=False, normalized=False, special=True),\n",
       "\t200705: AddedToken(\"<|vision_reserved_special_token_619|>\", rstrip=False, lstrip=False, single_word=False, normalized=False, special=True),\n",
       "\t200706: AddedToken(\"<|vision_reserved_special_token_620|>\", rstrip=False, lstrip=False, single_word=False, normalized=False, special=True),\n",
       "\t200707: AddedToken(\"<|vision_reserved_special_token_621|>\", rstrip=False, lstrip=False, single_word=False, normalized=False, special=True),\n",
       "\t200708: AddedToken(\"<|vision_reserved_special_token_622|>\", rstrip=False, lstrip=False, single_word=False, normalized=False, special=True),\n",
       "\t200709: AddedToken(\"<|vision_reserved_special_token_623|>\", rstrip=False, lstrip=False, single_word=False, normalized=False, special=True),\n",
       "\t200710: AddedToken(\"<|vision_reserved_special_token_624|>\", rstrip=False, lstrip=False, single_word=False, normalized=False, special=True),\n",
       "\t200711: AddedToken(\"<|vision_reserved_special_token_625|>\", rstrip=False, lstrip=False, single_word=False, normalized=False, special=True),\n",
       "\t200712: AddedToken(\"<|vision_reserved_special_token_626|>\", rstrip=False, lstrip=False, single_word=False, normalized=False, special=True),\n",
       "\t200713: AddedToken(\"<|vision_reserved_special_token_627|>\", rstrip=False, lstrip=False, single_word=False, normalized=False, special=True),\n",
       "\t200714: AddedToken(\"<|vision_reserved_special_token_628|>\", rstrip=False, lstrip=False, single_word=False, normalized=False, special=True),\n",
       "\t200715: AddedToken(\"<|vision_reserved_special_token_629|>\", rstrip=False, lstrip=False, single_word=False, normalized=False, special=True),\n",
       "\t200716: AddedToken(\"<|vision_reserved_special_token_630|>\", rstrip=False, lstrip=False, single_word=False, normalized=False, special=True),\n",
       "\t200717: AddedToken(\"<|vision_reserved_special_token_631|>\", rstrip=False, lstrip=False, single_word=False, normalized=False, special=True),\n",
       "\t200718: AddedToken(\"<|vision_reserved_special_token_632|>\", rstrip=False, lstrip=False, single_word=False, normalized=False, special=True),\n",
       "\t200719: AddedToken(\"<|vision_reserved_special_token_633|>\", rstrip=False, lstrip=False, single_word=False, normalized=False, special=True),\n",
       "\t200720: AddedToken(\"<|vision_reserved_special_token_634|>\", rstrip=False, lstrip=False, single_word=False, normalized=False, special=True),\n",
       "\t200721: AddedToken(\"<|vision_reserved_special_token_635|>\", rstrip=False, lstrip=False, single_word=False, normalized=False, special=True),\n",
       "\t200722: AddedToken(\"<|vision_reserved_special_token_636|>\", rstrip=False, lstrip=False, single_word=False, normalized=False, special=True),\n",
       "\t200723: AddedToken(\"<|vision_reserved_special_token_637|>\", rstrip=False, lstrip=False, single_word=False, normalized=False, special=True),\n",
       "\t200724: AddedToken(\"<|vision_reserved_special_token_638|>\", rstrip=False, lstrip=False, single_word=False, normalized=False, special=True),\n",
       "\t200725: AddedToken(\"<|vision_reserved_special_token_639|>\", rstrip=False, lstrip=False, single_word=False, normalized=False, special=True),\n",
       "\t200726: AddedToken(\"<|vision_reserved_special_token_640|>\", rstrip=False, lstrip=False, single_word=False, normalized=False, special=True),\n",
       "\t200727: AddedToken(\"<|vision_reserved_special_token_641|>\", rstrip=False, lstrip=False, single_word=False, normalized=False, special=True),\n",
       "\t200728: AddedToken(\"<|vision_reserved_special_token_642|>\", rstrip=False, lstrip=False, single_word=False, normalized=False, special=True),\n",
       "\t200729: AddedToken(\"<|vision_reserved_special_token_643|>\", rstrip=False, lstrip=False, single_word=False, normalized=False, special=True),\n",
       "\t200730: AddedToken(\"<|vision_reserved_special_token_644|>\", rstrip=False, lstrip=False, single_word=False, normalized=False, special=True),\n",
       "\t200731: AddedToken(\"<|vision_reserved_special_token_645|>\", rstrip=False, lstrip=False, single_word=False, normalized=False, special=True),\n",
       "\t200732: AddedToken(\"<|vision_reserved_special_token_646|>\", rstrip=False, lstrip=False, single_word=False, normalized=False, special=True),\n",
       "\t200733: AddedToken(\"<|vision_reserved_special_token_647|>\", rstrip=False, lstrip=False, single_word=False, normalized=False, special=True),\n",
       "\t200734: AddedToken(\"<|vision_reserved_special_token_648|>\", rstrip=False, lstrip=False, single_word=False, normalized=False, special=True),\n",
       "\t200735: AddedToken(\"<|vision_reserved_special_token_649|>\", rstrip=False, lstrip=False, single_word=False, normalized=False, special=True),\n",
       "\t200736: AddedToken(\"<|vision_reserved_special_token_650|>\", rstrip=False, lstrip=False, single_word=False, normalized=False, special=True),\n",
       "\t200737: AddedToken(\"<|vision_reserved_special_token_651|>\", rstrip=False, lstrip=False, single_word=False, normalized=False, special=True),\n",
       "\t200738: AddedToken(\"<|vision_reserved_special_token_652|>\", rstrip=False, lstrip=False, single_word=False, normalized=False, special=True),\n",
       "\t200739: AddedToken(\"<|vision_reserved_special_token_653|>\", rstrip=False, lstrip=False, single_word=False, normalized=False, special=True),\n",
       "\t200740: AddedToken(\"<|vision_reserved_special_token_654|>\", rstrip=False, lstrip=False, single_word=False, normalized=False, special=True),\n",
       "\t200741: AddedToken(\"<|vision_reserved_special_token_655|>\", rstrip=False, lstrip=False, single_word=False, normalized=False, special=True),\n",
       "\t200742: AddedToken(\"<|vision_reserved_special_token_656|>\", rstrip=False, lstrip=False, single_word=False, normalized=False, special=True),\n",
       "\t200743: AddedToken(\"<|vision_reserved_special_token_657|>\", rstrip=False, lstrip=False, single_word=False, normalized=False, special=True),\n",
       "\t200744: AddedToken(\"<|vision_reserved_special_token_658|>\", rstrip=False, lstrip=False, single_word=False, normalized=False, special=True),\n",
       "\t200745: AddedToken(\"<|vision_reserved_special_token_659|>\", rstrip=False, lstrip=False, single_word=False, normalized=False, special=True),\n",
       "\t200746: AddedToken(\"<|vision_reserved_special_token_660|>\", rstrip=False, lstrip=False, single_word=False, normalized=False, special=True),\n",
       "\t200747: AddedToken(\"<|vision_reserved_special_token_661|>\", rstrip=False, lstrip=False, single_word=False, normalized=False, special=True),\n",
       "\t200748: AddedToken(\"<|vision_reserved_special_token_662|>\", rstrip=False, lstrip=False, single_word=False, normalized=False, special=True),\n",
       "\t200749: AddedToken(\"<|vision_reserved_special_token_663|>\", rstrip=False, lstrip=False, single_word=False, normalized=False, special=True),\n",
       "\t200750: AddedToken(\"<|vision_reserved_special_token_664|>\", rstrip=False, lstrip=False, single_word=False, normalized=False, special=True),\n",
       "\t200751: AddedToken(\"<|vision_reserved_special_token_665|>\", rstrip=False, lstrip=False, single_word=False, normalized=False, special=True),\n",
       "\t200752: AddedToken(\"<|vision_reserved_special_token_666|>\", rstrip=False, lstrip=False, single_word=False, normalized=False, special=True),\n",
       "\t200753: AddedToken(\"<|vision_reserved_special_token_667|>\", rstrip=False, lstrip=False, single_word=False, normalized=False, special=True),\n",
       "\t200754: AddedToken(\"<|vision_reserved_special_token_668|>\", rstrip=False, lstrip=False, single_word=False, normalized=False, special=True),\n",
       "\t200755: AddedToken(\"<|vision_reserved_special_token_669|>\", rstrip=False, lstrip=False, single_word=False, normalized=False, special=True),\n",
       "\t200756: AddedToken(\"<|vision_reserved_special_token_670|>\", rstrip=False, lstrip=False, single_word=False, normalized=False, special=True),\n",
       "\t200757: AddedToken(\"<|vision_reserved_special_token_671|>\", rstrip=False, lstrip=False, single_word=False, normalized=False, special=True),\n",
       "\t200758: AddedToken(\"<|vision_reserved_special_token_672|>\", rstrip=False, lstrip=False, single_word=False, normalized=False, special=True),\n",
       "\t200759: AddedToken(\"<|vision_reserved_special_token_673|>\", rstrip=False, lstrip=False, single_word=False, normalized=False, special=True),\n",
       "\t200760: AddedToken(\"<|vision_reserved_special_token_674|>\", rstrip=False, lstrip=False, single_word=False, normalized=False, special=True),\n",
       "\t200761: AddedToken(\"<|vision_reserved_special_token_675|>\", rstrip=False, lstrip=False, single_word=False, normalized=False, special=True),\n",
       "\t200762: AddedToken(\"<|vision_reserved_special_token_676|>\", rstrip=False, lstrip=False, single_word=False, normalized=False, special=True),\n",
       "\t200763: AddedToken(\"<|vision_reserved_special_token_677|>\", rstrip=False, lstrip=False, single_word=False, normalized=False, special=True),\n",
       "\t200764: AddedToken(\"<|vision_reserved_special_token_678|>\", rstrip=False, lstrip=False, single_word=False, normalized=False, special=True),\n",
       "\t200765: AddedToken(\"<|vision_reserved_special_token_679|>\", rstrip=False, lstrip=False, single_word=False, normalized=False, special=True),\n",
       "\t200766: AddedToken(\"<|vision_reserved_special_token_680|>\", rstrip=False, lstrip=False, single_word=False, normalized=False, special=True),\n",
       "\t200767: AddedToken(\"<|vision_reserved_special_token_681|>\", rstrip=False, lstrip=False, single_word=False, normalized=False, special=True),\n",
       "\t200768: AddedToken(\"<|vision_reserved_special_token_682|>\", rstrip=False, lstrip=False, single_word=False, normalized=False, special=True),\n",
       "\t200769: AddedToken(\"<|vision_reserved_special_token_683|>\", rstrip=False, lstrip=False, single_word=False, normalized=False, special=True),\n",
       "\t200770: AddedToken(\"<|vision_reserved_special_token_684|>\", rstrip=False, lstrip=False, single_word=False, normalized=False, special=True),\n",
       "\t200771: AddedToken(\"<|vision_reserved_special_token_685|>\", rstrip=False, lstrip=False, single_word=False, normalized=False, special=True),\n",
       "\t200772: AddedToken(\"<|vision_reserved_special_token_686|>\", rstrip=False, lstrip=False, single_word=False, normalized=False, special=True),\n",
       "\t200773: AddedToken(\"<|vision_reserved_special_token_687|>\", rstrip=False, lstrip=False, single_word=False, normalized=False, special=True),\n",
       "\t200774: AddedToken(\"<|vision_reserved_special_token_688|>\", rstrip=False, lstrip=False, single_word=False, normalized=False, special=True),\n",
       "\t200775: AddedToken(\"<|vision_reserved_special_token_689|>\", rstrip=False, lstrip=False, single_word=False, normalized=False, special=True),\n",
       "\t200776: AddedToken(\"<|vision_reserved_special_token_690|>\", rstrip=False, lstrip=False, single_word=False, normalized=False, special=True),\n",
       "\t200777: AddedToken(\"<|vision_reserved_special_token_691|>\", rstrip=False, lstrip=False, single_word=False, normalized=False, special=True),\n",
       "\t200778: AddedToken(\"<|vision_reserved_special_token_692|>\", rstrip=False, lstrip=False, single_word=False, normalized=False, special=True),\n",
       "\t200779: AddedToken(\"<|vision_reserved_special_token_693|>\", rstrip=False, lstrip=False, single_word=False, normalized=False, special=True),\n",
       "\t200780: AddedToken(\"<|vision_reserved_special_token_694|>\", rstrip=False, lstrip=False, single_word=False, normalized=False, special=True),\n",
       "\t200781: AddedToken(\"<|vision_reserved_special_token_695|>\", rstrip=False, lstrip=False, single_word=False, normalized=False, special=True),\n",
       "\t200782: AddedToken(\"<|vision_reserved_special_token_696|>\", rstrip=False, lstrip=False, single_word=False, normalized=False, special=True),\n",
       "\t200783: AddedToken(\"<|vision_reserved_special_token_697|>\", rstrip=False, lstrip=False, single_word=False, normalized=False, special=True),\n",
       "\t200784: AddedToken(\"<|vision_reserved_special_token_698|>\", rstrip=False, lstrip=False, single_word=False, normalized=False, special=True),\n",
       "\t200785: AddedToken(\"<|vision_reserved_special_token_699|>\", rstrip=False, lstrip=False, single_word=False, normalized=False, special=True),\n",
       "\t200786: AddedToken(\"<|vision_reserved_special_token_700|>\", rstrip=False, lstrip=False, single_word=False, normalized=False, special=True),\n",
       "\t200787: AddedToken(\"<|vision_reserved_special_token_701|>\", rstrip=False, lstrip=False, single_word=False, normalized=False, special=True),\n",
       "\t200788: AddedToken(\"<|vision_reserved_special_token_702|>\", rstrip=False, lstrip=False, single_word=False, normalized=False, special=True),\n",
       "\t200789: AddedToken(\"<|vision_reserved_special_token_703|>\", rstrip=False, lstrip=False, single_word=False, normalized=False, special=True),\n",
       "\t200790: AddedToken(\"<|vision_reserved_special_token_704|>\", rstrip=False, lstrip=False, single_word=False, normalized=False, special=True),\n",
       "\t200791: AddedToken(\"<|vision_reserved_special_token_705|>\", rstrip=False, lstrip=False, single_word=False, normalized=False, special=True),\n",
       "\t200792: AddedToken(\"<|vision_reserved_special_token_706|>\", rstrip=False, lstrip=False, single_word=False, normalized=False, special=True),\n",
       "\t200793: AddedToken(\"<|vision_reserved_special_token_707|>\", rstrip=False, lstrip=False, single_word=False, normalized=False, special=True),\n",
       "\t200794: AddedToken(\"<|vision_reserved_special_token_708|>\", rstrip=False, lstrip=False, single_word=False, normalized=False, special=True),\n",
       "\t200795: AddedToken(\"<|vision_reserved_special_token_709|>\", rstrip=False, lstrip=False, single_word=False, normalized=False, special=True),\n",
       "\t200796: AddedToken(\"<|vision_reserved_special_token_710|>\", rstrip=False, lstrip=False, single_word=False, normalized=False, special=True),\n",
       "\t200797: AddedToken(\"<|vision_reserved_special_token_711|>\", rstrip=False, lstrip=False, single_word=False, normalized=False, special=True),\n",
       "\t200798: AddedToken(\"<|vision_reserved_special_token_712|>\", rstrip=False, lstrip=False, single_word=False, normalized=False, special=True),\n",
       "\t200799: AddedToken(\"<|vision_reserved_special_token_713|>\", rstrip=False, lstrip=False, single_word=False, normalized=False, special=True),\n",
       "\t200800: AddedToken(\"<|vision_reserved_special_token_714|>\", rstrip=False, lstrip=False, single_word=False, normalized=False, special=True),\n",
       "\t200801: AddedToken(\"<|vision_reserved_special_token_715|>\", rstrip=False, lstrip=False, single_word=False, normalized=False, special=True),\n",
       "\t200802: AddedToken(\"<|vision_reserved_special_token_716|>\", rstrip=False, lstrip=False, single_word=False, normalized=False, special=True),\n",
       "\t200803: AddedToken(\"<|vision_reserved_special_token_717|>\", rstrip=False, lstrip=False, single_word=False, normalized=False, special=True),\n",
       "\t200804: AddedToken(\"<|vision_reserved_special_token_718|>\", rstrip=False, lstrip=False, single_word=False, normalized=False, special=True),\n",
       "\t200805: AddedToken(\"<|vision_reserved_special_token_719|>\", rstrip=False, lstrip=False, single_word=False, normalized=False, special=True),\n",
       "\t200806: AddedToken(\"<|vision_reserved_special_token_720|>\", rstrip=False, lstrip=False, single_word=False, normalized=False, special=True),\n",
       "\t200807: AddedToken(\"<|vision_reserved_special_token_721|>\", rstrip=False, lstrip=False, single_word=False, normalized=False, special=True),\n",
       "\t200808: AddedToken(\"<|vision_reserved_special_token_722|>\", rstrip=False, lstrip=False, single_word=False, normalized=False, special=True),\n",
       "\t200809: AddedToken(\"<|vision_reserved_special_token_723|>\", rstrip=False, lstrip=False, single_word=False, normalized=False, special=True),\n",
       "\t200810: AddedToken(\"<|vision_reserved_special_token_724|>\", rstrip=False, lstrip=False, single_word=False, normalized=False, special=True),\n",
       "\t200811: AddedToken(\"<|vision_reserved_special_token_725|>\", rstrip=False, lstrip=False, single_word=False, normalized=False, special=True),\n",
       "\t200812: AddedToken(\"<|vision_reserved_special_token_726|>\", rstrip=False, lstrip=False, single_word=False, normalized=False, special=True),\n",
       "\t200813: AddedToken(\"<|vision_reserved_special_token_727|>\", rstrip=False, lstrip=False, single_word=False, normalized=False, special=True),\n",
       "\t200814: AddedToken(\"<|vision_reserved_special_token_728|>\", rstrip=False, lstrip=False, single_word=False, normalized=False, special=True),\n",
       "\t200815: AddedToken(\"<|vision_reserved_special_token_729|>\", rstrip=False, lstrip=False, single_word=False, normalized=False, special=True),\n",
       "\t200816: AddedToken(\"<|vision_reserved_special_token_730|>\", rstrip=False, lstrip=False, single_word=False, normalized=False, special=True),\n",
       "\t200817: AddedToken(\"<|vision_reserved_special_token_731|>\", rstrip=False, lstrip=False, single_word=False, normalized=False, special=True),\n",
       "\t200818: AddedToken(\"<|vision_reserved_special_token_732|>\", rstrip=False, lstrip=False, single_word=False, normalized=False, special=True),\n",
       "\t200819: AddedToken(\"<|vision_reserved_special_token_733|>\", rstrip=False, lstrip=False, single_word=False, normalized=False, special=True),\n",
       "\t200820: AddedToken(\"<|vision_reserved_special_token_734|>\", rstrip=False, lstrip=False, single_word=False, normalized=False, special=True),\n",
       "\t200821: AddedToken(\"<|vision_reserved_special_token_735|>\", rstrip=False, lstrip=False, single_word=False, normalized=False, special=True),\n",
       "\t200822: AddedToken(\"<|vision_reserved_special_token_736|>\", rstrip=False, lstrip=False, single_word=False, normalized=False, special=True),\n",
       "\t200823: AddedToken(\"<|vision_reserved_special_token_737|>\", rstrip=False, lstrip=False, single_word=False, normalized=False, special=True),\n",
       "\t200824: AddedToken(\"<|vision_reserved_special_token_738|>\", rstrip=False, lstrip=False, single_word=False, normalized=False, special=True),\n",
       "\t200825: AddedToken(\"<|vision_reserved_special_token_739|>\", rstrip=False, lstrip=False, single_word=False, normalized=False, special=True),\n",
       "\t200826: AddedToken(\"<|vision_reserved_special_token_740|>\", rstrip=False, lstrip=False, single_word=False, normalized=False, special=True),\n",
       "\t200827: AddedToken(\"<|vision_reserved_special_token_741|>\", rstrip=False, lstrip=False, single_word=False, normalized=False, special=True),\n",
       "\t200828: AddedToken(\"<|vision_reserved_special_token_742|>\", rstrip=False, lstrip=False, single_word=False, normalized=False, special=True),\n",
       "\t200829: AddedToken(\"<|vision_reserved_special_token_743|>\", rstrip=False, lstrip=False, single_word=False, normalized=False, special=True),\n",
       "\t200830: AddedToken(\"<|vision_reserved_special_token_744|>\", rstrip=False, lstrip=False, single_word=False, normalized=False, special=True),\n",
       "\t200831: AddedToken(\"<|vision_reserved_special_token_745|>\", rstrip=False, lstrip=False, single_word=False, normalized=False, special=True),\n",
       "\t200832: AddedToken(\"<|vision_reserved_special_token_746|>\", rstrip=False, lstrip=False, single_word=False, normalized=False, special=True),\n",
       "\t200833: AddedToken(\"<|vision_reserved_special_token_747|>\", rstrip=False, lstrip=False, single_word=False, normalized=False, special=True),\n",
       "\t200834: AddedToken(\"<|vision_reserved_special_token_748|>\", rstrip=False, lstrip=False, single_word=False, normalized=False, special=True),\n",
       "\t200835: AddedToken(\"<|vision_reserved_special_token_749|>\", rstrip=False, lstrip=False, single_word=False, normalized=False, special=True),\n",
       "\t200836: AddedToken(\"<|vision_reserved_special_token_750|>\", rstrip=False, lstrip=False, single_word=False, normalized=False, special=True),\n",
       "\t200837: AddedToken(\"<|vision_reserved_special_token_751|>\", rstrip=False, lstrip=False, single_word=False, normalized=False, special=True),\n",
       "\t200838: AddedToken(\"<|vision_reserved_special_token_752|>\", rstrip=False, lstrip=False, single_word=False, normalized=False, special=True),\n",
       "\t200839: AddedToken(\"<|vision_reserved_special_token_753|>\", rstrip=False, lstrip=False, single_word=False, normalized=False, special=True),\n",
       "\t200840: AddedToken(\"<|vision_reserved_special_token_754|>\", rstrip=False, lstrip=False, single_word=False, normalized=False, special=True),\n",
       "\t200841: AddedToken(\"<|vision_reserved_special_token_755|>\", rstrip=False, lstrip=False, single_word=False, normalized=False, special=True),\n",
       "\t200842: AddedToken(\"<|vision_reserved_special_token_756|>\", rstrip=False, lstrip=False, single_word=False, normalized=False, special=True),\n",
       "\t200843: AddedToken(\"<|vision_reserved_special_token_757|>\", rstrip=False, lstrip=False, single_word=False, normalized=False, special=True),\n",
       "\t200844: AddedToken(\"<|vision_reserved_special_token_758|>\", rstrip=False, lstrip=False, single_word=False, normalized=False, special=True),\n",
       "\t200845: AddedToken(\"<|vision_reserved_special_token_759|>\", rstrip=False, lstrip=False, single_word=False, normalized=False, special=True),\n",
       "\t200846: AddedToken(\"<|vision_reserved_special_token_760|>\", rstrip=False, lstrip=False, single_word=False, normalized=False, special=True),\n",
       "\t200847: AddedToken(\"<|vision_reserved_special_token_761|>\", rstrip=False, lstrip=False, single_word=False, normalized=False, special=True),\n",
       "\t200848: AddedToken(\"<|vision_reserved_special_token_762|>\", rstrip=False, lstrip=False, single_word=False, normalized=False, special=True),\n",
       "\t200849: AddedToken(\"<|vision_reserved_special_token_763|>\", rstrip=False, lstrip=False, single_word=False, normalized=False, special=True),\n",
       "\t200850: AddedToken(\"<|vision_reserved_special_token_764|>\", rstrip=False, lstrip=False, single_word=False, normalized=False, special=True),\n",
       "\t200851: AddedToken(\"<|vision_reserved_special_token_765|>\", rstrip=False, lstrip=False, single_word=False, normalized=False, special=True),\n",
       "\t200852: AddedToken(\"<|vision_reserved_special_token_766|>\", rstrip=False, lstrip=False, single_word=False, normalized=False, special=True),\n",
       "\t200853: AddedToken(\"<|vision_reserved_special_token_767|>\", rstrip=False, lstrip=False, single_word=False, normalized=False, special=True),\n",
       "\t200854: AddedToken(\"<|vision_reserved_special_token_768|>\", rstrip=False, lstrip=False, single_word=False, normalized=False, special=True),\n",
       "\t200855: AddedToken(\"<|vision_reserved_special_token_769|>\", rstrip=False, lstrip=False, single_word=False, normalized=False, special=True),\n",
       "\t200856: AddedToken(\"<|vision_reserved_special_token_770|>\", rstrip=False, lstrip=False, single_word=False, normalized=False, special=True),\n",
       "\t200857: AddedToken(\"<|vision_reserved_special_token_771|>\", rstrip=False, lstrip=False, single_word=False, normalized=False, special=True),\n",
       "\t200858: AddedToken(\"<|vision_reserved_special_token_772|>\", rstrip=False, lstrip=False, single_word=False, normalized=False, special=True),\n",
       "\t200859: AddedToken(\"<|vision_reserved_special_token_773|>\", rstrip=False, lstrip=False, single_word=False, normalized=False, special=True),\n",
       "\t200860: AddedToken(\"<|vision_reserved_special_token_774|>\", rstrip=False, lstrip=False, single_word=False, normalized=False, special=True),\n",
       "\t200861: AddedToken(\"<|vision_reserved_special_token_775|>\", rstrip=False, lstrip=False, single_word=False, normalized=False, special=True),\n",
       "\t200862: AddedToken(\"<|vision_reserved_special_token_776|>\", rstrip=False, lstrip=False, single_word=False, normalized=False, special=True),\n",
       "\t200863: AddedToken(\"<|vision_reserved_special_token_777|>\", rstrip=False, lstrip=False, single_word=False, normalized=False, special=True),\n",
       "\t200864: AddedToken(\"<|vision_reserved_special_token_778|>\", rstrip=False, lstrip=False, single_word=False, normalized=False, special=True),\n",
       "\t200865: AddedToken(\"<|vision_reserved_special_token_779|>\", rstrip=False, lstrip=False, single_word=False, normalized=False, special=True),\n",
       "\t200866: AddedToken(\"<|vision_reserved_special_token_780|>\", rstrip=False, lstrip=False, single_word=False, normalized=False, special=True),\n",
       "\t200867: AddedToken(\"<|vision_reserved_special_token_781|>\", rstrip=False, lstrip=False, single_word=False, normalized=False, special=True),\n",
       "\t200868: AddedToken(\"<|vision_reserved_special_token_782|>\", rstrip=False, lstrip=False, single_word=False, normalized=False, special=True),\n",
       "\t200869: AddedToken(\"<|vision_reserved_special_token_783|>\", rstrip=False, lstrip=False, single_word=False, normalized=False, special=True),\n",
       "\t200870: AddedToken(\"<|vision_reserved_special_token_784|>\", rstrip=False, lstrip=False, single_word=False, normalized=False, special=True),\n",
       "\t200871: AddedToken(\"<|vision_reserved_special_token_785|>\", rstrip=False, lstrip=False, single_word=False, normalized=False, special=True),\n",
       "\t200872: AddedToken(\"<|vision_reserved_special_token_786|>\", rstrip=False, lstrip=False, single_word=False, normalized=False, special=True),\n",
       "\t200873: AddedToken(\"<|vision_reserved_special_token_787|>\", rstrip=False, lstrip=False, single_word=False, normalized=False, special=True),\n",
       "\t200874: AddedToken(\"<|vision_reserved_special_token_788|>\", rstrip=False, lstrip=False, single_word=False, normalized=False, special=True),\n",
       "\t200875: AddedToken(\"<|vision_reserved_special_token_789|>\", rstrip=False, lstrip=False, single_word=False, normalized=False, special=True),\n",
       "\t200876: AddedToken(\"<|vision_reserved_special_token_790|>\", rstrip=False, lstrip=False, single_word=False, normalized=False, special=True),\n",
       "\t200877: AddedToken(\"<|vision_reserved_special_token_791|>\", rstrip=False, lstrip=False, single_word=False, normalized=False, special=True),\n",
       "\t200878: AddedToken(\"<|vision_reserved_special_token_792|>\", rstrip=False, lstrip=False, single_word=False, normalized=False, special=True),\n",
       "\t200879: AddedToken(\"<|vision_reserved_special_token_793|>\", rstrip=False, lstrip=False, single_word=False, normalized=False, special=True),\n",
       "\t200880: AddedToken(\"<|vision_reserved_special_token_794|>\", rstrip=False, lstrip=False, single_word=False, normalized=False, special=True),\n",
       "\t200881: AddedToken(\"<|vision_reserved_special_token_795|>\", rstrip=False, lstrip=False, single_word=False, normalized=False, special=True),\n",
       "\t200882: AddedToken(\"<|vision_reserved_special_token_796|>\", rstrip=False, lstrip=False, single_word=False, normalized=False, special=True),\n",
       "\t200883: AddedToken(\"<|vision_reserved_special_token_797|>\", rstrip=False, lstrip=False, single_word=False, normalized=False, special=True),\n",
       "\t200884: AddedToken(\"<|vision_reserved_special_token_798|>\", rstrip=False, lstrip=False, single_word=False, normalized=False, special=True),\n",
       "\t200885: AddedToken(\"<|vision_reserved_special_token_799|>\", rstrip=False, lstrip=False, single_word=False, normalized=False, special=True),\n",
       "\t200886: AddedToken(\"<|vision_reserved_special_token_800|>\", rstrip=False, lstrip=False, single_word=False, normalized=False, special=True),\n",
       "\t200887: AddedToken(\"<|vision_reserved_special_token_801|>\", rstrip=False, lstrip=False, single_word=False, normalized=False, special=True),\n",
       "\t200888: AddedToken(\"<|vision_reserved_special_token_802|>\", rstrip=False, lstrip=False, single_word=False, normalized=False, special=True),\n",
       "\t200889: AddedToken(\"<|vision_reserved_special_token_803|>\", rstrip=False, lstrip=False, single_word=False, normalized=False, special=True),\n",
       "\t200890: AddedToken(\"<|vision_reserved_special_token_804|>\", rstrip=False, lstrip=False, single_word=False, normalized=False, special=True),\n",
       "\t200891: AddedToken(\"<|vision_reserved_special_token_805|>\", rstrip=False, lstrip=False, single_word=False, normalized=False, special=True),\n",
       "\t200892: AddedToken(\"<|vision_reserved_special_token_806|>\", rstrip=False, lstrip=False, single_word=False, normalized=False, special=True),\n",
       "\t200893: AddedToken(\"<|vision_reserved_special_token_807|>\", rstrip=False, lstrip=False, single_word=False, normalized=False, special=True),\n",
       "\t200894: AddedToken(\"<|vision_reserved_special_token_808|>\", rstrip=False, lstrip=False, single_word=False, normalized=False, special=True),\n",
       "\t200895: AddedToken(\"<|vision_reserved_special_token_809|>\", rstrip=False, lstrip=False, single_word=False, normalized=False, special=True),\n",
       "\t200896: AddedToken(\"<|vision_reserved_special_token_810|>\", rstrip=False, lstrip=False, single_word=False, normalized=False, special=True),\n",
       "\t200897: AddedToken(\"<|vision_reserved_special_token_811|>\", rstrip=False, lstrip=False, single_word=False, normalized=False, special=True),\n",
       "\t200898: AddedToken(\"<|vision_reserved_special_token_812|>\", rstrip=False, lstrip=False, single_word=False, normalized=False, special=True),\n",
       "\t200899: AddedToken(\"<|vision_reserved_special_token_813|>\", rstrip=False, lstrip=False, single_word=False, normalized=False, special=True),\n",
       "\t200900: AddedToken(\"<|vision_reserved_special_token_814|>\", rstrip=False, lstrip=False, single_word=False, normalized=False, special=True),\n",
       "\t200901: AddedToken(\"<|vision_reserved_special_token_815|>\", rstrip=False, lstrip=False, single_word=False, normalized=False, special=True),\n",
       "\t200902: AddedToken(\"<|vision_reserved_special_token_816|>\", rstrip=False, lstrip=False, single_word=False, normalized=False, special=True),\n",
       "\t200903: AddedToken(\"<|vision_reserved_special_token_817|>\", rstrip=False, lstrip=False, single_word=False, normalized=False, special=True),\n",
       "\t200904: AddedToken(\"<|vision_reserved_special_token_818|>\", rstrip=False, lstrip=False, single_word=False, normalized=False, special=True),\n",
       "\t200905: AddedToken(\"<|vision_reserved_special_token_819|>\", rstrip=False, lstrip=False, single_word=False, normalized=False, special=True),\n",
       "\t200906: AddedToken(\"<|vision_reserved_special_token_820|>\", rstrip=False, lstrip=False, single_word=False, normalized=False, special=True),\n",
       "\t200907: AddedToken(\"<|vision_reserved_special_token_821|>\", rstrip=False, lstrip=False, single_word=False, normalized=False, special=True),\n",
       "\t200908: AddedToken(\"<|vision_reserved_special_token_822|>\", rstrip=False, lstrip=False, single_word=False, normalized=False, special=True),\n",
       "\t200909: AddedToken(\"<|vision_reserved_special_token_823|>\", rstrip=False, lstrip=False, single_word=False, normalized=False, special=True),\n",
       "\t200910: AddedToken(\"<|vision_reserved_special_token_824|>\", rstrip=False, lstrip=False, single_word=False, normalized=False, special=True),\n",
       "\t200911: AddedToken(\"<|vision_reserved_special_token_825|>\", rstrip=False, lstrip=False, single_word=False, normalized=False, special=True),\n",
       "\t200912: AddedToken(\"<|vision_reserved_special_token_826|>\", rstrip=False, lstrip=False, single_word=False, normalized=False, special=True),\n",
       "\t200913: AddedToken(\"<|vision_reserved_special_token_827|>\", rstrip=False, lstrip=False, single_word=False, normalized=False, special=True),\n",
       "\t200914: AddedToken(\"<|vision_reserved_special_token_828|>\", rstrip=False, lstrip=False, single_word=False, normalized=False, special=True),\n",
       "\t200915: AddedToken(\"<|vision_reserved_special_token_829|>\", rstrip=False, lstrip=False, single_word=False, normalized=False, special=True),\n",
       "\t200916: AddedToken(\"<|vision_reserved_special_token_830|>\", rstrip=False, lstrip=False, single_word=False, normalized=False, special=True),\n",
       "\t200917: AddedToken(\"<|vision_reserved_special_token_831|>\", rstrip=False, lstrip=False, single_word=False, normalized=False, special=True),\n",
       "\t200918: AddedToken(\"<|vision_reserved_special_token_832|>\", rstrip=False, lstrip=False, single_word=False, normalized=False, special=True),\n",
       "\t200919: AddedToken(\"<|vision_reserved_special_token_833|>\", rstrip=False, lstrip=False, single_word=False, normalized=False, special=True),\n",
       "\t200920: AddedToken(\"<|vision_reserved_special_token_834|>\", rstrip=False, lstrip=False, single_word=False, normalized=False, special=True),\n",
       "\t200921: AddedToken(\"<|vision_reserved_special_token_835|>\", rstrip=False, lstrip=False, single_word=False, normalized=False, special=True),\n",
       "\t200922: AddedToken(\"<|vision_reserved_special_token_836|>\", rstrip=False, lstrip=False, single_word=False, normalized=False, special=True),\n",
       "\t200923: AddedToken(\"<|vision_reserved_special_token_837|>\", rstrip=False, lstrip=False, single_word=False, normalized=False, special=True),\n",
       "\t200924: AddedToken(\"<|vision_reserved_special_token_838|>\", rstrip=False, lstrip=False, single_word=False, normalized=False, special=True),\n",
       "\t200925: AddedToken(\"<|vision_reserved_special_token_839|>\", rstrip=False, lstrip=False, single_word=False, normalized=False, special=True),\n",
       "\t200926: AddedToken(\"<|vision_reserved_special_token_840|>\", rstrip=False, lstrip=False, single_word=False, normalized=False, special=True),\n",
       "\t200927: AddedToken(\"<|vision_reserved_special_token_841|>\", rstrip=False, lstrip=False, single_word=False, normalized=False, special=True),\n",
       "\t200928: AddedToken(\"<|vision_reserved_special_token_842|>\", rstrip=False, lstrip=False, single_word=False, normalized=False, special=True),\n",
       "\t200929: AddedToken(\"<|vision_reserved_special_token_843|>\", rstrip=False, lstrip=False, single_word=False, normalized=False, special=True),\n",
       "\t200930: AddedToken(\"<|vision_reserved_special_token_844|>\", rstrip=False, lstrip=False, single_word=False, normalized=False, special=True),\n",
       "\t200931: AddedToken(\"<|vision_reserved_special_token_845|>\", rstrip=False, lstrip=False, single_word=False, normalized=False, special=True),\n",
       "\t200932: AddedToken(\"<|vision_reserved_special_token_846|>\", rstrip=False, lstrip=False, single_word=False, normalized=False, special=True),\n",
       "\t200933: AddedToken(\"<|vision_reserved_special_token_847|>\", rstrip=False, lstrip=False, single_word=False, normalized=False, special=True),\n",
       "\t200934: AddedToken(\"<|vision_reserved_special_token_848|>\", rstrip=False, lstrip=False, single_word=False, normalized=False, special=True),\n",
       "\t200935: AddedToken(\"<|vision_reserved_special_token_849|>\", rstrip=False, lstrip=False, single_word=False, normalized=False, special=True),\n",
       "\t200936: AddedToken(\"<|vision_reserved_special_token_850|>\", rstrip=False, lstrip=False, single_word=False, normalized=False, special=True),\n",
       "\t200937: AddedToken(\"<|vision_reserved_special_token_851|>\", rstrip=False, lstrip=False, single_word=False, normalized=False, special=True),\n",
       "\t200938: AddedToken(\"<|vision_reserved_special_token_852|>\", rstrip=False, lstrip=False, single_word=False, normalized=False, special=True),\n",
       "\t200939: AddedToken(\"<|vision_reserved_special_token_853|>\", rstrip=False, lstrip=False, single_word=False, normalized=False, special=True),\n",
       "\t200940: AddedToken(\"<|vision_reserved_special_token_854|>\", rstrip=False, lstrip=False, single_word=False, normalized=False, special=True),\n",
       "\t200941: AddedToken(\"<|vision_reserved_special_token_855|>\", rstrip=False, lstrip=False, single_word=False, normalized=False, special=True),\n",
       "\t200942: AddedToken(\"<|vision_reserved_special_token_856|>\", rstrip=False, lstrip=False, single_word=False, normalized=False, special=True),\n",
       "\t200943: AddedToken(\"<|vision_reserved_special_token_857|>\", rstrip=False, lstrip=False, single_word=False, normalized=False, special=True),\n",
       "\t200944: AddedToken(\"<|vision_reserved_special_token_858|>\", rstrip=False, lstrip=False, single_word=False, normalized=False, special=True),\n",
       "\t200945: AddedToken(\"<|vision_reserved_special_token_859|>\", rstrip=False, lstrip=False, single_word=False, normalized=False, special=True),\n",
       "\t200946: AddedToken(\"<|vision_reserved_special_token_860|>\", rstrip=False, lstrip=False, single_word=False, normalized=False, special=True),\n",
       "\t200947: AddedToken(\"<|vision_reserved_special_token_861|>\", rstrip=False, lstrip=False, single_word=False, normalized=False, special=True),\n",
       "\t200948: AddedToken(\"<|vision_reserved_special_token_862|>\", rstrip=False, lstrip=False, single_word=False, normalized=False, special=True),\n",
       "\t200949: AddedToken(\"<|vision_reserved_special_token_863|>\", rstrip=False, lstrip=False, single_word=False, normalized=False, special=True),\n",
       "\t200950: AddedToken(\"<|vision_reserved_special_token_864|>\", rstrip=False, lstrip=False, single_word=False, normalized=False, special=True),\n",
       "\t200951: AddedToken(\"<|vision_reserved_special_token_865|>\", rstrip=False, lstrip=False, single_word=False, normalized=False, special=True),\n",
       "\t200952: AddedToken(\"<|vision_reserved_special_token_866|>\", rstrip=False, lstrip=False, single_word=False, normalized=False, special=True),\n",
       "\t200953: AddedToken(\"<|vision_reserved_special_token_867|>\", rstrip=False, lstrip=False, single_word=False, normalized=False, special=True),\n",
       "\t200954: AddedToken(\"<|vision_reserved_special_token_868|>\", rstrip=False, lstrip=False, single_word=False, normalized=False, special=True),\n",
       "\t200955: AddedToken(\"<|vision_reserved_special_token_869|>\", rstrip=False, lstrip=False, single_word=False, normalized=False, special=True),\n",
       "\t200956: AddedToken(\"<|vision_reserved_special_token_870|>\", rstrip=False, lstrip=False, single_word=False, normalized=False, special=True),\n",
       "\t200957: AddedToken(\"<|vision_reserved_special_token_871|>\", rstrip=False, lstrip=False, single_word=False, normalized=False, special=True),\n",
       "\t200958: AddedToken(\"<|vision_reserved_special_token_872|>\", rstrip=False, lstrip=False, single_word=False, normalized=False, special=True),\n",
       "\t200959: AddedToken(\"<|vision_reserved_special_token_873|>\", rstrip=False, lstrip=False, single_word=False, normalized=False, special=True),\n",
       "\t200960: AddedToken(\"<|vision_reserved_special_token_874|>\", rstrip=False, lstrip=False, single_word=False, normalized=False, special=True),\n",
       "\t200961: AddedToken(\"<|vision_reserved_special_token_875|>\", rstrip=False, lstrip=False, single_word=False, normalized=False, special=True),\n",
       "\t200962: AddedToken(\"<|vision_reserved_special_token_876|>\", rstrip=False, lstrip=False, single_word=False, normalized=False, special=True),\n",
       "\t200963: AddedToken(\"<|vision_reserved_special_token_877|>\", rstrip=False, lstrip=False, single_word=False, normalized=False, special=True),\n",
       "\t200964: AddedToken(\"<|vision_reserved_special_token_878|>\", rstrip=False, lstrip=False, single_word=False, normalized=False, special=True),\n",
       "\t200965: AddedToken(\"<|vision_reserved_special_token_879|>\", rstrip=False, lstrip=False, single_word=False, normalized=False, special=True),\n",
       "\t200966: AddedToken(\"<|vision_reserved_special_token_880|>\", rstrip=False, lstrip=False, single_word=False, normalized=False, special=True),\n",
       "\t200967: AddedToken(\"<|vision_reserved_special_token_881|>\", rstrip=False, lstrip=False, single_word=False, normalized=False, special=True),\n",
       "\t200968: AddedToken(\"<|vision_reserved_special_token_882|>\", rstrip=False, lstrip=False, single_word=False, normalized=False, special=True),\n",
       "\t200969: AddedToken(\"<|vision_reserved_special_token_883|>\", rstrip=False, lstrip=False, single_word=False, normalized=False, special=True),\n",
       "\t200970: AddedToken(\"<|vision_reserved_special_token_884|>\", rstrip=False, lstrip=False, single_word=False, normalized=False, special=True),\n",
       "\t200971: AddedToken(\"<|vision_reserved_special_token_885|>\", rstrip=False, lstrip=False, single_word=False, normalized=False, special=True),\n",
       "\t200972: AddedToken(\"<|vision_reserved_special_token_886|>\", rstrip=False, lstrip=False, single_word=False, normalized=False, special=True),\n",
       "\t200973: AddedToken(\"<|vision_reserved_special_token_887|>\", rstrip=False, lstrip=False, single_word=False, normalized=False, special=True),\n",
       "\t200974: AddedToken(\"<|vision_reserved_special_token_888|>\", rstrip=False, lstrip=False, single_word=False, normalized=False, special=True),\n",
       "\t200975: AddedToken(\"<|vision_reserved_special_token_889|>\", rstrip=False, lstrip=False, single_word=False, normalized=False, special=True),\n",
       "\t200976: AddedToken(\"<|vision_reserved_special_token_890|>\", rstrip=False, lstrip=False, single_word=False, normalized=False, special=True),\n",
       "\t200977: AddedToken(\"<|vision_reserved_special_token_891|>\", rstrip=False, lstrip=False, single_word=False, normalized=False, special=True),\n",
       "\t200978: AddedToken(\"<|vision_reserved_special_token_892|>\", rstrip=False, lstrip=False, single_word=False, normalized=False, special=True),\n",
       "\t200979: AddedToken(\"<|vision_reserved_special_token_893|>\", rstrip=False, lstrip=False, single_word=False, normalized=False, special=True),\n",
       "\t200980: AddedToken(\"<|vision_reserved_special_token_894|>\", rstrip=False, lstrip=False, single_word=False, normalized=False, special=True),\n",
       "\t200981: AddedToken(\"<|vision_reserved_special_token_895|>\", rstrip=False, lstrip=False, single_word=False, normalized=False, special=True),\n",
       "\t200982: AddedToken(\"<|vision_reserved_special_token_896|>\", rstrip=False, lstrip=False, single_word=False, normalized=False, special=True),\n",
       "\t200983: AddedToken(\"<|vision_reserved_special_token_897|>\", rstrip=False, lstrip=False, single_word=False, normalized=False, special=True),\n",
       "\t200984: AddedToken(\"<|vision_reserved_special_token_898|>\", rstrip=False, lstrip=False, single_word=False, normalized=False, special=True),\n",
       "\t200985: AddedToken(\"<|vision_reserved_special_token_899|>\", rstrip=False, lstrip=False, single_word=False, normalized=False, special=True),\n",
       "\t200986: AddedToken(\"<|vision_reserved_special_token_900|>\", rstrip=False, lstrip=False, single_word=False, normalized=False, special=True),\n",
       "\t200987: AddedToken(\"<|vision_reserved_special_token_901|>\", rstrip=False, lstrip=False, single_word=False, normalized=False, special=True),\n",
       "\t200988: AddedToken(\"<|vision_reserved_special_token_902|>\", rstrip=False, lstrip=False, single_word=False, normalized=False, special=True),\n",
       "\t200989: AddedToken(\"<|vision_reserved_special_token_903|>\", rstrip=False, lstrip=False, single_word=False, normalized=False, special=True),\n",
       "\t200990: AddedToken(\"<|vision_reserved_special_token_904|>\", rstrip=False, lstrip=False, single_word=False, normalized=False, special=True),\n",
       "\t200991: AddedToken(\"<|vision_reserved_special_token_905|>\", rstrip=False, lstrip=False, single_word=False, normalized=False, special=True),\n",
       "\t200992: AddedToken(\"<|vision_reserved_special_token_906|>\", rstrip=False, lstrip=False, single_word=False, normalized=False, special=True),\n",
       "\t200993: AddedToken(\"<|vision_reserved_special_token_907|>\", rstrip=False, lstrip=False, single_word=False, normalized=False, special=True),\n",
       "\t200994: AddedToken(\"<|vision_reserved_special_token_908|>\", rstrip=False, lstrip=False, single_word=False, normalized=False, special=True),\n",
       "\t200995: AddedToken(\"<|vision_reserved_special_token_909|>\", rstrip=False, lstrip=False, single_word=False, normalized=False, special=True),\n",
       "\t200996: AddedToken(\"<|vision_reserved_special_token_910|>\", rstrip=False, lstrip=False, single_word=False, normalized=False, special=True),\n",
       "\t200997: AddedToken(\"<|vision_reserved_special_token_911|>\", rstrip=False, lstrip=False, single_word=False, normalized=False, special=True),\n",
       "\t200998: AddedToken(\"<|vision_reserved_special_token_912|>\", rstrip=False, lstrip=False, single_word=False, normalized=False, special=True),\n",
       "\t200999: AddedToken(\"<|vision_reserved_special_token_913|>\", rstrip=False, lstrip=False, single_word=False, normalized=False, special=True),\n",
       "\t201000: AddedToken(\"<|vision_reserved_special_token_914|>\", rstrip=False, lstrip=False, single_word=False, normalized=False, special=True),\n",
       "\t201001: AddedToken(\"<|vision_reserved_special_token_915|>\", rstrip=False, lstrip=False, single_word=False, normalized=False, special=True),\n",
       "\t201002: AddedToken(\"<|vision_reserved_special_token_916|>\", rstrip=False, lstrip=False, single_word=False, normalized=False, special=True),\n",
       "\t201003: AddedToken(\"<|vision_reserved_special_token_917|>\", rstrip=False, lstrip=False, single_word=False, normalized=False, special=True),\n",
       "\t201004: AddedToken(\"<|vision_reserved_special_token_918|>\", rstrip=False, lstrip=False, single_word=False, normalized=False, special=True),\n",
       "\t201005: AddedToken(\"<|vision_reserved_special_token_919|>\", rstrip=False, lstrip=False, single_word=False, normalized=False, special=True),\n",
       "\t201006: AddedToken(\"<|vision_reserved_special_token_920|>\", rstrip=False, lstrip=False, single_word=False, normalized=False, special=True),\n",
       "\t201007: AddedToken(\"<|vision_reserved_special_token_921|>\", rstrip=False, lstrip=False, single_word=False, normalized=False, special=True),\n",
       "\t201008: AddedToken(\"<|vision_reserved_special_token_922|>\", rstrip=False, lstrip=False, single_word=False, normalized=False, special=True),\n",
       "\t201009: AddedToken(\"<|vision_reserved_special_token_923|>\", rstrip=False, lstrip=False, single_word=False, normalized=False, special=True),\n",
       "\t201010: AddedToken(\"<|vision_reserved_special_token_924|>\", rstrip=False, lstrip=False, single_word=False, normalized=False, special=True),\n",
       "\t201011: AddedToken(\"<|vision_reserved_special_token_925|>\", rstrip=False, lstrip=False, single_word=False, normalized=False, special=True),\n",
       "\t201012: AddedToken(\"<|vision_reserved_special_token_926|>\", rstrip=False, lstrip=False, single_word=False, normalized=False, special=True),\n",
       "\t201013: AddedToken(\"<|vision_reserved_special_token_927|>\", rstrip=False, lstrip=False, single_word=False, normalized=False, special=True),\n",
       "\t201014: AddedToken(\"<|vision_reserved_special_token_928|>\", rstrip=False, lstrip=False, single_word=False, normalized=False, special=True),\n",
       "\t201015: AddedToken(\"<|vision_reserved_special_token_929|>\", rstrip=False, lstrip=False, single_word=False, normalized=False, special=True),\n",
       "\t201016: AddedToken(\"<|vision_reserved_special_token_930|>\", rstrip=False, lstrip=False, single_word=False, normalized=False, special=True),\n",
       "\t201017: AddedToken(\"<|vision_reserved_special_token_931|>\", rstrip=False, lstrip=False, single_word=False, normalized=False, special=True),\n",
       "\t201018: AddedToken(\"<|vision_reserved_special_token_932|>\", rstrip=False, lstrip=False, single_word=False, normalized=False, special=True),\n",
       "\t201019: AddedToken(\"<|vision_reserved_special_token_933|>\", rstrip=False, lstrip=False, single_word=False, normalized=False, special=True),\n",
       "\t201020: AddedToken(\"<|vision_reserved_special_token_934|>\", rstrip=False, lstrip=False, single_word=False, normalized=False, special=True),\n",
       "\t201021: AddedToken(\"<|vision_reserved_special_token_935|>\", rstrip=False, lstrip=False, single_word=False, normalized=False, special=True),\n",
       "\t201022: AddedToken(\"<|vision_reserved_special_token_936|>\", rstrip=False, lstrip=False, single_word=False, normalized=False, special=True),\n",
       "\t201023: AddedToken(\"<|vision_reserved_special_token_937|>\", rstrip=False, lstrip=False, single_word=False, normalized=False, special=True),\n",
       "\t201024: AddedToken(\"<|vision_reserved_special_token_938|>\", rstrip=False, lstrip=False, single_word=False, normalized=False, special=True),\n",
       "\t201025: AddedToken(\"<|vision_reserved_special_token_939|>\", rstrip=False, lstrip=False, single_word=False, normalized=False, special=True),\n",
       "\t201026: AddedToken(\"<|vision_reserved_special_token_940|>\", rstrip=False, lstrip=False, single_word=False, normalized=False, special=True),\n",
       "\t201027: AddedToken(\"<|vision_reserved_special_token_941|>\", rstrip=False, lstrip=False, single_word=False, normalized=False, special=True),\n",
       "\t201028: AddedToken(\"<|vision_reserved_special_token_942|>\", rstrip=False, lstrip=False, single_word=False, normalized=False, special=True),\n",
       "\t201029: AddedToken(\"<|vision_reserved_special_token_943|>\", rstrip=False, lstrip=False, single_word=False, normalized=False, special=True),\n",
       "\t201030: AddedToken(\"<|vision_reserved_special_token_944|>\", rstrip=False, lstrip=False, single_word=False, normalized=False, special=True),\n",
       "\t201031: AddedToken(\"<|vision_reserved_special_token_945|>\", rstrip=False, lstrip=False, single_word=False, normalized=False, special=True),\n",
       "\t201032: AddedToken(\"<|vision_reserved_special_token_946|>\", rstrip=False, lstrip=False, single_word=False, normalized=False, special=True),\n",
       "\t201033: AddedToken(\"<|vision_reserved_special_token_947|>\", rstrip=False, lstrip=False, single_word=False, normalized=False, special=True),\n",
       "\t201034: AddedToken(\"<|vision_reserved_special_token_948|>\", rstrip=False, lstrip=False, single_word=False, normalized=False, special=True),\n",
       "\t201035: AddedToken(\"<|vision_reserved_special_token_949|>\", rstrip=False, lstrip=False, single_word=False, normalized=False, special=True),\n",
       "\t201036: AddedToken(\"<|vision_reserved_special_token_950|>\", rstrip=False, lstrip=False, single_word=False, normalized=False, special=True),\n",
       "\t201037: AddedToken(\"<|vision_reserved_special_token_951|>\", rstrip=False, lstrip=False, single_word=False, normalized=False, special=True),\n",
       "\t201038: AddedToken(\"<|vision_reserved_special_token_952|>\", rstrip=False, lstrip=False, single_word=False, normalized=False, special=True),\n",
       "\t201039: AddedToken(\"<|vision_reserved_special_token_953|>\", rstrip=False, lstrip=False, single_word=False, normalized=False, special=True),\n",
       "\t201040: AddedToken(\"<|vision_reserved_special_token_954|>\", rstrip=False, lstrip=False, single_word=False, normalized=False, special=True),\n",
       "\t201041: AddedToken(\"<|vision_reserved_special_token_955|>\", rstrip=False, lstrip=False, single_word=False, normalized=False, special=True),\n",
       "\t201042: AddedToken(\"<|vision_reserved_special_token_956|>\", rstrip=False, lstrip=False, single_word=False, normalized=False, special=True),\n",
       "\t201043: AddedToken(\"<|vision_reserved_special_token_957|>\", rstrip=False, lstrip=False, single_word=False, normalized=False, special=True),\n",
       "\t201044: AddedToken(\"<|vision_reserved_special_token_958|>\", rstrip=False, lstrip=False, single_word=False, normalized=False, special=True),\n",
       "\t201045: AddedToken(\"<|vision_reserved_special_token_959|>\", rstrip=False, lstrip=False, single_word=False, normalized=False, special=True),\n",
       "\t201046: AddedToken(\"<|vision_reserved_special_token_960|>\", rstrip=False, lstrip=False, single_word=False, normalized=False, special=True),\n",
       "\t201047: AddedToken(\"<|vision_reserved_special_token_961|>\", rstrip=False, lstrip=False, single_word=False, normalized=False, special=True),\n",
       "\t201048: AddedToken(\"<|vision_reserved_special_token_962|>\", rstrip=False, lstrip=False, single_word=False, normalized=False, special=True),\n",
       "\t201049: AddedToken(\"<|vision_reserved_special_token_963|>\", rstrip=False, lstrip=False, single_word=False, normalized=False, special=True),\n",
       "\t201050: AddedToken(\"<|vision_reserved_special_token_964|>\", rstrip=False, lstrip=False, single_word=False, normalized=False, special=True),\n",
       "\t201051: AddedToken(\"<|vision_reserved_special_token_965|>\", rstrip=False, lstrip=False, single_word=False, normalized=False, special=True),\n",
       "\t201052: AddedToken(\"<|vision_reserved_special_token_966|>\", rstrip=False, lstrip=False, single_word=False, normalized=False, special=True),\n",
       "\t201053: AddedToken(\"<|vision_reserved_special_token_967|>\", rstrip=False, lstrip=False, single_word=False, normalized=False, special=True),\n",
       "\t201054: AddedToken(\"<|vision_reserved_special_token_968|>\", rstrip=False, lstrip=False, single_word=False, normalized=False, special=True),\n",
       "\t201055: AddedToken(\"<|vision_reserved_special_token_969|>\", rstrip=False, lstrip=False, single_word=False, normalized=False, special=True),\n",
       "\t201056: AddedToken(\"<|vision_reserved_special_token_970|>\", rstrip=False, lstrip=False, single_word=False, normalized=False, special=True),\n",
       "\t201057: AddedToken(\"<|vision_reserved_special_token_971|>\", rstrip=False, lstrip=False, single_word=False, normalized=False, special=True),\n",
       "\t201058: AddedToken(\"<|vision_reserved_special_token_972|>\", rstrip=False, lstrip=False, single_word=False, normalized=False, special=True),\n",
       "\t201059: AddedToken(\"<|vision_reserved_special_token_973|>\", rstrip=False, lstrip=False, single_word=False, normalized=False, special=True),\n",
       "\t201060: AddedToken(\"<|vision_reserved_special_token_974|>\", rstrip=False, lstrip=False, single_word=False, normalized=False, special=True),\n",
       "\t201061: AddedToken(\"<|vision_reserved_special_token_975|>\", rstrip=False, lstrip=False, single_word=False, normalized=False, special=True),\n",
       "\t201062: AddedToken(\"<|vision_reserved_special_token_976|>\", rstrip=False, lstrip=False, single_word=False, normalized=False, special=True),\n",
       "\t201063: AddedToken(\"<|vision_reserved_special_token_977|>\", rstrip=False, lstrip=False, single_word=False, normalized=False, special=True),\n",
       "\t201064: AddedToken(\"<|vision_reserved_special_token_978|>\", rstrip=False, lstrip=False, single_word=False, normalized=False, special=True),\n",
       "\t201065: AddedToken(\"<|vision_reserved_special_token_979|>\", rstrip=False, lstrip=False, single_word=False, normalized=False, special=True),\n",
       "\t201066: AddedToken(\"<|vision_reserved_special_token_980|>\", rstrip=False, lstrip=False, single_word=False, normalized=False, special=True),\n",
       "\t201067: AddedToken(\"<|vision_reserved_special_token_981|>\", rstrip=False, lstrip=False, single_word=False, normalized=False, special=True),\n",
       "\t201068: AddedToken(\"<|vision_reserved_special_token_982|>\", rstrip=False, lstrip=False, single_word=False, normalized=False, special=True),\n",
       "\t201069: AddedToken(\"<|vision_reserved_special_token_983|>\", rstrip=False, lstrip=False, single_word=False, normalized=False, special=True),\n",
       "\t201070: AddedToken(\"<|vision_reserved_special_token_984|>\", rstrip=False, lstrip=False, single_word=False, normalized=False, special=True),\n",
       "\t201071: AddedToken(\"<|vision_reserved_special_token_985|>\", rstrip=False, lstrip=False, single_word=False, normalized=False, special=True),\n",
       "\t201072: AddedToken(\"<|vision_reserved_special_token_986|>\", rstrip=False, lstrip=False, single_word=False, normalized=False, special=True),\n",
       "\t201073: AddedToken(\"<|vision_reserved_special_token_987|>\", rstrip=False, lstrip=False, single_word=False, normalized=False, special=True),\n",
       "\t201074: AddedToken(\"<|vision_reserved_special_token_988|>\", rstrip=False, lstrip=False, single_word=False, normalized=False, special=True),\n",
       "\t201075: AddedToken(\"<|vision_reserved_special_token_989|>\", rstrip=False, lstrip=False, single_word=False, normalized=False, special=True),\n",
       "\t201076: AddedToken(\"<|vision_reserved_special_token_990|>\", rstrip=False, lstrip=False, single_word=False, normalized=False, special=True),\n",
       "\t201077: AddedToken(\"<|vision_reserved_special_token_991|>\", rstrip=False, lstrip=False, single_word=False, normalized=False, special=True),\n",
       "\t201078: AddedToken(\"<|vision_reserved_special_token_992|>\", rstrip=False, lstrip=False, single_word=False, normalized=False, special=True),\n",
       "\t201079: AddedToken(\"<|vision_reserved_special_token_993|>\", rstrip=False, lstrip=False, single_word=False, normalized=False, special=True),\n",
       "\t201080: AddedToken(\"<|vision_reserved_special_token_994|>\", rstrip=False, lstrip=False, single_word=False, normalized=False, special=True),\n",
       "\t201081: AddedToken(\"<|vision_reserved_special_token_995|>\", rstrip=False, lstrip=False, single_word=False, normalized=False, special=True),\n",
       "\t201082: AddedToken(\"<|vision_reserved_special_token_996|>\", rstrip=False, lstrip=False, single_word=False, normalized=False, special=True),\n",
       "\t201083: AddedToken(\"<|vision_reserved_special_token_997|>\", rstrip=False, lstrip=False, single_word=False, normalized=False, special=True),\n",
       "\t201084: AddedToken(\"<|vision_reserved_special_token_998|>\", rstrip=False, lstrip=False, single_word=False, normalized=False, special=True),\n",
       "\t201085: AddedToken(\"<|vision_reserved_special_token_999|>\", rstrip=False, lstrip=False, single_word=False, normalized=False, special=True),\n",
       "\t201086: AddedToken(\"<|vision_reserved_special_token_1000|>\", rstrip=False, lstrip=False, single_word=False, normalized=False, special=True),\n",
       "\t201087: AddedToken(\"<|vision_reserved_special_token_1001|>\", rstrip=False, lstrip=False, single_word=False, normalized=False, special=True),\n",
       "\t201088: AddedToken(\"<|vision_reserved_special_token_1002|>\", rstrip=False, lstrip=False, single_word=False, normalized=False, special=True),\n",
       "\t201089: AddedToken(\"<|vision_reserved_special_token_1003|>\", rstrip=False, lstrip=False, single_word=False, normalized=False, special=True),\n",
       "\t201090: AddedToken(\"<|vision_reserved_special_token_1004|>\", rstrip=False, lstrip=False, single_word=False, normalized=False, special=True),\n",
       "\t201091: AddedToken(\"<|vision_reserved_special_token_1005|>\", rstrip=False, lstrip=False, single_word=False, normalized=False, special=True),\n",
       "\t201092: AddedToken(\"<|vision_reserved_special_token_1006|>\", rstrip=False, lstrip=False, single_word=False, normalized=False, special=True),\n",
       "\t201093: AddedToken(\"<|vision_reserved_special_token_1007|>\", rstrip=False, lstrip=False, single_word=False, normalized=False, special=True),\n",
       "\t201094: AddedToken(\"<|vision_reserved_special_token_1008|>\", rstrip=False, lstrip=False, single_word=False, normalized=False, special=True),\n",
       "\t201095: AddedToken(\"<|vision_reserved_special_token_1009|>\", rstrip=False, lstrip=False, single_word=False, normalized=False, special=True),\n",
       "\t201096: AddedToken(\"<|vision_reserved_special_token_1010|>\", rstrip=False, lstrip=False, single_word=False, normalized=False, special=True),\n",
       "\t201097: AddedToken(\"<|vision_reserved_special_token_1011|>\", rstrip=False, lstrip=False, single_word=False, normalized=False, special=True),\n",
       "\t201098: AddedToken(\"<|vision_reserved_special_token_1012|>\", rstrip=False, lstrip=False, single_word=False, normalized=False, special=True),\n",
       "\t201099: AddedToken(\"<|vision_reserved_special_token_1013|>\", rstrip=False, lstrip=False, single_word=False, normalized=False, special=True),\n",
       "\t201100: AddedToken(\"<|vision_reserved_special_token_1014|>\", rstrip=False, lstrip=False, single_word=False, normalized=False, special=True),\n",
       "\t201101: AddedToken(\"<|vision_reserved_special_token_1015|>\", rstrip=False, lstrip=False, single_word=False, normalized=False, special=True),\n",
       "\t201102: AddedToken(\"<|vision_reserved_special_token_1016|>\", rstrip=False, lstrip=False, single_word=False, normalized=False, special=True),\n",
       "\t201103: AddedToken(\"<|vision_reserved_special_token_1017|>\", rstrip=False, lstrip=False, single_word=False, normalized=False, special=True),\n",
       "\t201104: AddedToken(\"<|vision_reserved_special_token_1018|>\", rstrip=False, lstrip=False, single_word=False, normalized=False, special=True),\n",
       "\t201105: AddedToken(\"<|vision_reserved_special_token_1019|>\", rstrip=False, lstrip=False, single_word=False, normalized=False, special=True),\n",
       "\t201106: AddedToken(\"<|vision_reserved_special_token_1020|>\", rstrip=False, lstrip=False, single_word=False, normalized=False, special=True),\n",
       "\t201107: AddedToken(\"<|vision_reserved_special_token_1021|>\", rstrip=False, lstrip=False, single_word=False, normalized=False, special=True),\n",
       "\t201108: AddedToken(\"<|vision_reserved_special_token_1022|>\", rstrip=False, lstrip=False, single_word=False, normalized=False, special=True),\n",
       "\t201109: AddedToken(\"<|vision_reserved_special_token_1023|>\", rstrip=False, lstrip=False, single_word=False, normalized=False, special=True),\n",
       "\t201110: AddedToken(\"<|vision_reserved_special_token_1024|>\", rstrip=False, lstrip=False, single_word=False, normalized=False, special=True),\n",
       "\t201111: AddedToken(\"<|vision_reserved_special_token_1025|>\", rstrip=False, lstrip=False, single_word=False, normalized=False, special=True),\n",
       "\t201112: AddedToken(\"<|vision_reserved_special_token_1026|>\", rstrip=False, lstrip=False, single_word=False, normalized=False, special=True),\n",
       "\t201113: AddedToken(\"<|vision_reserved_special_token_1027|>\", rstrip=False, lstrip=False, single_word=False, normalized=False, special=True),\n",
       "\t201114: AddedToken(\"<|vision_reserved_special_token_1028|>\", rstrip=False, lstrip=False, single_word=False, normalized=False, special=True),\n",
       "\t201115: AddedToken(\"<|vision_reserved_special_token_1029|>\", rstrip=False, lstrip=False, single_word=False, normalized=False, special=True),\n",
       "\t201116: AddedToken(\"<|vision_reserved_special_token_1030|>\", rstrip=False, lstrip=False, single_word=False, normalized=False, special=True),\n",
       "\t201117: AddedToken(\"<|vision_reserved_special_token_1031|>\", rstrip=False, lstrip=False, single_word=False, normalized=False, special=True),\n",
       "\t201118: AddedToken(\"<|vision_reserved_special_token_1032|>\", rstrip=False, lstrip=False, single_word=False, normalized=False, special=True),\n",
       "\t201119: AddedToken(\"<|vision_reserved_special_token_1033|>\", rstrip=False, lstrip=False, single_word=False, normalized=False, special=True),\n",
       "\t201120: AddedToken(\"<|vision_reserved_special_token_1034|>\", rstrip=False, lstrip=False, single_word=False, normalized=False, special=True),\n",
       "\t201121: AddedToken(\"<|vision_reserved_special_token_1035|>\", rstrip=False, lstrip=False, single_word=False, normalized=False, special=True),\n",
       "\t201122: AddedToken(\"<|vision_reserved_special_token_1036|>\", rstrip=False, lstrip=False, single_word=False, normalized=False, special=True),\n",
       "\t201123: AddedToken(\"<|vision_reserved_special_token_1037|>\", rstrip=False, lstrip=False, single_word=False, normalized=False, special=True),\n",
       "\t201124: AddedToken(\"<|vision_reserved_special_token_1038|>\", rstrip=False, lstrip=False, single_word=False, normalized=False, special=True),\n",
       "\t201125: AddedToken(\"<|vision_reserved_special_token_1039|>\", rstrip=False, lstrip=False, single_word=False, normalized=False, special=True),\n",
       "\t201126: AddedToken(\"<|vision_reserved_special_token_1040|>\", rstrip=False, lstrip=False, single_word=False, normalized=False, special=True),\n",
       "\t201127: AddedToken(\"<|vision_reserved_special_token_1041|>\", rstrip=False, lstrip=False, single_word=False, normalized=False, special=True),\n",
       "\t201128: AddedToken(\"<|vision_reserved_special_token_1042|>\", rstrip=False, lstrip=False, single_word=False, normalized=False, special=True),\n",
       "\t201129: AddedToken(\"<|vision_reserved_special_token_1043|>\", rstrip=False, lstrip=False, single_word=False, normalized=False, special=True),\n",
       "\t201130: AddedToken(\"<|vision_reserved_special_token_1044|>\", rstrip=False, lstrip=False, single_word=False, normalized=False, special=True),\n",
       "\t201131: AddedToken(\"<|vision_reserved_special_token_1045|>\", rstrip=False, lstrip=False, single_word=False, normalized=False, special=True),\n",
       "\t201132: AddedToken(\"<|vision_reserved_special_token_1046|>\", rstrip=False, lstrip=False, single_word=False, normalized=False, special=True),\n",
       "\t201133: AddedToken(\"<|vision_reserved_special_token_1047|>\", rstrip=False, lstrip=False, single_word=False, normalized=False, special=True),\n",
       "\t201134: AddedToken(\"<|finetune_right_pad_id|>\", rstrip=False, lstrip=False, single_word=False, normalized=False, special=True),\n",
       "}\n",
       ")\n",
       "\n",
       "{\n",
       "  \"fake_image_token\": \"<|image|>\",\n",
       "  \"image_token\": \"<|image|>\",\n",
       "  \"patch_size\": 14,\n",
       "  \"processor_class\": \"Llama4Processor\"\n",
       "}"
      ]
     },
     "execution_count": 5,
     "metadata": {},
     "output_type": "execute_result"
    }
   ],
   "source": [
    "# 이미지와 텍스트 입력을 전처리하는 processor를 로딩\n",
    "# 멀티모달 입력(이미지 + 텍스트)을 하나의 입력 텐서로 변환\n",
    "processor = AutoProcessor.from_pretrained(model_id)\n",
    "processor"
   ]
  },
  {
   "cell_type": "code",
   "execution_count": 22,
   "metadata": {},
   "outputs": [
    {
     "data": {
      "application/vnd.jupyter.widget-view+json": {
       "model_id": "3339499966b042b3926a44b1a11f2841",
       "version_major": 2,
       "version_minor": 0
      },
      "text/plain": [
       "Loading checkpoint shards:   0%|          | 0/50 [00:00<?, ?it/s]"
      ]
     },
     "metadata": {},
     "output_type": "display_data"
    },
    {
     "name": "stderr",
     "output_type": "stream",
     "text": [
      "Some parameters are on the meta device because they were offloaded to the cpu and disk.\n"
     ]
    }
   ],
   "source": [
    "# 모델을 메모리에 로드\n",
    "model2 = Llama4ForConditionalGeneration.from_pretrained(\n",
    "    model_id,\n",
    "    # attn_implementation=\"flex_attention\",  # 더 긴 문맥 처리를 위한 attention 구조\n",
    "    device_map=\"auto\",                     # GPU 자동 할당\n",
    "    torch_dtype=torch.bfloat16,           # 메모리 효율을 위한 bfloat16 사용 (VRAM 절약을 위한 데이터 타입 설정)\n",
    "    local_files_only=True\n",
    ")\n",
    "# 1.5s\n",
    "# 한번 로드한 이후에는 다시 로드할 때 빠르게 로드됨"
   ]
  },
  {
   "cell_type": "code",
   "execution_count": 6,
   "metadata": {},
   "outputs": [
    {
     "data": {
      "application/vnd.jupyter.widget-view+json": {
       "model_id": "33e66cb735c8482d99cbcb861b396902",
       "version_major": 2,
       "version_minor": 0
      },
      "text/plain": [
       "config.json:   0%|          | 0.00/2.18k [00:00<?, ?B/s]"
      ]
     },
     "metadata": {},
     "output_type": "display_data"
    },
    {
     "data": {
      "application/vnd.jupyter.widget-view+json": {
       "model_id": "1ef817f3059647f99a13c7b652aaee90",
       "version_major": 2,
       "version_minor": 0
      },
      "text/plain": [
       "model.safetensors.index.json:   0%|          | 0.00/112k [00:00<?, ?B/s]"
      ]
     },
     "metadata": {},
     "output_type": "display_data"
    },
    {
     "data": {
      "application/vnd.jupyter.widget-view+json": {
       "model_id": "17fd9d0fa2db416f80454c0ae8db28b9",
       "version_major": 2,
       "version_minor": 0
      },
      "text/plain": [
       "Fetching 50 files:   0%|          | 0/50 [00:00<?, ?it/s]"
      ]
     },
     "metadata": {},
     "output_type": "display_data"
    },
    {
     "name": "stderr",
     "output_type": "stream",
     "text": [
      "Xet Storage is enabled for this repo, but the 'hf_xet' package is not installed. Falling back to regular HTTP download. For better performance, install the package with: `pip install huggingface_hub[hf_xet]` or `pip install hf_xet`\n",
      "Xet Storage is enabled for this repo, but the 'hf_xet' package is not installed. Falling back to regular HTTP download. For better performance, install the package with: `pip install huggingface_hub[hf_xet]` or `pip install hf_xet`\n",
      "Xet Storage is enabled for this repo, but the 'hf_xet' package is not installed. Falling back to regular HTTP download. For better performance, install the package with: `pip install huggingface_hub[hf_xet]` or `pip install hf_xet`\n",
      "Xet Storage is enabled for this repo, but the 'hf_xet' package is not installed. Falling back to regular HTTP download. For better performance, install the package with: `pip install huggingface_hub[hf_xet]` or `pip install hf_xet`\n",
      "Xet Storage is enabled for this repo, but the 'hf_xet' package is not installed. Falling back to regular HTTP download. For better performance, install the package with: `pip install huggingface_hub[hf_xet]` or `pip install hf_xet`\n",
      "Xet Storage is enabled for this repo, but the 'hf_xet' package is not installed. Falling back to regular HTTP download. For better performance, install the package with: `pip install huggingface_hub[hf_xet]` or `pip install hf_xet`\n",
      "Xet Storage is enabled for this repo, but the 'hf_xet' package is not installed. Falling back to regular HTTP download. For better performance, install the package with: `pip install huggingface_hub[hf_xet]` or `pip install hf_xet`\n",
      "Xet Storage is enabled for this repo, but the 'hf_xet' package is not installed. Falling back to regular HTTP download. For better performance, install the package with: `pip install huggingface_hub[hf_xet]` or `pip install hf_xet`\n"
     ]
    },
    {
     "data": {
      "application/vnd.jupyter.widget-view+json": {
       "model_id": "03f5958f18624023b68dcd7f9111fd31",
       "version_major": 2,
       "version_minor": 0
      },
      "text/plain": [
       "model-00001-of-00050.safetensors:   0%|          | 0.00/3.94G [00:00<?, ?B/s]"
      ]
     },
     "metadata": {},
     "output_type": "display_data"
    },
    {
     "data": {
      "application/vnd.jupyter.widget-view+json": {
       "model_id": "4138215ee79b4eb7ae4219de5d6e0dab",
       "version_major": 2,
       "version_minor": 0
      },
      "text/plain": [
       "model-00005-of-00050.safetensors:   0%|          | 0.00/4.40G [00:00<?, ?B/s]"
      ]
     },
     "metadata": {},
     "output_type": "display_data"
    },
    {
     "data": {
      "application/vnd.jupyter.widget-view+json": {
       "model_id": "4c0408f076fd4688bdf1350278f25474",
       "version_major": 2,
       "version_minor": 0
      },
      "text/plain": [
       "model-00003-of-00050.safetensors:   0%|          | 0.00/4.40G [00:00<?, ?B/s]"
      ]
     },
     "metadata": {},
     "output_type": "display_data"
    },
    {
     "data": {
      "application/vnd.jupyter.widget-view+json": {
       "model_id": "01eb456ea97a4200925302a6da369a18",
       "version_major": 2,
       "version_minor": 0
      },
      "text/plain": [
       "model-00007-of-00050.safetensors:   0%|          | 0.00/4.40G [00:00<?, ?B/s]"
      ]
     },
     "metadata": {},
     "output_type": "display_data"
    },
    {
     "data": {
      "application/vnd.jupyter.widget-view+json": {
       "model_id": "28056d2318a04d0699facaf9b7e47945",
       "version_major": 2,
       "version_minor": 0
      },
      "text/plain": [
       "model-00008-of-00050.safetensors:   0%|          | 0.00/4.40G [00:00<?, ?B/s]"
      ]
     },
     "metadata": {},
     "output_type": "display_data"
    },
    {
     "data": {
      "application/vnd.jupyter.widget-view+json": {
       "model_id": "75d517e41b06412884fd9f083e927ef7",
       "version_major": 2,
       "version_minor": 0
      },
      "text/plain": [
       "model-00006-of-00050.safetensors:   0%|          | 0.00/4.40G [00:00<?, ?B/s]"
      ]
     },
     "metadata": {},
     "output_type": "display_data"
    },
    {
     "data": {
      "application/vnd.jupyter.widget-view+json": {
       "model_id": "d9684e119ae744d9bda21979d2531b49",
       "version_major": 2,
       "version_minor": 0
      },
      "text/plain": [
       "model-00002-of-00050.safetensors:   0%|          | 0.00/4.40G [00:00<?, ?B/s]"
      ]
     },
     "metadata": {},
     "output_type": "display_data"
    },
    {
     "data": {
      "application/vnd.jupyter.widget-view+json": {
       "model_id": "f17862c2b1644a36a57a87ed5d5bbb86",
       "version_major": 2,
       "version_minor": 0
      },
      "text/plain": [
       "model-00004-of-00050.safetensors:   0%|          | 0.00/4.40G [00:00<?, ?B/s]"
      ]
     },
     "metadata": {},
     "output_type": "display_data"
    },
    {
     "name": "stderr",
     "output_type": "stream",
     "text": [
      "Xet Storage is enabled for this repo, but the 'hf_xet' package is not installed. Falling back to regular HTTP download. For better performance, install the package with: `pip install huggingface_hub[hf_xet]` or `pip install hf_xet`\n"
     ]
    },
    {
     "data": {
      "application/vnd.jupyter.widget-view+json": {
       "model_id": "da9b351445a74f2793a0422c165e1f8c",
       "version_major": 2,
       "version_minor": 0
      },
      "text/plain": [
       "model-00009-of-00050.safetensors:   0%|          | 0.00/4.40G [00:00<?, ?B/s]"
      ]
     },
     "metadata": {},
     "output_type": "display_data"
    },
    {
     "name": "stderr",
     "output_type": "stream",
     "text": [
      "Xet Storage is enabled for this repo, but the 'hf_xet' package is not installed. Falling back to regular HTTP download. For better performance, install the package with: `pip install huggingface_hub[hf_xet]` or `pip install hf_xet`\n"
     ]
    },
    {
     "data": {
      "application/vnd.jupyter.widget-view+json": {
       "model_id": "9c65c4c9cdf44e71a3d86b7997755a49",
       "version_major": 2,
       "version_minor": 0
      },
      "text/plain": [
       "model-00010-of-00050.safetensors:   0%|          | 0.00/4.40G [00:00<?, ?B/s]"
      ]
     },
     "metadata": {},
     "output_type": "display_data"
    },
    {
     "name": "stderr",
     "output_type": "stream",
     "text": [
      "Xet Storage is enabled for this repo, but the 'hf_xet' package is not installed. Falling back to regular HTTP download. For better performance, install the package with: `pip install huggingface_hub[hf_xet]` or `pip install hf_xet`\n"
     ]
    },
    {
     "data": {
      "application/vnd.jupyter.widget-view+json": {
       "model_id": "10a30b71139f4c7da79d80c338c48ebe",
       "version_major": 2,
       "version_minor": 0
      },
      "text/plain": [
       "model-00011-of-00050.safetensors:   0%|          | 0.00/4.40G [00:00<?, ?B/s]"
      ]
     },
     "metadata": {},
     "output_type": "display_data"
    },
    {
     "name": "stderr",
     "output_type": "stream",
     "text": [
      "Xet Storage is enabled for this repo, but the 'hf_xet' package is not installed. Falling back to regular HTTP download. For better performance, install the package with: `pip install huggingface_hub[hf_xet]` or `pip install hf_xet`\n"
     ]
    },
    {
     "data": {
      "application/vnd.jupyter.widget-view+json": {
       "model_id": "c974b1e63aca4a00aca5c7f446ae52e8",
       "version_major": 2,
       "version_minor": 0
      },
      "text/plain": [
       "model-00012-of-00050.safetensors:   0%|          | 0.00/4.40G [00:00<?, ?B/s]"
      ]
     },
     "metadata": {},
     "output_type": "display_data"
    },
    {
     "name": "stderr",
     "output_type": "stream",
     "text": [
      "Xet Storage is enabled for this repo, but the 'hf_xet' package is not installed. Falling back to regular HTTP download. For better performance, install the package with: `pip install huggingface_hub[hf_xet]` or `pip install hf_xet`\n"
     ]
    },
    {
     "data": {
      "application/vnd.jupyter.widget-view+json": {
       "model_id": "13568d0ad61842c9a54283f662a15a62",
       "version_major": 2,
       "version_minor": 0
      },
      "text/plain": [
       "model-00013-of-00050.safetensors:   0%|          | 0.00/4.40G [00:00<?, ?B/s]"
      ]
     },
     "metadata": {},
     "output_type": "display_data"
    },
    {
     "name": "stderr",
     "output_type": "stream",
     "text": [
      "Xet Storage is enabled for this repo, but the 'hf_xet' package is not installed. Falling back to regular HTTP download. For better performance, install the package with: `pip install huggingface_hub[hf_xet]` or `pip install hf_xet`\n"
     ]
    },
    {
     "data": {
      "application/vnd.jupyter.widget-view+json": {
       "model_id": "450840114520467ebbc8fc929d9476e7",
       "version_major": 2,
       "version_minor": 0
      },
      "text/plain": [
       "model-00014-of-00050.safetensors:   0%|          | 0.00/4.40G [00:00<?, ?B/s]"
      ]
     },
     "metadata": {},
     "output_type": "display_data"
    },
    {
     "name": "stderr",
     "output_type": "stream",
     "text": [
      "Xet Storage is enabled for this repo, but the 'hf_xet' package is not installed. Falling back to regular HTTP download. For better performance, install the package with: `pip install huggingface_hub[hf_xet]` or `pip install hf_xet`\n"
     ]
    },
    {
     "data": {
      "application/vnd.jupyter.widget-view+json": {
       "model_id": "f2f692a21eba49d98f07ef3b3bdffcf8",
       "version_major": 2,
       "version_minor": 0
      },
      "text/plain": [
       "model-00015-of-00050.safetensors:   0%|          | 0.00/4.40G [00:00<?, ?B/s]"
      ]
     },
     "metadata": {},
     "output_type": "display_data"
    },
    {
     "name": "stderr",
     "output_type": "stream",
     "text": [
      "Xet Storage is enabled for this repo, but the 'hf_xet' package is not installed. Falling back to regular HTTP download. For better performance, install the package with: `pip install huggingface_hub[hf_xet]` or `pip install hf_xet`\n"
     ]
    },
    {
     "data": {
      "application/vnd.jupyter.widget-view+json": {
       "model_id": "288d177ea731448fbe5de55d1b0376f2",
       "version_major": 2,
       "version_minor": 0
      },
      "text/plain": [
       "model-00016-of-00050.safetensors:   0%|          | 0.00/4.40G [00:00<?, ?B/s]"
      ]
     },
     "metadata": {},
     "output_type": "display_data"
    },
    {
     "name": "stderr",
     "output_type": "stream",
     "text": [
      "Xet Storage is enabled for this repo, but the 'hf_xet' package is not installed. Falling back to regular HTTP download. For better performance, install the package with: `pip install huggingface_hub[hf_xet]` or `pip install hf_xet`\n"
     ]
    },
    {
     "data": {
      "application/vnd.jupyter.widget-view+json": {
       "model_id": "9a8301ea906648b6b8799f01bd0eb46b",
       "version_major": 2,
       "version_minor": 0
      },
      "text/plain": [
       "model-00017-of-00050.safetensors:   0%|          | 0.00/4.40G [00:00<?, ?B/s]"
      ]
     },
     "metadata": {},
     "output_type": "display_data"
    },
    {
     "name": "stderr",
     "output_type": "stream",
     "text": [
      "Xet Storage is enabled for this repo, but the 'hf_xet' package is not installed. Falling back to regular HTTP download. For better performance, install the package with: `pip install huggingface_hub[hf_xet]` or `pip install hf_xet`\n"
     ]
    },
    {
     "data": {
      "application/vnd.jupyter.widget-view+json": {
       "model_id": "644a46a4ddfc40c587f6c26e9a024e09",
       "version_major": 2,
       "version_minor": 0
      },
      "text/plain": [
       "model-00018-of-00050.safetensors:   0%|          | 0.00/4.40G [00:00<?, ?B/s]"
      ]
     },
     "metadata": {},
     "output_type": "display_data"
    },
    {
     "name": "stderr",
     "output_type": "stream",
     "text": [
      "Xet Storage is enabled for this repo, but the 'hf_xet' package is not installed. Falling back to regular HTTP download. For better performance, install the package with: `pip install huggingface_hub[hf_xet]` or `pip install hf_xet`\n"
     ]
    },
    {
     "data": {
      "application/vnd.jupyter.widget-view+json": {
       "model_id": "26eeadc5a5a8492e9fa2c5ef4caea40f",
       "version_major": 2,
       "version_minor": 0
      },
      "text/plain": [
       "model-00019-of-00050.safetensors:   0%|          | 0.00/4.40G [00:00<?, ?B/s]"
      ]
     },
     "metadata": {},
     "output_type": "display_data"
    },
    {
     "name": "stderr",
     "output_type": "stream",
     "text": [
      "Xet Storage is enabled for this repo, but the 'hf_xet' package is not installed. Falling back to regular HTTP download. For better performance, install the package with: `pip install huggingface_hub[hf_xet]` or `pip install hf_xet`\n"
     ]
    },
    {
     "data": {
      "application/vnd.jupyter.widget-view+json": {
       "model_id": "38ce6ff6bda1498a81f383d1eb02d8a0",
       "version_major": 2,
       "version_minor": 0
      },
      "text/plain": [
       "model-00020-of-00050.safetensors:   0%|          | 0.00/4.40G [00:00<?, ?B/s]"
      ]
     },
     "metadata": {},
     "output_type": "display_data"
    },
    {
     "name": "stderr",
     "output_type": "stream",
     "text": [
      "Xet Storage is enabled for this repo, but the 'hf_xet' package is not installed. Falling back to regular HTTP download. For better performance, install the package with: `pip install huggingface_hub[hf_xet]` or `pip install hf_xet`\n"
     ]
    },
    {
     "data": {
      "application/vnd.jupyter.widget-view+json": {
       "model_id": "f0a230546969496898e80acfbc306dca",
       "version_major": 2,
       "version_minor": 0
      },
      "text/plain": [
       "model-00021-of-00050.safetensors:   0%|          | 0.00/4.40G [00:00<?, ?B/s]"
      ]
     },
     "metadata": {},
     "output_type": "display_data"
    },
    {
     "name": "stderr",
     "output_type": "stream",
     "text": [
      "Xet Storage is enabled for this repo, but the 'hf_xet' package is not installed. Falling back to regular HTTP download. For better performance, install the package with: `pip install huggingface_hub[hf_xet]` or `pip install hf_xet`\n"
     ]
    },
    {
     "data": {
      "application/vnd.jupyter.widget-view+json": {
       "model_id": "ba65003c4f8d4b029c9ec5ae932df5ff",
       "version_major": 2,
       "version_minor": 0
      },
      "text/plain": [
       "model-00022-of-00050.safetensors:   0%|          | 0.00/4.40G [00:00<?, ?B/s]"
      ]
     },
     "metadata": {},
     "output_type": "display_data"
    },
    {
     "name": "stderr",
     "output_type": "stream",
     "text": [
      "Xet Storage is enabled for this repo, but the 'hf_xet' package is not installed. Falling back to regular HTTP download. For better performance, install the package with: `pip install huggingface_hub[hf_xet]` or `pip install hf_xet`\n"
     ]
    },
    {
     "data": {
      "application/vnd.jupyter.widget-view+json": {
       "model_id": "5be4d773d88d416c9da4626dd846ed6c",
       "version_major": 2,
       "version_minor": 0
      },
      "text/plain": [
       "model-00023-of-00050.safetensors:   0%|          | 0.00/4.40G [00:00<?, ?B/s]"
      ]
     },
     "metadata": {},
     "output_type": "display_data"
    },
    {
     "name": "stderr",
     "output_type": "stream",
     "text": [
      "Xet Storage is enabled for this repo, but the 'hf_xet' package is not installed. Falling back to regular HTTP download. For better performance, install the package with: `pip install huggingface_hub[hf_xet]` or `pip install hf_xet`\n"
     ]
    },
    {
     "data": {
      "application/vnd.jupyter.widget-view+json": {
       "model_id": "1cf5ee827f134e248365740ff3dac4d3",
       "version_major": 2,
       "version_minor": 0
      },
      "text/plain": [
       "model-00024-of-00050.safetensors:   0%|          | 0.00/4.40G [00:00<?, ?B/s]"
      ]
     },
     "metadata": {},
     "output_type": "display_data"
    },
    {
     "name": "stderr",
     "output_type": "stream",
     "text": [
      "Xet Storage is enabled for this repo, but the 'hf_xet' package is not installed. Falling back to regular HTTP download. For better performance, install the package with: `pip install huggingface_hub[hf_xet]` or `pip install hf_xet`\n"
     ]
    },
    {
     "data": {
      "application/vnd.jupyter.widget-view+json": {
       "model_id": "ce0e17444b9d4deb9f25c2beda71e95f",
       "version_major": 2,
       "version_minor": 0
      },
      "text/plain": [
       "model-00025-of-00050.safetensors:   0%|          | 0.00/4.40G [00:00<?, ?B/s]"
      ]
     },
     "metadata": {},
     "output_type": "display_data"
    },
    {
     "name": "stderr",
     "output_type": "stream",
     "text": [
      "Xet Storage is enabled for this repo, but the 'hf_xet' package is not installed. Falling back to regular HTTP download. For better performance, install the package with: `pip install huggingface_hub[hf_xet]` or `pip install hf_xet`\n"
     ]
    },
    {
     "data": {
      "application/vnd.jupyter.widget-view+json": {
       "model_id": "039b11ec174c4ddf833b6c15ddb62d4e",
       "version_major": 2,
       "version_minor": 0
      },
      "text/plain": [
       "model-00026-of-00050.safetensors:   0%|          | 0.00/4.40G [00:00<?, ?B/s]"
      ]
     },
     "metadata": {},
     "output_type": "display_data"
    },
    {
     "name": "stderr",
     "output_type": "stream",
     "text": [
      "Xet Storage is enabled for this repo, but the 'hf_xet' package is not installed. Falling back to regular HTTP download. For better performance, install the package with: `pip install huggingface_hub[hf_xet]` or `pip install hf_xet`\n"
     ]
    },
    {
     "data": {
      "application/vnd.jupyter.widget-view+json": {
       "model_id": "866921af21344c3f8d378675a0c22b08",
       "version_major": 2,
       "version_minor": 0
      },
      "text/plain": [
       "model-00027-of-00050.safetensors:   0%|          | 0.00/4.40G [00:00<?, ?B/s]"
      ]
     },
     "metadata": {},
     "output_type": "display_data"
    },
    {
     "name": "stderr",
     "output_type": "stream",
     "text": [
      "Xet Storage is enabled for this repo, but the 'hf_xet' package is not installed. Falling back to regular HTTP download. For better performance, install the package with: `pip install huggingface_hub[hf_xet]` or `pip install hf_xet`\n"
     ]
    },
    {
     "data": {
      "application/vnd.jupyter.widget-view+json": {
       "model_id": "a55ed55d4dde4e138268f657b8ec0209",
       "version_major": 2,
       "version_minor": 0
      },
      "text/plain": [
       "model-00028-of-00050.safetensors:   0%|          | 0.00/4.40G [00:00<?, ?B/s]"
      ]
     },
     "metadata": {},
     "output_type": "display_data"
    },
    {
     "name": "stderr",
     "output_type": "stream",
     "text": [
      "Xet Storage is enabled for this repo, but the 'hf_xet' package is not installed. Falling back to regular HTTP download. For better performance, install the package with: `pip install huggingface_hub[hf_xet]` or `pip install hf_xet`\n"
     ]
    },
    {
     "data": {
      "application/vnd.jupyter.widget-view+json": {
       "model_id": "8fc46c3dc9514d2bb37ba79842e86dea",
       "version_major": 2,
       "version_minor": 0
      },
      "text/plain": [
       "model-00029-of-00050.safetensors:   0%|          | 0.00/4.40G [00:00<?, ?B/s]"
      ]
     },
     "metadata": {},
     "output_type": "display_data"
    },
    {
     "name": "stderr",
     "output_type": "stream",
     "text": [
      "Xet Storage is enabled for this repo, but the 'hf_xet' package is not installed. Falling back to regular HTTP download. For better performance, install the package with: `pip install huggingface_hub[hf_xet]` or `pip install hf_xet`\n"
     ]
    },
    {
     "data": {
      "application/vnd.jupyter.widget-view+json": {
       "model_id": "3d25bea8aaa646d0b8d4f0923c173256",
       "version_major": 2,
       "version_minor": 0
      },
      "text/plain": [
       "model-00030-of-00050.safetensors:   0%|          | 0.00/4.40G [00:00<?, ?B/s]"
      ]
     },
     "metadata": {},
     "output_type": "display_data"
    },
    {
     "name": "stderr",
     "output_type": "stream",
     "text": [
      "Xet Storage is enabled for this repo, but the 'hf_xet' package is not installed. Falling back to regular HTTP download. For better performance, install the package with: `pip install huggingface_hub[hf_xet]` or `pip install hf_xet`\n"
     ]
    },
    {
     "data": {
      "application/vnd.jupyter.widget-view+json": {
       "model_id": "73606421bfd947f29a61acd9b5c9cb32",
       "version_major": 2,
       "version_minor": 0
      },
      "text/plain": [
       "model-00031-of-00050.safetensors:   0%|          | 0.00/4.40G [00:00<?, ?B/s]"
      ]
     },
     "metadata": {},
     "output_type": "display_data"
    },
    {
     "name": "stderr",
     "output_type": "stream",
     "text": [
      "Xet Storage is enabled for this repo, but the 'hf_xet' package is not installed. Falling back to regular HTTP download. For better performance, install the package with: `pip install huggingface_hub[hf_xet]` or `pip install hf_xet`\n"
     ]
    },
    {
     "data": {
      "application/vnd.jupyter.widget-view+json": {
       "model_id": "9416e683cbf245e98e9bbd708f8b765b",
       "version_major": 2,
       "version_minor": 0
      },
      "text/plain": [
       "model-00032-of-00050.safetensors:   0%|          | 0.00/4.40G [00:00<?, ?B/s]"
      ]
     },
     "metadata": {},
     "output_type": "display_data"
    },
    {
     "name": "stderr",
     "output_type": "stream",
     "text": [
      "Xet Storage is enabled for this repo, but the 'hf_xet' package is not installed. Falling back to regular HTTP download. For better performance, install the package with: `pip install huggingface_hub[hf_xet]` or `pip install hf_xet`\n"
     ]
    },
    {
     "data": {
      "application/vnd.jupyter.widget-view+json": {
       "model_id": "90156a630443486bb1ba04061871e926",
       "version_major": 2,
       "version_minor": 0
      },
      "text/plain": [
       "model-00033-of-00050.safetensors:   0%|          | 0.00/4.40G [00:00<?, ?B/s]"
      ]
     },
     "metadata": {},
     "output_type": "display_data"
    },
    {
     "name": "stderr",
     "output_type": "stream",
     "text": [
      "Xet Storage is enabled for this repo, but the 'hf_xet' package is not installed. Falling back to regular HTTP download. For better performance, install the package with: `pip install huggingface_hub[hf_xet]` or `pip install hf_xet`\n"
     ]
    },
    {
     "data": {
      "application/vnd.jupyter.widget-view+json": {
       "model_id": "8fa3a3ee28964b589e4696119ab78a61",
       "version_major": 2,
       "version_minor": 0
      },
      "text/plain": [
       "model-00034-of-00050.safetensors:   0%|          | 0.00/4.40G [00:00<?, ?B/s]"
      ]
     },
     "metadata": {},
     "output_type": "display_data"
    },
    {
     "name": "stderr",
     "output_type": "stream",
     "text": [
      "Xet Storage is enabled for this repo, but the 'hf_xet' package is not installed. Falling back to regular HTTP download. For better performance, install the package with: `pip install huggingface_hub[hf_xet]` or `pip install hf_xet`\n"
     ]
    },
    {
     "data": {
      "application/vnd.jupyter.widget-view+json": {
       "model_id": "5ef8248aff0447c39c8ae8855a93e0c9",
       "version_major": 2,
       "version_minor": 0
      },
      "text/plain": [
       "model-00035-of-00050.safetensors:   0%|          | 0.00/4.40G [00:00<?, ?B/s]"
      ]
     },
     "metadata": {},
     "output_type": "display_data"
    },
    {
     "name": "stderr",
     "output_type": "stream",
     "text": [
      "Xet Storage is enabled for this repo, but the 'hf_xet' package is not installed. Falling back to regular HTTP download. For better performance, install the package with: `pip install huggingface_hub[hf_xet]` or `pip install hf_xet`\n"
     ]
    },
    {
     "data": {
      "application/vnd.jupyter.widget-view+json": {
       "model_id": "dc69527e7ab64cf9b8ed2c9c364e1e20",
       "version_major": 2,
       "version_minor": 0
      },
      "text/plain": [
       "model-00036-of-00050.safetensors:   0%|          | 0.00/4.40G [00:00<?, ?B/s]"
      ]
     },
     "metadata": {},
     "output_type": "display_data"
    },
    {
     "name": "stderr",
     "output_type": "stream",
     "text": [
      "Xet Storage is enabled for this repo, but the 'hf_xet' package is not installed. Falling back to regular HTTP download. For better performance, install the package with: `pip install huggingface_hub[hf_xet]` or `pip install hf_xet`\n"
     ]
    },
    {
     "data": {
      "application/vnd.jupyter.widget-view+json": {
       "model_id": "cf7daefba2bf408c921913c3648d9aea",
       "version_major": 2,
       "version_minor": 0
      },
      "text/plain": [
       "model-00037-of-00050.safetensors:   0%|          | 0.00/4.40G [00:00<?, ?B/s]"
      ]
     },
     "metadata": {},
     "output_type": "display_data"
    },
    {
     "name": "stderr",
     "output_type": "stream",
     "text": [
      "Xet Storage is enabled for this repo, but the 'hf_xet' package is not installed. Falling back to regular HTTP download. For better performance, install the package with: `pip install huggingface_hub[hf_xet]` or `pip install hf_xet`\n"
     ]
    },
    {
     "data": {
      "application/vnd.jupyter.widget-view+json": {
       "model_id": "570dfba2ca1e4d538e06df6a087aff1e",
       "version_major": 2,
       "version_minor": 0
      },
      "text/plain": [
       "model-00038-of-00050.safetensors:   0%|          | 0.00/4.40G [00:00<?, ?B/s]"
      ]
     },
     "metadata": {},
     "output_type": "display_data"
    },
    {
     "name": "stderr",
     "output_type": "stream",
     "text": [
      "Xet Storage is enabled for this repo, but the 'hf_xet' package is not installed. Falling back to regular HTTP download. For better performance, install the package with: `pip install huggingface_hub[hf_xet]` or `pip install hf_xet`\n"
     ]
    },
    {
     "data": {
      "application/vnd.jupyter.widget-view+json": {
       "model_id": "681f5f066a354bd7b6e85f1d265258e4",
       "version_major": 2,
       "version_minor": 0
      },
      "text/plain": [
       "model-00039-of-00050.safetensors:   0%|          | 0.00/4.40G [00:00<?, ?B/s]"
      ]
     },
     "metadata": {},
     "output_type": "display_data"
    },
    {
     "name": "stderr",
     "output_type": "stream",
     "text": [
      "Xet Storage is enabled for this repo, but the 'hf_xet' package is not installed. Falling back to regular HTTP download. For better performance, install the package with: `pip install huggingface_hub[hf_xet]` or `pip install hf_xet`\n"
     ]
    },
    {
     "data": {
      "application/vnd.jupyter.widget-view+json": {
       "model_id": "a5a3d50a6b564be0826acbbf2573f16a",
       "version_major": 2,
       "version_minor": 0
      },
      "text/plain": [
       "model-00040-of-00050.safetensors:   0%|          | 0.00/4.40G [00:00<?, ?B/s]"
      ]
     },
     "metadata": {},
     "output_type": "display_data"
    },
    {
     "name": "stderr",
     "output_type": "stream",
     "text": [
      "Xet Storage is enabled for this repo, but the 'hf_xet' package is not installed. Falling back to regular HTTP download. For better performance, install the package with: `pip install huggingface_hub[hf_xet]` or `pip install hf_xet`\n"
     ]
    },
    {
     "data": {
      "application/vnd.jupyter.widget-view+json": {
       "model_id": "c1f0276785514943b84f6a710a8d9e1d",
       "version_major": 2,
       "version_minor": 0
      },
      "text/plain": [
       "model-00041-of-00050.safetensors:   0%|          | 0.00/4.40G [00:00<?, ?B/s]"
      ]
     },
     "metadata": {},
     "output_type": "display_data"
    },
    {
     "name": "stderr",
     "output_type": "stream",
     "text": [
      "Xet Storage is enabled for this repo, but the 'hf_xet' package is not installed. Falling back to regular HTTP download. For better performance, install the package with: `pip install huggingface_hub[hf_xet]` or `pip install hf_xet`\n"
     ]
    },
    {
     "data": {
      "application/vnd.jupyter.widget-view+json": {
       "model_id": "8e489d1aa69340d7a09f81acc532655d",
       "version_major": 2,
       "version_minor": 0
      },
      "text/plain": [
       "model-00042-of-00050.safetensors:   0%|          | 0.00/4.40G [00:00<?, ?B/s]"
      ]
     },
     "metadata": {},
     "output_type": "display_data"
    },
    {
     "name": "stderr",
     "output_type": "stream",
     "text": [
      "Xet Storage is enabled for this repo, but the 'hf_xet' package is not installed. Falling back to regular HTTP download. For better performance, install the package with: `pip install huggingface_hub[hf_xet]` or `pip install hf_xet`\n"
     ]
    },
    {
     "data": {
      "application/vnd.jupyter.widget-view+json": {
       "model_id": "551ba4580eef41ab8464896410fadb66",
       "version_major": 2,
       "version_minor": 0
      },
      "text/plain": [
       "model-00043-of-00050.safetensors:   0%|          | 0.00/4.40G [00:00<?, ?B/s]"
      ]
     },
     "metadata": {},
     "output_type": "display_data"
    },
    {
     "name": "stderr",
     "output_type": "stream",
     "text": [
      "Xet Storage is enabled for this repo, but the 'hf_xet' package is not installed. Falling back to regular HTTP download. For better performance, install the package with: `pip install huggingface_hub[hf_xet]` or `pip install hf_xet`\n"
     ]
    },
    {
     "data": {
      "application/vnd.jupyter.widget-view+json": {
       "model_id": "807e54954c3849d2bcf61951898a326d",
       "version_major": 2,
       "version_minor": 0
      },
      "text/plain": [
       "model-00044-of-00050.safetensors:   0%|          | 0.00/4.40G [00:00<?, ?B/s]"
      ]
     },
     "metadata": {},
     "output_type": "display_data"
    },
    {
     "name": "stderr",
     "output_type": "stream",
     "text": [
      "Xet Storage is enabled for this repo, but the 'hf_xet' package is not installed. Falling back to regular HTTP download. For better performance, install the package with: `pip install huggingface_hub[hf_xet]` or `pip install hf_xet`\n"
     ]
    },
    {
     "data": {
      "application/vnd.jupyter.widget-view+json": {
       "model_id": "eadcfde1171a450db39634508cee3659",
       "version_major": 2,
       "version_minor": 0
      },
      "text/plain": [
       "model-00045-of-00050.safetensors:   0%|          | 0.00/4.40G [00:00<?, ?B/s]"
      ]
     },
     "metadata": {},
     "output_type": "display_data"
    },
    {
     "name": "stderr",
     "output_type": "stream",
     "text": [
      "Xet Storage is enabled for this repo, but the 'hf_xet' package is not installed. Falling back to regular HTTP download. For better performance, install the package with: `pip install huggingface_hub[hf_xet]` or `pip install hf_xet`\n"
     ]
    },
    {
     "data": {
      "application/vnd.jupyter.widget-view+json": {
       "model_id": "e27fb4f240e340d3b171f1b52fdb1b14",
       "version_major": 2,
       "version_minor": 0
      },
      "text/plain": [
       "model-00046-of-00050.safetensors:   0%|          | 0.00/4.40G [00:00<?, ?B/s]"
      ]
     },
     "metadata": {},
     "output_type": "display_data"
    },
    {
     "name": "stderr",
     "output_type": "stream",
     "text": [
      "Xet Storage is enabled for this repo, but the 'hf_xet' package is not installed. Falling back to regular HTTP download. For better performance, install the package with: `pip install huggingface_hub[hf_xet]` or `pip install hf_xet`\n"
     ]
    },
    {
     "data": {
      "application/vnd.jupyter.widget-view+json": {
       "model_id": "e80cc372fcdf4d3aa75d4339b5c92aae",
       "version_major": 2,
       "version_minor": 0
      },
      "text/plain": [
       "model-00047-of-00050.safetensors:   0%|          | 0.00/4.40G [00:00<?, ?B/s]"
      ]
     },
     "metadata": {},
     "output_type": "display_data"
    },
    {
     "name": "stderr",
     "output_type": "stream",
     "text": [
      "Xet Storage is enabled for this repo, but the 'hf_xet' package is not installed. Falling back to regular HTTP download. For better performance, install the package with: `pip install huggingface_hub[hf_xet]` or `pip install hf_xet`\n"
     ]
    },
    {
     "data": {
      "application/vnd.jupyter.widget-view+json": {
       "model_id": "eb7277965b704abcb0cd88d270a33fdd",
       "version_major": 2,
       "version_minor": 0
      },
      "text/plain": [
       "model-00048-of-00050.safetensors:   0%|          | 0.00/4.40G [00:00<?, ?B/s]"
      ]
     },
     "metadata": {},
     "output_type": "display_data"
    },
    {
     "name": "stderr",
     "output_type": "stream",
     "text": [
      "Xet Storage is enabled for this repo, but the 'hf_xet' package is not installed. Falling back to regular HTTP download. For better performance, install the package with: `pip install huggingface_hub[hf_xet]` or `pip install hf_xet`\n"
     ]
    },
    {
     "data": {
      "application/vnd.jupyter.widget-view+json": {
       "model_id": "0e764802a70344f8b0275eee57d77e88",
       "version_major": 2,
       "version_minor": 0
      },
      "text/plain": [
       "model-00049-of-00050.safetensors:   0%|          | 0.00/4.28G [00:00<?, ?B/s]"
      ]
     },
     "metadata": {},
     "output_type": "display_data"
    },
    {
     "name": "stderr",
     "output_type": "stream",
     "text": [
      "Xet Storage is enabled for this repo, but the 'hf_xet' package is not installed. Falling back to regular HTTP download. For better performance, install the package with: `pip install huggingface_hub[hf_xet]` or `pip install hf_xet`\n"
     ]
    },
    {
     "data": {
      "application/vnd.jupyter.widget-view+json": {
       "model_id": "30152cadb2c94d12a953fab070b81344",
       "version_major": 2,
       "version_minor": 0
      },
      "text/plain": [
       "model-00050-of-00050.safetensors:   0%|          | 0.00/2.07G [00:00<?, ?B/s]"
      ]
     },
     "metadata": {},
     "output_type": "display_data"
    },
    {
     "data": {
      "application/vnd.jupyter.widget-view+json": {
       "model_id": "9d2acb59515a4c34b76f04048e287653",
       "version_major": 2,
       "version_minor": 0
      },
      "text/plain": [
       "Loading checkpoint shards:   0%|          | 0/50 [00:00<?, ?it/s]"
      ]
     },
     "metadata": {},
     "output_type": "display_data"
    },
    {
     "data": {
      "application/vnd.jupyter.widget-view+json": {
       "model_id": "2f3a4c30008141f5b48a77b2bdc4d05f",
       "version_major": 2,
       "version_minor": 0
      },
      "text/plain": [
       "generation_config.json:   0%|          | 0.00/215 [00:00<?, ?B/s]"
      ]
     },
     "metadata": {},
     "output_type": "display_data"
    },
    {
     "name": "stderr",
     "output_type": "stream",
     "text": [
      "Some parameters are on the meta device because they were offloaded to the cpu and disk.\n"
     ]
    }
   ],
   "source": [
    "# 모델을 메모리에 로드\n",
    "model = Llama4ForConditionalGeneration.from_pretrained(\n",
    "    model_id,\n",
    "    attn_implementation=\"flex_attention\",  # 더 긴 문맥 처리를 위한 attention 구조\n",
    "    device_map=\"auto\",                     # GPU 자동 할당\n",
    "    torch_dtype=torch.bfloat16,           # 메모리 효율을 위한 bfloat16 사용 (VRAM 절약을 위한 데이터 타입 설정)\n",
    ")\n",
    "# 33m 52.1s"
   ]
  },
  {
   "cell_type": "code",
   "execution_count": 19,
   "metadata": {},
   "outputs": [
    {
     "data": {
      "text/plain": [
       "PreTrainedTokenizerFast(name_or_path='meta-llama/Llama-4-Scout-17B-16E-Instruct', vocab_size=200000, model_max_length=10485760, is_fast=True, padding_side='right', truncation_side='right', special_tokens={'bos_token': '<|begin_of_text|>', 'eos_token': '<|eot|>', 'pad_token': '<|finetune_right_pad|>'}, clean_up_tokenization_spaces=False, added_tokens_decoder={\n",
       "\t200000: AddedToken(\"<|begin_of_text|>\", rstrip=False, lstrip=False, single_word=False, normalized=False, special=True),\n",
       "\t200001: AddedToken(\"<|end_of_text|>\", rstrip=False, lstrip=False, single_word=False, normalized=False, special=True),\n",
       "\t200002: AddedToken(\"<|fim_prefix|>\", rstrip=False, lstrip=False, single_word=False, normalized=False, special=True),\n",
       "\t200003: AddedToken(\"<|fim_middle|>\", rstrip=False, lstrip=False, single_word=False, normalized=False, special=True),\n",
       "\t200004: AddedToken(\"<|fim_suffix|>\", rstrip=False, lstrip=False, single_word=False, normalized=False, special=True),\n",
       "\t200005: AddedToken(\"<|header_start|>\", rstrip=False, lstrip=False, single_word=False, normalized=False, special=True),\n",
       "\t200006: AddedToken(\"<|header_end|>\", rstrip=False, lstrip=False, single_word=False, normalized=False, special=True),\n",
       "\t200007: AddedToken(\"<|eom|>\", rstrip=False, lstrip=False, single_word=False, normalized=False, special=True),\n",
       "\t200008: AddedToken(\"<|eot|>\", rstrip=False, lstrip=False, single_word=False, normalized=False, special=True),\n",
       "\t200009: AddedToken(\"<|step|>\", rstrip=False, lstrip=False, single_word=False, normalized=False, special=True),\n",
       "\t200010: AddedToken(\"<|text_post_train_reserved_special_token_0|>\", rstrip=False, lstrip=False, single_word=False, normalized=False, special=True),\n",
       "\t200011: AddedToken(\"<|text_post_train_reserved_special_token_1|>\", rstrip=False, lstrip=False, single_word=False, normalized=False, special=True),\n",
       "\t200012: AddedToken(\"<|text_post_train_reserved_special_token_2|>\", rstrip=False, lstrip=False, single_word=False, normalized=False, special=True),\n",
       "\t200013: AddedToken(\"<|text_post_train_reserved_special_token_3|>\", rstrip=False, lstrip=False, single_word=False, normalized=False, special=True),\n",
       "\t200014: AddedToken(\"<|text_post_train_reserved_special_token_4|>\", rstrip=False, lstrip=False, single_word=False, normalized=False, special=True),\n",
       "\t200015: AddedToken(\"<|text_post_train_reserved_special_token_5|>\", rstrip=False, lstrip=False, single_word=False, normalized=False, special=True),\n",
       "\t200016: AddedToken(\"<|python_start|>\", rstrip=False, lstrip=False, single_word=False, normalized=False, special=True),\n",
       "\t200017: AddedToken(\"<|python_end|>\", rstrip=False, lstrip=False, single_word=False, normalized=False, special=True),\n",
       "\t200018: AddedToken(\"<|finetune_right_pad|>\", rstrip=False, lstrip=False, single_word=False, normalized=False, special=True),\n",
       "\t200019: AddedToken(\"<|text_post_train_reserved_special_token_6|>\", rstrip=False, lstrip=False, single_word=False, normalized=False, special=True),\n",
       "\t200020: AddedToken(\"<|text_post_train_reserved_special_token_7|>\", rstrip=False, lstrip=False, single_word=False, normalized=False, special=True),\n",
       "\t200021: AddedToken(\"<|text_post_train_reserved_special_token_8|>\", rstrip=False, lstrip=False, single_word=False, normalized=False, special=True),\n",
       "\t200022: AddedToken(\"<|text_post_train_reserved_special_token_9|>\", rstrip=False, lstrip=False, single_word=False, normalized=False, special=True),\n",
       "\t200023: AddedToken(\"<|text_post_train_reserved_special_token_10|>\", rstrip=False, lstrip=False, single_word=False, normalized=False, special=True),\n",
       "\t200024: AddedToken(\"<|text_post_train_reserved_special_token_11|>\", rstrip=False, lstrip=False, single_word=False, normalized=False, special=True),\n",
       "\t200025: AddedToken(\"<|text_post_train_reserved_special_token_12|>\", rstrip=False, lstrip=False, single_word=False, normalized=False, special=True),\n",
       "\t200026: AddedToken(\"<|text_post_train_reserved_special_token_13|>\", rstrip=False, lstrip=False, single_word=False, normalized=False, special=True),\n",
       "\t200027: AddedToken(\"<|text_post_train_reserved_special_token_14|>\", rstrip=False, lstrip=False, single_word=False, normalized=False, special=True),\n",
       "\t200028: AddedToken(\"<|text_post_train_reserved_special_token_15|>\", rstrip=False, lstrip=False, single_word=False, normalized=False, special=True),\n",
       "\t200029: AddedToken(\"<|text_post_train_reserved_special_token_16|>\", rstrip=False, lstrip=False, single_word=False, normalized=False, special=True),\n",
       "\t200030: AddedToken(\"<|text_post_train_reserved_special_token_17|>\", rstrip=False, lstrip=False, single_word=False, normalized=False, special=True),\n",
       "\t200031: AddedToken(\"<|text_post_train_reserved_special_token_18|>\", rstrip=False, lstrip=False, single_word=False, normalized=False, special=True),\n",
       "\t200032: AddedToken(\"<|text_post_train_reserved_special_token_19|>\", rstrip=False, lstrip=False, single_word=False, normalized=False, special=True),\n",
       "\t200033: AddedToken(\"<|text_post_train_reserved_special_token_20|>\", rstrip=False, lstrip=False, single_word=False, normalized=False, special=True),\n",
       "\t200034: AddedToken(\"<|text_post_train_reserved_special_token_21|>\", rstrip=False, lstrip=False, single_word=False, normalized=False, special=True),\n",
       "\t200035: AddedToken(\"<|text_post_train_reserved_special_token_22|>\", rstrip=False, lstrip=False, single_word=False, normalized=False, special=True),\n",
       "\t200036: AddedToken(\"<|text_post_train_reserved_special_token_23|>\", rstrip=False, lstrip=False, single_word=False, normalized=False, special=True),\n",
       "\t200037: AddedToken(\"<|text_post_train_reserved_special_token_24|>\", rstrip=False, lstrip=False, single_word=False, normalized=False, special=True),\n",
       "\t200038: AddedToken(\"<|text_post_train_reserved_special_token_25|>\", rstrip=False, lstrip=False, single_word=False, normalized=False, special=True),\n",
       "\t200039: AddedToken(\"<|text_post_train_reserved_special_token_26|>\", rstrip=False, lstrip=False, single_word=False, normalized=False, special=True),\n",
       "\t200040: AddedToken(\"<|text_post_train_reserved_special_token_27|>\", rstrip=False, lstrip=False, single_word=False, normalized=False, special=True),\n",
       "\t200041: AddedToken(\"<|text_post_train_reserved_special_token_28|>\", rstrip=False, lstrip=False, single_word=False, normalized=False, special=True),\n",
       "\t200042: AddedToken(\"<|text_post_train_reserved_special_token_29|>\", rstrip=False, lstrip=False, single_word=False, normalized=False, special=True),\n",
       "\t200043: AddedToken(\"<|text_post_train_reserved_special_token_30|>\", rstrip=False, lstrip=False, single_word=False, normalized=False, special=True),\n",
       "\t200044: AddedToken(\"<|text_post_train_reserved_special_token_31|>\", rstrip=False, lstrip=False, single_word=False, normalized=False, special=True),\n",
       "\t200045: AddedToken(\"<|text_post_train_reserved_special_token_32|>\", rstrip=False, lstrip=False, single_word=False, normalized=False, special=True),\n",
       "\t200046: AddedToken(\"<|text_post_train_reserved_special_token_33|>\", rstrip=False, lstrip=False, single_word=False, normalized=False, special=True),\n",
       "\t200047: AddedToken(\"<|text_post_train_reserved_special_token_34|>\", rstrip=False, lstrip=False, single_word=False, normalized=False, special=True),\n",
       "\t200048: AddedToken(\"<|text_post_train_reserved_special_token_35|>\", rstrip=False, lstrip=False, single_word=False, normalized=False, special=True),\n",
       "\t200049: AddedToken(\"<|text_post_train_reserved_special_token_36|>\", rstrip=False, lstrip=False, single_word=False, normalized=False, special=True),\n",
       "\t200050: AddedToken(\"<|text_post_train_reserved_special_token_37|>\", rstrip=False, lstrip=False, single_word=False, normalized=False, special=True),\n",
       "\t200051: AddedToken(\"<|text_post_train_reserved_special_token_38|>\", rstrip=False, lstrip=False, single_word=False, normalized=False, special=True),\n",
       "\t200052: AddedToken(\"<|text_post_train_reserved_special_token_39|>\", rstrip=False, lstrip=False, single_word=False, normalized=False, special=True),\n",
       "\t200053: AddedToken(\"<|text_post_train_reserved_special_token_40|>\", rstrip=False, lstrip=False, single_word=False, normalized=False, special=True),\n",
       "\t200054: AddedToken(\"<|text_post_train_reserved_special_token_41|>\", rstrip=False, lstrip=False, single_word=False, normalized=False, special=True),\n",
       "\t200055: AddedToken(\"<|text_post_train_reserved_special_token_42|>\", rstrip=False, lstrip=False, single_word=False, normalized=False, special=True),\n",
       "\t200056: AddedToken(\"<|text_post_train_reserved_special_token_43|>\", rstrip=False, lstrip=False, single_word=False, normalized=False, special=True),\n",
       "\t200057: AddedToken(\"<|text_post_train_reserved_special_token_44|>\", rstrip=False, lstrip=False, single_word=False, normalized=False, special=True),\n",
       "\t200058: AddedToken(\"<|text_post_train_reserved_special_token_45|>\", rstrip=False, lstrip=False, single_word=False, normalized=False, special=True),\n",
       "\t200059: AddedToken(\"<|text_post_train_reserved_special_token_46|>\", rstrip=False, lstrip=False, single_word=False, normalized=False, special=True),\n",
       "\t200060: AddedToken(\"<|text_post_train_reserved_special_token_47|>\", rstrip=False, lstrip=False, single_word=False, normalized=False, special=True),\n",
       "\t200061: AddedToken(\"<|text_post_train_reserved_special_token_48|>\", rstrip=False, lstrip=False, single_word=False, normalized=False, special=True),\n",
       "\t200062: AddedToken(\"<|text_post_train_reserved_special_token_49|>\", rstrip=False, lstrip=False, single_word=False, normalized=False, special=True),\n",
       "\t200063: AddedToken(\"<|text_post_train_reserved_special_token_50|>\", rstrip=False, lstrip=False, single_word=False, normalized=False, special=True),\n",
       "\t200064: AddedToken(\"<|text_post_train_reserved_special_token_51|>\", rstrip=False, lstrip=False, single_word=False, normalized=False, special=True),\n",
       "\t200065: AddedToken(\"<|text_post_train_reserved_special_token_52|>\", rstrip=False, lstrip=False, single_word=False, normalized=False, special=True),\n",
       "\t200066: AddedToken(\"<|text_post_train_reserved_special_token_53|>\", rstrip=False, lstrip=False, single_word=False, normalized=False, special=True),\n",
       "\t200067: AddedToken(\"<|text_post_train_reserved_special_token_54|>\", rstrip=False, lstrip=False, single_word=False, normalized=False, special=True),\n",
       "\t200068: AddedToken(\"<|text_post_train_reserved_special_token_55|>\", rstrip=False, lstrip=False, single_word=False, normalized=False, special=True),\n",
       "\t200069: AddedToken(\"<|text_post_train_reserved_special_token_56|>\", rstrip=False, lstrip=False, single_word=False, normalized=False, special=True),\n",
       "\t200070: AddedToken(\"<|text_post_train_reserved_special_token_57|>\", rstrip=False, lstrip=False, single_word=False, normalized=False, special=True),\n",
       "\t200071: AddedToken(\"<|text_post_train_reserved_special_token_58|>\", rstrip=False, lstrip=False, single_word=False, normalized=False, special=True),\n",
       "\t200072: AddedToken(\"<|text_post_train_reserved_special_token_59|>\", rstrip=False, lstrip=False, single_word=False, normalized=False, special=True),\n",
       "\t200073: AddedToken(\"<|text_post_train_reserved_special_token_60|>\", rstrip=False, lstrip=False, single_word=False, normalized=False, special=True),\n",
       "\t200074: AddedToken(\"<|text_post_train_reserved_special_token_61|>\", rstrip=False, lstrip=False, single_word=False, normalized=False, special=True),\n",
       "\t200075: AddedToken(\"<|text_post_train_reserved_special_token_62|>\", rstrip=False, lstrip=False, single_word=False, normalized=False, special=True),\n",
       "\t200076: AddedToken(\"<|text_post_train_reserved_special_token_63|>\", rstrip=False, lstrip=False, single_word=False, normalized=False, special=True),\n",
       "\t200077: AddedToken(\"<|text_post_train_reserved_special_token_64|>\", rstrip=False, lstrip=False, single_word=False, normalized=False, special=True),\n",
       "\t200078: AddedToken(\"<|text_post_train_reserved_special_token_65|>\", rstrip=False, lstrip=False, single_word=False, normalized=False, special=True),\n",
       "\t200079: AddedToken(\"<|text_post_train_reserved_special_token_66|>\", rstrip=False, lstrip=False, single_word=False, normalized=False, special=True),\n",
       "\t200080: AddedToken(\"<|image_start|>\", rstrip=False, lstrip=False, single_word=False, normalized=False, special=True),\n",
       "\t200081: AddedToken(\"<|image_end|>\", rstrip=False, lstrip=False, single_word=False, normalized=False, special=True),\n",
       "\t200082: AddedToken(\"<|vision_reserved_special_token_0|>\", rstrip=False, lstrip=False, single_word=False, normalized=False, special=True),\n",
       "\t200083: AddedToken(\"<|vision_reserved_special_token_1|>\", rstrip=False, lstrip=False, single_word=False, normalized=False, special=True),\n",
       "\t200084: AddedToken(\"<|tile_x_separator|>\", rstrip=False, lstrip=False, single_word=False, normalized=False, special=True),\n",
       "\t200085: AddedToken(\"<|tile_y_separator|>\", rstrip=False, lstrip=False, single_word=False, normalized=False, special=True),\n",
       "\t200086: AddedToken(\"<|vision_reserved_special_token_2|>\", rstrip=False, lstrip=False, single_word=False, normalized=False, special=True),\n",
       "\t200087: AddedToken(\"<|vision_reserved_special_token_3|>\", rstrip=False, lstrip=False, single_word=False, normalized=False, special=True),\n",
       "\t200088: AddedToken(\"<|vision_reserved_special_token_4|>\", rstrip=False, lstrip=False, single_word=False, normalized=False, special=True),\n",
       "\t200089: AddedToken(\"<|vision_reserved_special_token_5|>\", rstrip=False, lstrip=False, single_word=False, normalized=False, special=True),\n",
       "\t200090: AddedToken(\"<|image|>\", rstrip=False, lstrip=False, single_word=False, normalized=False, special=True),\n",
       "\t200091: AddedToken(\"<|vision_reserved_special_token_6|>\", rstrip=False, lstrip=False, single_word=False, normalized=False, special=True),\n",
       "\t200092: AddedToken(\"<|patch|>\", rstrip=False, lstrip=False, single_word=False, normalized=False, special=True),\n",
       "\t200093: AddedToken(\"<|vision_reserved_special_token_7|>\", rstrip=False, lstrip=False, single_word=False, normalized=False, special=True),\n",
       "\t200094: AddedToken(\"<|vision_reserved_special_token_8|>\", rstrip=False, lstrip=False, single_word=False, normalized=False, special=True),\n",
       "\t200095: AddedToken(\"<|vision_reserved_special_token_9|>\", rstrip=False, lstrip=False, single_word=False, normalized=False, special=True),\n",
       "\t200096: AddedToken(\"<|vision_reserved_special_token_10|>\", rstrip=False, lstrip=False, single_word=False, normalized=False, special=True),\n",
       "\t200097: AddedToken(\"<|vision_reserved_special_token_11|>\", rstrip=False, lstrip=False, single_word=False, normalized=False, special=True),\n",
       "\t200098: AddedToken(\"<|vision_reserved_special_token_12|>\", rstrip=False, lstrip=False, single_word=False, normalized=False, special=True),\n",
       "\t200099: AddedToken(\"<|vision_reserved_special_token_13|>\", rstrip=False, lstrip=False, single_word=False, normalized=False, special=True),\n",
       "\t200100: AddedToken(\"<|vision_reserved_special_token_14|>\", rstrip=False, lstrip=False, single_word=False, normalized=False, special=True),\n",
       "\t200101: AddedToken(\"<|vision_reserved_special_token_15|>\", rstrip=False, lstrip=False, single_word=False, normalized=False, special=True),\n",
       "\t200102: AddedToken(\"<|vision_reserved_special_token_16|>\", rstrip=False, lstrip=False, single_word=False, normalized=False, special=True),\n",
       "\t200103: AddedToken(\"<|vision_reserved_special_token_17|>\", rstrip=False, lstrip=False, single_word=False, normalized=False, special=True),\n",
       "\t200104: AddedToken(\"<|vision_reserved_special_token_18|>\", rstrip=False, lstrip=False, single_word=False, normalized=False, special=True),\n",
       "\t200105: AddedToken(\"<|vision_reserved_special_token_19|>\", rstrip=False, lstrip=False, single_word=False, normalized=False, special=True),\n",
       "\t200106: AddedToken(\"<|vision_reserved_special_token_20|>\", rstrip=False, lstrip=False, single_word=False, normalized=False, special=True),\n",
       "\t200107: AddedToken(\"<|vision_reserved_special_token_21|>\", rstrip=False, lstrip=False, single_word=False, normalized=False, special=True),\n",
       "\t200108: AddedToken(\"<|vision_reserved_special_token_22|>\", rstrip=False, lstrip=False, single_word=False, normalized=False, special=True),\n",
       "\t200109: AddedToken(\"<|vision_reserved_special_token_23|>\", rstrip=False, lstrip=False, single_word=False, normalized=False, special=True),\n",
       "\t200110: AddedToken(\"<|vision_reserved_special_token_24|>\", rstrip=False, lstrip=False, single_word=False, normalized=False, special=True),\n",
       "\t200111: AddedToken(\"<|vision_reserved_special_token_25|>\", rstrip=False, lstrip=False, single_word=False, normalized=False, special=True),\n",
       "\t200112: AddedToken(\"<|vision_reserved_special_token_26|>\", rstrip=False, lstrip=False, single_word=False, normalized=False, special=True),\n",
       "\t200113: AddedToken(\"<|vision_reserved_special_token_27|>\", rstrip=False, lstrip=False, single_word=False, normalized=False, special=True),\n",
       "\t200114: AddedToken(\"<|vision_reserved_special_token_28|>\", rstrip=False, lstrip=False, single_word=False, normalized=False, special=True),\n",
       "\t200115: AddedToken(\"<|vision_reserved_special_token_29|>\", rstrip=False, lstrip=False, single_word=False, normalized=False, special=True),\n",
       "\t200116: AddedToken(\"<|vision_reserved_special_token_30|>\", rstrip=False, lstrip=False, single_word=False, normalized=False, special=True),\n",
       "\t200117: AddedToken(\"<|vision_reserved_special_token_31|>\", rstrip=False, lstrip=False, single_word=False, normalized=False, special=True),\n",
       "\t200118: AddedToken(\"<|vision_reserved_special_token_32|>\", rstrip=False, lstrip=False, single_word=False, normalized=False, special=True),\n",
       "\t200119: AddedToken(\"<|vision_reserved_special_token_33|>\", rstrip=False, lstrip=False, single_word=False, normalized=False, special=True),\n",
       "\t200120: AddedToken(\"<|vision_reserved_special_token_34|>\", rstrip=False, lstrip=False, single_word=False, normalized=False, special=True),\n",
       "\t200121: AddedToken(\"<|vision_reserved_special_token_35|>\", rstrip=False, lstrip=False, single_word=False, normalized=False, special=True),\n",
       "\t200122: AddedToken(\"<|vision_reserved_special_token_36|>\", rstrip=False, lstrip=False, single_word=False, normalized=False, special=True),\n",
       "\t200123: AddedToken(\"<|vision_reserved_special_token_37|>\", rstrip=False, lstrip=False, single_word=False, normalized=False, special=True),\n",
       "\t200124: AddedToken(\"<|vision_reserved_special_token_38|>\", rstrip=False, lstrip=False, single_word=False, normalized=False, special=True),\n",
       "\t200125: AddedToken(\"<|vision_reserved_special_token_39|>\", rstrip=False, lstrip=False, single_word=False, normalized=False, special=True),\n",
       "\t200126: AddedToken(\"<|vision_reserved_special_token_40|>\", rstrip=False, lstrip=False, single_word=False, normalized=False, special=True),\n",
       "\t200127: AddedToken(\"<|vision_reserved_special_token_41|>\", rstrip=False, lstrip=False, single_word=False, normalized=False, special=True),\n",
       "\t200128: AddedToken(\"<|vision_reserved_special_token_42|>\", rstrip=False, lstrip=False, single_word=False, normalized=False, special=True),\n",
       "\t200129: AddedToken(\"<|vision_reserved_special_token_43|>\", rstrip=False, lstrip=False, single_word=False, normalized=False, special=True),\n",
       "\t200130: AddedToken(\"<|vision_reserved_special_token_44|>\", rstrip=False, lstrip=False, single_word=False, normalized=False, special=True),\n",
       "\t200131: AddedToken(\"<|vision_reserved_special_token_45|>\", rstrip=False, lstrip=False, single_word=False, normalized=False, special=True),\n",
       "\t200132: AddedToken(\"<|vision_reserved_special_token_46|>\", rstrip=False, lstrip=False, single_word=False, normalized=False, special=True),\n",
       "\t200133: AddedToken(\"<|vision_reserved_special_token_47|>\", rstrip=False, lstrip=False, single_word=False, normalized=False, special=True),\n",
       "\t200134: AddedToken(\"<|vision_reserved_special_token_48|>\", rstrip=False, lstrip=False, single_word=False, normalized=False, special=True),\n",
       "\t200135: AddedToken(\"<|vision_reserved_special_token_49|>\", rstrip=False, lstrip=False, single_word=False, normalized=False, special=True),\n",
       "\t200136: AddedToken(\"<|vision_reserved_special_token_50|>\", rstrip=False, lstrip=False, single_word=False, normalized=False, special=True),\n",
       "\t200137: AddedToken(\"<|vision_reserved_special_token_51|>\", rstrip=False, lstrip=False, single_word=False, normalized=False, special=True),\n",
       "\t200138: AddedToken(\"<|vision_reserved_special_token_52|>\", rstrip=False, lstrip=False, single_word=False, normalized=False, special=True),\n",
       "\t200139: AddedToken(\"<|vision_reserved_special_token_53|>\", rstrip=False, lstrip=False, single_word=False, normalized=False, special=True),\n",
       "\t200140: AddedToken(\"<|vision_reserved_special_token_54|>\", rstrip=False, lstrip=False, single_word=False, normalized=False, special=True),\n",
       "\t200141: AddedToken(\"<|vision_reserved_special_token_55|>\", rstrip=False, lstrip=False, single_word=False, normalized=False, special=True),\n",
       "\t200142: AddedToken(\"<|vision_reserved_special_token_56|>\", rstrip=False, lstrip=False, single_word=False, normalized=False, special=True),\n",
       "\t200143: AddedToken(\"<|vision_reserved_special_token_57|>\", rstrip=False, lstrip=False, single_word=False, normalized=False, special=True),\n",
       "\t200144: AddedToken(\"<|vision_reserved_special_token_58|>\", rstrip=False, lstrip=False, single_word=False, normalized=False, special=True),\n",
       "\t200145: AddedToken(\"<|vision_reserved_special_token_59|>\", rstrip=False, lstrip=False, single_word=False, normalized=False, special=True),\n",
       "\t200146: AddedToken(\"<|vision_reserved_special_token_60|>\", rstrip=False, lstrip=False, single_word=False, normalized=False, special=True),\n",
       "\t200147: AddedToken(\"<|vision_reserved_special_token_61|>\", rstrip=False, lstrip=False, single_word=False, normalized=False, special=True),\n",
       "\t200148: AddedToken(\"<|vision_reserved_special_token_62|>\", rstrip=False, lstrip=False, single_word=False, normalized=False, special=True),\n",
       "\t200149: AddedToken(\"<|vision_reserved_special_token_63|>\", rstrip=False, lstrip=False, single_word=False, normalized=False, special=True),\n",
       "\t200150: AddedToken(\"<|vision_reserved_special_token_64|>\", rstrip=False, lstrip=False, single_word=False, normalized=False, special=True),\n",
       "\t200151: AddedToken(\"<|vision_reserved_special_token_65|>\", rstrip=False, lstrip=False, single_word=False, normalized=False, special=True),\n",
       "\t200152: AddedToken(\"<|vision_reserved_special_token_66|>\", rstrip=False, lstrip=False, single_word=False, normalized=False, special=True),\n",
       "\t200153: AddedToken(\"<|vision_reserved_special_token_67|>\", rstrip=False, lstrip=False, single_word=False, normalized=False, special=True),\n",
       "\t200154: AddedToken(\"<|vision_reserved_special_token_68|>\", rstrip=False, lstrip=False, single_word=False, normalized=False, special=True),\n",
       "\t200155: AddedToken(\"<|vision_reserved_special_token_69|>\", rstrip=False, lstrip=False, single_word=False, normalized=False, special=True),\n",
       "\t200156: AddedToken(\"<|vision_reserved_special_token_70|>\", rstrip=False, lstrip=False, single_word=False, normalized=False, special=True),\n",
       "\t200157: AddedToken(\"<|vision_reserved_special_token_71|>\", rstrip=False, lstrip=False, single_word=False, normalized=False, special=True),\n",
       "\t200158: AddedToken(\"<|vision_reserved_special_token_72|>\", rstrip=False, lstrip=False, single_word=False, normalized=False, special=True),\n",
       "\t200159: AddedToken(\"<|vision_reserved_special_token_73|>\", rstrip=False, lstrip=False, single_word=False, normalized=False, special=True),\n",
       "\t200160: AddedToken(\"<|vision_reserved_special_token_74|>\", rstrip=False, lstrip=False, single_word=False, normalized=False, special=True),\n",
       "\t200161: AddedToken(\"<|vision_reserved_special_token_75|>\", rstrip=False, lstrip=False, single_word=False, normalized=False, special=True),\n",
       "\t200162: AddedToken(\"<|vision_reserved_special_token_76|>\", rstrip=False, lstrip=False, single_word=False, normalized=False, special=True),\n",
       "\t200163: AddedToken(\"<|vision_reserved_special_token_77|>\", rstrip=False, lstrip=False, single_word=False, normalized=False, special=True),\n",
       "\t200164: AddedToken(\"<|vision_reserved_special_token_78|>\", rstrip=False, lstrip=False, single_word=False, normalized=False, special=True),\n",
       "\t200165: AddedToken(\"<|vision_reserved_special_token_79|>\", rstrip=False, lstrip=False, single_word=False, normalized=False, special=True),\n",
       "\t200166: AddedToken(\"<|vision_reserved_special_token_80|>\", rstrip=False, lstrip=False, single_word=False, normalized=False, special=True),\n",
       "\t200167: AddedToken(\"<|vision_reserved_special_token_81|>\", rstrip=False, lstrip=False, single_word=False, normalized=False, special=True),\n",
       "\t200168: AddedToken(\"<|vision_reserved_special_token_82|>\", rstrip=False, lstrip=False, single_word=False, normalized=False, special=True),\n",
       "\t200169: AddedToken(\"<|vision_reserved_special_token_83|>\", rstrip=False, lstrip=False, single_word=False, normalized=False, special=True),\n",
       "\t200170: AddedToken(\"<|vision_reserved_special_token_84|>\", rstrip=False, lstrip=False, single_word=False, normalized=False, special=True),\n",
       "\t200171: AddedToken(\"<|vision_reserved_special_token_85|>\", rstrip=False, lstrip=False, single_word=False, normalized=False, special=True),\n",
       "\t200172: AddedToken(\"<|vision_reserved_special_token_86|>\", rstrip=False, lstrip=False, single_word=False, normalized=False, special=True),\n",
       "\t200173: AddedToken(\"<|vision_reserved_special_token_87|>\", rstrip=False, lstrip=False, single_word=False, normalized=False, special=True),\n",
       "\t200174: AddedToken(\"<|vision_reserved_special_token_88|>\", rstrip=False, lstrip=False, single_word=False, normalized=False, special=True),\n",
       "\t200175: AddedToken(\"<|vision_reserved_special_token_89|>\", rstrip=False, lstrip=False, single_word=False, normalized=False, special=True),\n",
       "\t200176: AddedToken(\"<|vision_reserved_special_token_90|>\", rstrip=False, lstrip=False, single_word=False, normalized=False, special=True),\n",
       "\t200177: AddedToken(\"<|vision_reserved_special_token_91|>\", rstrip=False, lstrip=False, single_word=False, normalized=False, special=True),\n",
       "\t200178: AddedToken(\"<|vision_reserved_special_token_92|>\", rstrip=False, lstrip=False, single_word=False, normalized=False, special=True),\n",
       "\t200179: AddedToken(\"<|vision_reserved_special_token_93|>\", rstrip=False, lstrip=False, single_word=False, normalized=False, special=True),\n",
       "\t200180: AddedToken(\"<|vision_reserved_special_token_94|>\", rstrip=False, lstrip=False, single_word=False, normalized=False, special=True),\n",
       "\t200181: AddedToken(\"<|vision_reserved_special_token_95|>\", rstrip=False, lstrip=False, single_word=False, normalized=False, special=True),\n",
       "\t200182: AddedToken(\"<|vision_reserved_special_token_96|>\", rstrip=False, lstrip=False, single_word=False, normalized=False, special=True),\n",
       "\t200183: AddedToken(\"<|vision_reserved_special_token_97|>\", rstrip=False, lstrip=False, single_word=False, normalized=False, special=True),\n",
       "\t200184: AddedToken(\"<|vision_reserved_special_token_98|>\", rstrip=False, lstrip=False, single_word=False, normalized=False, special=True),\n",
       "\t200185: AddedToken(\"<|vision_reserved_special_token_99|>\", rstrip=False, lstrip=False, single_word=False, normalized=False, special=True),\n",
       "\t200186: AddedToken(\"<|vision_reserved_special_token_100|>\", rstrip=False, lstrip=False, single_word=False, normalized=False, special=True),\n",
       "\t200187: AddedToken(\"<|vision_reserved_special_token_101|>\", rstrip=False, lstrip=False, single_word=False, normalized=False, special=True),\n",
       "\t200188: AddedToken(\"<|vision_reserved_special_token_102|>\", rstrip=False, lstrip=False, single_word=False, normalized=False, special=True),\n",
       "\t200189: AddedToken(\"<|vision_reserved_special_token_103|>\", rstrip=False, lstrip=False, single_word=False, normalized=False, special=True),\n",
       "\t200190: AddedToken(\"<|vision_reserved_special_token_104|>\", rstrip=False, lstrip=False, single_word=False, normalized=False, special=True),\n",
       "\t200191: AddedToken(\"<|vision_reserved_special_token_105|>\", rstrip=False, lstrip=False, single_word=False, normalized=False, special=True),\n",
       "\t200192: AddedToken(\"<|vision_reserved_special_token_106|>\", rstrip=False, lstrip=False, single_word=False, normalized=False, special=True),\n",
       "\t200193: AddedToken(\"<|vision_reserved_special_token_107|>\", rstrip=False, lstrip=False, single_word=False, normalized=False, special=True),\n",
       "\t200194: AddedToken(\"<|vision_reserved_special_token_108|>\", rstrip=False, lstrip=False, single_word=False, normalized=False, special=True),\n",
       "\t200195: AddedToken(\"<|vision_reserved_special_token_109|>\", rstrip=False, lstrip=False, single_word=False, normalized=False, special=True),\n",
       "\t200196: AddedToken(\"<|vision_reserved_special_token_110|>\", rstrip=False, lstrip=False, single_word=False, normalized=False, special=True),\n",
       "\t200197: AddedToken(\"<|vision_reserved_special_token_111|>\", rstrip=False, lstrip=False, single_word=False, normalized=False, special=True),\n",
       "\t200198: AddedToken(\"<|vision_reserved_special_token_112|>\", rstrip=False, lstrip=False, single_word=False, normalized=False, special=True),\n",
       "\t200199: AddedToken(\"<|vision_reserved_special_token_113|>\", rstrip=False, lstrip=False, single_word=False, normalized=False, special=True),\n",
       "\t200200: AddedToken(\"<|vision_reserved_special_token_114|>\", rstrip=False, lstrip=False, single_word=False, normalized=False, special=True),\n",
       "\t200201: AddedToken(\"<|vision_reserved_special_token_115|>\", rstrip=False, lstrip=False, single_word=False, normalized=False, special=True),\n",
       "\t200202: AddedToken(\"<|vision_reserved_special_token_116|>\", rstrip=False, lstrip=False, single_word=False, normalized=False, special=True),\n",
       "\t200203: AddedToken(\"<|vision_reserved_special_token_117|>\", rstrip=False, lstrip=False, single_word=False, normalized=False, special=True),\n",
       "\t200204: AddedToken(\"<|vision_reserved_special_token_118|>\", rstrip=False, lstrip=False, single_word=False, normalized=False, special=True),\n",
       "\t200205: AddedToken(\"<|vision_reserved_special_token_119|>\", rstrip=False, lstrip=False, single_word=False, normalized=False, special=True),\n",
       "\t200206: AddedToken(\"<|vision_reserved_special_token_120|>\", rstrip=False, lstrip=False, single_word=False, normalized=False, special=True),\n",
       "\t200207: AddedToken(\"<|vision_reserved_special_token_121|>\", rstrip=False, lstrip=False, single_word=False, normalized=False, special=True),\n",
       "\t200208: AddedToken(\"<|vision_reserved_special_token_122|>\", rstrip=False, lstrip=False, single_word=False, normalized=False, special=True),\n",
       "\t200209: AddedToken(\"<|vision_reserved_special_token_123|>\", rstrip=False, lstrip=False, single_word=False, normalized=False, special=True),\n",
       "\t200210: AddedToken(\"<|vision_reserved_special_token_124|>\", rstrip=False, lstrip=False, single_word=False, normalized=False, special=True),\n",
       "\t200211: AddedToken(\"<|vision_reserved_special_token_125|>\", rstrip=False, lstrip=False, single_word=False, normalized=False, special=True),\n",
       "\t200212: AddedToken(\"<|vision_reserved_special_token_126|>\", rstrip=False, lstrip=False, single_word=False, normalized=False, special=True),\n",
       "\t200213: AddedToken(\"<|vision_reserved_special_token_127|>\", rstrip=False, lstrip=False, single_word=False, normalized=False, special=True),\n",
       "\t200214: AddedToken(\"<|vision_reserved_special_token_128|>\", rstrip=False, lstrip=False, single_word=False, normalized=False, special=True),\n",
       "\t200215: AddedToken(\"<|vision_reserved_special_token_129|>\", rstrip=False, lstrip=False, single_word=False, normalized=False, special=True),\n",
       "\t200216: AddedToken(\"<|vision_reserved_special_token_130|>\", rstrip=False, lstrip=False, single_word=False, normalized=False, special=True),\n",
       "\t200217: AddedToken(\"<|vision_reserved_special_token_131|>\", rstrip=False, lstrip=False, single_word=False, normalized=False, special=True),\n",
       "\t200218: AddedToken(\"<|vision_reserved_special_token_132|>\", rstrip=False, lstrip=False, single_word=False, normalized=False, special=True),\n",
       "\t200219: AddedToken(\"<|vision_reserved_special_token_133|>\", rstrip=False, lstrip=False, single_word=False, normalized=False, special=True),\n",
       "\t200220: AddedToken(\"<|vision_reserved_special_token_134|>\", rstrip=False, lstrip=False, single_word=False, normalized=False, special=True),\n",
       "\t200221: AddedToken(\"<|vision_reserved_special_token_135|>\", rstrip=False, lstrip=False, single_word=False, normalized=False, special=True),\n",
       "\t200222: AddedToken(\"<|vision_reserved_special_token_136|>\", rstrip=False, lstrip=False, single_word=False, normalized=False, special=True),\n",
       "\t200223: AddedToken(\"<|vision_reserved_special_token_137|>\", rstrip=False, lstrip=False, single_word=False, normalized=False, special=True),\n",
       "\t200224: AddedToken(\"<|vision_reserved_special_token_138|>\", rstrip=False, lstrip=False, single_word=False, normalized=False, special=True),\n",
       "\t200225: AddedToken(\"<|vision_reserved_special_token_139|>\", rstrip=False, lstrip=False, single_word=False, normalized=False, special=True),\n",
       "\t200226: AddedToken(\"<|vision_reserved_special_token_140|>\", rstrip=False, lstrip=False, single_word=False, normalized=False, special=True),\n",
       "\t200227: AddedToken(\"<|vision_reserved_special_token_141|>\", rstrip=False, lstrip=False, single_word=False, normalized=False, special=True),\n",
       "\t200228: AddedToken(\"<|vision_reserved_special_token_142|>\", rstrip=False, lstrip=False, single_word=False, normalized=False, special=True),\n",
       "\t200229: AddedToken(\"<|vision_reserved_special_token_143|>\", rstrip=False, lstrip=False, single_word=False, normalized=False, special=True),\n",
       "\t200230: AddedToken(\"<|vision_reserved_special_token_144|>\", rstrip=False, lstrip=False, single_word=False, normalized=False, special=True),\n",
       "\t200231: AddedToken(\"<|vision_reserved_special_token_145|>\", rstrip=False, lstrip=False, single_word=False, normalized=False, special=True),\n",
       "\t200232: AddedToken(\"<|vision_reserved_special_token_146|>\", rstrip=False, lstrip=False, single_word=False, normalized=False, special=True),\n",
       "\t200233: AddedToken(\"<|vision_reserved_special_token_147|>\", rstrip=False, lstrip=False, single_word=False, normalized=False, special=True),\n",
       "\t200234: AddedToken(\"<|vision_reserved_special_token_148|>\", rstrip=False, lstrip=False, single_word=False, normalized=False, special=True),\n",
       "\t200235: AddedToken(\"<|vision_reserved_special_token_149|>\", rstrip=False, lstrip=False, single_word=False, normalized=False, special=True),\n",
       "\t200236: AddedToken(\"<|vision_reserved_special_token_150|>\", rstrip=False, lstrip=False, single_word=False, normalized=False, special=True),\n",
       "\t200237: AddedToken(\"<|vision_reserved_special_token_151|>\", rstrip=False, lstrip=False, single_word=False, normalized=False, special=True),\n",
       "\t200238: AddedToken(\"<|vision_reserved_special_token_152|>\", rstrip=False, lstrip=False, single_word=False, normalized=False, special=True),\n",
       "\t200239: AddedToken(\"<|vision_reserved_special_token_153|>\", rstrip=False, lstrip=False, single_word=False, normalized=False, special=True),\n",
       "\t200240: AddedToken(\"<|vision_reserved_special_token_154|>\", rstrip=False, lstrip=False, single_word=False, normalized=False, special=True),\n",
       "\t200241: AddedToken(\"<|vision_reserved_special_token_155|>\", rstrip=False, lstrip=False, single_word=False, normalized=False, special=True),\n",
       "\t200242: AddedToken(\"<|vision_reserved_special_token_156|>\", rstrip=False, lstrip=False, single_word=False, normalized=False, special=True),\n",
       "\t200243: AddedToken(\"<|vision_reserved_special_token_157|>\", rstrip=False, lstrip=False, single_word=False, normalized=False, special=True),\n",
       "\t200244: AddedToken(\"<|vision_reserved_special_token_158|>\", rstrip=False, lstrip=False, single_word=False, normalized=False, special=True),\n",
       "\t200245: AddedToken(\"<|vision_reserved_special_token_159|>\", rstrip=False, lstrip=False, single_word=False, normalized=False, special=True),\n",
       "\t200246: AddedToken(\"<|vision_reserved_special_token_160|>\", rstrip=False, lstrip=False, single_word=False, normalized=False, special=True),\n",
       "\t200247: AddedToken(\"<|vision_reserved_special_token_161|>\", rstrip=False, lstrip=False, single_word=False, normalized=False, special=True),\n",
       "\t200248: AddedToken(\"<|vision_reserved_special_token_162|>\", rstrip=False, lstrip=False, single_word=False, normalized=False, special=True),\n",
       "\t200249: AddedToken(\"<|vision_reserved_special_token_163|>\", rstrip=False, lstrip=False, single_word=False, normalized=False, special=True),\n",
       "\t200250: AddedToken(\"<|vision_reserved_special_token_164|>\", rstrip=False, lstrip=False, single_word=False, normalized=False, special=True),\n",
       "\t200251: AddedToken(\"<|vision_reserved_special_token_165|>\", rstrip=False, lstrip=False, single_word=False, normalized=False, special=True),\n",
       "\t200252: AddedToken(\"<|vision_reserved_special_token_166|>\", rstrip=False, lstrip=False, single_word=False, normalized=False, special=True),\n",
       "\t200253: AddedToken(\"<|vision_reserved_special_token_167|>\", rstrip=False, lstrip=False, single_word=False, normalized=False, special=True),\n",
       "\t200254: AddedToken(\"<|vision_reserved_special_token_168|>\", rstrip=False, lstrip=False, single_word=False, normalized=False, special=True),\n",
       "\t200255: AddedToken(\"<|vision_reserved_special_token_169|>\", rstrip=False, lstrip=False, single_word=False, normalized=False, special=True),\n",
       "\t200256: AddedToken(\"<|vision_reserved_special_token_170|>\", rstrip=False, lstrip=False, single_word=False, normalized=False, special=True),\n",
       "\t200257: AddedToken(\"<|vision_reserved_special_token_171|>\", rstrip=False, lstrip=False, single_word=False, normalized=False, special=True),\n",
       "\t200258: AddedToken(\"<|vision_reserved_special_token_172|>\", rstrip=False, lstrip=False, single_word=False, normalized=False, special=True),\n",
       "\t200259: AddedToken(\"<|vision_reserved_special_token_173|>\", rstrip=False, lstrip=False, single_word=False, normalized=False, special=True),\n",
       "\t200260: AddedToken(\"<|vision_reserved_special_token_174|>\", rstrip=False, lstrip=False, single_word=False, normalized=False, special=True),\n",
       "\t200261: AddedToken(\"<|vision_reserved_special_token_175|>\", rstrip=False, lstrip=False, single_word=False, normalized=False, special=True),\n",
       "\t200262: AddedToken(\"<|vision_reserved_special_token_176|>\", rstrip=False, lstrip=False, single_word=False, normalized=False, special=True),\n",
       "\t200263: AddedToken(\"<|vision_reserved_special_token_177|>\", rstrip=False, lstrip=False, single_word=False, normalized=False, special=True),\n",
       "\t200264: AddedToken(\"<|vision_reserved_special_token_178|>\", rstrip=False, lstrip=False, single_word=False, normalized=False, special=True),\n",
       "\t200265: AddedToken(\"<|vision_reserved_special_token_179|>\", rstrip=False, lstrip=False, single_word=False, normalized=False, special=True),\n",
       "\t200266: AddedToken(\"<|vision_reserved_special_token_180|>\", rstrip=False, lstrip=False, single_word=False, normalized=False, special=True),\n",
       "\t200267: AddedToken(\"<|vision_reserved_special_token_181|>\", rstrip=False, lstrip=False, single_word=False, normalized=False, special=True),\n",
       "\t200268: AddedToken(\"<|vision_reserved_special_token_182|>\", rstrip=False, lstrip=False, single_word=False, normalized=False, special=True),\n",
       "\t200269: AddedToken(\"<|vision_reserved_special_token_183|>\", rstrip=False, lstrip=False, single_word=False, normalized=False, special=True),\n",
       "\t200270: AddedToken(\"<|vision_reserved_special_token_184|>\", rstrip=False, lstrip=False, single_word=False, normalized=False, special=True),\n",
       "\t200271: AddedToken(\"<|vision_reserved_special_token_185|>\", rstrip=False, lstrip=False, single_word=False, normalized=False, special=True),\n",
       "\t200272: AddedToken(\"<|vision_reserved_special_token_186|>\", rstrip=False, lstrip=False, single_word=False, normalized=False, special=True),\n",
       "\t200273: AddedToken(\"<|vision_reserved_special_token_187|>\", rstrip=False, lstrip=False, single_word=False, normalized=False, special=True),\n",
       "\t200274: AddedToken(\"<|vision_reserved_special_token_188|>\", rstrip=False, lstrip=False, single_word=False, normalized=False, special=True),\n",
       "\t200275: AddedToken(\"<|vision_reserved_special_token_189|>\", rstrip=False, lstrip=False, single_word=False, normalized=False, special=True),\n",
       "\t200276: AddedToken(\"<|vision_reserved_special_token_190|>\", rstrip=False, lstrip=False, single_word=False, normalized=False, special=True),\n",
       "\t200277: AddedToken(\"<|vision_reserved_special_token_191|>\", rstrip=False, lstrip=False, single_word=False, normalized=False, special=True),\n",
       "\t200278: AddedToken(\"<|vision_reserved_special_token_192|>\", rstrip=False, lstrip=False, single_word=False, normalized=False, special=True),\n",
       "\t200279: AddedToken(\"<|vision_reserved_special_token_193|>\", rstrip=False, lstrip=False, single_word=False, normalized=False, special=True),\n",
       "\t200280: AddedToken(\"<|vision_reserved_special_token_194|>\", rstrip=False, lstrip=False, single_word=False, normalized=False, special=True),\n",
       "\t200281: AddedToken(\"<|vision_reserved_special_token_195|>\", rstrip=False, lstrip=False, single_word=False, normalized=False, special=True),\n",
       "\t200282: AddedToken(\"<|vision_reserved_special_token_196|>\", rstrip=False, lstrip=False, single_word=False, normalized=False, special=True),\n",
       "\t200283: AddedToken(\"<|vision_reserved_special_token_197|>\", rstrip=False, lstrip=False, single_word=False, normalized=False, special=True),\n",
       "\t200284: AddedToken(\"<|vision_reserved_special_token_198|>\", rstrip=False, lstrip=False, single_word=False, normalized=False, special=True),\n",
       "\t200285: AddedToken(\"<|vision_reserved_special_token_199|>\", rstrip=False, lstrip=False, single_word=False, normalized=False, special=True),\n",
       "\t200286: AddedToken(\"<|vision_reserved_special_token_200|>\", rstrip=False, lstrip=False, single_word=False, normalized=False, special=True),\n",
       "\t200287: AddedToken(\"<|vision_reserved_special_token_201|>\", rstrip=False, lstrip=False, single_word=False, normalized=False, special=True),\n",
       "\t200288: AddedToken(\"<|vision_reserved_special_token_202|>\", rstrip=False, lstrip=False, single_word=False, normalized=False, special=True),\n",
       "\t200289: AddedToken(\"<|vision_reserved_special_token_203|>\", rstrip=False, lstrip=False, single_word=False, normalized=False, special=True),\n",
       "\t200290: AddedToken(\"<|vision_reserved_special_token_204|>\", rstrip=False, lstrip=False, single_word=False, normalized=False, special=True),\n",
       "\t200291: AddedToken(\"<|vision_reserved_special_token_205|>\", rstrip=False, lstrip=False, single_word=False, normalized=False, special=True),\n",
       "\t200292: AddedToken(\"<|vision_reserved_special_token_206|>\", rstrip=False, lstrip=False, single_word=False, normalized=False, special=True),\n",
       "\t200293: AddedToken(\"<|vision_reserved_special_token_207|>\", rstrip=False, lstrip=False, single_word=False, normalized=False, special=True),\n",
       "\t200294: AddedToken(\"<|vision_reserved_special_token_208|>\", rstrip=False, lstrip=False, single_word=False, normalized=False, special=True),\n",
       "\t200295: AddedToken(\"<|vision_reserved_special_token_209|>\", rstrip=False, lstrip=False, single_word=False, normalized=False, special=True),\n",
       "\t200296: AddedToken(\"<|vision_reserved_special_token_210|>\", rstrip=False, lstrip=False, single_word=False, normalized=False, special=True),\n",
       "\t200297: AddedToken(\"<|vision_reserved_special_token_211|>\", rstrip=False, lstrip=False, single_word=False, normalized=False, special=True),\n",
       "\t200298: AddedToken(\"<|vision_reserved_special_token_212|>\", rstrip=False, lstrip=False, single_word=False, normalized=False, special=True),\n",
       "\t200299: AddedToken(\"<|vision_reserved_special_token_213|>\", rstrip=False, lstrip=False, single_word=False, normalized=False, special=True),\n",
       "\t200300: AddedToken(\"<|vision_reserved_special_token_214|>\", rstrip=False, lstrip=False, single_word=False, normalized=False, special=True),\n",
       "\t200301: AddedToken(\"<|vision_reserved_special_token_215|>\", rstrip=False, lstrip=False, single_word=False, normalized=False, special=True),\n",
       "\t200302: AddedToken(\"<|vision_reserved_special_token_216|>\", rstrip=False, lstrip=False, single_word=False, normalized=False, special=True),\n",
       "\t200303: AddedToken(\"<|vision_reserved_special_token_217|>\", rstrip=False, lstrip=False, single_word=False, normalized=False, special=True),\n",
       "\t200304: AddedToken(\"<|vision_reserved_special_token_218|>\", rstrip=False, lstrip=False, single_word=False, normalized=False, special=True),\n",
       "\t200305: AddedToken(\"<|vision_reserved_special_token_219|>\", rstrip=False, lstrip=False, single_word=False, normalized=False, special=True),\n",
       "\t200306: AddedToken(\"<|vision_reserved_special_token_220|>\", rstrip=False, lstrip=False, single_word=False, normalized=False, special=True),\n",
       "\t200307: AddedToken(\"<|vision_reserved_special_token_221|>\", rstrip=False, lstrip=False, single_word=False, normalized=False, special=True),\n",
       "\t200308: AddedToken(\"<|vision_reserved_special_token_222|>\", rstrip=False, lstrip=False, single_word=False, normalized=False, special=True),\n",
       "\t200309: AddedToken(\"<|vision_reserved_special_token_223|>\", rstrip=False, lstrip=False, single_word=False, normalized=False, special=True),\n",
       "\t200310: AddedToken(\"<|vision_reserved_special_token_224|>\", rstrip=False, lstrip=False, single_word=False, normalized=False, special=True),\n",
       "\t200311: AddedToken(\"<|vision_reserved_special_token_225|>\", rstrip=False, lstrip=False, single_word=False, normalized=False, special=True),\n",
       "\t200312: AddedToken(\"<|vision_reserved_special_token_226|>\", rstrip=False, lstrip=False, single_word=False, normalized=False, special=True),\n",
       "\t200313: AddedToken(\"<|vision_reserved_special_token_227|>\", rstrip=False, lstrip=False, single_word=False, normalized=False, special=True),\n",
       "\t200314: AddedToken(\"<|vision_reserved_special_token_228|>\", rstrip=False, lstrip=False, single_word=False, normalized=False, special=True),\n",
       "\t200315: AddedToken(\"<|vision_reserved_special_token_229|>\", rstrip=False, lstrip=False, single_word=False, normalized=False, special=True),\n",
       "\t200316: AddedToken(\"<|vision_reserved_special_token_230|>\", rstrip=False, lstrip=False, single_word=False, normalized=False, special=True),\n",
       "\t200317: AddedToken(\"<|vision_reserved_special_token_231|>\", rstrip=False, lstrip=False, single_word=False, normalized=False, special=True),\n",
       "\t200318: AddedToken(\"<|vision_reserved_special_token_232|>\", rstrip=False, lstrip=False, single_word=False, normalized=False, special=True),\n",
       "\t200319: AddedToken(\"<|vision_reserved_special_token_233|>\", rstrip=False, lstrip=False, single_word=False, normalized=False, special=True),\n",
       "\t200320: AddedToken(\"<|vision_reserved_special_token_234|>\", rstrip=False, lstrip=False, single_word=False, normalized=False, special=True),\n",
       "\t200321: AddedToken(\"<|vision_reserved_special_token_235|>\", rstrip=False, lstrip=False, single_word=False, normalized=False, special=True),\n",
       "\t200322: AddedToken(\"<|vision_reserved_special_token_236|>\", rstrip=False, lstrip=False, single_word=False, normalized=False, special=True),\n",
       "\t200323: AddedToken(\"<|vision_reserved_special_token_237|>\", rstrip=False, lstrip=False, single_word=False, normalized=False, special=True),\n",
       "\t200324: AddedToken(\"<|vision_reserved_special_token_238|>\", rstrip=False, lstrip=False, single_word=False, normalized=False, special=True),\n",
       "\t200325: AddedToken(\"<|vision_reserved_special_token_239|>\", rstrip=False, lstrip=False, single_word=False, normalized=False, special=True),\n",
       "\t200326: AddedToken(\"<|vision_reserved_special_token_240|>\", rstrip=False, lstrip=False, single_word=False, normalized=False, special=True),\n",
       "\t200327: AddedToken(\"<|vision_reserved_special_token_241|>\", rstrip=False, lstrip=False, single_word=False, normalized=False, special=True),\n",
       "\t200328: AddedToken(\"<|vision_reserved_special_token_242|>\", rstrip=False, lstrip=False, single_word=False, normalized=False, special=True),\n",
       "\t200329: AddedToken(\"<|vision_reserved_special_token_243|>\", rstrip=False, lstrip=False, single_word=False, normalized=False, special=True),\n",
       "\t200330: AddedToken(\"<|vision_reserved_special_token_244|>\", rstrip=False, lstrip=False, single_word=False, normalized=False, special=True),\n",
       "\t200331: AddedToken(\"<|vision_reserved_special_token_245|>\", rstrip=False, lstrip=False, single_word=False, normalized=False, special=True),\n",
       "\t200332: AddedToken(\"<|vision_reserved_special_token_246|>\", rstrip=False, lstrip=False, single_word=False, normalized=False, special=True),\n",
       "\t200333: AddedToken(\"<|vision_reserved_special_token_247|>\", rstrip=False, lstrip=False, single_word=False, normalized=False, special=True),\n",
       "\t200334: AddedToken(\"<|vision_reserved_special_token_248|>\", rstrip=False, lstrip=False, single_word=False, normalized=False, special=True),\n",
       "\t200335: AddedToken(\"<|vision_reserved_special_token_249|>\", rstrip=False, lstrip=False, single_word=False, normalized=False, special=True),\n",
       "\t200336: AddedToken(\"<|vision_reserved_special_token_250|>\", rstrip=False, lstrip=False, single_word=False, normalized=False, special=True),\n",
       "\t200337: AddedToken(\"<|vision_reserved_special_token_251|>\", rstrip=False, lstrip=False, single_word=False, normalized=False, special=True),\n",
       "\t200338: AddedToken(\"<|vision_reserved_special_token_252|>\", rstrip=False, lstrip=False, single_word=False, normalized=False, special=True),\n",
       "\t200339: AddedToken(\"<|vision_reserved_special_token_253|>\", rstrip=False, lstrip=False, single_word=False, normalized=False, special=True),\n",
       "\t200340: AddedToken(\"<|vision_reserved_special_token_254|>\", rstrip=False, lstrip=False, single_word=False, normalized=False, special=True),\n",
       "\t200341: AddedToken(\"<|vision_reserved_special_token_255|>\", rstrip=False, lstrip=False, single_word=False, normalized=False, special=True),\n",
       "\t200342: AddedToken(\"<|vision_reserved_special_token_256|>\", rstrip=False, lstrip=False, single_word=False, normalized=False, special=True),\n",
       "\t200343: AddedToken(\"<|vision_reserved_special_token_257|>\", rstrip=False, lstrip=False, single_word=False, normalized=False, special=True),\n",
       "\t200344: AddedToken(\"<|vision_reserved_special_token_258|>\", rstrip=False, lstrip=False, single_word=False, normalized=False, special=True),\n",
       "\t200345: AddedToken(\"<|vision_reserved_special_token_259|>\", rstrip=False, lstrip=False, single_word=False, normalized=False, special=True),\n",
       "\t200346: AddedToken(\"<|vision_reserved_special_token_260|>\", rstrip=False, lstrip=False, single_word=False, normalized=False, special=True),\n",
       "\t200347: AddedToken(\"<|vision_reserved_special_token_261|>\", rstrip=False, lstrip=False, single_word=False, normalized=False, special=True),\n",
       "\t200348: AddedToken(\"<|vision_reserved_special_token_262|>\", rstrip=False, lstrip=False, single_word=False, normalized=False, special=True),\n",
       "\t200349: AddedToken(\"<|vision_reserved_special_token_263|>\", rstrip=False, lstrip=False, single_word=False, normalized=False, special=True),\n",
       "\t200350: AddedToken(\"<|vision_reserved_special_token_264|>\", rstrip=False, lstrip=False, single_word=False, normalized=False, special=True),\n",
       "\t200351: AddedToken(\"<|vision_reserved_special_token_265|>\", rstrip=False, lstrip=False, single_word=False, normalized=False, special=True),\n",
       "\t200352: AddedToken(\"<|vision_reserved_special_token_266|>\", rstrip=False, lstrip=False, single_word=False, normalized=False, special=True),\n",
       "\t200353: AddedToken(\"<|vision_reserved_special_token_267|>\", rstrip=False, lstrip=False, single_word=False, normalized=False, special=True),\n",
       "\t200354: AddedToken(\"<|vision_reserved_special_token_268|>\", rstrip=False, lstrip=False, single_word=False, normalized=False, special=True),\n",
       "\t200355: AddedToken(\"<|vision_reserved_special_token_269|>\", rstrip=False, lstrip=False, single_word=False, normalized=False, special=True),\n",
       "\t200356: AddedToken(\"<|vision_reserved_special_token_270|>\", rstrip=False, lstrip=False, single_word=False, normalized=False, special=True),\n",
       "\t200357: AddedToken(\"<|vision_reserved_special_token_271|>\", rstrip=False, lstrip=False, single_word=False, normalized=False, special=True),\n",
       "\t200358: AddedToken(\"<|vision_reserved_special_token_272|>\", rstrip=False, lstrip=False, single_word=False, normalized=False, special=True),\n",
       "\t200359: AddedToken(\"<|vision_reserved_special_token_273|>\", rstrip=False, lstrip=False, single_word=False, normalized=False, special=True),\n",
       "\t200360: AddedToken(\"<|vision_reserved_special_token_274|>\", rstrip=False, lstrip=False, single_word=False, normalized=False, special=True),\n",
       "\t200361: AddedToken(\"<|vision_reserved_special_token_275|>\", rstrip=False, lstrip=False, single_word=False, normalized=False, special=True),\n",
       "\t200362: AddedToken(\"<|vision_reserved_special_token_276|>\", rstrip=False, lstrip=False, single_word=False, normalized=False, special=True),\n",
       "\t200363: AddedToken(\"<|vision_reserved_special_token_277|>\", rstrip=False, lstrip=False, single_word=False, normalized=False, special=True),\n",
       "\t200364: AddedToken(\"<|vision_reserved_special_token_278|>\", rstrip=False, lstrip=False, single_word=False, normalized=False, special=True),\n",
       "\t200365: AddedToken(\"<|vision_reserved_special_token_279|>\", rstrip=False, lstrip=False, single_word=False, normalized=False, special=True),\n",
       "\t200366: AddedToken(\"<|vision_reserved_special_token_280|>\", rstrip=False, lstrip=False, single_word=False, normalized=False, special=True),\n",
       "\t200367: AddedToken(\"<|vision_reserved_special_token_281|>\", rstrip=False, lstrip=False, single_word=False, normalized=False, special=True),\n",
       "\t200368: AddedToken(\"<|vision_reserved_special_token_282|>\", rstrip=False, lstrip=False, single_word=False, normalized=False, special=True),\n",
       "\t200369: AddedToken(\"<|vision_reserved_special_token_283|>\", rstrip=False, lstrip=False, single_word=False, normalized=False, special=True),\n",
       "\t200370: AddedToken(\"<|vision_reserved_special_token_284|>\", rstrip=False, lstrip=False, single_word=False, normalized=False, special=True),\n",
       "\t200371: AddedToken(\"<|vision_reserved_special_token_285|>\", rstrip=False, lstrip=False, single_word=False, normalized=False, special=True),\n",
       "\t200372: AddedToken(\"<|vision_reserved_special_token_286|>\", rstrip=False, lstrip=False, single_word=False, normalized=False, special=True),\n",
       "\t200373: AddedToken(\"<|vision_reserved_special_token_287|>\", rstrip=False, lstrip=False, single_word=False, normalized=False, special=True),\n",
       "\t200374: AddedToken(\"<|vision_reserved_special_token_288|>\", rstrip=False, lstrip=False, single_word=False, normalized=False, special=True),\n",
       "\t200375: AddedToken(\"<|vision_reserved_special_token_289|>\", rstrip=False, lstrip=False, single_word=False, normalized=False, special=True),\n",
       "\t200376: AddedToken(\"<|vision_reserved_special_token_290|>\", rstrip=False, lstrip=False, single_word=False, normalized=False, special=True),\n",
       "\t200377: AddedToken(\"<|vision_reserved_special_token_291|>\", rstrip=False, lstrip=False, single_word=False, normalized=False, special=True),\n",
       "\t200378: AddedToken(\"<|vision_reserved_special_token_292|>\", rstrip=False, lstrip=False, single_word=False, normalized=False, special=True),\n",
       "\t200379: AddedToken(\"<|vision_reserved_special_token_293|>\", rstrip=False, lstrip=False, single_word=False, normalized=False, special=True),\n",
       "\t200380: AddedToken(\"<|vision_reserved_special_token_294|>\", rstrip=False, lstrip=False, single_word=False, normalized=False, special=True),\n",
       "\t200381: AddedToken(\"<|vision_reserved_special_token_295|>\", rstrip=False, lstrip=False, single_word=False, normalized=False, special=True),\n",
       "\t200382: AddedToken(\"<|vision_reserved_special_token_296|>\", rstrip=False, lstrip=False, single_word=False, normalized=False, special=True),\n",
       "\t200383: AddedToken(\"<|vision_reserved_special_token_297|>\", rstrip=False, lstrip=False, single_word=False, normalized=False, special=True),\n",
       "\t200384: AddedToken(\"<|vision_reserved_special_token_298|>\", rstrip=False, lstrip=False, single_word=False, normalized=False, special=True),\n",
       "\t200385: AddedToken(\"<|vision_reserved_special_token_299|>\", rstrip=False, lstrip=False, single_word=False, normalized=False, special=True),\n",
       "\t200386: AddedToken(\"<|vision_reserved_special_token_300|>\", rstrip=False, lstrip=False, single_word=False, normalized=False, special=True),\n",
       "\t200387: AddedToken(\"<|vision_reserved_special_token_301|>\", rstrip=False, lstrip=False, single_word=False, normalized=False, special=True),\n",
       "\t200388: AddedToken(\"<|vision_reserved_special_token_302|>\", rstrip=False, lstrip=False, single_word=False, normalized=False, special=True),\n",
       "\t200389: AddedToken(\"<|vision_reserved_special_token_303|>\", rstrip=False, lstrip=False, single_word=False, normalized=False, special=True),\n",
       "\t200390: AddedToken(\"<|vision_reserved_special_token_304|>\", rstrip=False, lstrip=False, single_word=False, normalized=False, special=True),\n",
       "\t200391: AddedToken(\"<|vision_reserved_special_token_305|>\", rstrip=False, lstrip=False, single_word=False, normalized=False, special=True),\n",
       "\t200392: AddedToken(\"<|vision_reserved_special_token_306|>\", rstrip=False, lstrip=False, single_word=False, normalized=False, special=True),\n",
       "\t200393: AddedToken(\"<|vision_reserved_special_token_307|>\", rstrip=False, lstrip=False, single_word=False, normalized=False, special=True),\n",
       "\t200394: AddedToken(\"<|vision_reserved_special_token_308|>\", rstrip=False, lstrip=False, single_word=False, normalized=False, special=True),\n",
       "\t200395: AddedToken(\"<|vision_reserved_special_token_309|>\", rstrip=False, lstrip=False, single_word=False, normalized=False, special=True),\n",
       "\t200396: AddedToken(\"<|vision_reserved_special_token_310|>\", rstrip=False, lstrip=False, single_word=False, normalized=False, special=True),\n",
       "\t200397: AddedToken(\"<|vision_reserved_special_token_311|>\", rstrip=False, lstrip=False, single_word=False, normalized=False, special=True),\n",
       "\t200398: AddedToken(\"<|vision_reserved_special_token_312|>\", rstrip=False, lstrip=False, single_word=False, normalized=False, special=True),\n",
       "\t200399: AddedToken(\"<|vision_reserved_special_token_313|>\", rstrip=False, lstrip=False, single_word=False, normalized=False, special=True),\n",
       "\t200400: AddedToken(\"<|vision_reserved_special_token_314|>\", rstrip=False, lstrip=False, single_word=False, normalized=False, special=True),\n",
       "\t200401: AddedToken(\"<|vision_reserved_special_token_315|>\", rstrip=False, lstrip=False, single_word=False, normalized=False, special=True),\n",
       "\t200402: AddedToken(\"<|vision_reserved_special_token_316|>\", rstrip=False, lstrip=False, single_word=False, normalized=False, special=True),\n",
       "\t200403: AddedToken(\"<|vision_reserved_special_token_317|>\", rstrip=False, lstrip=False, single_word=False, normalized=False, special=True),\n",
       "\t200404: AddedToken(\"<|vision_reserved_special_token_318|>\", rstrip=False, lstrip=False, single_word=False, normalized=False, special=True),\n",
       "\t200405: AddedToken(\"<|vision_reserved_special_token_319|>\", rstrip=False, lstrip=False, single_word=False, normalized=False, special=True),\n",
       "\t200406: AddedToken(\"<|vision_reserved_special_token_320|>\", rstrip=False, lstrip=False, single_word=False, normalized=False, special=True),\n",
       "\t200407: AddedToken(\"<|vision_reserved_special_token_321|>\", rstrip=False, lstrip=False, single_word=False, normalized=False, special=True),\n",
       "\t200408: AddedToken(\"<|vision_reserved_special_token_322|>\", rstrip=False, lstrip=False, single_word=False, normalized=False, special=True),\n",
       "\t200409: AddedToken(\"<|vision_reserved_special_token_323|>\", rstrip=False, lstrip=False, single_word=False, normalized=False, special=True),\n",
       "\t200410: AddedToken(\"<|vision_reserved_special_token_324|>\", rstrip=False, lstrip=False, single_word=False, normalized=False, special=True),\n",
       "\t200411: AddedToken(\"<|vision_reserved_special_token_325|>\", rstrip=False, lstrip=False, single_word=False, normalized=False, special=True),\n",
       "\t200412: AddedToken(\"<|vision_reserved_special_token_326|>\", rstrip=False, lstrip=False, single_word=False, normalized=False, special=True),\n",
       "\t200413: AddedToken(\"<|vision_reserved_special_token_327|>\", rstrip=False, lstrip=False, single_word=False, normalized=False, special=True),\n",
       "\t200414: AddedToken(\"<|vision_reserved_special_token_328|>\", rstrip=False, lstrip=False, single_word=False, normalized=False, special=True),\n",
       "\t200415: AddedToken(\"<|vision_reserved_special_token_329|>\", rstrip=False, lstrip=False, single_word=False, normalized=False, special=True),\n",
       "\t200416: AddedToken(\"<|vision_reserved_special_token_330|>\", rstrip=False, lstrip=False, single_word=False, normalized=False, special=True),\n",
       "\t200417: AddedToken(\"<|vision_reserved_special_token_331|>\", rstrip=False, lstrip=False, single_word=False, normalized=False, special=True),\n",
       "\t200418: AddedToken(\"<|vision_reserved_special_token_332|>\", rstrip=False, lstrip=False, single_word=False, normalized=False, special=True),\n",
       "\t200419: AddedToken(\"<|vision_reserved_special_token_333|>\", rstrip=False, lstrip=False, single_word=False, normalized=False, special=True),\n",
       "\t200420: AddedToken(\"<|vision_reserved_special_token_334|>\", rstrip=False, lstrip=False, single_word=False, normalized=False, special=True),\n",
       "\t200421: AddedToken(\"<|vision_reserved_special_token_335|>\", rstrip=False, lstrip=False, single_word=False, normalized=False, special=True),\n",
       "\t200422: AddedToken(\"<|vision_reserved_special_token_336|>\", rstrip=False, lstrip=False, single_word=False, normalized=False, special=True),\n",
       "\t200423: AddedToken(\"<|vision_reserved_special_token_337|>\", rstrip=False, lstrip=False, single_word=False, normalized=False, special=True),\n",
       "\t200424: AddedToken(\"<|vision_reserved_special_token_338|>\", rstrip=False, lstrip=False, single_word=False, normalized=False, special=True),\n",
       "\t200425: AddedToken(\"<|vision_reserved_special_token_339|>\", rstrip=False, lstrip=False, single_word=False, normalized=False, special=True),\n",
       "\t200426: AddedToken(\"<|vision_reserved_special_token_340|>\", rstrip=False, lstrip=False, single_word=False, normalized=False, special=True),\n",
       "\t200427: AddedToken(\"<|vision_reserved_special_token_341|>\", rstrip=False, lstrip=False, single_word=False, normalized=False, special=True),\n",
       "\t200428: AddedToken(\"<|vision_reserved_special_token_342|>\", rstrip=False, lstrip=False, single_word=False, normalized=False, special=True),\n",
       "\t200429: AddedToken(\"<|vision_reserved_special_token_343|>\", rstrip=False, lstrip=False, single_word=False, normalized=False, special=True),\n",
       "\t200430: AddedToken(\"<|vision_reserved_special_token_344|>\", rstrip=False, lstrip=False, single_word=False, normalized=False, special=True),\n",
       "\t200431: AddedToken(\"<|vision_reserved_special_token_345|>\", rstrip=False, lstrip=False, single_word=False, normalized=False, special=True),\n",
       "\t200432: AddedToken(\"<|vision_reserved_special_token_346|>\", rstrip=False, lstrip=False, single_word=False, normalized=False, special=True),\n",
       "\t200433: AddedToken(\"<|vision_reserved_special_token_347|>\", rstrip=False, lstrip=False, single_word=False, normalized=False, special=True),\n",
       "\t200434: AddedToken(\"<|vision_reserved_special_token_348|>\", rstrip=False, lstrip=False, single_word=False, normalized=False, special=True),\n",
       "\t200435: AddedToken(\"<|vision_reserved_special_token_349|>\", rstrip=False, lstrip=False, single_word=False, normalized=False, special=True),\n",
       "\t200436: AddedToken(\"<|vision_reserved_special_token_350|>\", rstrip=False, lstrip=False, single_word=False, normalized=False, special=True),\n",
       "\t200437: AddedToken(\"<|vision_reserved_special_token_351|>\", rstrip=False, lstrip=False, single_word=False, normalized=False, special=True),\n",
       "\t200438: AddedToken(\"<|vision_reserved_special_token_352|>\", rstrip=False, lstrip=False, single_word=False, normalized=False, special=True),\n",
       "\t200439: AddedToken(\"<|vision_reserved_special_token_353|>\", rstrip=False, lstrip=False, single_word=False, normalized=False, special=True),\n",
       "\t200440: AddedToken(\"<|vision_reserved_special_token_354|>\", rstrip=False, lstrip=False, single_word=False, normalized=False, special=True),\n",
       "\t200441: AddedToken(\"<|vision_reserved_special_token_355|>\", rstrip=False, lstrip=False, single_word=False, normalized=False, special=True),\n",
       "\t200442: AddedToken(\"<|vision_reserved_special_token_356|>\", rstrip=False, lstrip=False, single_word=False, normalized=False, special=True),\n",
       "\t200443: AddedToken(\"<|vision_reserved_special_token_357|>\", rstrip=False, lstrip=False, single_word=False, normalized=False, special=True),\n",
       "\t200444: AddedToken(\"<|vision_reserved_special_token_358|>\", rstrip=False, lstrip=False, single_word=False, normalized=False, special=True),\n",
       "\t200445: AddedToken(\"<|vision_reserved_special_token_359|>\", rstrip=False, lstrip=False, single_word=False, normalized=False, special=True),\n",
       "\t200446: AddedToken(\"<|vision_reserved_special_token_360|>\", rstrip=False, lstrip=False, single_word=False, normalized=False, special=True),\n",
       "\t200447: AddedToken(\"<|vision_reserved_special_token_361|>\", rstrip=False, lstrip=False, single_word=False, normalized=False, special=True),\n",
       "\t200448: AddedToken(\"<|vision_reserved_special_token_362|>\", rstrip=False, lstrip=False, single_word=False, normalized=False, special=True),\n",
       "\t200449: AddedToken(\"<|vision_reserved_special_token_363|>\", rstrip=False, lstrip=False, single_word=False, normalized=False, special=True),\n",
       "\t200450: AddedToken(\"<|vision_reserved_special_token_364|>\", rstrip=False, lstrip=False, single_word=False, normalized=False, special=True),\n",
       "\t200451: AddedToken(\"<|vision_reserved_special_token_365|>\", rstrip=False, lstrip=False, single_word=False, normalized=False, special=True),\n",
       "\t200452: AddedToken(\"<|vision_reserved_special_token_366|>\", rstrip=False, lstrip=False, single_word=False, normalized=False, special=True),\n",
       "\t200453: AddedToken(\"<|vision_reserved_special_token_367|>\", rstrip=False, lstrip=False, single_word=False, normalized=False, special=True),\n",
       "\t200454: AddedToken(\"<|vision_reserved_special_token_368|>\", rstrip=False, lstrip=False, single_word=False, normalized=False, special=True),\n",
       "\t200455: AddedToken(\"<|vision_reserved_special_token_369|>\", rstrip=False, lstrip=False, single_word=False, normalized=False, special=True),\n",
       "\t200456: AddedToken(\"<|vision_reserved_special_token_370|>\", rstrip=False, lstrip=False, single_word=False, normalized=False, special=True),\n",
       "\t200457: AddedToken(\"<|vision_reserved_special_token_371|>\", rstrip=False, lstrip=False, single_word=False, normalized=False, special=True),\n",
       "\t200458: AddedToken(\"<|vision_reserved_special_token_372|>\", rstrip=False, lstrip=False, single_word=False, normalized=False, special=True),\n",
       "\t200459: AddedToken(\"<|vision_reserved_special_token_373|>\", rstrip=False, lstrip=False, single_word=False, normalized=False, special=True),\n",
       "\t200460: AddedToken(\"<|vision_reserved_special_token_374|>\", rstrip=False, lstrip=False, single_word=False, normalized=False, special=True),\n",
       "\t200461: AddedToken(\"<|vision_reserved_special_token_375|>\", rstrip=False, lstrip=False, single_word=False, normalized=False, special=True),\n",
       "\t200462: AddedToken(\"<|vision_reserved_special_token_376|>\", rstrip=False, lstrip=False, single_word=False, normalized=False, special=True),\n",
       "\t200463: AddedToken(\"<|vision_reserved_special_token_377|>\", rstrip=False, lstrip=False, single_word=False, normalized=False, special=True),\n",
       "\t200464: AddedToken(\"<|vision_reserved_special_token_378|>\", rstrip=False, lstrip=False, single_word=False, normalized=False, special=True),\n",
       "\t200465: AddedToken(\"<|vision_reserved_special_token_379|>\", rstrip=False, lstrip=False, single_word=False, normalized=False, special=True),\n",
       "\t200466: AddedToken(\"<|vision_reserved_special_token_380|>\", rstrip=False, lstrip=False, single_word=False, normalized=False, special=True),\n",
       "\t200467: AddedToken(\"<|vision_reserved_special_token_381|>\", rstrip=False, lstrip=False, single_word=False, normalized=False, special=True),\n",
       "\t200468: AddedToken(\"<|vision_reserved_special_token_382|>\", rstrip=False, lstrip=False, single_word=False, normalized=False, special=True),\n",
       "\t200469: AddedToken(\"<|vision_reserved_special_token_383|>\", rstrip=False, lstrip=False, single_word=False, normalized=False, special=True),\n",
       "\t200470: AddedToken(\"<|vision_reserved_special_token_384|>\", rstrip=False, lstrip=False, single_word=False, normalized=False, special=True),\n",
       "\t200471: AddedToken(\"<|vision_reserved_special_token_385|>\", rstrip=False, lstrip=False, single_word=False, normalized=False, special=True),\n",
       "\t200472: AddedToken(\"<|vision_reserved_special_token_386|>\", rstrip=False, lstrip=False, single_word=False, normalized=False, special=True),\n",
       "\t200473: AddedToken(\"<|vision_reserved_special_token_387|>\", rstrip=False, lstrip=False, single_word=False, normalized=False, special=True),\n",
       "\t200474: AddedToken(\"<|vision_reserved_special_token_388|>\", rstrip=False, lstrip=False, single_word=False, normalized=False, special=True),\n",
       "\t200475: AddedToken(\"<|vision_reserved_special_token_389|>\", rstrip=False, lstrip=False, single_word=False, normalized=False, special=True),\n",
       "\t200476: AddedToken(\"<|vision_reserved_special_token_390|>\", rstrip=False, lstrip=False, single_word=False, normalized=False, special=True),\n",
       "\t200477: AddedToken(\"<|vision_reserved_special_token_391|>\", rstrip=False, lstrip=False, single_word=False, normalized=False, special=True),\n",
       "\t200478: AddedToken(\"<|vision_reserved_special_token_392|>\", rstrip=False, lstrip=False, single_word=False, normalized=False, special=True),\n",
       "\t200479: AddedToken(\"<|vision_reserved_special_token_393|>\", rstrip=False, lstrip=False, single_word=False, normalized=False, special=True),\n",
       "\t200480: AddedToken(\"<|vision_reserved_special_token_394|>\", rstrip=False, lstrip=False, single_word=False, normalized=False, special=True),\n",
       "\t200481: AddedToken(\"<|vision_reserved_special_token_395|>\", rstrip=False, lstrip=False, single_word=False, normalized=False, special=True),\n",
       "\t200482: AddedToken(\"<|vision_reserved_special_token_396|>\", rstrip=False, lstrip=False, single_word=False, normalized=False, special=True),\n",
       "\t200483: AddedToken(\"<|vision_reserved_special_token_397|>\", rstrip=False, lstrip=False, single_word=False, normalized=False, special=True),\n",
       "\t200484: AddedToken(\"<|vision_reserved_special_token_398|>\", rstrip=False, lstrip=False, single_word=False, normalized=False, special=True),\n",
       "\t200485: AddedToken(\"<|vision_reserved_special_token_399|>\", rstrip=False, lstrip=False, single_word=False, normalized=False, special=True),\n",
       "\t200486: AddedToken(\"<|vision_reserved_special_token_400|>\", rstrip=False, lstrip=False, single_word=False, normalized=False, special=True),\n",
       "\t200487: AddedToken(\"<|vision_reserved_special_token_401|>\", rstrip=False, lstrip=False, single_word=False, normalized=False, special=True),\n",
       "\t200488: AddedToken(\"<|vision_reserved_special_token_402|>\", rstrip=False, lstrip=False, single_word=False, normalized=False, special=True),\n",
       "\t200489: AddedToken(\"<|vision_reserved_special_token_403|>\", rstrip=False, lstrip=False, single_word=False, normalized=False, special=True),\n",
       "\t200490: AddedToken(\"<|vision_reserved_special_token_404|>\", rstrip=False, lstrip=False, single_word=False, normalized=False, special=True),\n",
       "\t200491: AddedToken(\"<|vision_reserved_special_token_405|>\", rstrip=False, lstrip=False, single_word=False, normalized=False, special=True),\n",
       "\t200492: AddedToken(\"<|vision_reserved_special_token_406|>\", rstrip=False, lstrip=False, single_word=False, normalized=False, special=True),\n",
       "\t200493: AddedToken(\"<|vision_reserved_special_token_407|>\", rstrip=False, lstrip=False, single_word=False, normalized=False, special=True),\n",
       "\t200494: AddedToken(\"<|vision_reserved_special_token_408|>\", rstrip=False, lstrip=False, single_word=False, normalized=False, special=True),\n",
       "\t200495: AddedToken(\"<|vision_reserved_special_token_409|>\", rstrip=False, lstrip=False, single_word=False, normalized=False, special=True),\n",
       "\t200496: AddedToken(\"<|vision_reserved_special_token_410|>\", rstrip=False, lstrip=False, single_word=False, normalized=False, special=True),\n",
       "\t200497: AddedToken(\"<|vision_reserved_special_token_411|>\", rstrip=False, lstrip=False, single_word=False, normalized=False, special=True),\n",
       "\t200498: AddedToken(\"<|vision_reserved_special_token_412|>\", rstrip=False, lstrip=False, single_word=False, normalized=False, special=True),\n",
       "\t200499: AddedToken(\"<|vision_reserved_special_token_413|>\", rstrip=False, lstrip=False, single_word=False, normalized=False, special=True),\n",
       "\t200500: AddedToken(\"<|vision_reserved_special_token_414|>\", rstrip=False, lstrip=False, single_word=False, normalized=False, special=True),\n",
       "\t200501: AddedToken(\"<|vision_reserved_special_token_415|>\", rstrip=False, lstrip=False, single_word=False, normalized=False, special=True),\n",
       "\t200502: AddedToken(\"<|vision_reserved_special_token_416|>\", rstrip=False, lstrip=False, single_word=False, normalized=False, special=True),\n",
       "\t200503: AddedToken(\"<|vision_reserved_special_token_417|>\", rstrip=False, lstrip=False, single_word=False, normalized=False, special=True),\n",
       "\t200504: AddedToken(\"<|vision_reserved_special_token_418|>\", rstrip=False, lstrip=False, single_word=False, normalized=False, special=True),\n",
       "\t200505: AddedToken(\"<|vision_reserved_special_token_419|>\", rstrip=False, lstrip=False, single_word=False, normalized=False, special=True),\n",
       "\t200506: AddedToken(\"<|vision_reserved_special_token_420|>\", rstrip=False, lstrip=False, single_word=False, normalized=False, special=True),\n",
       "\t200507: AddedToken(\"<|vision_reserved_special_token_421|>\", rstrip=False, lstrip=False, single_word=False, normalized=False, special=True),\n",
       "\t200508: AddedToken(\"<|vision_reserved_special_token_422|>\", rstrip=False, lstrip=False, single_word=False, normalized=False, special=True),\n",
       "\t200509: AddedToken(\"<|vision_reserved_special_token_423|>\", rstrip=False, lstrip=False, single_word=False, normalized=False, special=True),\n",
       "\t200510: AddedToken(\"<|vision_reserved_special_token_424|>\", rstrip=False, lstrip=False, single_word=False, normalized=False, special=True),\n",
       "\t200511: AddedToken(\"<|vision_reserved_special_token_425|>\", rstrip=False, lstrip=False, single_word=False, normalized=False, special=True),\n",
       "\t200512: AddedToken(\"<|vision_reserved_special_token_426|>\", rstrip=False, lstrip=False, single_word=False, normalized=False, special=True),\n",
       "\t200513: AddedToken(\"<|vision_reserved_special_token_427|>\", rstrip=False, lstrip=False, single_word=False, normalized=False, special=True),\n",
       "\t200514: AddedToken(\"<|vision_reserved_special_token_428|>\", rstrip=False, lstrip=False, single_word=False, normalized=False, special=True),\n",
       "\t200515: AddedToken(\"<|vision_reserved_special_token_429|>\", rstrip=False, lstrip=False, single_word=False, normalized=False, special=True),\n",
       "\t200516: AddedToken(\"<|vision_reserved_special_token_430|>\", rstrip=False, lstrip=False, single_word=False, normalized=False, special=True),\n",
       "\t200517: AddedToken(\"<|vision_reserved_special_token_431|>\", rstrip=False, lstrip=False, single_word=False, normalized=False, special=True),\n",
       "\t200518: AddedToken(\"<|vision_reserved_special_token_432|>\", rstrip=False, lstrip=False, single_word=False, normalized=False, special=True),\n",
       "\t200519: AddedToken(\"<|vision_reserved_special_token_433|>\", rstrip=False, lstrip=False, single_word=False, normalized=False, special=True),\n",
       "\t200520: AddedToken(\"<|vision_reserved_special_token_434|>\", rstrip=False, lstrip=False, single_word=False, normalized=False, special=True),\n",
       "\t200521: AddedToken(\"<|vision_reserved_special_token_435|>\", rstrip=False, lstrip=False, single_word=False, normalized=False, special=True),\n",
       "\t200522: AddedToken(\"<|vision_reserved_special_token_436|>\", rstrip=False, lstrip=False, single_word=False, normalized=False, special=True),\n",
       "\t200523: AddedToken(\"<|vision_reserved_special_token_437|>\", rstrip=False, lstrip=False, single_word=False, normalized=False, special=True),\n",
       "\t200524: AddedToken(\"<|vision_reserved_special_token_438|>\", rstrip=False, lstrip=False, single_word=False, normalized=False, special=True),\n",
       "\t200525: AddedToken(\"<|vision_reserved_special_token_439|>\", rstrip=False, lstrip=False, single_word=False, normalized=False, special=True),\n",
       "\t200526: AddedToken(\"<|vision_reserved_special_token_440|>\", rstrip=False, lstrip=False, single_word=False, normalized=False, special=True),\n",
       "\t200527: AddedToken(\"<|vision_reserved_special_token_441|>\", rstrip=False, lstrip=False, single_word=False, normalized=False, special=True),\n",
       "\t200528: AddedToken(\"<|vision_reserved_special_token_442|>\", rstrip=False, lstrip=False, single_word=False, normalized=False, special=True),\n",
       "\t200529: AddedToken(\"<|vision_reserved_special_token_443|>\", rstrip=False, lstrip=False, single_word=False, normalized=False, special=True),\n",
       "\t200530: AddedToken(\"<|vision_reserved_special_token_444|>\", rstrip=False, lstrip=False, single_word=False, normalized=False, special=True),\n",
       "\t200531: AddedToken(\"<|vision_reserved_special_token_445|>\", rstrip=False, lstrip=False, single_word=False, normalized=False, special=True),\n",
       "\t200532: AddedToken(\"<|vision_reserved_special_token_446|>\", rstrip=False, lstrip=False, single_word=False, normalized=False, special=True),\n",
       "\t200533: AddedToken(\"<|vision_reserved_special_token_447|>\", rstrip=False, lstrip=False, single_word=False, normalized=False, special=True),\n",
       "\t200534: AddedToken(\"<|vision_reserved_special_token_448|>\", rstrip=False, lstrip=False, single_word=False, normalized=False, special=True),\n",
       "\t200535: AddedToken(\"<|vision_reserved_special_token_449|>\", rstrip=False, lstrip=False, single_word=False, normalized=False, special=True),\n",
       "\t200536: AddedToken(\"<|vision_reserved_special_token_450|>\", rstrip=False, lstrip=False, single_word=False, normalized=False, special=True),\n",
       "\t200537: AddedToken(\"<|vision_reserved_special_token_451|>\", rstrip=False, lstrip=False, single_word=False, normalized=False, special=True),\n",
       "\t200538: AddedToken(\"<|vision_reserved_special_token_452|>\", rstrip=False, lstrip=False, single_word=False, normalized=False, special=True),\n",
       "\t200539: AddedToken(\"<|vision_reserved_special_token_453|>\", rstrip=False, lstrip=False, single_word=False, normalized=False, special=True),\n",
       "\t200540: AddedToken(\"<|vision_reserved_special_token_454|>\", rstrip=False, lstrip=False, single_word=False, normalized=False, special=True),\n",
       "\t200541: AddedToken(\"<|vision_reserved_special_token_455|>\", rstrip=False, lstrip=False, single_word=False, normalized=False, special=True),\n",
       "\t200542: AddedToken(\"<|vision_reserved_special_token_456|>\", rstrip=False, lstrip=False, single_word=False, normalized=False, special=True),\n",
       "\t200543: AddedToken(\"<|vision_reserved_special_token_457|>\", rstrip=False, lstrip=False, single_word=False, normalized=False, special=True),\n",
       "\t200544: AddedToken(\"<|vision_reserved_special_token_458|>\", rstrip=False, lstrip=False, single_word=False, normalized=False, special=True),\n",
       "\t200545: AddedToken(\"<|vision_reserved_special_token_459|>\", rstrip=False, lstrip=False, single_word=False, normalized=False, special=True),\n",
       "\t200546: AddedToken(\"<|vision_reserved_special_token_460|>\", rstrip=False, lstrip=False, single_word=False, normalized=False, special=True),\n",
       "\t200547: AddedToken(\"<|vision_reserved_special_token_461|>\", rstrip=False, lstrip=False, single_word=False, normalized=False, special=True),\n",
       "\t200548: AddedToken(\"<|vision_reserved_special_token_462|>\", rstrip=False, lstrip=False, single_word=False, normalized=False, special=True),\n",
       "\t200549: AddedToken(\"<|vision_reserved_special_token_463|>\", rstrip=False, lstrip=False, single_word=False, normalized=False, special=True),\n",
       "\t200550: AddedToken(\"<|vision_reserved_special_token_464|>\", rstrip=False, lstrip=False, single_word=False, normalized=False, special=True),\n",
       "\t200551: AddedToken(\"<|vision_reserved_special_token_465|>\", rstrip=False, lstrip=False, single_word=False, normalized=False, special=True),\n",
       "\t200552: AddedToken(\"<|vision_reserved_special_token_466|>\", rstrip=False, lstrip=False, single_word=False, normalized=False, special=True),\n",
       "\t200553: AddedToken(\"<|vision_reserved_special_token_467|>\", rstrip=False, lstrip=False, single_word=False, normalized=False, special=True),\n",
       "\t200554: AddedToken(\"<|vision_reserved_special_token_468|>\", rstrip=False, lstrip=False, single_word=False, normalized=False, special=True),\n",
       "\t200555: AddedToken(\"<|vision_reserved_special_token_469|>\", rstrip=False, lstrip=False, single_word=False, normalized=False, special=True),\n",
       "\t200556: AddedToken(\"<|vision_reserved_special_token_470|>\", rstrip=False, lstrip=False, single_word=False, normalized=False, special=True),\n",
       "\t200557: AddedToken(\"<|vision_reserved_special_token_471|>\", rstrip=False, lstrip=False, single_word=False, normalized=False, special=True),\n",
       "\t200558: AddedToken(\"<|vision_reserved_special_token_472|>\", rstrip=False, lstrip=False, single_word=False, normalized=False, special=True),\n",
       "\t200559: AddedToken(\"<|vision_reserved_special_token_473|>\", rstrip=False, lstrip=False, single_word=False, normalized=False, special=True),\n",
       "\t200560: AddedToken(\"<|vision_reserved_special_token_474|>\", rstrip=False, lstrip=False, single_word=False, normalized=False, special=True),\n",
       "\t200561: AddedToken(\"<|vision_reserved_special_token_475|>\", rstrip=False, lstrip=False, single_word=False, normalized=False, special=True),\n",
       "\t200562: AddedToken(\"<|vision_reserved_special_token_476|>\", rstrip=False, lstrip=False, single_word=False, normalized=False, special=True),\n",
       "\t200563: AddedToken(\"<|vision_reserved_special_token_477|>\", rstrip=False, lstrip=False, single_word=False, normalized=False, special=True),\n",
       "\t200564: AddedToken(\"<|vision_reserved_special_token_478|>\", rstrip=False, lstrip=False, single_word=False, normalized=False, special=True),\n",
       "\t200565: AddedToken(\"<|vision_reserved_special_token_479|>\", rstrip=False, lstrip=False, single_word=False, normalized=False, special=True),\n",
       "\t200566: AddedToken(\"<|vision_reserved_special_token_480|>\", rstrip=False, lstrip=False, single_word=False, normalized=False, special=True),\n",
       "\t200567: AddedToken(\"<|vision_reserved_special_token_481|>\", rstrip=False, lstrip=False, single_word=False, normalized=False, special=True),\n",
       "\t200568: AddedToken(\"<|vision_reserved_special_token_482|>\", rstrip=False, lstrip=False, single_word=False, normalized=False, special=True),\n",
       "\t200569: AddedToken(\"<|vision_reserved_special_token_483|>\", rstrip=False, lstrip=False, single_word=False, normalized=False, special=True),\n",
       "\t200570: AddedToken(\"<|vision_reserved_special_token_484|>\", rstrip=False, lstrip=False, single_word=False, normalized=False, special=True),\n",
       "\t200571: AddedToken(\"<|vision_reserved_special_token_485|>\", rstrip=False, lstrip=False, single_word=False, normalized=False, special=True),\n",
       "\t200572: AddedToken(\"<|vision_reserved_special_token_486|>\", rstrip=False, lstrip=False, single_word=False, normalized=False, special=True),\n",
       "\t200573: AddedToken(\"<|vision_reserved_special_token_487|>\", rstrip=False, lstrip=False, single_word=False, normalized=False, special=True),\n",
       "\t200574: AddedToken(\"<|vision_reserved_special_token_488|>\", rstrip=False, lstrip=False, single_word=False, normalized=False, special=True),\n",
       "\t200575: AddedToken(\"<|vision_reserved_special_token_489|>\", rstrip=False, lstrip=False, single_word=False, normalized=False, special=True),\n",
       "\t200576: AddedToken(\"<|vision_reserved_special_token_490|>\", rstrip=False, lstrip=False, single_word=False, normalized=False, special=True),\n",
       "\t200577: AddedToken(\"<|vision_reserved_special_token_491|>\", rstrip=False, lstrip=False, single_word=False, normalized=False, special=True),\n",
       "\t200578: AddedToken(\"<|vision_reserved_special_token_492|>\", rstrip=False, lstrip=False, single_word=False, normalized=False, special=True),\n",
       "\t200579: AddedToken(\"<|vision_reserved_special_token_493|>\", rstrip=False, lstrip=False, single_word=False, normalized=False, special=True),\n",
       "\t200580: AddedToken(\"<|vision_reserved_special_token_494|>\", rstrip=False, lstrip=False, single_word=False, normalized=False, special=True),\n",
       "\t200581: AddedToken(\"<|vision_reserved_special_token_495|>\", rstrip=False, lstrip=False, single_word=False, normalized=False, special=True),\n",
       "\t200582: AddedToken(\"<|vision_reserved_special_token_496|>\", rstrip=False, lstrip=False, single_word=False, normalized=False, special=True),\n",
       "\t200583: AddedToken(\"<|vision_reserved_special_token_497|>\", rstrip=False, lstrip=False, single_word=False, normalized=False, special=True),\n",
       "\t200584: AddedToken(\"<|vision_reserved_special_token_498|>\", rstrip=False, lstrip=False, single_word=False, normalized=False, special=True),\n",
       "\t200585: AddedToken(\"<|vision_reserved_special_token_499|>\", rstrip=False, lstrip=False, single_word=False, normalized=False, special=True),\n",
       "\t200586: AddedToken(\"<|vision_reserved_special_token_500|>\", rstrip=False, lstrip=False, single_word=False, normalized=False, special=True),\n",
       "\t200587: AddedToken(\"<|vision_reserved_special_token_501|>\", rstrip=False, lstrip=False, single_word=False, normalized=False, special=True),\n",
       "\t200588: AddedToken(\"<|vision_reserved_special_token_502|>\", rstrip=False, lstrip=False, single_word=False, normalized=False, special=True),\n",
       "\t200589: AddedToken(\"<|vision_reserved_special_token_503|>\", rstrip=False, lstrip=False, single_word=False, normalized=False, special=True),\n",
       "\t200590: AddedToken(\"<|vision_reserved_special_token_504|>\", rstrip=False, lstrip=False, single_word=False, normalized=False, special=True),\n",
       "\t200591: AddedToken(\"<|vision_reserved_special_token_505|>\", rstrip=False, lstrip=False, single_word=False, normalized=False, special=True),\n",
       "\t200592: AddedToken(\"<|vision_reserved_special_token_506|>\", rstrip=False, lstrip=False, single_word=False, normalized=False, special=True),\n",
       "\t200593: AddedToken(\"<|vision_reserved_special_token_507|>\", rstrip=False, lstrip=False, single_word=False, normalized=False, special=True),\n",
       "\t200594: AddedToken(\"<|vision_reserved_special_token_508|>\", rstrip=False, lstrip=False, single_word=False, normalized=False, special=True),\n",
       "\t200595: AddedToken(\"<|vision_reserved_special_token_509|>\", rstrip=False, lstrip=False, single_word=False, normalized=False, special=True),\n",
       "\t200596: AddedToken(\"<|vision_reserved_special_token_510|>\", rstrip=False, lstrip=False, single_word=False, normalized=False, special=True),\n",
       "\t200597: AddedToken(\"<|vision_reserved_special_token_511|>\", rstrip=False, lstrip=False, single_word=False, normalized=False, special=True),\n",
       "\t200598: AddedToken(\"<|vision_reserved_special_token_512|>\", rstrip=False, lstrip=False, single_word=False, normalized=False, special=True),\n",
       "\t200599: AddedToken(\"<|vision_reserved_special_token_513|>\", rstrip=False, lstrip=False, single_word=False, normalized=False, special=True),\n",
       "\t200600: AddedToken(\"<|vision_reserved_special_token_514|>\", rstrip=False, lstrip=False, single_word=False, normalized=False, special=True),\n",
       "\t200601: AddedToken(\"<|vision_reserved_special_token_515|>\", rstrip=False, lstrip=False, single_word=False, normalized=False, special=True),\n",
       "\t200602: AddedToken(\"<|vision_reserved_special_token_516|>\", rstrip=False, lstrip=False, single_word=False, normalized=False, special=True),\n",
       "\t200603: AddedToken(\"<|vision_reserved_special_token_517|>\", rstrip=False, lstrip=False, single_word=False, normalized=False, special=True),\n",
       "\t200604: AddedToken(\"<|vision_reserved_special_token_518|>\", rstrip=False, lstrip=False, single_word=False, normalized=False, special=True),\n",
       "\t200605: AddedToken(\"<|vision_reserved_special_token_519|>\", rstrip=False, lstrip=False, single_word=False, normalized=False, special=True),\n",
       "\t200606: AddedToken(\"<|vision_reserved_special_token_520|>\", rstrip=False, lstrip=False, single_word=False, normalized=False, special=True),\n",
       "\t200607: AddedToken(\"<|vision_reserved_special_token_521|>\", rstrip=False, lstrip=False, single_word=False, normalized=False, special=True),\n",
       "\t200608: AddedToken(\"<|vision_reserved_special_token_522|>\", rstrip=False, lstrip=False, single_word=False, normalized=False, special=True),\n",
       "\t200609: AddedToken(\"<|vision_reserved_special_token_523|>\", rstrip=False, lstrip=False, single_word=False, normalized=False, special=True),\n",
       "\t200610: AddedToken(\"<|vision_reserved_special_token_524|>\", rstrip=False, lstrip=False, single_word=False, normalized=False, special=True),\n",
       "\t200611: AddedToken(\"<|vision_reserved_special_token_525|>\", rstrip=False, lstrip=False, single_word=False, normalized=False, special=True),\n",
       "\t200612: AddedToken(\"<|vision_reserved_special_token_526|>\", rstrip=False, lstrip=False, single_word=False, normalized=False, special=True),\n",
       "\t200613: AddedToken(\"<|vision_reserved_special_token_527|>\", rstrip=False, lstrip=False, single_word=False, normalized=False, special=True),\n",
       "\t200614: AddedToken(\"<|vision_reserved_special_token_528|>\", rstrip=False, lstrip=False, single_word=False, normalized=False, special=True),\n",
       "\t200615: AddedToken(\"<|vision_reserved_special_token_529|>\", rstrip=False, lstrip=False, single_word=False, normalized=False, special=True),\n",
       "\t200616: AddedToken(\"<|vision_reserved_special_token_530|>\", rstrip=False, lstrip=False, single_word=False, normalized=False, special=True),\n",
       "\t200617: AddedToken(\"<|vision_reserved_special_token_531|>\", rstrip=False, lstrip=False, single_word=False, normalized=False, special=True),\n",
       "\t200618: AddedToken(\"<|vision_reserved_special_token_532|>\", rstrip=False, lstrip=False, single_word=False, normalized=False, special=True),\n",
       "\t200619: AddedToken(\"<|vision_reserved_special_token_533|>\", rstrip=False, lstrip=False, single_word=False, normalized=False, special=True),\n",
       "\t200620: AddedToken(\"<|vision_reserved_special_token_534|>\", rstrip=False, lstrip=False, single_word=False, normalized=False, special=True),\n",
       "\t200621: AddedToken(\"<|vision_reserved_special_token_535|>\", rstrip=False, lstrip=False, single_word=False, normalized=False, special=True),\n",
       "\t200622: AddedToken(\"<|vision_reserved_special_token_536|>\", rstrip=False, lstrip=False, single_word=False, normalized=False, special=True),\n",
       "\t200623: AddedToken(\"<|vision_reserved_special_token_537|>\", rstrip=False, lstrip=False, single_word=False, normalized=False, special=True),\n",
       "\t200624: AddedToken(\"<|vision_reserved_special_token_538|>\", rstrip=False, lstrip=False, single_word=False, normalized=False, special=True),\n",
       "\t200625: AddedToken(\"<|vision_reserved_special_token_539|>\", rstrip=False, lstrip=False, single_word=False, normalized=False, special=True),\n",
       "\t200626: AddedToken(\"<|vision_reserved_special_token_540|>\", rstrip=False, lstrip=False, single_word=False, normalized=False, special=True),\n",
       "\t200627: AddedToken(\"<|vision_reserved_special_token_541|>\", rstrip=False, lstrip=False, single_word=False, normalized=False, special=True),\n",
       "\t200628: AddedToken(\"<|vision_reserved_special_token_542|>\", rstrip=False, lstrip=False, single_word=False, normalized=False, special=True),\n",
       "\t200629: AddedToken(\"<|vision_reserved_special_token_543|>\", rstrip=False, lstrip=False, single_word=False, normalized=False, special=True),\n",
       "\t200630: AddedToken(\"<|vision_reserved_special_token_544|>\", rstrip=False, lstrip=False, single_word=False, normalized=False, special=True),\n",
       "\t200631: AddedToken(\"<|vision_reserved_special_token_545|>\", rstrip=False, lstrip=False, single_word=False, normalized=False, special=True),\n",
       "\t200632: AddedToken(\"<|vision_reserved_special_token_546|>\", rstrip=False, lstrip=False, single_word=False, normalized=False, special=True),\n",
       "\t200633: AddedToken(\"<|vision_reserved_special_token_547|>\", rstrip=False, lstrip=False, single_word=False, normalized=False, special=True),\n",
       "\t200634: AddedToken(\"<|vision_reserved_special_token_548|>\", rstrip=False, lstrip=False, single_word=False, normalized=False, special=True),\n",
       "\t200635: AddedToken(\"<|vision_reserved_special_token_549|>\", rstrip=False, lstrip=False, single_word=False, normalized=False, special=True),\n",
       "\t200636: AddedToken(\"<|vision_reserved_special_token_550|>\", rstrip=False, lstrip=False, single_word=False, normalized=False, special=True),\n",
       "\t200637: AddedToken(\"<|vision_reserved_special_token_551|>\", rstrip=False, lstrip=False, single_word=False, normalized=False, special=True),\n",
       "\t200638: AddedToken(\"<|vision_reserved_special_token_552|>\", rstrip=False, lstrip=False, single_word=False, normalized=False, special=True),\n",
       "\t200639: AddedToken(\"<|vision_reserved_special_token_553|>\", rstrip=False, lstrip=False, single_word=False, normalized=False, special=True),\n",
       "\t200640: AddedToken(\"<|vision_reserved_special_token_554|>\", rstrip=False, lstrip=False, single_word=False, normalized=False, special=True),\n",
       "\t200641: AddedToken(\"<|vision_reserved_special_token_555|>\", rstrip=False, lstrip=False, single_word=False, normalized=False, special=True),\n",
       "\t200642: AddedToken(\"<|vision_reserved_special_token_556|>\", rstrip=False, lstrip=False, single_word=False, normalized=False, special=True),\n",
       "\t200643: AddedToken(\"<|vision_reserved_special_token_557|>\", rstrip=False, lstrip=False, single_word=False, normalized=False, special=True),\n",
       "\t200644: AddedToken(\"<|vision_reserved_special_token_558|>\", rstrip=False, lstrip=False, single_word=False, normalized=False, special=True),\n",
       "\t200645: AddedToken(\"<|vision_reserved_special_token_559|>\", rstrip=False, lstrip=False, single_word=False, normalized=False, special=True),\n",
       "\t200646: AddedToken(\"<|vision_reserved_special_token_560|>\", rstrip=False, lstrip=False, single_word=False, normalized=False, special=True),\n",
       "\t200647: AddedToken(\"<|vision_reserved_special_token_561|>\", rstrip=False, lstrip=False, single_word=False, normalized=False, special=True),\n",
       "\t200648: AddedToken(\"<|vision_reserved_special_token_562|>\", rstrip=False, lstrip=False, single_word=False, normalized=False, special=True),\n",
       "\t200649: AddedToken(\"<|vision_reserved_special_token_563|>\", rstrip=False, lstrip=False, single_word=False, normalized=False, special=True),\n",
       "\t200650: AddedToken(\"<|vision_reserved_special_token_564|>\", rstrip=False, lstrip=False, single_word=False, normalized=False, special=True),\n",
       "\t200651: AddedToken(\"<|vision_reserved_special_token_565|>\", rstrip=False, lstrip=False, single_word=False, normalized=False, special=True),\n",
       "\t200652: AddedToken(\"<|vision_reserved_special_token_566|>\", rstrip=False, lstrip=False, single_word=False, normalized=False, special=True),\n",
       "\t200653: AddedToken(\"<|vision_reserved_special_token_567|>\", rstrip=False, lstrip=False, single_word=False, normalized=False, special=True),\n",
       "\t200654: AddedToken(\"<|vision_reserved_special_token_568|>\", rstrip=False, lstrip=False, single_word=False, normalized=False, special=True),\n",
       "\t200655: AddedToken(\"<|vision_reserved_special_token_569|>\", rstrip=False, lstrip=False, single_word=False, normalized=False, special=True),\n",
       "\t200656: AddedToken(\"<|vision_reserved_special_token_570|>\", rstrip=False, lstrip=False, single_word=False, normalized=False, special=True),\n",
       "\t200657: AddedToken(\"<|vision_reserved_special_token_571|>\", rstrip=False, lstrip=False, single_word=False, normalized=False, special=True),\n",
       "\t200658: AddedToken(\"<|vision_reserved_special_token_572|>\", rstrip=False, lstrip=False, single_word=False, normalized=False, special=True),\n",
       "\t200659: AddedToken(\"<|vision_reserved_special_token_573|>\", rstrip=False, lstrip=False, single_word=False, normalized=False, special=True),\n",
       "\t200660: AddedToken(\"<|vision_reserved_special_token_574|>\", rstrip=False, lstrip=False, single_word=False, normalized=False, special=True),\n",
       "\t200661: AddedToken(\"<|vision_reserved_special_token_575|>\", rstrip=False, lstrip=False, single_word=False, normalized=False, special=True),\n",
       "\t200662: AddedToken(\"<|vision_reserved_special_token_576|>\", rstrip=False, lstrip=False, single_word=False, normalized=False, special=True),\n",
       "\t200663: AddedToken(\"<|vision_reserved_special_token_577|>\", rstrip=False, lstrip=False, single_word=False, normalized=False, special=True),\n",
       "\t200664: AddedToken(\"<|vision_reserved_special_token_578|>\", rstrip=False, lstrip=False, single_word=False, normalized=False, special=True),\n",
       "\t200665: AddedToken(\"<|vision_reserved_special_token_579|>\", rstrip=False, lstrip=False, single_word=False, normalized=False, special=True),\n",
       "\t200666: AddedToken(\"<|vision_reserved_special_token_580|>\", rstrip=False, lstrip=False, single_word=False, normalized=False, special=True),\n",
       "\t200667: AddedToken(\"<|vision_reserved_special_token_581|>\", rstrip=False, lstrip=False, single_word=False, normalized=False, special=True),\n",
       "\t200668: AddedToken(\"<|vision_reserved_special_token_582|>\", rstrip=False, lstrip=False, single_word=False, normalized=False, special=True),\n",
       "\t200669: AddedToken(\"<|vision_reserved_special_token_583|>\", rstrip=False, lstrip=False, single_word=False, normalized=False, special=True),\n",
       "\t200670: AddedToken(\"<|vision_reserved_special_token_584|>\", rstrip=False, lstrip=False, single_word=False, normalized=False, special=True),\n",
       "\t200671: AddedToken(\"<|vision_reserved_special_token_585|>\", rstrip=False, lstrip=False, single_word=False, normalized=False, special=True),\n",
       "\t200672: AddedToken(\"<|vision_reserved_special_token_586|>\", rstrip=False, lstrip=False, single_word=False, normalized=False, special=True),\n",
       "\t200673: AddedToken(\"<|vision_reserved_special_token_587|>\", rstrip=False, lstrip=False, single_word=False, normalized=False, special=True),\n",
       "\t200674: AddedToken(\"<|vision_reserved_special_token_588|>\", rstrip=False, lstrip=False, single_word=False, normalized=False, special=True),\n",
       "\t200675: AddedToken(\"<|vision_reserved_special_token_589|>\", rstrip=False, lstrip=False, single_word=False, normalized=False, special=True),\n",
       "\t200676: AddedToken(\"<|vision_reserved_special_token_590|>\", rstrip=False, lstrip=False, single_word=False, normalized=False, special=True),\n",
       "\t200677: AddedToken(\"<|vision_reserved_special_token_591|>\", rstrip=False, lstrip=False, single_word=False, normalized=False, special=True),\n",
       "\t200678: AddedToken(\"<|vision_reserved_special_token_592|>\", rstrip=False, lstrip=False, single_word=False, normalized=False, special=True),\n",
       "\t200679: AddedToken(\"<|vision_reserved_special_token_593|>\", rstrip=False, lstrip=False, single_word=False, normalized=False, special=True),\n",
       "\t200680: AddedToken(\"<|vision_reserved_special_token_594|>\", rstrip=False, lstrip=False, single_word=False, normalized=False, special=True),\n",
       "\t200681: AddedToken(\"<|vision_reserved_special_token_595|>\", rstrip=False, lstrip=False, single_word=False, normalized=False, special=True),\n",
       "\t200682: AddedToken(\"<|vision_reserved_special_token_596|>\", rstrip=False, lstrip=False, single_word=False, normalized=False, special=True),\n",
       "\t200683: AddedToken(\"<|vision_reserved_special_token_597|>\", rstrip=False, lstrip=False, single_word=False, normalized=False, special=True),\n",
       "\t200684: AddedToken(\"<|vision_reserved_special_token_598|>\", rstrip=False, lstrip=False, single_word=False, normalized=False, special=True),\n",
       "\t200685: AddedToken(\"<|vision_reserved_special_token_599|>\", rstrip=False, lstrip=False, single_word=False, normalized=False, special=True),\n",
       "\t200686: AddedToken(\"<|vision_reserved_special_token_600|>\", rstrip=False, lstrip=False, single_word=False, normalized=False, special=True),\n",
       "\t200687: AddedToken(\"<|vision_reserved_special_token_601|>\", rstrip=False, lstrip=False, single_word=False, normalized=False, special=True),\n",
       "\t200688: AddedToken(\"<|vision_reserved_special_token_602|>\", rstrip=False, lstrip=False, single_word=False, normalized=False, special=True),\n",
       "\t200689: AddedToken(\"<|vision_reserved_special_token_603|>\", rstrip=False, lstrip=False, single_word=False, normalized=False, special=True),\n",
       "\t200690: AddedToken(\"<|vision_reserved_special_token_604|>\", rstrip=False, lstrip=False, single_word=False, normalized=False, special=True),\n",
       "\t200691: AddedToken(\"<|vision_reserved_special_token_605|>\", rstrip=False, lstrip=False, single_word=False, normalized=False, special=True),\n",
       "\t200692: AddedToken(\"<|vision_reserved_special_token_606|>\", rstrip=False, lstrip=False, single_word=False, normalized=False, special=True),\n",
       "\t200693: AddedToken(\"<|vision_reserved_special_token_607|>\", rstrip=False, lstrip=False, single_word=False, normalized=False, special=True),\n",
       "\t200694: AddedToken(\"<|vision_reserved_special_token_608|>\", rstrip=False, lstrip=False, single_word=False, normalized=False, special=True),\n",
       "\t200695: AddedToken(\"<|vision_reserved_special_token_609|>\", rstrip=False, lstrip=False, single_word=False, normalized=False, special=True),\n",
       "\t200696: AddedToken(\"<|vision_reserved_special_token_610|>\", rstrip=False, lstrip=False, single_word=False, normalized=False, special=True),\n",
       "\t200697: AddedToken(\"<|vision_reserved_special_token_611|>\", rstrip=False, lstrip=False, single_word=False, normalized=False, special=True),\n",
       "\t200698: AddedToken(\"<|vision_reserved_special_token_612|>\", rstrip=False, lstrip=False, single_word=False, normalized=False, special=True),\n",
       "\t200699: AddedToken(\"<|vision_reserved_special_token_613|>\", rstrip=False, lstrip=False, single_word=False, normalized=False, special=True),\n",
       "\t200700: AddedToken(\"<|vision_reserved_special_token_614|>\", rstrip=False, lstrip=False, single_word=False, normalized=False, special=True),\n",
       "\t200701: AddedToken(\"<|vision_reserved_special_token_615|>\", rstrip=False, lstrip=False, single_word=False, normalized=False, special=True),\n",
       "\t200702: AddedToken(\"<|vision_reserved_special_token_616|>\", rstrip=False, lstrip=False, single_word=False, normalized=False, special=True),\n",
       "\t200703: AddedToken(\"<|vision_reserved_special_token_617|>\", rstrip=False, lstrip=False, single_word=False, normalized=False, special=True),\n",
       "\t200704: AddedToken(\"<|vision_reserved_special_token_618|>\", rstrip=False, lstrip=False, single_word=False, normalized=False, special=True),\n",
       "\t200705: AddedToken(\"<|vision_reserved_special_token_619|>\", rstrip=False, lstrip=False, single_word=False, normalized=False, special=True),\n",
       "\t200706: AddedToken(\"<|vision_reserved_special_token_620|>\", rstrip=False, lstrip=False, single_word=False, normalized=False, special=True),\n",
       "\t200707: AddedToken(\"<|vision_reserved_special_token_621|>\", rstrip=False, lstrip=False, single_word=False, normalized=False, special=True),\n",
       "\t200708: AddedToken(\"<|vision_reserved_special_token_622|>\", rstrip=False, lstrip=False, single_word=False, normalized=False, special=True),\n",
       "\t200709: AddedToken(\"<|vision_reserved_special_token_623|>\", rstrip=False, lstrip=False, single_word=False, normalized=False, special=True),\n",
       "\t200710: AddedToken(\"<|vision_reserved_special_token_624|>\", rstrip=False, lstrip=False, single_word=False, normalized=False, special=True),\n",
       "\t200711: AddedToken(\"<|vision_reserved_special_token_625|>\", rstrip=False, lstrip=False, single_word=False, normalized=False, special=True),\n",
       "\t200712: AddedToken(\"<|vision_reserved_special_token_626|>\", rstrip=False, lstrip=False, single_word=False, normalized=False, special=True),\n",
       "\t200713: AddedToken(\"<|vision_reserved_special_token_627|>\", rstrip=False, lstrip=False, single_word=False, normalized=False, special=True),\n",
       "\t200714: AddedToken(\"<|vision_reserved_special_token_628|>\", rstrip=False, lstrip=False, single_word=False, normalized=False, special=True),\n",
       "\t200715: AddedToken(\"<|vision_reserved_special_token_629|>\", rstrip=False, lstrip=False, single_word=False, normalized=False, special=True),\n",
       "\t200716: AddedToken(\"<|vision_reserved_special_token_630|>\", rstrip=False, lstrip=False, single_word=False, normalized=False, special=True),\n",
       "\t200717: AddedToken(\"<|vision_reserved_special_token_631|>\", rstrip=False, lstrip=False, single_word=False, normalized=False, special=True),\n",
       "\t200718: AddedToken(\"<|vision_reserved_special_token_632|>\", rstrip=False, lstrip=False, single_word=False, normalized=False, special=True),\n",
       "\t200719: AddedToken(\"<|vision_reserved_special_token_633|>\", rstrip=False, lstrip=False, single_word=False, normalized=False, special=True),\n",
       "\t200720: AddedToken(\"<|vision_reserved_special_token_634|>\", rstrip=False, lstrip=False, single_word=False, normalized=False, special=True),\n",
       "\t200721: AddedToken(\"<|vision_reserved_special_token_635|>\", rstrip=False, lstrip=False, single_word=False, normalized=False, special=True),\n",
       "\t200722: AddedToken(\"<|vision_reserved_special_token_636|>\", rstrip=False, lstrip=False, single_word=False, normalized=False, special=True),\n",
       "\t200723: AddedToken(\"<|vision_reserved_special_token_637|>\", rstrip=False, lstrip=False, single_word=False, normalized=False, special=True),\n",
       "\t200724: AddedToken(\"<|vision_reserved_special_token_638|>\", rstrip=False, lstrip=False, single_word=False, normalized=False, special=True),\n",
       "\t200725: AddedToken(\"<|vision_reserved_special_token_639|>\", rstrip=False, lstrip=False, single_word=False, normalized=False, special=True),\n",
       "\t200726: AddedToken(\"<|vision_reserved_special_token_640|>\", rstrip=False, lstrip=False, single_word=False, normalized=False, special=True),\n",
       "\t200727: AddedToken(\"<|vision_reserved_special_token_641|>\", rstrip=False, lstrip=False, single_word=False, normalized=False, special=True),\n",
       "\t200728: AddedToken(\"<|vision_reserved_special_token_642|>\", rstrip=False, lstrip=False, single_word=False, normalized=False, special=True),\n",
       "\t200729: AddedToken(\"<|vision_reserved_special_token_643|>\", rstrip=False, lstrip=False, single_word=False, normalized=False, special=True),\n",
       "\t200730: AddedToken(\"<|vision_reserved_special_token_644|>\", rstrip=False, lstrip=False, single_word=False, normalized=False, special=True),\n",
       "\t200731: AddedToken(\"<|vision_reserved_special_token_645|>\", rstrip=False, lstrip=False, single_word=False, normalized=False, special=True),\n",
       "\t200732: AddedToken(\"<|vision_reserved_special_token_646|>\", rstrip=False, lstrip=False, single_word=False, normalized=False, special=True),\n",
       "\t200733: AddedToken(\"<|vision_reserved_special_token_647|>\", rstrip=False, lstrip=False, single_word=False, normalized=False, special=True),\n",
       "\t200734: AddedToken(\"<|vision_reserved_special_token_648|>\", rstrip=False, lstrip=False, single_word=False, normalized=False, special=True),\n",
       "\t200735: AddedToken(\"<|vision_reserved_special_token_649|>\", rstrip=False, lstrip=False, single_word=False, normalized=False, special=True),\n",
       "\t200736: AddedToken(\"<|vision_reserved_special_token_650|>\", rstrip=False, lstrip=False, single_word=False, normalized=False, special=True),\n",
       "\t200737: AddedToken(\"<|vision_reserved_special_token_651|>\", rstrip=False, lstrip=False, single_word=False, normalized=False, special=True),\n",
       "\t200738: AddedToken(\"<|vision_reserved_special_token_652|>\", rstrip=False, lstrip=False, single_word=False, normalized=False, special=True),\n",
       "\t200739: AddedToken(\"<|vision_reserved_special_token_653|>\", rstrip=False, lstrip=False, single_word=False, normalized=False, special=True),\n",
       "\t200740: AddedToken(\"<|vision_reserved_special_token_654|>\", rstrip=False, lstrip=False, single_word=False, normalized=False, special=True),\n",
       "\t200741: AddedToken(\"<|vision_reserved_special_token_655|>\", rstrip=False, lstrip=False, single_word=False, normalized=False, special=True),\n",
       "\t200742: AddedToken(\"<|vision_reserved_special_token_656|>\", rstrip=False, lstrip=False, single_word=False, normalized=False, special=True),\n",
       "\t200743: AddedToken(\"<|vision_reserved_special_token_657|>\", rstrip=False, lstrip=False, single_word=False, normalized=False, special=True),\n",
       "\t200744: AddedToken(\"<|vision_reserved_special_token_658|>\", rstrip=False, lstrip=False, single_word=False, normalized=False, special=True),\n",
       "\t200745: AddedToken(\"<|vision_reserved_special_token_659|>\", rstrip=False, lstrip=False, single_word=False, normalized=False, special=True),\n",
       "\t200746: AddedToken(\"<|vision_reserved_special_token_660|>\", rstrip=False, lstrip=False, single_word=False, normalized=False, special=True),\n",
       "\t200747: AddedToken(\"<|vision_reserved_special_token_661|>\", rstrip=False, lstrip=False, single_word=False, normalized=False, special=True),\n",
       "\t200748: AddedToken(\"<|vision_reserved_special_token_662|>\", rstrip=False, lstrip=False, single_word=False, normalized=False, special=True),\n",
       "\t200749: AddedToken(\"<|vision_reserved_special_token_663|>\", rstrip=False, lstrip=False, single_word=False, normalized=False, special=True),\n",
       "\t200750: AddedToken(\"<|vision_reserved_special_token_664|>\", rstrip=False, lstrip=False, single_word=False, normalized=False, special=True),\n",
       "\t200751: AddedToken(\"<|vision_reserved_special_token_665|>\", rstrip=False, lstrip=False, single_word=False, normalized=False, special=True),\n",
       "\t200752: AddedToken(\"<|vision_reserved_special_token_666|>\", rstrip=False, lstrip=False, single_word=False, normalized=False, special=True),\n",
       "\t200753: AddedToken(\"<|vision_reserved_special_token_667|>\", rstrip=False, lstrip=False, single_word=False, normalized=False, special=True),\n",
       "\t200754: AddedToken(\"<|vision_reserved_special_token_668|>\", rstrip=False, lstrip=False, single_word=False, normalized=False, special=True),\n",
       "\t200755: AddedToken(\"<|vision_reserved_special_token_669|>\", rstrip=False, lstrip=False, single_word=False, normalized=False, special=True),\n",
       "\t200756: AddedToken(\"<|vision_reserved_special_token_670|>\", rstrip=False, lstrip=False, single_word=False, normalized=False, special=True),\n",
       "\t200757: AddedToken(\"<|vision_reserved_special_token_671|>\", rstrip=False, lstrip=False, single_word=False, normalized=False, special=True),\n",
       "\t200758: AddedToken(\"<|vision_reserved_special_token_672|>\", rstrip=False, lstrip=False, single_word=False, normalized=False, special=True),\n",
       "\t200759: AddedToken(\"<|vision_reserved_special_token_673|>\", rstrip=False, lstrip=False, single_word=False, normalized=False, special=True),\n",
       "\t200760: AddedToken(\"<|vision_reserved_special_token_674|>\", rstrip=False, lstrip=False, single_word=False, normalized=False, special=True),\n",
       "\t200761: AddedToken(\"<|vision_reserved_special_token_675|>\", rstrip=False, lstrip=False, single_word=False, normalized=False, special=True),\n",
       "\t200762: AddedToken(\"<|vision_reserved_special_token_676|>\", rstrip=False, lstrip=False, single_word=False, normalized=False, special=True),\n",
       "\t200763: AddedToken(\"<|vision_reserved_special_token_677|>\", rstrip=False, lstrip=False, single_word=False, normalized=False, special=True),\n",
       "\t200764: AddedToken(\"<|vision_reserved_special_token_678|>\", rstrip=False, lstrip=False, single_word=False, normalized=False, special=True),\n",
       "\t200765: AddedToken(\"<|vision_reserved_special_token_679|>\", rstrip=False, lstrip=False, single_word=False, normalized=False, special=True),\n",
       "\t200766: AddedToken(\"<|vision_reserved_special_token_680|>\", rstrip=False, lstrip=False, single_word=False, normalized=False, special=True),\n",
       "\t200767: AddedToken(\"<|vision_reserved_special_token_681|>\", rstrip=False, lstrip=False, single_word=False, normalized=False, special=True),\n",
       "\t200768: AddedToken(\"<|vision_reserved_special_token_682|>\", rstrip=False, lstrip=False, single_word=False, normalized=False, special=True),\n",
       "\t200769: AddedToken(\"<|vision_reserved_special_token_683|>\", rstrip=False, lstrip=False, single_word=False, normalized=False, special=True),\n",
       "\t200770: AddedToken(\"<|vision_reserved_special_token_684|>\", rstrip=False, lstrip=False, single_word=False, normalized=False, special=True),\n",
       "\t200771: AddedToken(\"<|vision_reserved_special_token_685|>\", rstrip=False, lstrip=False, single_word=False, normalized=False, special=True),\n",
       "\t200772: AddedToken(\"<|vision_reserved_special_token_686|>\", rstrip=False, lstrip=False, single_word=False, normalized=False, special=True),\n",
       "\t200773: AddedToken(\"<|vision_reserved_special_token_687|>\", rstrip=False, lstrip=False, single_word=False, normalized=False, special=True),\n",
       "\t200774: AddedToken(\"<|vision_reserved_special_token_688|>\", rstrip=False, lstrip=False, single_word=False, normalized=False, special=True),\n",
       "\t200775: AddedToken(\"<|vision_reserved_special_token_689|>\", rstrip=False, lstrip=False, single_word=False, normalized=False, special=True),\n",
       "\t200776: AddedToken(\"<|vision_reserved_special_token_690|>\", rstrip=False, lstrip=False, single_word=False, normalized=False, special=True),\n",
       "\t200777: AddedToken(\"<|vision_reserved_special_token_691|>\", rstrip=False, lstrip=False, single_word=False, normalized=False, special=True),\n",
       "\t200778: AddedToken(\"<|vision_reserved_special_token_692|>\", rstrip=False, lstrip=False, single_word=False, normalized=False, special=True),\n",
       "\t200779: AddedToken(\"<|vision_reserved_special_token_693|>\", rstrip=False, lstrip=False, single_word=False, normalized=False, special=True),\n",
       "\t200780: AddedToken(\"<|vision_reserved_special_token_694|>\", rstrip=False, lstrip=False, single_word=False, normalized=False, special=True),\n",
       "\t200781: AddedToken(\"<|vision_reserved_special_token_695|>\", rstrip=False, lstrip=False, single_word=False, normalized=False, special=True),\n",
       "\t200782: AddedToken(\"<|vision_reserved_special_token_696|>\", rstrip=False, lstrip=False, single_word=False, normalized=False, special=True),\n",
       "\t200783: AddedToken(\"<|vision_reserved_special_token_697|>\", rstrip=False, lstrip=False, single_word=False, normalized=False, special=True),\n",
       "\t200784: AddedToken(\"<|vision_reserved_special_token_698|>\", rstrip=False, lstrip=False, single_word=False, normalized=False, special=True),\n",
       "\t200785: AddedToken(\"<|vision_reserved_special_token_699|>\", rstrip=False, lstrip=False, single_word=False, normalized=False, special=True),\n",
       "\t200786: AddedToken(\"<|vision_reserved_special_token_700|>\", rstrip=False, lstrip=False, single_word=False, normalized=False, special=True),\n",
       "\t200787: AddedToken(\"<|vision_reserved_special_token_701|>\", rstrip=False, lstrip=False, single_word=False, normalized=False, special=True),\n",
       "\t200788: AddedToken(\"<|vision_reserved_special_token_702|>\", rstrip=False, lstrip=False, single_word=False, normalized=False, special=True),\n",
       "\t200789: AddedToken(\"<|vision_reserved_special_token_703|>\", rstrip=False, lstrip=False, single_word=False, normalized=False, special=True),\n",
       "\t200790: AddedToken(\"<|vision_reserved_special_token_704|>\", rstrip=False, lstrip=False, single_word=False, normalized=False, special=True),\n",
       "\t200791: AddedToken(\"<|vision_reserved_special_token_705|>\", rstrip=False, lstrip=False, single_word=False, normalized=False, special=True),\n",
       "\t200792: AddedToken(\"<|vision_reserved_special_token_706|>\", rstrip=False, lstrip=False, single_word=False, normalized=False, special=True),\n",
       "\t200793: AddedToken(\"<|vision_reserved_special_token_707|>\", rstrip=False, lstrip=False, single_word=False, normalized=False, special=True),\n",
       "\t200794: AddedToken(\"<|vision_reserved_special_token_708|>\", rstrip=False, lstrip=False, single_word=False, normalized=False, special=True),\n",
       "\t200795: AddedToken(\"<|vision_reserved_special_token_709|>\", rstrip=False, lstrip=False, single_word=False, normalized=False, special=True),\n",
       "\t200796: AddedToken(\"<|vision_reserved_special_token_710|>\", rstrip=False, lstrip=False, single_word=False, normalized=False, special=True),\n",
       "\t200797: AddedToken(\"<|vision_reserved_special_token_711|>\", rstrip=False, lstrip=False, single_word=False, normalized=False, special=True),\n",
       "\t200798: AddedToken(\"<|vision_reserved_special_token_712|>\", rstrip=False, lstrip=False, single_word=False, normalized=False, special=True),\n",
       "\t200799: AddedToken(\"<|vision_reserved_special_token_713|>\", rstrip=False, lstrip=False, single_word=False, normalized=False, special=True),\n",
       "\t200800: AddedToken(\"<|vision_reserved_special_token_714|>\", rstrip=False, lstrip=False, single_word=False, normalized=False, special=True),\n",
       "\t200801: AddedToken(\"<|vision_reserved_special_token_715|>\", rstrip=False, lstrip=False, single_word=False, normalized=False, special=True),\n",
       "\t200802: AddedToken(\"<|vision_reserved_special_token_716|>\", rstrip=False, lstrip=False, single_word=False, normalized=False, special=True),\n",
       "\t200803: AddedToken(\"<|vision_reserved_special_token_717|>\", rstrip=False, lstrip=False, single_word=False, normalized=False, special=True),\n",
       "\t200804: AddedToken(\"<|vision_reserved_special_token_718|>\", rstrip=False, lstrip=False, single_word=False, normalized=False, special=True),\n",
       "\t200805: AddedToken(\"<|vision_reserved_special_token_719|>\", rstrip=False, lstrip=False, single_word=False, normalized=False, special=True),\n",
       "\t200806: AddedToken(\"<|vision_reserved_special_token_720|>\", rstrip=False, lstrip=False, single_word=False, normalized=False, special=True),\n",
       "\t200807: AddedToken(\"<|vision_reserved_special_token_721|>\", rstrip=False, lstrip=False, single_word=False, normalized=False, special=True),\n",
       "\t200808: AddedToken(\"<|vision_reserved_special_token_722|>\", rstrip=False, lstrip=False, single_word=False, normalized=False, special=True),\n",
       "\t200809: AddedToken(\"<|vision_reserved_special_token_723|>\", rstrip=False, lstrip=False, single_word=False, normalized=False, special=True),\n",
       "\t200810: AddedToken(\"<|vision_reserved_special_token_724|>\", rstrip=False, lstrip=False, single_word=False, normalized=False, special=True),\n",
       "\t200811: AddedToken(\"<|vision_reserved_special_token_725|>\", rstrip=False, lstrip=False, single_word=False, normalized=False, special=True),\n",
       "\t200812: AddedToken(\"<|vision_reserved_special_token_726|>\", rstrip=False, lstrip=False, single_word=False, normalized=False, special=True),\n",
       "\t200813: AddedToken(\"<|vision_reserved_special_token_727|>\", rstrip=False, lstrip=False, single_word=False, normalized=False, special=True),\n",
       "\t200814: AddedToken(\"<|vision_reserved_special_token_728|>\", rstrip=False, lstrip=False, single_word=False, normalized=False, special=True),\n",
       "\t200815: AddedToken(\"<|vision_reserved_special_token_729|>\", rstrip=False, lstrip=False, single_word=False, normalized=False, special=True),\n",
       "\t200816: AddedToken(\"<|vision_reserved_special_token_730|>\", rstrip=False, lstrip=False, single_word=False, normalized=False, special=True),\n",
       "\t200817: AddedToken(\"<|vision_reserved_special_token_731|>\", rstrip=False, lstrip=False, single_word=False, normalized=False, special=True),\n",
       "\t200818: AddedToken(\"<|vision_reserved_special_token_732|>\", rstrip=False, lstrip=False, single_word=False, normalized=False, special=True),\n",
       "\t200819: AddedToken(\"<|vision_reserved_special_token_733|>\", rstrip=False, lstrip=False, single_word=False, normalized=False, special=True),\n",
       "\t200820: AddedToken(\"<|vision_reserved_special_token_734|>\", rstrip=False, lstrip=False, single_word=False, normalized=False, special=True),\n",
       "\t200821: AddedToken(\"<|vision_reserved_special_token_735|>\", rstrip=False, lstrip=False, single_word=False, normalized=False, special=True),\n",
       "\t200822: AddedToken(\"<|vision_reserved_special_token_736|>\", rstrip=False, lstrip=False, single_word=False, normalized=False, special=True),\n",
       "\t200823: AddedToken(\"<|vision_reserved_special_token_737|>\", rstrip=False, lstrip=False, single_word=False, normalized=False, special=True),\n",
       "\t200824: AddedToken(\"<|vision_reserved_special_token_738|>\", rstrip=False, lstrip=False, single_word=False, normalized=False, special=True),\n",
       "\t200825: AddedToken(\"<|vision_reserved_special_token_739|>\", rstrip=False, lstrip=False, single_word=False, normalized=False, special=True),\n",
       "\t200826: AddedToken(\"<|vision_reserved_special_token_740|>\", rstrip=False, lstrip=False, single_word=False, normalized=False, special=True),\n",
       "\t200827: AddedToken(\"<|vision_reserved_special_token_741|>\", rstrip=False, lstrip=False, single_word=False, normalized=False, special=True),\n",
       "\t200828: AddedToken(\"<|vision_reserved_special_token_742|>\", rstrip=False, lstrip=False, single_word=False, normalized=False, special=True),\n",
       "\t200829: AddedToken(\"<|vision_reserved_special_token_743|>\", rstrip=False, lstrip=False, single_word=False, normalized=False, special=True),\n",
       "\t200830: AddedToken(\"<|vision_reserved_special_token_744|>\", rstrip=False, lstrip=False, single_word=False, normalized=False, special=True),\n",
       "\t200831: AddedToken(\"<|vision_reserved_special_token_745|>\", rstrip=False, lstrip=False, single_word=False, normalized=False, special=True),\n",
       "\t200832: AddedToken(\"<|vision_reserved_special_token_746|>\", rstrip=False, lstrip=False, single_word=False, normalized=False, special=True),\n",
       "\t200833: AddedToken(\"<|vision_reserved_special_token_747|>\", rstrip=False, lstrip=False, single_word=False, normalized=False, special=True),\n",
       "\t200834: AddedToken(\"<|vision_reserved_special_token_748|>\", rstrip=False, lstrip=False, single_word=False, normalized=False, special=True),\n",
       "\t200835: AddedToken(\"<|vision_reserved_special_token_749|>\", rstrip=False, lstrip=False, single_word=False, normalized=False, special=True),\n",
       "\t200836: AddedToken(\"<|vision_reserved_special_token_750|>\", rstrip=False, lstrip=False, single_word=False, normalized=False, special=True),\n",
       "\t200837: AddedToken(\"<|vision_reserved_special_token_751|>\", rstrip=False, lstrip=False, single_word=False, normalized=False, special=True),\n",
       "\t200838: AddedToken(\"<|vision_reserved_special_token_752|>\", rstrip=False, lstrip=False, single_word=False, normalized=False, special=True),\n",
       "\t200839: AddedToken(\"<|vision_reserved_special_token_753|>\", rstrip=False, lstrip=False, single_word=False, normalized=False, special=True),\n",
       "\t200840: AddedToken(\"<|vision_reserved_special_token_754|>\", rstrip=False, lstrip=False, single_word=False, normalized=False, special=True),\n",
       "\t200841: AddedToken(\"<|vision_reserved_special_token_755|>\", rstrip=False, lstrip=False, single_word=False, normalized=False, special=True),\n",
       "\t200842: AddedToken(\"<|vision_reserved_special_token_756|>\", rstrip=False, lstrip=False, single_word=False, normalized=False, special=True),\n",
       "\t200843: AddedToken(\"<|vision_reserved_special_token_757|>\", rstrip=False, lstrip=False, single_word=False, normalized=False, special=True),\n",
       "\t200844: AddedToken(\"<|vision_reserved_special_token_758|>\", rstrip=False, lstrip=False, single_word=False, normalized=False, special=True),\n",
       "\t200845: AddedToken(\"<|vision_reserved_special_token_759|>\", rstrip=False, lstrip=False, single_word=False, normalized=False, special=True),\n",
       "\t200846: AddedToken(\"<|vision_reserved_special_token_760|>\", rstrip=False, lstrip=False, single_word=False, normalized=False, special=True),\n",
       "\t200847: AddedToken(\"<|vision_reserved_special_token_761|>\", rstrip=False, lstrip=False, single_word=False, normalized=False, special=True),\n",
       "\t200848: AddedToken(\"<|vision_reserved_special_token_762|>\", rstrip=False, lstrip=False, single_word=False, normalized=False, special=True),\n",
       "\t200849: AddedToken(\"<|vision_reserved_special_token_763|>\", rstrip=False, lstrip=False, single_word=False, normalized=False, special=True),\n",
       "\t200850: AddedToken(\"<|vision_reserved_special_token_764|>\", rstrip=False, lstrip=False, single_word=False, normalized=False, special=True),\n",
       "\t200851: AddedToken(\"<|vision_reserved_special_token_765|>\", rstrip=False, lstrip=False, single_word=False, normalized=False, special=True),\n",
       "\t200852: AddedToken(\"<|vision_reserved_special_token_766|>\", rstrip=False, lstrip=False, single_word=False, normalized=False, special=True),\n",
       "\t200853: AddedToken(\"<|vision_reserved_special_token_767|>\", rstrip=False, lstrip=False, single_word=False, normalized=False, special=True),\n",
       "\t200854: AddedToken(\"<|vision_reserved_special_token_768|>\", rstrip=False, lstrip=False, single_word=False, normalized=False, special=True),\n",
       "\t200855: AddedToken(\"<|vision_reserved_special_token_769|>\", rstrip=False, lstrip=False, single_word=False, normalized=False, special=True),\n",
       "\t200856: AddedToken(\"<|vision_reserved_special_token_770|>\", rstrip=False, lstrip=False, single_word=False, normalized=False, special=True),\n",
       "\t200857: AddedToken(\"<|vision_reserved_special_token_771|>\", rstrip=False, lstrip=False, single_word=False, normalized=False, special=True),\n",
       "\t200858: AddedToken(\"<|vision_reserved_special_token_772|>\", rstrip=False, lstrip=False, single_word=False, normalized=False, special=True),\n",
       "\t200859: AddedToken(\"<|vision_reserved_special_token_773|>\", rstrip=False, lstrip=False, single_word=False, normalized=False, special=True),\n",
       "\t200860: AddedToken(\"<|vision_reserved_special_token_774|>\", rstrip=False, lstrip=False, single_word=False, normalized=False, special=True),\n",
       "\t200861: AddedToken(\"<|vision_reserved_special_token_775|>\", rstrip=False, lstrip=False, single_word=False, normalized=False, special=True),\n",
       "\t200862: AddedToken(\"<|vision_reserved_special_token_776|>\", rstrip=False, lstrip=False, single_word=False, normalized=False, special=True),\n",
       "\t200863: AddedToken(\"<|vision_reserved_special_token_777|>\", rstrip=False, lstrip=False, single_word=False, normalized=False, special=True),\n",
       "\t200864: AddedToken(\"<|vision_reserved_special_token_778|>\", rstrip=False, lstrip=False, single_word=False, normalized=False, special=True),\n",
       "\t200865: AddedToken(\"<|vision_reserved_special_token_779|>\", rstrip=False, lstrip=False, single_word=False, normalized=False, special=True),\n",
       "\t200866: AddedToken(\"<|vision_reserved_special_token_780|>\", rstrip=False, lstrip=False, single_word=False, normalized=False, special=True),\n",
       "\t200867: AddedToken(\"<|vision_reserved_special_token_781|>\", rstrip=False, lstrip=False, single_word=False, normalized=False, special=True),\n",
       "\t200868: AddedToken(\"<|vision_reserved_special_token_782|>\", rstrip=False, lstrip=False, single_word=False, normalized=False, special=True),\n",
       "\t200869: AddedToken(\"<|vision_reserved_special_token_783|>\", rstrip=False, lstrip=False, single_word=False, normalized=False, special=True),\n",
       "\t200870: AddedToken(\"<|vision_reserved_special_token_784|>\", rstrip=False, lstrip=False, single_word=False, normalized=False, special=True),\n",
       "\t200871: AddedToken(\"<|vision_reserved_special_token_785|>\", rstrip=False, lstrip=False, single_word=False, normalized=False, special=True),\n",
       "\t200872: AddedToken(\"<|vision_reserved_special_token_786|>\", rstrip=False, lstrip=False, single_word=False, normalized=False, special=True),\n",
       "\t200873: AddedToken(\"<|vision_reserved_special_token_787|>\", rstrip=False, lstrip=False, single_word=False, normalized=False, special=True),\n",
       "\t200874: AddedToken(\"<|vision_reserved_special_token_788|>\", rstrip=False, lstrip=False, single_word=False, normalized=False, special=True),\n",
       "\t200875: AddedToken(\"<|vision_reserved_special_token_789|>\", rstrip=False, lstrip=False, single_word=False, normalized=False, special=True),\n",
       "\t200876: AddedToken(\"<|vision_reserved_special_token_790|>\", rstrip=False, lstrip=False, single_word=False, normalized=False, special=True),\n",
       "\t200877: AddedToken(\"<|vision_reserved_special_token_791|>\", rstrip=False, lstrip=False, single_word=False, normalized=False, special=True),\n",
       "\t200878: AddedToken(\"<|vision_reserved_special_token_792|>\", rstrip=False, lstrip=False, single_word=False, normalized=False, special=True),\n",
       "\t200879: AddedToken(\"<|vision_reserved_special_token_793|>\", rstrip=False, lstrip=False, single_word=False, normalized=False, special=True),\n",
       "\t200880: AddedToken(\"<|vision_reserved_special_token_794|>\", rstrip=False, lstrip=False, single_word=False, normalized=False, special=True),\n",
       "\t200881: AddedToken(\"<|vision_reserved_special_token_795|>\", rstrip=False, lstrip=False, single_word=False, normalized=False, special=True),\n",
       "\t200882: AddedToken(\"<|vision_reserved_special_token_796|>\", rstrip=False, lstrip=False, single_word=False, normalized=False, special=True),\n",
       "\t200883: AddedToken(\"<|vision_reserved_special_token_797|>\", rstrip=False, lstrip=False, single_word=False, normalized=False, special=True),\n",
       "\t200884: AddedToken(\"<|vision_reserved_special_token_798|>\", rstrip=False, lstrip=False, single_word=False, normalized=False, special=True),\n",
       "\t200885: AddedToken(\"<|vision_reserved_special_token_799|>\", rstrip=False, lstrip=False, single_word=False, normalized=False, special=True),\n",
       "\t200886: AddedToken(\"<|vision_reserved_special_token_800|>\", rstrip=False, lstrip=False, single_word=False, normalized=False, special=True),\n",
       "\t200887: AddedToken(\"<|vision_reserved_special_token_801|>\", rstrip=False, lstrip=False, single_word=False, normalized=False, special=True),\n",
       "\t200888: AddedToken(\"<|vision_reserved_special_token_802|>\", rstrip=False, lstrip=False, single_word=False, normalized=False, special=True),\n",
       "\t200889: AddedToken(\"<|vision_reserved_special_token_803|>\", rstrip=False, lstrip=False, single_word=False, normalized=False, special=True),\n",
       "\t200890: AddedToken(\"<|vision_reserved_special_token_804|>\", rstrip=False, lstrip=False, single_word=False, normalized=False, special=True),\n",
       "\t200891: AddedToken(\"<|vision_reserved_special_token_805|>\", rstrip=False, lstrip=False, single_word=False, normalized=False, special=True),\n",
       "\t200892: AddedToken(\"<|vision_reserved_special_token_806|>\", rstrip=False, lstrip=False, single_word=False, normalized=False, special=True),\n",
       "\t200893: AddedToken(\"<|vision_reserved_special_token_807|>\", rstrip=False, lstrip=False, single_word=False, normalized=False, special=True),\n",
       "\t200894: AddedToken(\"<|vision_reserved_special_token_808|>\", rstrip=False, lstrip=False, single_word=False, normalized=False, special=True),\n",
       "\t200895: AddedToken(\"<|vision_reserved_special_token_809|>\", rstrip=False, lstrip=False, single_word=False, normalized=False, special=True),\n",
       "\t200896: AddedToken(\"<|vision_reserved_special_token_810|>\", rstrip=False, lstrip=False, single_word=False, normalized=False, special=True),\n",
       "\t200897: AddedToken(\"<|vision_reserved_special_token_811|>\", rstrip=False, lstrip=False, single_word=False, normalized=False, special=True),\n",
       "\t200898: AddedToken(\"<|vision_reserved_special_token_812|>\", rstrip=False, lstrip=False, single_word=False, normalized=False, special=True),\n",
       "\t200899: AddedToken(\"<|vision_reserved_special_token_813|>\", rstrip=False, lstrip=False, single_word=False, normalized=False, special=True),\n",
       "\t200900: AddedToken(\"<|vision_reserved_special_token_814|>\", rstrip=False, lstrip=False, single_word=False, normalized=False, special=True),\n",
       "\t200901: AddedToken(\"<|vision_reserved_special_token_815|>\", rstrip=False, lstrip=False, single_word=False, normalized=False, special=True),\n",
       "\t200902: AddedToken(\"<|vision_reserved_special_token_816|>\", rstrip=False, lstrip=False, single_word=False, normalized=False, special=True),\n",
       "\t200903: AddedToken(\"<|vision_reserved_special_token_817|>\", rstrip=False, lstrip=False, single_word=False, normalized=False, special=True),\n",
       "\t200904: AddedToken(\"<|vision_reserved_special_token_818|>\", rstrip=False, lstrip=False, single_word=False, normalized=False, special=True),\n",
       "\t200905: AddedToken(\"<|vision_reserved_special_token_819|>\", rstrip=False, lstrip=False, single_word=False, normalized=False, special=True),\n",
       "\t200906: AddedToken(\"<|vision_reserved_special_token_820|>\", rstrip=False, lstrip=False, single_word=False, normalized=False, special=True),\n",
       "\t200907: AddedToken(\"<|vision_reserved_special_token_821|>\", rstrip=False, lstrip=False, single_word=False, normalized=False, special=True),\n",
       "\t200908: AddedToken(\"<|vision_reserved_special_token_822|>\", rstrip=False, lstrip=False, single_word=False, normalized=False, special=True),\n",
       "\t200909: AddedToken(\"<|vision_reserved_special_token_823|>\", rstrip=False, lstrip=False, single_word=False, normalized=False, special=True),\n",
       "\t200910: AddedToken(\"<|vision_reserved_special_token_824|>\", rstrip=False, lstrip=False, single_word=False, normalized=False, special=True),\n",
       "\t200911: AddedToken(\"<|vision_reserved_special_token_825|>\", rstrip=False, lstrip=False, single_word=False, normalized=False, special=True),\n",
       "\t200912: AddedToken(\"<|vision_reserved_special_token_826|>\", rstrip=False, lstrip=False, single_word=False, normalized=False, special=True),\n",
       "\t200913: AddedToken(\"<|vision_reserved_special_token_827|>\", rstrip=False, lstrip=False, single_word=False, normalized=False, special=True),\n",
       "\t200914: AddedToken(\"<|vision_reserved_special_token_828|>\", rstrip=False, lstrip=False, single_word=False, normalized=False, special=True),\n",
       "\t200915: AddedToken(\"<|vision_reserved_special_token_829|>\", rstrip=False, lstrip=False, single_word=False, normalized=False, special=True),\n",
       "\t200916: AddedToken(\"<|vision_reserved_special_token_830|>\", rstrip=False, lstrip=False, single_word=False, normalized=False, special=True),\n",
       "\t200917: AddedToken(\"<|vision_reserved_special_token_831|>\", rstrip=False, lstrip=False, single_word=False, normalized=False, special=True),\n",
       "\t200918: AddedToken(\"<|vision_reserved_special_token_832|>\", rstrip=False, lstrip=False, single_word=False, normalized=False, special=True),\n",
       "\t200919: AddedToken(\"<|vision_reserved_special_token_833|>\", rstrip=False, lstrip=False, single_word=False, normalized=False, special=True),\n",
       "\t200920: AddedToken(\"<|vision_reserved_special_token_834|>\", rstrip=False, lstrip=False, single_word=False, normalized=False, special=True),\n",
       "\t200921: AddedToken(\"<|vision_reserved_special_token_835|>\", rstrip=False, lstrip=False, single_word=False, normalized=False, special=True),\n",
       "\t200922: AddedToken(\"<|vision_reserved_special_token_836|>\", rstrip=False, lstrip=False, single_word=False, normalized=False, special=True),\n",
       "\t200923: AddedToken(\"<|vision_reserved_special_token_837|>\", rstrip=False, lstrip=False, single_word=False, normalized=False, special=True),\n",
       "\t200924: AddedToken(\"<|vision_reserved_special_token_838|>\", rstrip=False, lstrip=False, single_word=False, normalized=False, special=True),\n",
       "\t200925: AddedToken(\"<|vision_reserved_special_token_839|>\", rstrip=False, lstrip=False, single_word=False, normalized=False, special=True),\n",
       "\t200926: AddedToken(\"<|vision_reserved_special_token_840|>\", rstrip=False, lstrip=False, single_word=False, normalized=False, special=True),\n",
       "\t200927: AddedToken(\"<|vision_reserved_special_token_841|>\", rstrip=False, lstrip=False, single_word=False, normalized=False, special=True),\n",
       "\t200928: AddedToken(\"<|vision_reserved_special_token_842|>\", rstrip=False, lstrip=False, single_word=False, normalized=False, special=True),\n",
       "\t200929: AddedToken(\"<|vision_reserved_special_token_843|>\", rstrip=False, lstrip=False, single_word=False, normalized=False, special=True),\n",
       "\t200930: AddedToken(\"<|vision_reserved_special_token_844|>\", rstrip=False, lstrip=False, single_word=False, normalized=False, special=True),\n",
       "\t200931: AddedToken(\"<|vision_reserved_special_token_845|>\", rstrip=False, lstrip=False, single_word=False, normalized=False, special=True),\n",
       "\t200932: AddedToken(\"<|vision_reserved_special_token_846|>\", rstrip=False, lstrip=False, single_word=False, normalized=False, special=True),\n",
       "\t200933: AddedToken(\"<|vision_reserved_special_token_847|>\", rstrip=False, lstrip=False, single_word=False, normalized=False, special=True),\n",
       "\t200934: AddedToken(\"<|vision_reserved_special_token_848|>\", rstrip=False, lstrip=False, single_word=False, normalized=False, special=True),\n",
       "\t200935: AddedToken(\"<|vision_reserved_special_token_849|>\", rstrip=False, lstrip=False, single_word=False, normalized=False, special=True),\n",
       "\t200936: AddedToken(\"<|vision_reserved_special_token_850|>\", rstrip=False, lstrip=False, single_word=False, normalized=False, special=True),\n",
       "\t200937: AddedToken(\"<|vision_reserved_special_token_851|>\", rstrip=False, lstrip=False, single_word=False, normalized=False, special=True),\n",
       "\t200938: AddedToken(\"<|vision_reserved_special_token_852|>\", rstrip=False, lstrip=False, single_word=False, normalized=False, special=True),\n",
       "\t200939: AddedToken(\"<|vision_reserved_special_token_853|>\", rstrip=False, lstrip=False, single_word=False, normalized=False, special=True),\n",
       "\t200940: AddedToken(\"<|vision_reserved_special_token_854|>\", rstrip=False, lstrip=False, single_word=False, normalized=False, special=True),\n",
       "\t200941: AddedToken(\"<|vision_reserved_special_token_855|>\", rstrip=False, lstrip=False, single_word=False, normalized=False, special=True),\n",
       "\t200942: AddedToken(\"<|vision_reserved_special_token_856|>\", rstrip=False, lstrip=False, single_word=False, normalized=False, special=True),\n",
       "\t200943: AddedToken(\"<|vision_reserved_special_token_857|>\", rstrip=False, lstrip=False, single_word=False, normalized=False, special=True),\n",
       "\t200944: AddedToken(\"<|vision_reserved_special_token_858|>\", rstrip=False, lstrip=False, single_word=False, normalized=False, special=True),\n",
       "\t200945: AddedToken(\"<|vision_reserved_special_token_859|>\", rstrip=False, lstrip=False, single_word=False, normalized=False, special=True),\n",
       "\t200946: AddedToken(\"<|vision_reserved_special_token_860|>\", rstrip=False, lstrip=False, single_word=False, normalized=False, special=True),\n",
       "\t200947: AddedToken(\"<|vision_reserved_special_token_861|>\", rstrip=False, lstrip=False, single_word=False, normalized=False, special=True),\n",
       "\t200948: AddedToken(\"<|vision_reserved_special_token_862|>\", rstrip=False, lstrip=False, single_word=False, normalized=False, special=True),\n",
       "\t200949: AddedToken(\"<|vision_reserved_special_token_863|>\", rstrip=False, lstrip=False, single_word=False, normalized=False, special=True),\n",
       "\t200950: AddedToken(\"<|vision_reserved_special_token_864|>\", rstrip=False, lstrip=False, single_word=False, normalized=False, special=True),\n",
       "\t200951: AddedToken(\"<|vision_reserved_special_token_865|>\", rstrip=False, lstrip=False, single_word=False, normalized=False, special=True),\n",
       "\t200952: AddedToken(\"<|vision_reserved_special_token_866|>\", rstrip=False, lstrip=False, single_word=False, normalized=False, special=True),\n",
       "\t200953: AddedToken(\"<|vision_reserved_special_token_867|>\", rstrip=False, lstrip=False, single_word=False, normalized=False, special=True),\n",
       "\t200954: AddedToken(\"<|vision_reserved_special_token_868|>\", rstrip=False, lstrip=False, single_word=False, normalized=False, special=True),\n",
       "\t200955: AddedToken(\"<|vision_reserved_special_token_869|>\", rstrip=False, lstrip=False, single_word=False, normalized=False, special=True),\n",
       "\t200956: AddedToken(\"<|vision_reserved_special_token_870|>\", rstrip=False, lstrip=False, single_word=False, normalized=False, special=True),\n",
       "\t200957: AddedToken(\"<|vision_reserved_special_token_871|>\", rstrip=False, lstrip=False, single_word=False, normalized=False, special=True),\n",
       "\t200958: AddedToken(\"<|vision_reserved_special_token_872|>\", rstrip=False, lstrip=False, single_word=False, normalized=False, special=True),\n",
       "\t200959: AddedToken(\"<|vision_reserved_special_token_873|>\", rstrip=False, lstrip=False, single_word=False, normalized=False, special=True),\n",
       "\t200960: AddedToken(\"<|vision_reserved_special_token_874|>\", rstrip=False, lstrip=False, single_word=False, normalized=False, special=True),\n",
       "\t200961: AddedToken(\"<|vision_reserved_special_token_875|>\", rstrip=False, lstrip=False, single_word=False, normalized=False, special=True),\n",
       "\t200962: AddedToken(\"<|vision_reserved_special_token_876|>\", rstrip=False, lstrip=False, single_word=False, normalized=False, special=True),\n",
       "\t200963: AddedToken(\"<|vision_reserved_special_token_877|>\", rstrip=False, lstrip=False, single_word=False, normalized=False, special=True),\n",
       "\t200964: AddedToken(\"<|vision_reserved_special_token_878|>\", rstrip=False, lstrip=False, single_word=False, normalized=False, special=True),\n",
       "\t200965: AddedToken(\"<|vision_reserved_special_token_879|>\", rstrip=False, lstrip=False, single_word=False, normalized=False, special=True),\n",
       "\t200966: AddedToken(\"<|vision_reserved_special_token_880|>\", rstrip=False, lstrip=False, single_word=False, normalized=False, special=True),\n",
       "\t200967: AddedToken(\"<|vision_reserved_special_token_881|>\", rstrip=False, lstrip=False, single_word=False, normalized=False, special=True),\n",
       "\t200968: AddedToken(\"<|vision_reserved_special_token_882|>\", rstrip=False, lstrip=False, single_word=False, normalized=False, special=True),\n",
       "\t200969: AddedToken(\"<|vision_reserved_special_token_883|>\", rstrip=False, lstrip=False, single_word=False, normalized=False, special=True),\n",
       "\t200970: AddedToken(\"<|vision_reserved_special_token_884|>\", rstrip=False, lstrip=False, single_word=False, normalized=False, special=True),\n",
       "\t200971: AddedToken(\"<|vision_reserved_special_token_885|>\", rstrip=False, lstrip=False, single_word=False, normalized=False, special=True),\n",
       "\t200972: AddedToken(\"<|vision_reserved_special_token_886|>\", rstrip=False, lstrip=False, single_word=False, normalized=False, special=True),\n",
       "\t200973: AddedToken(\"<|vision_reserved_special_token_887|>\", rstrip=False, lstrip=False, single_word=False, normalized=False, special=True),\n",
       "\t200974: AddedToken(\"<|vision_reserved_special_token_888|>\", rstrip=False, lstrip=False, single_word=False, normalized=False, special=True),\n",
       "\t200975: AddedToken(\"<|vision_reserved_special_token_889|>\", rstrip=False, lstrip=False, single_word=False, normalized=False, special=True),\n",
       "\t200976: AddedToken(\"<|vision_reserved_special_token_890|>\", rstrip=False, lstrip=False, single_word=False, normalized=False, special=True),\n",
       "\t200977: AddedToken(\"<|vision_reserved_special_token_891|>\", rstrip=False, lstrip=False, single_word=False, normalized=False, special=True),\n",
       "\t200978: AddedToken(\"<|vision_reserved_special_token_892|>\", rstrip=False, lstrip=False, single_word=False, normalized=False, special=True),\n",
       "\t200979: AddedToken(\"<|vision_reserved_special_token_893|>\", rstrip=False, lstrip=False, single_word=False, normalized=False, special=True),\n",
       "\t200980: AddedToken(\"<|vision_reserved_special_token_894|>\", rstrip=False, lstrip=False, single_word=False, normalized=False, special=True),\n",
       "\t200981: AddedToken(\"<|vision_reserved_special_token_895|>\", rstrip=False, lstrip=False, single_word=False, normalized=False, special=True),\n",
       "\t200982: AddedToken(\"<|vision_reserved_special_token_896|>\", rstrip=False, lstrip=False, single_word=False, normalized=False, special=True),\n",
       "\t200983: AddedToken(\"<|vision_reserved_special_token_897|>\", rstrip=False, lstrip=False, single_word=False, normalized=False, special=True),\n",
       "\t200984: AddedToken(\"<|vision_reserved_special_token_898|>\", rstrip=False, lstrip=False, single_word=False, normalized=False, special=True),\n",
       "\t200985: AddedToken(\"<|vision_reserved_special_token_899|>\", rstrip=False, lstrip=False, single_word=False, normalized=False, special=True),\n",
       "\t200986: AddedToken(\"<|vision_reserved_special_token_900|>\", rstrip=False, lstrip=False, single_word=False, normalized=False, special=True),\n",
       "\t200987: AddedToken(\"<|vision_reserved_special_token_901|>\", rstrip=False, lstrip=False, single_word=False, normalized=False, special=True),\n",
       "\t200988: AddedToken(\"<|vision_reserved_special_token_902|>\", rstrip=False, lstrip=False, single_word=False, normalized=False, special=True),\n",
       "\t200989: AddedToken(\"<|vision_reserved_special_token_903|>\", rstrip=False, lstrip=False, single_word=False, normalized=False, special=True),\n",
       "\t200990: AddedToken(\"<|vision_reserved_special_token_904|>\", rstrip=False, lstrip=False, single_word=False, normalized=False, special=True),\n",
       "\t200991: AddedToken(\"<|vision_reserved_special_token_905|>\", rstrip=False, lstrip=False, single_word=False, normalized=False, special=True),\n",
       "\t200992: AddedToken(\"<|vision_reserved_special_token_906|>\", rstrip=False, lstrip=False, single_word=False, normalized=False, special=True),\n",
       "\t200993: AddedToken(\"<|vision_reserved_special_token_907|>\", rstrip=False, lstrip=False, single_word=False, normalized=False, special=True),\n",
       "\t200994: AddedToken(\"<|vision_reserved_special_token_908|>\", rstrip=False, lstrip=False, single_word=False, normalized=False, special=True),\n",
       "\t200995: AddedToken(\"<|vision_reserved_special_token_909|>\", rstrip=False, lstrip=False, single_word=False, normalized=False, special=True),\n",
       "\t200996: AddedToken(\"<|vision_reserved_special_token_910|>\", rstrip=False, lstrip=False, single_word=False, normalized=False, special=True),\n",
       "\t200997: AddedToken(\"<|vision_reserved_special_token_911|>\", rstrip=False, lstrip=False, single_word=False, normalized=False, special=True),\n",
       "\t200998: AddedToken(\"<|vision_reserved_special_token_912|>\", rstrip=False, lstrip=False, single_word=False, normalized=False, special=True),\n",
       "\t200999: AddedToken(\"<|vision_reserved_special_token_913|>\", rstrip=False, lstrip=False, single_word=False, normalized=False, special=True),\n",
       "\t201000: AddedToken(\"<|vision_reserved_special_token_914|>\", rstrip=False, lstrip=False, single_word=False, normalized=False, special=True),\n",
       "\t201001: AddedToken(\"<|vision_reserved_special_token_915|>\", rstrip=False, lstrip=False, single_word=False, normalized=False, special=True),\n",
       "\t201002: AddedToken(\"<|vision_reserved_special_token_916|>\", rstrip=False, lstrip=False, single_word=False, normalized=False, special=True),\n",
       "\t201003: AddedToken(\"<|vision_reserved_special_token_917|>\", rstrip=False, lstrip=False, single_word=False, normalized=False, special=True),\n",
       "\t201004: AddedToken(\"<|vision_reserved_special_token_918|>\", rstrip=False, lstrip=False, single_word=False, normalized=False, special=True),\n",
       "\t201005: AddedToken(\"<|vision_reserved_special_token_919|>\", rstrip=False, lstrip=False, single_word=False, normalized=False, special=True),\n",
       "\t201006: AddedToken(\"<|vision_reserved_special_token_920|>\", rstrip=False, lstrip=False, single_word=False, normalized=False, special=True),\n",
       "\t201007: AddedToken(\"<|vision_reserved_special_token_921|>\", rstrip=False, lstrip=False, single_word=False, normalized=False, special=True),\n",
       "\t201008: AddedToken(\"<|vision_reserved_special_token_922|>\", rstrip=False, lstrip=False, single_word=False, normalized=False, special=True),\n",
       "\t201009: AddedToken(\"<|vision_reserved_special_token_923|>\", rstrip=False, lstrip=False, single_word=False, normalized=False, special=True),\n",
       "\t201010: AddedToken(\"<|vision_reserved_special_token_924|>\", rstrip=False, lstrip=False, single_word=False, normalized=False, special=True),\n",
       "\t201011: AddedToken(\"<|vision_reserved_special_token_925|>\", rstrip=False, lstrip=False, single_word=False, normalized=False, special=True),\n",
       "\t201012: AddedToken(\"<|vision_reserved_special_token_926|>\", rstrip=False, lstrip=False, single_word=False, normalized=False, special=True),\n",
       "\t201013: AddedToken(\"<|vision_reserved_special_token_927|>\", rstrip=False, lstrip=False, single_word=False, normalized=False, special=True),\n",
       "\t201014: AddedToken(\"<|vision_reserved_special_token_928|>\", rstrip=False, lstrip=False, single_word=False, normalized=False, special=True),\n",
       "\t201015: AddedToken(\"<|vision_reserved_special_token_929|>\", rstrip=False, lstrip=False, single_word=False, normalized=False, special=True),\n",
       "\t201016: AddedToken(\"<|vision_reserved_special_token_930|>\", rstrip=False, lstrip=False, single_word=False, normalized=False, special=True),\n",
       "\t201017: AddedToken(\"<|vision_reserved_special_token_931|>\", rstrip=False, lstrip=False, single_word=False, normalized=False, special=True),\n",
       "\t201018: AddedToken(\"<|vision_reserved_special_token_932|>\", rstrip=False, lstrip=False, single_word=False, normalized=False, special=True),\n",
       "\t201019: AddedToken(\"<|vision_reserved_special_token_933|>\", rstrip=False, lstrip=False, single_word=False, normalized=False, special=True),\n",
       "\t201020: AddedToken(\"<|vision_reserved_special_token_934|>\", rstrip=False, lstrip=False, single_word=False, normalized=False, special=True),\n",
       "\t201021: AddedToken(\"<|vision_reserved_special_token_935|>\", rstrip=False, lstrip=False, single_word=False, normalized=False, special=True),\n",
       "\t201022: AddedToken(\"<|vision_reserved_special_token_936|>\", rstrip=False, lstrip=False, single_word=False, normalized=False, special=True),\n",
       "\t201023: AddedToken(\"<|vision_reserved_special_token_937|>\", rstrip=False, lstrip=False, single_word=False, normalized=False, special=True),\n",
       "\t201024: AddedToken(\"<|vision_reserved_special_token_938|>\", rstrip=False, lstrip=False, single_word=False, normalized=False, special=True),\n",
       "\t201025: AddedToken(\"<|vision_reserved_special_token_939|>\", rstrip=False, lstrip=False, single_word=False, normalized=False, special=True),\n",
       "\t201026: AddedToken(\"<|vision_reserved_special_token_940|>\", rstrip=False, lstrip=False, single_word=False, normalized=False, special=True),\n",
       "\t201027: AddedToken(\"<|vision_reserved_special_token_941|>\", rstrip=False, lstrip=False, single_word=False, normalized=False, special=True),\n",
       "\t201028: AddedToken(\"<|vision_reserved_special_token_942|>\", rstrip=False, lstrip=False, single_word=False, normalized=False, special=True),\n",
       "\t201029: AddedToken(\"<|vision_reserved_special_token_943|>\", rstrip=False, lstrip=False, single_word=False, normalized=False, special=True),\n",
       "\t201030: AddedToken(\"<|vision_reserved_special_token_944|>\", rstrip=False, lstrip=False, single_word=False, normalized=False, special=True),\n",
       "\t201031: AddedToken(\"<|vision_reserved_special_token_945|>\", rstrip=False, lstrip=False, single_word=False, normalized=False, special=True),\n",
       "\t201032: AddedToken(\"<|vision_reserved_special_token_946|>\", rstrip=False, lstrip=False, single_word=False, normalized=False, special=True),\n",
       "\t201033: AddedToken(\"<|vision_reserved_special_token_947|>\", rstrip=False, lstrip=False, single_word=False, normalized=False, special=True),\n",
       "\t201034: AddedToken(\"<|vision_reserved_special_token_948|>\", rstrip=False, lstrip=False, single_word=False, normalized=False, special=True),\n",
       "\t201035: AddedToken(\"<|vision_reserved_special_token_949|>\", rstrip=False, lstrip=False, single_word=False, normalized=False, special=True),\n",
       "\t201036: AddedToken(\"<|vision_reserved_special_token_950|>\", rstrip=False, lstrip=False, single_word=False, normalized=False, special=True),\n",
       "\t201037: AddedToken(\"<|vision_reserved_special_token_951|>\", rstrip=False, lstrip=False, single_word=False, normalized=False, special=True),\n",
       "\t201038: AddedToken(\"<|vision_reserved_special_token_952|>\", rstrip=False, lstrip=False, single_word=False, normalized=False, special=True),\n",
       "\t201039: AddedToken(\"<|vision_reserved_special_token_953|>\", rstrip=False, lstrip=False, single_word=False, normalized=False, special=True),\n",
       "\t201040: AddedToken(\"<|vision_reserved_special_token_954|>\", rstrip=False, lstrip=False, single_word=False, normalized=False, special=True),\n",
       "\t201041: AddedToken(\"<|vision_reserved_special_token_955|>\", rstrip=False, lstrip=False, single_word=False, normalized=False, special=True),\n",
       "\t201042: AddedToken(\"<|vision_reserved_special_token_956|>\", rstrip=False, lstrip=False, single_word=False, normalized=False, special=True),\n",
       "\t201043: AddedToken(\"<|vision_reserved_special_token_957|>\", rstrip=False, lstrip=False, single_word=False, normalized=False, special=True),\n",
       "\t201044: AddedToken(\"<|vision_reserved_special_token_958|>\", rstrip=False, lstrip=False, single_word=False, normalized=False, special=True),\n",
       "\t201045: AddedToken(\"<|vision_reserved_special_token_959|>\", rstrip=False, lstrip=False, single_word=False, normalized=False, special=True),\n",
       "\t201046: AddedToken(\"<|vision_reserved_special_token_960|>\", rstrip=False, lstrip=False, single_word=False, normalized=False, special=True),\n",
       "\t201047: AddedToken(\"<|vision_reserved_special_token_961|>\", rstrip=False, lstrip=False, single_word=False, normalized=False, special=True),\n",
       "\t201048: AddedToken(\"<|vision_reserved_special_token_962|>\", rstrip=False, lstrip=False, single_word=False, normalized=False, special=True),\n",
       "\t201049: AddedToken(\"<|vision_reserved_special_token_963|>\", rstrip=False, lstrip=False, single_word=False, normalized=False, special=True),\n",
       "\t201050: AddedToken(\"<|vision_reserved_special_token_964|>\", rstrip=False, lstrip=False, single_word=False, normalized=False, special=True),\n",
       "\t201051: AddedToken(\"<|vision_reserved_special_token_965|>\", rstrip=False, lstrip=False, single_word=False, normalized=False, special=True),\n",
       "\t201052: AddedToken(\"<|vision_reserved_special_token_966|>\", rstrip=False, lstrip=False, single_word=False, normalized=False, special=True),\n",
       "\t201053: AddedToken(\"<|vision_reserved_special_token_967|>\", rstrip=False, lstrip=False, single_word=False, normalized=False, special=True),\n",
       "\t201054: AddedToken(\"<|vision_reserved_special_token_968|>\", rstrip=False, lstrip=False, single_word=False, normalized=False, special=True),\n",
       "\t201055: AddedToken(\"<|vision_reserved_special_token_969|>\", rstrip=False, lstrip=False, single_word=False, normalized=False, special=True),\n",
       "\t201056: AddedToken(\"<|vision_reserved_special_token_970|>\", rstrip=False, lstrip=False, single_word=False, normalized=False, special=True),\n",
       "\t201057: AddedToken(\"<|vision_reserved_special_token_971|>\", rstrip=False, lstrip=False, single_word=False, normalized=False, special=True),\n",
       "\t201058: AddedToken(\"<|vision_reserved_special_token_972|>\", rstrip=False, lstrip=False, single_word=False, normalized=False, special=True),\n",
       "\t201059: AddedToken(\"<|vision_reserved_special_token_973|>\", rstrip=False, lstrip=False, single_word=False, normalized=False, special=True),\n",
       "\t201060: AddedToken(\"<|vision_reserved_special_token_974|>\", rstrip=False, lstrip=False, single_word=False, normalized=False, special=True),\n",
       "\t201061: AddedToken(\"<|vision_reserved_special_token_975|>\", rstrip=False, lstrip=False, single_word=False, normalized=False, special=True),\n",
       "\t201062: AddedToken(\"<|vision_reserved_special_token_976|>\", rstrip=False, lstrip=False, single_word=False, normalized=False, special=True),\n",
       "\t201063: AddedToken(\"<|vision_reserved_special_token_977|>\", rstrip=False, lstrip=False, single_word=False, normalized=False, special=True),\n",
       "\t201064: AddedToken(\"<|vision_reserved_special_token_978|>\", rstrip=False, lstrip=False, single_word=False, normalized=False, special=True),\n",
       "\t201065: AddedToken(\"<|vision_reserved_special_token_979|>\", rstrip=False, lstrip=False, single_word=False, normalized=False, special=True),\n",
       "\t201066: AddedToken(\"<|vision_reserved_special_token_980|>\", rstrip=False, lstrip=False, single_word=False, normalized=False, special=True),\n",
       "\t201067: AddedToken(\"<|vision_reserved_special_token_981|>\", rstrip=False, lstrip=False, single_word=False, normalized=False, special=True),\n",
       "\t201068: AddedToken(\"<|vision_reserved_special_token_982|>\", rstrip=False, lstrip=False, single_word=False, normalized=False, special=True),\n",
       "\t201069: AddedToken(\"<|vision_reserved_special_token_983|>\", rstrip=False, lstrip=False, single_word=False, normalized=False, special=True),\n",
       "\t201070: AddedToken(\"<|vision_reserved_special_token_984|>\", rstrip=False, lstrip=False, single_word=False, normalized=False, special=True),\n",
       "\t201071: AddedToken(\"<|vision_reserved_special_token_985|>\", rstrip=False, lstrip=False, single_word=False, normalized=False, special=True),\n",
       "\t201072: AddedToken(\"<|vision_reserved_special_token_986|>\", rstrip=False, lstrip=False, single_word=False, normalized=False, special=True),\n",
       "\t201073: AddedToken(\"<|vision_reserved_special_token_987|>\", rstrip=False, lstrip=False, single_word=False, normalized=False, special=True),\n",
       "\t201074: AddedToken(\"<|vision_reserved_special_token_988|>\", rstrip=False, lstrip=False, single_word=False, normalized=False, special=True),\n",
       "\t201075: AddedToken(\"<|vision_reserved_special_token_989|>\", rstrip=False, lstrip=False, single_word=False, normalized=False, special=True),\n",
       "\t201076: AddedToken(\"<|vision_reserved_special_token_990|>\", rstrip=False, lstrip=False, single_word=False, normalized=False, special=True),\n",
       "\t201077: AddedToken(\"<|vision_reserved_special_token_991|>\", rstrip=False, lstrip=False, single_word=False, normalized=False, special=True),\n",
       "\t201078: AddedToken(\"<|vision_reserved_special_token_992|>\", rstrip=False, lstrip=False, single_word=False, normalized=False, special=True),\n",
       "\t201079: AddedToken(\"<|vision_reserved_special_token_993|>\", rstrip=False, lstrip=False, single_word=False, normalized=False, special=True),\n",
       "\t201080: AddedToken(\"<|vision_reserved_special_token_994|>\", rstrip=False, lstrip=False, single_word=False, normalized=False, special=True),\n",
       "\t201081: AddedToken(\"<|vision_reserved_special_token_995|>\", rstrip=False, lstrip=False, single_word=False, normalized=False, special=True),\n",
       "\t201082: AddedToken(\"<|vision_reserved_special_token_996|>\", rstrip=False, lstrip=False, single_word=False, normalized=False, special=True),\n",
       "\t201083: AddedToken(\"<|vision_reserved_special_token_997|>\", rstrip=False, lstrip=False, single_word=False, normalized=False, special=True),\n",
       "\t201084: AddedToken(\"<|vision_reserved_special_token_998|>\", rstrip=False, lstrip=False, single_word=False, normalized=False, special=True),\n",
       "\t201085: AddedToken(\"<|vision_reserved_special_token_999|>\", rstrip=False, lstrip=False, single_word=False, normalized=False, special=True),\n",
       "\t201086: AddedToken(\"<|vision_reserved_special_token_1000|>\", rstrip=False, lstrip=False, single_word=False, normalized=False, special=True),\n",
       "\t201087: AddedToken(\"<|vision_reserved_special_token_1001|>\", rstrip=False, lstrip=False, single_word=False, normalized=False, special=True),\n",
       "\t201088: AddedToken(\"<|vision_reserved_special_token_1002|>\", rstrip=False, lstrip=False, single_word=False, normalized=False, special=True),\n",
       "\t201089: AddedToken(\"<|vision_reserved_special_token_1003|>\", rstrip=False, lstrip=False, single_word=False, normalized=False, special=True),\n",
       "\t201090: AddedToken(\"<|vision_reserved_special_token_1004|>\", rstrip=False, lstrip=False, single_word=False, normalized=False, special=True),\n",
       "\t201091: AddedToken(\"<|vision_reserved_special_token_1005|>\", rstrip=False, lstrip=False, single_word=False, normalized=False, special=True),\n",
       "\t201092: AddedToken(\"<|vision_reserved_special_token_1006|>\", rstrip=False, lstrip=False, single_word=False, normalized=False, special=True),\n",
       "\t201093: AddedToken(\"<|vision_reserved_special_token_1007|>\", rstrip=False, lstrip=False, single_word=False, normalized=False, special=True),\n",
       "\t201094: AddedToken(\"<|vision_reserved_special_token_1008|>\", rstrip=False, lstrip=False, single_word=False, normalized=False, special=True),\n",
       "\t201095: AddedToken(\"<|vision_reserved_special_token_1009|>\", rstrip=False, lstrip=False, single_word=False, normalized=False, special=True),\n",
       "\t201096: AddedToken(\"<|vision_reserved_special_token_1010|>\", rstrip=False, lstrip=False, single_word=False, normalized=False, special=True),\n",
       "\t201097: AddedToken(\"<|vision_reserved_special_token_1011|>\", rstrip=False, lstrip=False, single_word=False, normalized=False, special=True),\n",
       "\t201098: AddedToken(\"<|vision_reserved_special_token_1012|>\", rstrip=False, lstrip=False, single_word=False, normalized=False, special=True),\n",
       "\t201099: AddedToken(\"<|vision_reserved_special_token_1013|>\", rstrip=False, lstrip=False, single_word=False, normalized=False, special=True),\n",
       "\t201100: AddedToken(\"<|vision_reserved_special_token_1014|>\", rstrip=False, lstrip=False, single_word=False, normalized=False, special=True),\n",
       "\t201101: AddedToken(\"<|vision_reserved_special_token_1015|>\", rstrip=False, lstrip=False, single_word=False, normalized=False, special=True),\n",
       "\t201102: AddedToken(\"<|vision_reserved_special_token_1016|>\", rstrip=False, lstrip=False, single_word=False, normalized=False, special=True),\n",
       "\t201103: AddedToken(\"<|vision_reserved_special_token_1017|>\", rstrip=False, lstrip=False, single_word=False, normalized=False, special=True),\n",
       "\t201104: AddedToken(\"<|vision_reserved_special_token_1018|>\", rstrip=False, lstrip=False, single_word=False, normalized=False, special=True),\n",
       "\t201105: AddedToken(\"<|vision_reserved_special_token_1019|>\", rstrip=False, lstrip=False, single_word=False, normalized=False, special=True),\n",
       "\t201106: AddedToken(\"<|vision_reserved_special_token_1020|>\", rstrip=False, lstrip=False, single_word=False, normalized=False, special=True),\n",
       "\t201107: AddedToken(\"<|vision_reserved_special_token_1021|>\", rstrip=False, lstrip=False, single_word=False, normalized=False, special=True),\n",
       "\t201108: AddedToken(\"<|vision_reserved_special_token_1022|>\", rstrip=False, lstrip=False, single_word=False, normalized=False, special=True),\n",
       "\t201109: AddedToken(\"<|vision_reserved_special_token_1023|>\", rstrip=False, lstrip=False, single_word=False, normalized=False, special=True),\n",
       "\t201110: AddedToken(\"<|vision_reserved_special_token_1024|>\", rstrip=False, lstrip=False, single_word=False, normalized=False, special=True),\n",
       "\t201111: AddedToken(\"<|vision_reserved_special_token_1025|>\", rstrip=False, lstrip=False, single_word=False, normalized=False, special=True),\n",
       "\t201112: AddedToken(\"<|vision_reserved_special_token_1026|>\", rstrip=False, lstrip=False, single_word=False, normalized=False, special=True),\n",
       "\t201113: AddedToken(\"<|vision_reserved_special_token_1027|>\", rstrip=False, lstrip=False, single_word=False, normalized=False, special=True),\n",
       "\t201114: AddedToken(\"<|vision_reserved_special_token_1028|>\", rstrip=False, lstrip=False, single_word=False, normalized=False, special=True),\n",
       "\t201115: AddedToken(\"<|vision_reserved_special_token_1029|>\", rstrip=False, lstrip=False, single_word=False, normalized=False, special=True),\n",
       "\t201116: AddedToken(\"<|vision_reserved_special_token_1030|>\", rstrip=False, lstrip=False, single_word=False, normalized=False, special=True),\n",
       "\t201117: AddedToken(\"<|vision_reserved_special_token_1031|>\", rstrip=False, lstrip=False, single_word=False, normalized=False, special=True),\n",
       "\t201118: AddedToken(\"<|vision_reserved_special_token_1032|>\", rstrip=False, lstrip=False, single_word=False, normalized=False, special=True),\n",
       "\t201119: AddedToken(\"<|vision_reserved_special_token_1033|>\", rstrip=False, lstrip=False, single_word=False, normalized=False, special=True),\n",
       "\t201120: AddedToken(\"<|vision_reserved_special_token_1034|>\", rstrip=False, lstrip=False, single_word=False, normalized=False, special=True),\n",
       "\t201121: AddedToken(\"<|vision_reserved_special_token_1035|>\", rstrip=False, lstrip=False, single_word=False, normalized=False, special=True),\n",
       "\t201122: AddedToken(\"<|vision_reserved_special_token_1036|>\", rstrip=False, lstrip=False, single_word=False, normalized=False, special=True),\n",
       "\t201123: AddedToken(\"<|vision_reserved_special_token_1037|>\", rstrip=False, lstrip=False, single_word=False, normalized=False, special=True),\n",
       "\t201124: AddedToken(\"<|vision_reserved_special_token_1038|>\", rstrip=False, lstrip=False, single_word=False, normalized=False, special=True),\n",
       "\t201125: AddedToken(\"<|vision_reserved_special_token_1039|>\", rstrip=False, lstrip=False, single_word=False, normalized=False, special=True),\n",
       "\t201126: AddedToken(\"<|vision_reserved_special_token_1040|>\", rstrip=False, lstrip=False, single_word=False, normalized=False, special=True),\n",
       "\t201127: AddedToken(\"<|vision_reserved_special_token_1041|>\", rstrip=False, lstrip=False, single_word=False, normalized=False, special=True),\n",
       "\t201128: AddedToken(\"<|vision_reserved_special_token_1042|>\", rstrip=False, lstrip=False, single_word=False, normalized=False, special=True),\n",
       "\t201129: AddedToken(\"<|vision_reserved_special_token_1043|>\", rstrip=False, lstrip=False, single_word=False, normalized=False, special=True),\n",
       "\t201130: AddedToken(\"<|vision_reserved_special_token_1044|>\", rstrip=False, lstrip=False, single_word=False, normalized=False, special=True),\n",
       "\t201131: AddedToken(\"<|vision_reserved_special_token_1045|>\", rstrip=False, lstrip=False, single_word=False, normalized=False, special=True),\n",
       "\t201132: AddedToken(\"<|vision_reserved_special_token_1046|>\", rstrip=False, lstrip=False, single_word=False, normalized=False, special=True),\n",
       "\t201133: AddedToken(\"<|vision_reserved_special_token_1047|>\", rstrip=False, lstrip=False, single_word=False, normalized=False, special=True),\n",
       "\t201134: AddedToken(\"<|finetune_right_pad_id|>\", rstrip=False, lstrip=False, single_word=False, normalized=False, special=True),\n",
       "}\n",
       ")"
      ]
     },
     "execution_count": 19,
     "metadata": {},
     "output_type": "execute_result"
    }
   ],
   "source": [
    "# 토크나이저 로딩\n",
    "tokenizer = AutoTokenizer.from_pretrained(\"meta-llama/Llama-4-Scout-17B-16E-Instruct\")\n",
    "tokenizer"
   ]
  },
  {
   "cell_type": "code",
   "execution_count": 20,
   "metadata": {},
   "outputs": [
    {
     "data": {
      "text/plain": [
       "tensor([[200000, 200005,  15651, 200006,    368,   4662,    583,    432,  44872,\n",
       "             32, 159409,   1565,    610,  24227,  12133,   8883,     24,    262,\n",
       "          19933,  43910,     26, 200008, 200005,   1556, 200006,    368,  51015,\n",
       "           2117,    650,    583, 200008, 200005, 140680, 200006,    368]])"
      ]
     },
     "execution_count": 20,
     "metadata": {},
     "output_type": "execute_result"
    }
   ],
   "source": [
    "# 프롬프트 설정\n",
    "prompt = \"Explain who you are\"\n",
    "# prompt = \"너의 소원을 말해봐\"\n",
    "\n",
    "# 메시지 구성\n",
    "messages = [\n",
    "    {\n",
    "        \"role\": \"system\",\n",
    "        \"content\": \"You are Llama4 scout model from Meta AI Research, a helpful assistant.\"\n",
    "    },\n",
    "    {\n",
    "        \"role\": \"user\", \n",
    "        \"content\": prompt\n",
    "    }\n",
    "]\n",
    "\n",
    "# 템플릿에 맞게 토큰화\n",
    "input_ids = tokenizer.apply_chat_template(\n",
    "    messages,\n",
    "    tokenize=True, # 텍스트 -> 토큰 id로 변환\n",
    "    add_generation_prompt=True, # 마지막에 모델이 응답할 자리 표시 추가\n",
    "    return_tensors=\"pt\" # PyTorch 텐서로 변환\n",
    "    )\n",
    "input_ids"
   ]
  },
  {
   "cell_type": "code",
   "execution_count": 23,
   "metadata": {},
   "outputs": [
    {
     "ename": "KeyboardInterrupt",
     "evalue": "",
     "output_type": "error",
     "traceback": [
      "\u001b[31m---------------------------------------------------------------------------\u001b[39m",
      "\u001b[31mKeyboardInterrupt\u001b[39m                         Traceback (most recent call last)",
      "\u001b[36mCell\u001b[39m\u001b[36m \u001b[39m\u001b[32mIn[23]\u001b[39m\u001b[32m, line 4\u001b[39m\n\u001b[32m      2\u001b[39m \u001b[38;5;28;01mimport\u001b[39;00m\u001b[38;5;250m \u001b[39m\u001b[34;01mtime\u001b[39;00m\n\u001b[32m      3\u001b[39m start_time = time.time()\n\u001b[32m----> \u001b[39m\u001b[32m4\u001b[39m output = \u001b[43mmodel2\u001b[49m\u001b[43m.\u001b[49m\u001b[43mgenerate\u001b[49m\u001b[43m(\u001b[49m\n\u001b[32m      5\u001b[39m \u001b[43m    \u001b[49m\u001b[43minput_ids\u001b[49m\u001b[43m.\u001b[49m\u001b[43mto\u001b[49m\u001b[43m(\u001b[49m\u001b[33;43m\"\u001b[39;49m\u001b[33;43mcuda\u001b[39;49m\u001b[33;43m\"\u001b[39;49m\u001b[43m)\u001b[49m\u001b[43m,\u001b[49m\n\u001b[32m      6\u001b[39m \u001b[43m    \u001b[49m\u001b[43meos_token_id\u001b[49m\u001b[43m=\u001b[49m\u001b[43mtokenizer\u001b[49m\u001b[43m.\u001b[49m\u001b[43meos_token_id\u001b[49m\u001b[43m,\u001b[49m\n\u001b[32m      7\u001b[39m \u001b[43m    \u001b[49m\u001b[43mmax_new_tokens\u001b[49m\u001b[43m=\u001b[49m\u001b[32;43m128\u001b[39;49m\n\u001b[32m      8\u001b[39m \u001b[43m)\u001b[49m \u001b[38;5;66;03m# 추론 출력 시간 측정\u001b[39;00m\n\u001b[32m      9\u001b[39m end_time = time.time()\n\u001b[32m     10\u001b[39m \u001b[38;5;28mprint\u001b[39m(\u001b[33mf\u001b[39m\u001b[33m\"\u001b[39m\u001b[33m추론 출력 시간: \u001b[39m\u001b[38;5;132;01m{\u001b[39;00mend_time\u001b[38;5;250m \u001b[39m-\u001b[38;5;250m \u001b[39mstart_time\u001b[38;5;132;01m:\u001b[39;00m\u001b[33m.2f\u001b[39m\u001b[38;5;132;01m}\u001b[39;00m\u001b[33m초\u001b[39m\u001b[33m\"\u001b[39m)\n",
      "\u001b[36mFile \u001b[39m\u001b[32m~/gpu_test/venv/lib/python3.12/site-packages/torch/utils/_contextlib.py:116\u001b[39m, in \u001b[36mcontext_decorator.<locals>.decorate_context\u001b[39m\u001b[34m(*args, **kwargs)\u001b[39m\n\u001b[32m    113\u001b[39m \u001b[38;5;129m@functools\u001b[39m.wraps(func)\n\u001b[32m    114\u001b[39m \u001b[38;5;28;01mdef\u001b[39;00m\u001b[38;5;250m \u001b[39m\u001b[34mdecorate_context\u001b[39m(*args, **kwargs):\n\u001b[32m    115\u001b[39m     \u001b[38;5;28;01mwith\u001b[39;00m ctx_factory():\n\u001b[32m--> \u001b[39m\u001b[32m116\u001b[39m         \u001b[38;5;28;01mreturn\u001b[39;00m \u001b[43mfunc\u001b[49m\u001b[43m(\u001b[49m\u001b[43m*\u001b[49m\u001b[43margs\u001b[49m\u001b[43m,\u001b[49m\u001b[43m \u001b[49m\u001b[43m*\u001b[49m\u001b[43m*\u001b[49m\u001b[43mkwargs\u001b[49m\u001b[43m)\u001b[49m\n",
      "\u001b[36mFile \u001b[39m\u001b[32m~/gpu_test/venv/lib/python3.12/site-packages/transformers/generation/utils.py:2597\u001b[39m, in \u001b[36mGenerationMixin.generate\u001b[39m\u001b[34m(self, inputs, generation_config, logits_processor, stopping_criteria, prefix_allowed_tokens_fn, synced_gpus, assistant_model, streamer, negative_prompt_ids, negative_prompt_attention_mask, use_model_defaults, custom_generate, **kwargs)\u001b[39m\n\u001b[32m   2589\u001b[39m     input_ids, model_kwargs = \u001b[38;5;28mself\u001b[39m._expand_inputs_for_generation(\n\u001b[32m   2590\u001b[39m         input_ids=input_ids,\n\u001b[32m   2591\u001b[39m         expand_size=generation_config.num_return_sequences,\n\u001b[32m   2592\u001b[39m         is_encoder_decoder=\u001b[38;5;28mself\u001b[39m.config.is_encoder_decoder,\n\u001b[32m   2593\u001b[39m         **model_kwargs,\n\u001b[32m   2594\u001b[39m     )\n\u001b[32m   2596\u001b[39m     \u001b[38;5;66;03m# 12. run sample (it degenerates to greedy search when `generation_config.do_sample=False`)\u001b[39;00m\n\u001b[32m-> \u001b[39m\u001b[32m2597\u001b[39m     result = \u001b[38;5;28;43mself\u001b[39;49m\u001b[43m.\u001b[49m\u001b[43m_sample\u001b[49m\u001b[43m(\u001b[49m\n\u001b[32m   2598\u001b[39m \u001b[43m        \u001b[49m\u001b[43minput_ids\u001b[49m\u001b[43m,\u001b[49m\n\u001b[32m   2599\u001b[39m \u001b[43m        \u001b[49m\u001b[43mlogits_processor\u001b[49m\u001b[43m=\u001b[49m\u001b[43mprepared_logits_processor\u001b[49m\u001b[43m,\u001b[49m\n\u001b[32m   2600\u001b[39m \u001b[43m        \u001b[49m\u001b[43mstopping_criteria\u001b[49m\u001b[43m=\u001b[49m\u001b[43mprepared_stopping_criteria\u001b[49m\u001b[43m,\u001b[49m\n\u001b[32m   2601\u001b[39m \u001b[43m        \u001b[49m\u001b[43mgeneration_config\u001b[49m\u001b[43m=\u001b[49m\u001b[43mgeneration_config\u001b[49m\u001b[43m,\u001b[49m\n\u001b[32m   2602\u001b[39m \u001b[43m        \u001b[49m\u001b[43msynced_gpus\u001b[49m\u001b[43m=\u001b[49m\u001b[43msynced_gpus\u001b[49m\u001b[43m,\u001b[49m\n\u001b[32m   2603\u001b[39m \u001b[43m        \u001b[49m\u001b[43mstreamer\u001b[49m\u001b[43m=\u001b[49m\u001b[43mstreamer\u001b[49m\u001b[43m,\u001b[49m\n\u001b[32m   2604\u001b[39m \u001b[43m        \u001b[49m\u001b[43m*\u001b[49m\u001b[43m*\u001b[49m\u001b[43mmodel_kwargs\u001b[49m\u001b[43m,\u001b[49m\n\u001b[32m   2605\u001b[39m \u001b[43m    \u001b[49m\u001b[43m)\u001b[49m\n\u001b[32m   2607\u001b[39m \u001b[38;5;28;01melif\u001b[39;00m generation_mode \u001b[38;5;129;01min\u001b[39;00m (GenerationMode.BEAM_SAMPLE, GenerationMode.BEAM_SEARCH):\n\u001b[32m   2608\u001b[39m     \u001b[38;5;66;03m# 11. interleave input_ids with `num_beams` additional sequences per batch\u001b[39;00m\n\u001b[32m   2609\u001b[39m     input_ids, model_kwargs = \u001b[38;5;28mself\u001b[39m._expand_inputs_for_generation(\n\u001b[32m   2610\u001b[39m         input_ids=input_ids,\n\u001b[32m   2611\u001b[39m         expand_size=generation_config.num_beams,\n\u001b[32m   2612\u001b[39m         is_encoder_decoder=\u001b[38;5;28mself\u001b[39m.config.is_encoder_decoder,\n\u001b[32m   2613\u001b[39m         **model_kwargs,\n\u001b[32m   2614\u001b[39m     )\n",
      "\u001b[36mFile \u001b[39m\u001b[32m~/gpu_test/venv/lib/python3.12/site-packages/transformers/generation/utils.py:3560\u001b[39m, in \u001b[36mGenerationMixin._sample\u001b[39m\u001b[34m(self, input_ids, logits_processor, stopping_criteria, generation_config, synced_gpus, streamer, **model_kwargs)\u001b[39m\n\u001b[32m   3558\u001b[39m     is_prefill = \u001b[38;5;28;01mFalse\u001b[39;00m\n\u001b[32m   3559\u001b[39m \u001b[38;5;28;01melse\u001b[39;00m:\n\u001b[32m-> \u001b[39m\u001b[32m3560\u001b[39m     outputs = \u001b[43mmodel_forward\u001b[49m\u001b[43m(\u001b[49m\u001b[43m*\u001b[49m\u001b[43m*\u001b[49m\u001b[43mmodel_inputs\u001b[49m\u001b[43m,\u001b[49m\u001b[43m \u001b[49m\u001b[43mreturn_dict\u001b[49m\u001b[43m=\u001b[49m\u001b[38;5;28;43;01mTrue\u001b[39;49;00m\u001b[43m)\u001b[49m\n\u001b[32m   3562\u001b[39m \u001b[38;5;66;03m# synced_gpus: don't waste resources running the code we don't need; kwargs must be updated before skipping\u001b[39;00m\n\u001b[32m   3563\u001b[39m model_kwargs = \u001b[38;5;28mself\u001b[39m._update_model_kwargs_for_generation(\n\u001b[32m   3564\u001b[39m     outputs,\n\u001b[32m   3565\u001b[39m     model_kwargs,\n\u001b[32m   3566\u001b[39m     is_encoder_decoder=\u001b[38;5;28mself\u001b[39m.config.is_encoder_decoder,\n\u001b[32m   3567\u001b[39m )\n",
      "\u001b[36mFile \u001b[39m\u001b[32m~/gpu_test/venv/lib/python3.12/site-packages/torch/nn/modules/module.py:1736\u001b[39m, in \u001b[36mModule._wrapped_call_impl\u001b[39m\u001b[34m(self, *args, **kwargs)\u001b[39m\n\u001b[32m   1734\u001b[39m     \u001b[38;5;28;01mreturn\u001b[39;00m \u001b[38;5;28mself\u001b[39m._compiled_call_impl(*args, **kwargs)  \u001b[38;5;66;03m# type: ignore[misc]\u001b[39;00m\n\u001b[32m   1735\u001b[39m \u001b[38;5;28;01melse\u001b[39;00m:\n\u001b[32m-> \u001b[39m\u001b[32m1736\u001b[39m     \u001b[38;5;28;01mreturn\u001b[39;00m \u001b[38;5;28;43mself\u001b[39;49m\u001b[43m.\u001b[49m\u001b[43m_call_impl\u001b[49m\u001b[43m(\u001b[49m\u001b[43m*\u001b[49m\u001b[43margs\u001b[49m\u001b[43m,\u001b[49m\u001b[43m \u001b[49m\u001b[43m*\u001b[49m\u001b[43m*\u001b[49m\u001b[43mkwargs\u001b[49m\u001b[43m)\u001b[49m\n",
      "\u001b[36mFile \u001b[39m\u001b[32m~/gpu_test/venv/lib/python3.12/site-packages/torch/nn/modules/module.py:1747\u001b[39m, in \u001b[36mModule._call_impl\u001b[39m\u001b[34m(self, *args, **kwargs)\u001b[39m\n\u001b[32m   1742\u001b[39m \u001b[38;5;66;03m# If we don't have any hooks, we want to skip the rest of the logic in\u001b[39;00m\n\u001b[32m   1743\u001b[39m \u001b[38;5;66;03m# this function, and just call forward.\u001b[39;00m\n\u001b[32m   1744\u001b[39m \u001b[38;5;28;01mif\u001b[39;00m \u001b[38;5;129;01mnot\u001b[39;00m (\u001b[38;5;28mself\u001b[39m._backward_hooks \u001b[38;5;129;01mor\u001b[39;00m \u001b[38;5;28mself\u001b[39m._backward_pre_hooks \u001b[38;5;129;01mor\u001b[39;00m \u001b[38;5;28mself\u001b[39m._forward_hooks \u001b[38;5;129;01mor\u001b[39;00m \u001b[38;5;28mself\u001b[39m._forward_pre_hooks\n\u001b[32m   1745\u001b[39m         \u001b[38;5;129;01mor\u001b[39;00m _global_backward_pre_hooks \u001b[38;5;129;01mor\u001b[39;00m _global_backward_hooks\n\u001b[32m   1746\u001b[39m         \u001b[38;5;129;01mor\u001b[39;00m _global_forward_hooks \u001b[38;5;129;01mor\u001b[39;00m _global_forward_pre_hooks):\n\u001b[32m-> \u001b[39m\u001b[32m1747\u001b[39m     \u001b[38;5;28;01mreturn\u001b[39;00m \u001b[43mforward_call\u001b[49m\u001b[43m(\u001b[49m\u001b[43m*\u001b[49m\u001b[43margs\u001b[49m\u001b[43m,\u001b[49m\u001b[43m \u001b[49m\u001b[43m*\u001b[49m\u001b[43m*\u001b[49m\u001b[43mkwargs\u001b[49m\u001b[43m)\u001b[49m\n\u001b[32m   1749\u001b[39m result = \u001b[38;5;28;01mNone\u001b[39;00m\n\u001b[32m   1750\u001b[39m called_always_called_hooks = \u001b[38;5;28mset\u001b[39m()\n",
      "\u001b[36mFile \u001b[39m\u001b[32m~/gpu_test/venv/lib/python3.12/site-packages/accelerate/hooks.py:175\u001b[39m, in \u001b[36madd_hook_to_module.<locals>.new_forward\u001b[39m\u001b[34m(module, *args, **kwargs)\u001b[39m\n\u001b[32m    173\u001b[39m         output = module._old_forward(*args, **kwargs)\n\u001b[32m    174\u001b[39m \u001b[38;5;28;01melse\u001b[39;00m:\n\u001b[32m--> \u001b[39m\u001b[32m175\u001b[39m     output = \u001b[43mmodule\u001b[49m\u001b[43m.\u001b[49m\u001b[43m_old_forward\u001b[49m\u001b[43m(\u001b[49m\u001b[43m*\u001b[49m\u001b[43margs\u001b[49m\u001b[43m,\u001b[49m\u001b[43m \u001b[49m\u001b[43m*\u001b[49m\u001b[43m*\u001b[49m\u001b[43mkwargs\u001b[49m\u001b[43m)\u001b[49m\n\u001b[32m    176\u001b[39m \u001b[38;5;28;01mreturn\u001b[39;00m module._hf_hook.post_forward(module, output)\n",
      "\u001b[36mFile \u001b[39m\u001b[32m~/gpu_test/venv/lib/python3.12/site-packages/transformers/models/llama4/modeling_llama4.py:1652\u001b[39m, in \u001b[36mLlama4ForConditionalGeneration.forward\u001b[39m\u001b[34m(self, input_ids, pixel_values, attention_mask, position_ids, past_key_values, inputs_embeds, vision_feature_layer, vision_feature_select_strategy, labels, use_cache, output_attentions, output_hidden_states, return_dict, cache_position, logits_to_keep, image_sizes, **kwargs)\u001b[39m\n\u001b[32m   1649\u001b[39m     inputs_embeds = inputs_embeds.masked_scatter(expanded_mask, projected_vision_flat)\n\u001b[32m   1650\u001b[39m     inputs_embeds = inputs_embeds.view(original_inputs_embeds_shape)\n\u001b[32m-> \u001b[39m\u001b[32m1652\u001b[39m outputs = \u001b[38;5;28;43mself\u001b[39;49m\u001b[43m.\u001b[49m\u001b[43mlanguage_model\u001b[49m\u001b[43m(\u001b[49m\n\u001b[32m   1653\u001b[39m \u001b[43m    \u001b[49m\u001b[43mattention_mask\u001b[49m\u001b[43m=\u001b[49m\u001b[43mattention_mask\u001b[49m\u001b[43m,\u001b[49m\n\u001b[32m   1654\u001b[39m \u001b[43m    \u001b[49m\u001b[43mposition_ids\u001b[49m\u001b[43m=\u001b[49m\u001b[43mposition_ids\u001b[49m\u001b[43m,\u001b[49m\n\u001b[32m   1655\u001b[39m \u001b[43m    \u001b[49m\u001b[43mpast_key_values\u001b[49m\u001b[43m=\u001b[49m\u001b[43mpast_key_values\u001b[49m\u001b[43m,\u001b[49m\n\u001b[32m   1656\u001b[39m \u001b[43m    \u001b[49m\u001b[43minputs_embeds\u001b[49m\u001b[43m=\u001b[49m\u001b[43minputs_embeds\u001b[49m\u001b[43m,\u001b[49m\n\u001b[32m   1657\u001b[39m \u001b[43m    \u001b[49m\u001b[43muse_cache\u001b[49m\u001b[43m=\u001b[49m\u001b[43muse_cache\u001b[49m\u001b[43m,\u001b[49m\n\u001b[32m   1658\u001b[39m \u001b[43m    \u001b[49m\u001b[43moutput_attentions\u001b[49m\u001b[43m=\u001b[49m\u001b[43moutput_attentions\u001b[49m\u001b[43m,\u001b[49m\n\u001b[32m   1659\u001b[39m \u001b[43m    \u001b[49m\u001b[43moutput_hidden_states\u001b[49m\u001b[43m=\u001b[49m\u001b[43moutput_hidden_states\u001b[49m\u001b[43m,\u001b[49m\n\u001b[32m   1660\u001b[39m \u001b[43m    \u001b[49m\u001b[43mreturn_dict\u001b[49m\u001b[43m=\u001b[49m\u001b[43mreturn_dict\u001b[49m\u001b[43m,\u001b[49m\n\u001b[32m   1661\u001b[39m \u001b[43m    \u001b[49m\u001b[43mcache_position\u001b[49m\u001b[43m=\u001b[49m\u001b[43mcache_position\u001b[49m\u001b[43m,\u001b[49m\n\u001b[32m   1662\u001b[39m \u001b[43m    \u001b[49m\u001b[43mlogits_to_keep\u001b[49m\u001b[43m=\u001b[49m\u001b[43mlogits_to_keep\u001b[49m\u001b[43m,\u001b[49m\n\u001b[32m   1663\u001b[39m \u001b[43m    \u001b[49m\u001b[43m*\u001b[49m\u001b[43m*\u001b[49m\u001b[43mkwargs\u001b[49m\u001b[43m,\u001b[49m\n\u001b[32m   1664\u001b[39m \u001b[43m\u001b[49m\u001b[43m)\u001b[49m\n\u001b[32m   1666\u001b[39m logits = outputs[\u001b[32m0\u001b[39m]\n\u001b[32m   1668\u001b[39m loss = \u001b[38;5;28;01mNone\u001b[39;00m\n",
      "\u001b[36mFile \u001b[39m\u001b[32m~/gpu_test/venv/lib/python3.12/site-packages/torch/nn/modules/module.py:1736\u001b[39m, in \u001b[36mModule._wrapped_call_impl\u001b[39m\u001b[34m(self, *args, **kwargs)\u001b[39m\n\u001b[32m   1734\u001b[39m     \u001b[38;5;28;01mreturn\u001b[39;00m \u001b[38;5;28mself\u001b[39m._compiled_call_impl(*args, **kwargs)  \u001b[38;5;66;03m# type: ignore[misc]\u001b[39;00m\n\u001b[32m   1735\u001b[39m \u001b[38;5;28;01melse\u001b[39;00m:\n\u001b[32m-> \u001b[39m\u001b[32m1736\u001b[39m     \u001b[38;5;28;01mreturn\u001b[39;00m \u001b[38;5;28;43mself\u001b[39;49m\u001b[43m.\u001b[49m\u001b[43m_call_impl\u001b[49m\u001b[43m(\u001b[49m\u001b[43m*\u001b[49m\u001b[43margs\u001b[49m\u001b[43m,\u001b[49m\u001b[43m \u001b[49m\u001b[43m*\u001b[49m\u001b[43m*\u001b[49m\u001b[43mkwargs\u001b[49m\u001b[43m)\u001b[49m\n",
      "\u001b[36mFile \u001b[39m\u001b[32m~/gpu_test/venv/lib/python3.12/site-packages/torch/nn/modules/module.py:1747\u001b[39m, in \u001b[36mModule._call_impl\u001b[39m\u001b[34m(self, *args, **kwargs)\u001b[39m\n\u001b[32m   1742\u001b[39m \u001b[38;5;66;03m# If we don't have any hooks, we want to skip the rest of the logic in\u001b[39;00m\n\u001b[32m   1743\u001b[39m \u001b[38;5;66;03m# this function, and just call forward.\u001b[39;00m\n\u001b[32m   1744\u001b[39m \u001b[38;5;28;01mif\u001b[39;00m \u001b[38;5;129;01mnot\u001b[39;00m (\u001b[38;5;28mself\u001b[39m._backward_hooks \u001b[38;5;129;01mor\u001b[39;00m \u001b[38;5;28mself\u001b[39m._backward_pre_hooks \u001b[38;5;129;01mor\u001b[39;00m \u001b[38;5;28mself\u001b[39m._forward_hooks \u001b[38;5;129;01mor\u001b[39;00m \u001b[38;5;28mself\u001b[39m._forward_pre_hooks\n\u001b[32m   1745\u001b[39m         \u001b[38;5;129;01mor\u001b[39;00m _global_backward_pre_hooks \u001b[38;5;129;01mor\u001b[39;00m _global_backward_hooks\n\u001b[32m   1746\u001b[39m         \u001b[38;5;129;01mor\u001b[39;00m _global_forward_hooks \u001b[38;5;129;01mor\u001b[39;00m _global_forward_pre_hooks):\n\u001b[32m-> \u001b[39m\u001b[32m1747\u001b[39m     \u001b[38;5;28;01mreturn\u001b[39;00m \u001b[43mforward_call\u001b[49m\u001b[43m(\u001b[49m\u001b[43m*\u001b[49m\u001b[43margs\u001b[49m\u001b[43m,\u001b[49m\u001b[43m \u001b[49m\u001b[43m*\u001b[49m\u001b[43m*\u001b[49m\u001b[43mkwargs\u001b[49m\u001b[43m)\u001b[49m\n\u001b[32m   1749\u001b[39m result = \u001b[38;5;28;01mNone\u001b[39;00m\n\u001b[32m   1750\u001b[39m called_always_called_hooks = \u001b[38;5;28mset\u001b[39m()\n",
      "\u001b[36mFile \u001b[39m\u001b[32m~/gpu_test/venv/lib/python3.12/site-packages/transformers/utils/generic.py:969\u001b[39m, in \u001b[36mcan_return_tuple.<locals>.wrapper\u001b[39m\u001b[34m(self, *args, **kwargs)\u001b[39m\n\u001b[32m    966\u001b[39m     set_attribute_for_modules(\u001b[38;5;28mself\u001b[39m, \u001b[33m\"\u001b[39m\u001b[33m_is_top_level_module\u001b[39m\u001b[33m\"\u001b[39m, \u001b[38;5;28;01mFalse\u001b[39;00m)\n\u001b[32m    968\u001b[39m \u001b[38;5;28;01mtry\u001b[39;00m:\n\u001b[32m--> \u001b[39m\u001b[32m969\u001b[39m     output = \u001b[43mfunc\u001b[49m\u001b[43m(\u001b[49m\u001b[38;5;28;43mself\u001b[39;49m\u001b[43m,\u001b[49m\u001b[43m \u001b[49m\u001b[43m*\u001b[49m\u001b[43margs\u001b[49m\u001b[43m,\u001b[49m\u001b[43m \u001b[49m\u001b[43m*\u001b[49m\u001b[43m*\u001b[49m\u001b[43mkwargs\u001b[49m\u001b[43m)\u001b[49m\n\u001b[32m    970\u001b[39m     \u001b[38;5;28;01mif\u001b[39;00m is_requested_to_return_tuple \u001b[38;5;129;01mor\u001b[39;00m (is_configured_to_return_tuple \u001b[38;5;129;01mand\u001b[39;00m is_top_level_module):\n\u001b[32m    971\u001b[39m         output = output.to_tuple()\n",
      "\u001b[36mFile \u001b[39m\u001b[32m~/gpu_test/venv/lib/python3.12/site-packages/transformers/models/llama4/modeling_llama4.py:936\u001b[39m, in \u001b[36mLlama4ForCausalLM.forward\u001b[39m\u001b[34m(self, input_ids, attention_mask, position_ids, past_key_values, inputs_embeds, labels, use_cache, output_attentions, output_hidden_states, return_dict, cache_position, logits_to_keep, **kwargs)\u001b[39m\n\u001b[32m    933\u001b[39m return_dict = return_dict \u001b[38;5;28;01mif\u001b[39;00m return_dict \u001b[38;5;129;01mis\u001b[39;00m \u001b[38;5;129;01mnot\u001b[39;00m \u001b[38;5;28;01mNone\u001b[39;00m \u001b[38;5;28;01melse\u001b[39;00m \u001b[38;5;28mself\u001b[39m.config.use_return_dict\n\u001b[32m    935\u001b[39m \u001b[38;5;66;03m# decoder outputs consists of (dec_features, layer_state, dec_hidden, dec_attn)\u001b[39;00m\n\u001b[32m--> \u001b[39m\u001b[32m936\u001b[39m outputs = \u001b[38;5;28;43mself\u001b[39;49m\u001b[43m.\u001b[49m\u001b[43mmodel\u001b[49m\u001b[43m(\u001b[49m\n\u001b[32m    937\u001b[39m \u001b[43m    \u001b[49m\u001b[43minput_ids\u001b[49m\u001b[43m=\u001b[49m\u001b[43minput_ids\u001b[49m\u001b[43m,\u001b[49m\n\u001b[32m    938\u001b[39m \u001b[43m    \u001b[49m\u001b[43mattention_mask\u001b[49m\u001b[43m=\u001b[49m\u001b[43mattention_mask\u001b[49m\u001b[43m,\u001b[49m\n\u001b[32m    939\u001b[39m \u001b[43m    \u001b[49m\u001b[43mposition_ids\u001b[49m\u001b[43m=\u001b[49m\u001b[43mposition_ids\u001b[49m\u001b[43m,\u001b[49m\n\u001b[32m    940\u001b[39m \u001b[43m    \u001b[49m\u001b[43mpast_key_values\u001b[49m\u001b[43m=\u001b[49m\u001b[43mpast_key_values\u001b[49m\u001b[43m,\u001b[49m\n\u001b[32m    941\u001b[39m \u001b[43m    \u001b[49m\u001b[43minputs_embeds\u001b[49m\u001b[43m=\u001b[49m\u001b[43minputs_embeds\u001b[49m\u001b[43m,\u001b[49m\n\u001b[32m    942\u001b[39m \u001b[43m    \u001b[49m\u001b[43muse_cache\u001b[49m\u001b[43m=\u001b[49m\u001b[43muse_cache\u001b[49m\u001b[43m,\u001b[49m\n\u001b[32m    943\u001b[39m \u001b[43m    \u001b[49m\u001b[43moutput_attentions\u001b[49m\u001b[43m=\u001b[49m\u001b[43moutput_attentions\u001b[49m\u001b[43m,\u001b[49m\n\u001b[32m    944\u001b[39m \u001b[43m    \u001b[49m\u001b[43moutput_hidden_states\u001b[49m\u001b[43m=\u001b[49m\u001b[43moutput_hidden_states\u001b[49m\u001b[43m,\u001b[49m\n\u001b[32m    945\u001b[39m \u001b[43m    \u001b[49m\u001b[43mreturn_dict\u001b[49m\u001b[43m=\u001b[49m\u001b[38;5;28;43;01mTrue\u001b[39;49;00m\u001b[43m,\u001b[49m\n\u001b[32m    946\u001b[39m \u001b[43m    \u001b[49m\u001b[43mcache_position\u001b[49m\u001b[43m=\u001b[49m\u001b[43mcache_position\u001b[49m\u001b[43m,\u001b[49m\n\u001b[32m    947\u001b[39m \u001b[43m    \u001b[49m\u001b[43m*\u001b[49m\u001b[43m*\u001b[49m\u001b[43mkwargs\u001b[49m\u001b[43m,\u001b[49m\n\u001b[32m    948\u001b[39m \u001b[43m\u001b[49m\u001b[43m)\u001b[49m\n\u001b[32m    950\u001b[39m hidden_states = outputs[\u001b[32m0\u001b[39m]\n\u001b[32m    951\u001b[39m \u001b[38;5;66;03m# Only compute necessary logits, and do not upcast them to float if we are not computing the loss\u001b[39;00m\n",
      "\u001b[36mFile \u001b[39m\u001b[32m~/gpu_test/venv/lib/python3.12/site-packages/torch/nn/modules/module.py:1736\u001b[39m, in \u001b[36mModule._wrapped_call_impl\u001b[39m\u001b[34m(self, *args, **kwargs)\u001b[39m\n\u001b[32m   1734\u001b[39m     \u001b[38;5;28;01mreturn\u001b[39;00m \u001b[38;5;28mself\u001b[39m._compiled_call_impl(*args, **kwargs)  \u001b[38;5;66;03m# type: ignore[misc]\u001b[39;00m\n\u001b[32m   1735\u001b[39m \u001b[38;5;28;01melse\u001b[39;00m:\n\u001b[32m-> \u001b[39m\u001b[32m1736\u001b[39m     \u001b[38;5;28;01mreturn\u001b[39;00m \u001b[38;5;28;43mself\u001b[39;49m\u001b[43m.\u001b[49m\u001b[43m_call_impl\u001b[49m\u001b[43m(\u001b[49m\u001b[43m*\u001b[49m\u001b[43margs\u001b[49m\u001b[43m,\u001b[49m\u001b[43m \u001b[49m\u001b[43m*\u001b[49m\u001b[43m*\u001b[49m\u001b[43mkwargs\u001b[49m\u001b[43m)\u001b[49m\n",
      "\u001b[36mFile \u001b[39m\u001b[32m~/gpu_test/venv/lib/python3.12/site-packages/torch/nn/modules/module.py:1747\u001b[39m, in \u001b[36mModule._call_impl\u001b[39m\u001b[34m(self, *args, **kwargs)\u001b[39m\n\u001b[32m   1742\u001b[39m \u001b[38;5;66;03m# If we don't have any hooks, we want to skip the rest of the logic in\u001b[39;00m\n\u001b[32m   1743\u001b[39m \u001b[38;5;66;03m# this function, and just call forward.\u001b[39;00m\n\u001b[32m   1744\u001b[39m \u001b[38;5;28;01mif\u001b[39;00m \u001b[38;5;129;01mnot\u001b[39;00m (\u001b[38;5;28mself\u001b[39m._backward_hooks \u001b[38;5;129;01mor\u001b[39;00m \u001b[38;5;28mself\u001b[39m._backward_pre_hooks \u001b[38;5;129;01mor\u001b[39;00m \u001b[38;5;28mself\u001b[39m._forward_hooks \u001b[38;5;129;01mor\u001b[39;00m \u001b[38;5;28mself\u001b[39m._forward_pre_hooks\n\u001b[32m   1745\u001b[39m         \u001b[38;5;129;01mor\u001b[39;00m _global_backward_pre_hooks \u001b[38;5;129;01mor\u001b[39;00m _global_backward_hooks\n\u001b[32m   1746\u001b[39m         \u001b[38;5;129;01mor\u001b[39;00m _global_forward_hooks \u001b[38;5;129;01mor\u001b[39;00m _global_forward_pre_hooks):\n\u001b[32m-> \u001b[39m\u001b[32m1747\u001b[39m     \u001b[38;5;28;01mreturn\u001b[39;00m \u001b[43mforward_call\u001b[49m\u001b[43m(\u001b[49m\u001b[43m*\u001b[49m\u001b[43margs\u001b[49m\u001b[43m,\u001b[49m\u001b[43m \u001b[49m\u001b[43m*\u001b[49m\u001b[43m*\u001b[49m\u001b[43mkwargs\u001b[49m\u001b[43m)\u001b[49m\n\u001b[32m   1749\u001b[39m result = \u001b[38;5;28;01mNone\u001b[39;00m\n\u001b[32m   1750\u001b[39m called_always_called_hooks = \u001b[38;5;28mset\u001b[39m()\n",
      "\u001b[36mFile \u001b[39m\u001b[32m~/gpu_test/venv/lib/python3.12/site-packages/transformers/utils/generic.py:969\u001b[39m, in \u001b[36mcan_return_tuple.<locals>.wrapper\u001b[39m\u001b[34m(self, *args, **kwargs)\u001b[39m\n\u001b[32m    966\u001b[39m     set_attribute_for_modules(\u001b[38;5;28mself\u001b[39m, \u001b[33m\"\u001b[39m\u001b[33m_is_top_level_module\u001b[39m\u001b[33m\"\u001b[39m, \u001b[38;5;28;01mFalse\u001b[39;00m)\n\u001b[32m    968\u001b[39m \u001b[38;5;28;01mtry\u001b[39;00m:\n\u001b[32m--> \u001b[39m\u001b[32m969\u001b[39m     output = \u001b[43mfunc\u001b[49m\u001b[43m(\u001b[49m\u001b[38;5;28;43mself\u001b[39;49m\u001b[43m,\u001b[49m\u001b[43m \u001b[49m\u001b[43m*\u001b[49m\u001b[43margs\u001b[49m\u001b[43m,\u001b[49m\u001b[43m \u001b[49m\u001b[43m*\u001b[49m\u001b[43m*\u001b[49m\u001b[43mkwargs\u001b[49m\u001b[43m)\u001b[49m\n\u001b[32m    970\u001b[39m     \u001b[38;5;28;01mif\u001b[39;00m is_requested_to_return_tuple \u001b[38;5;129;01mor\u001b[39;00m (is_configured_to_return_tuple \u001b[38;5;129;01mand\u001b[39;00m is_top_level_module):\n\u001b[32m    971\u001b[39m         output = output.to_tuple()\n",
      "\u001b[36mFile \u001b[39m\u001b[32m~/gpu_test/venv/lib/python3.12/site-packages/transformers/models/llama4/modeling_llama4.py:610\u001b[39m, in \u001b[36mLlama4TextModel.forward\u001b[39m\u001b[34m(self, input_ids, attention_mask, position_ids, past_key_values, inputs_embeds, use_cache, output_attentions, output_hidden_states, return_dict, cache_position, **flash_attn_kwargs)\u001b[39m\n\u001b[32m    596\u001b[39m     layer_outputs = \u001b[38;5;28mself\u001b[39m._gradient_checkpointing_func(\n\u001b[32m    597\u001b[39m         decoder_layer.\u001b[34m__call__\u001b[39m,\n\u001b[32m    598\u001b[39m         hidden_states,\n\u001b[32m   (...)\u001b[39m\u001b[32m    607\u001b[39m         freq_cis,\n\u001b[32m    608\u001b[39m     )\n\u001b[32m    609\u001b[39m \u001b[38;5;28;01melse\u001b[39;00m:\n\u001b[32m--> \u001b[39m\u001b[32m610\u001b[39m     layer_outputs = \u001b[43mdecoder_layer\u001b[49m\u001b[43m(\u001b[49m\n\u001b[32m    611\u001b[39m \u001b[43m        \u001b[49m\u001b[43mhidden_states\u001b[49m\u001b[43m,\u001b[49m\n\u001b[32m    612\u001b[39m \u001b[43m        \u001b[49m\u001b[43mattention_mask\u001b[49m\u001b[43m=\u001b[49m\u001b[43mcausal_mask\u001b[49m\u001b[43m,\u001b[49m\n\u001b[32m    613\u001b[39m \u001b[43m        \u001b[49m\u001b[43mchunk_causal_mask\u001b[49m\u001b[43m=\u001b[49m\u001b[43mchunk_causal_mask\u001b[49m\u001b[43m,\u001b[49m\n\u001b[32m    614\u001b[39m \u001b[43m        \u001b[49m\u001b[43mposition_ids\u001b[49m\u001b[43m=\u001b[49m\u001b[43mposition_ids\u001b[49m\u001b[43m,\u001b[49m\n\u001b[32m    615\u001b[39m \u001b[43m        \u001b[49m\u001b[43mpast_key_value\u001b[49m\u001b[43m=\u001b[49m\u001b[43mpast_key_values\u001b[49m\u001b[43m,\u001b[49m\n\u001b[32m    616\u001b[39m \u001b[43m        \u001b[49m\u001b[43moutput_attentions\u001b[49m\u001b[43m=\u001b[49m\u001b[43moutput_attentions\u001b[49m\u001b[43m,\u001b[49m\n\u001b[32m    617\u001b[39m \u001b[43m        \u001b[49m\u001b[43muse_cache\u001b[49m\u001b[43m=\u001b[49m\u001b[43muse_cache\u001b[49m\u001b[43m,\u001b[49m\n\u001b[32m    618\u001b[39m \u001b[43m        \u001b[49m\u001b[43mcache_position\u001b[49m\u001b[43m=\u001b[49m\u001b[43mcache_position\u001b[49m\u001b[43m,\u001b[49m\n\u001b[32m    619\u001b[39m \u001b[43m        \u001b[49m\u001b[43mposition_embeddings\u001b[49m\u001b[43m=\u001b[49m\u001b[43mfreq_cis\u001b[49m\u001b[43m,\u001b[49m\n\u001b[32m    620\u001b[39m \u001b[43m        \u001b[49m\u001b[43m*\u001b[49m\u001b[43m*\u001b[49m\u001b[43mflash_attn_kwargs\u001b[49m\u001b[43m,\u001b[49m\n\u001b[32m    621\u001b[39m \u001b[43m    \u001b[49m\u001b[43m)\u001b[49m\n\u001b[32m    623\u001b[39m hidden_states = layer_outputs[\u001b[32m0\u001b[39m]\n\u001b[32m    625\u001b[39m \u001b[38;5;28;01mif\u001b[39;00m output_attentions:\n",
      "\u001b[36mFile \u001b[39m\u001b[32m~/gpu_test/venv/lib/python3.12/site-packages/torch/nn/modules/module.py:1736\u001b[39m, in \u001b[36mModule._wrapped_call_impl\u001b[39m\u001b[34m(self, *args, **kwargs)\u001b[39m\n\u001b[32m   1734\u001b[39m     \u001b[38;5;28;01mreturn\u001b[39;00m \u001b[38;5;28mself\u001b[39m._compiled_call_impl(*args, **kwargs)  \u001b[38;5;66;03m# type: ignore[misc]\u001b[39;00m\n\u001b[32m   1735\u001b[39m \u001b[38;5;28;01melse\u001b[39;00m:\n\u001b[32m-> \u001b[39m\u001b[32m1736\u001b[39m     \u001b[38;5;28;01mreturn\u001b[39;00m \u001b[38;5;28;43mself\u001b[39;49m\u001b[43m.\u001b[49m\u001b[43m_call_impl\u001b[49m\u001b[43m(\u001b[49m\u001b[43m*\u001b[49m\u001b[43margs\u001b[49m\u001b[43m,\u001b[49m\u001b[43m \u001b[49m\u001b[43m*\u001b[49m\u001b[43m*\u001b[49m\u001b[43mkwargs\u001b[49m\u001b[43m)\u001b[49m\n",
      "\u001b[36mFile \u001b[39m\u001b[32m~/gpu_test/venv/lib/python3.12/site-packages/torch/nn/modules/module.py:1747\u001b[39m, in \u001b[36mModule._call_impl\u001b[39m\u001b[34m(self, *args, **kwargs)\u001b[39m\n\u001b[32m   1742\u001b[39m \u001b[38;5;66;03m# If we don't have any hooks, we want to skip the rest of the logic in\u001b[39;00m\n\u001b[32m   1743\u001b[39m \u001b[38;5;66;03m# this function, and just call forward.\u001b[39;00m\n\u001b[32m   1744\u001b[39m \u001b[38;5;28;01mif\u001b[39;00m \u001b[38;5;129;01mnot\u001b[39;00m (\u001b[38;5;28mself\u001b[39m._backward_hooks \u001b[38;5;129;01mor\u001b[39;00m \u001b[38;5;28mself\u001b[39m._backward_pre_hooks \u001b[38;5;129;01mor\u001b[39;00m \u001b[38;5;28mself\u001b[39m._forward_hooks \u001b[38;5;129;01mor\u001b[39;00m \u001b[38;5;28mself\u001b[39m._forward_pre_hooks\n\u001b[32m   1745\u001b[39m         \u001b[38;5;129;01mor\u001b[39;00m _global_backward_pre_hooks \u001b[38;5;129;01mor\u001b[39;00m _global_backward_hooks\n\u001b[32m   1746\u001b[39m         \u001b[38;5;129;01mor\u001b[39;00m _global_forward_hooks \u001b[38;5;129;01mor\u001b[39;00m _global_forward_pre_hooks):\n\u001b[32m-> \u001b[39m\u001b[32m1747\u001b[39m     \u001b[38;5;28;01mreturn\u001b[39;00m \u001b[43mforward_call\u001b[49m\u001b[43m(\u001b[49m\u001b[43m*\u001b[49m\u001b[43margs\u001b[49m\u001b[43m,\u001b[49m\u001b[43m \u001b[49m\u001b[43m*\u001b[49m\u001b[43m*\u001b[49m\u001b[43mkwargs\u001b[49m\u001b[43m)\u001b[49m\n\u001b[32m   1749\u001b[39m result = \u001b[38;5;28;01mNone\u001b[39;00m\n\u001b[32m   1750\u001b[39m called_always_called_hooks = \u001b[38;5;28mset\u001b[39m()\n",
      "\u001b[36mFile \u001b[39m\u001b[32m~/gpu_test/venv/lib/python3.12/site-packages/accelerate/hooks.py:175\u001b[39m, in \u001b[36madd_hook_to_module.<locals>.new_forward\u001b[39m\u001b[34m(module, *args, **kwargs)\u001b[39m\n\u001b[32m    173\u001b[39m         output = module._old_forward(*args, **kwargs)\n\u001b[32m    174\u001b[39m \u001b[38;5;28;01melse\u001b[39;00m:\n\u001b[32m--> \u001b[39m\u001b[32m175\u001b[39m     output = \u001b[43mmodule\u001b[49m\u001b[43m.\u001b[49m\u001b[43m_old_forward\u001b[49m\u001b[43m(\u001b[49m\u001b[43m*\u001b[49m\u001b[43margs\u001b[49m\u001b[43m,\u001b[49m\u001b[43m \u001b[49m\u001b[43m*\u001b[49m\u001b[43m*\u001b[49m\u001b[43mkwargs\u001b[49m\u001b[43m)\u001b[49m\n\u001b[32m    176\u001b[39m \u001b[38;5;28;01mreturn\u001b[39;00m module._hf_hook.post_forward(module, output)\n",
      "\u001b[36mFile \u001b[39m\u001b[32m~/gpu_test/venv/lib/python3.12/site-packages/transformers/models/llama4/modeling_llama4.py:443\u001b[39m, in \u001b[36mLlama4TextDecoderLayer.forward\u001b[39m\u001b[34m(self, hidden_states, attention_mask, chunk_causal_mask, position_ids, past_key_value, output_attentions, output_router_logits, use_cache, cache_position, position_embeddings, **kwargs)\u001b[39m\n\u001b[32m    440\u001b[39m residual = hidden_states\n\u001b[32m    442\u001b[39m hidden_states = \u001b[38;5;28mself\u001b[39m.post_attention_layernorm(hidden_states)\n\u001b[32m--> \u001b[39m\u001b[32m443\u001b[39m hidden_states = \u001b[38;5;28;43mself\u001b[39;49m\u001b[43m.\u001b[49m\u001b[43mfeed_forward\u001b[49m\u001b[43m(\u001b[49m\u001b[43mhidden_states\u001b[49m\u001b[43m)\u001b[49m\n\u001b[32m    444\u001b[39m \u001b[38;5;28;01mif\u001b[39;00m \u001b[38;5;28mself\u001b[39m.is_moe_layer:\n\u001b[32m    445\u001b[39m     hidden_states, router_logits = hidden_states\n",
      "\u001b[36mFile \u001b[39m\u001b[32m~/gpu_test/venv/lib/python3.12/site-packages/torch/nn/modules/module.py:1736\u001b[39m, in \u001b[36mModule._wrapped_call_impl\u001b[39m\u001b[34m(self, *args, **kwargs)\u001b[39m\n\u001b[32m   1734\u001b[39m     \u001b[38;5;28;01mreturn\u001b[39;00m \u001b[38;5;28mself\u001b[39m._compiled_call_impl(*args, **kwargs)  \u001b[38;5;66;03m# type: ignore[misc]\u001b[39;00m\n\u001b[32m   1735\u001b[39m \u001b[38;5;28;01melse\u001b[39;00m:\n\u001b[32m-> \u001b[39m\u001b[32m1736\u001b[39m     \u001b[38;5;28;01mreturn\u001b[39;00m \u001b[38;5;28;43mself\u001b[39;49m\u001b[43m.\u001b[49m\u001b[43m_call_impl\u001b[49m\u001b[43m(\u001b[49m\u001b[43m*\u001b[49m\u001b[43margs\u001b[49m\u001b[43m,\u001b[49m\u001b[43m \u001b[49m\u001b[43m*\u001b[49m\u001b[43m*\u001b[49m\u001b[43mkwargs\u001b[49m\u001b[43m)\u001b[49m\n",
      "\u001b[36mFile \u001b[39m\u001b[32m~/gpu_test/venv/lib/python3.12/site-packages/torch/nn/modules/module.py:1747\u001b[39m, in \u001b[36mModule._call_impl\u001b[39m\u001b[34m(self, *args, **kwargs)\u001b[39m\n\u001b[32m   1742\u001b[39m \u001b[38;5;66;03m# If we don't have any hooks, we want to skip the rest of the logic in\u001b[39;00m\n\u001b[32m   1743\u001b[39m \u001b[38;5;66;03m# this function, and just call forward.\u001b[39;00m\n\u001b[32m   1744\u001b[39m \u001b[38;5;28;01mif\u001b[39;00m \u001b[38;5;129;01mnot\u001b[39;00m (\u001b[38;5;28mself\u001b[39m._backward_hooks \u001b[38;5;129;01mor\u001b[39;00m \u001b[38;5;28mself\u001b[39m._backward_pre_hooks \u001b[38;5;129;01mor\u001b[39;00m \u001b[38;5;28mself\u001b[39m._forward_hooks \u001b[38;5;129;01mor\u001b[39;00m \u001b[38;5;28mself\u001b[39m._forward_pre_hooks\n\u001b[32m   1745\u001b[39m         \u001b[38;5;129;01mor\u001b[39;00m _global_backward_pre_hooks \u001b[38;5;129;01mor\u001b[39;00m _global_backward_hooks\n\u001b[32m   1746\u001b[39m         \u001b[38;5;129;01mor\u001b[39;00m _global_forward_hooks \u001b[38;5;129;01mor\u001b[39;00m _global_forward_pre_hooks):\n\u001b[32m-> \u001b[39m\u001b[32m1747\u001b[39m     \u001b[38;5;28;01mreturn\u001b[39;00m \u001b[43mforward_call\u001b[49m\u001b[43m(\u001b[49m\u001b[43m*\u001b[49m\u001b[43margs\u001b[49m\u001b[43m,\u001b[49m\u001b[43m \u001b[49m\u001b[43m*\u001b[49m\u001b[43m*\u001b[49m\u001b[43mkwargs\u001b[49m\u001b[43m)\u001b[49m\n\u001b[32m   1749\u001b[39m result = \u001b[38;5;28;01mNone\u001b[39;00m\n\u001b[32m   1750\u001b[39m called_always_called_hooks = \u001b[38;5;28mset\u001b[39m()\n",
      "\u001b[36mFile \u001b[39m\u001b[32m~/gpu_test/venv/lib/python3.12/site-packages/accelerate/hooks.py:175\u001b[39m, in \u001b[36madd_hook_to_module.<locals>.new_forward\u001b[39m\u001b[34m(module, *args, **kwargs)\u001b[39m\n\u001b[32m    173\u001b[39m         output = module._old_forward(*args, **kwargs)\n\u001b[32m    174\u001b[39m \u001b[38;5;28;01melse\u001b[39;00m:\n\u001b[32m--> \u001b[39m\u001b[32m175\u001b[39m     output = \u001b[43mmodule\u001b[49m\u001b[43m.\u001b[49m\u001b[43m_old_forward\u001b[49m\u001b[43m(\u001b[49m\u001b[43m*\u001b[49m\u001b[43margs\u001b[49m\u001b[43m,\u001b[49m\u001b[43m \u001b[49m\u001b[43m*\u001b[49m\u001b[43m*\u001b[49m\u001b[43mkwargs\u001b[49m\u001b[43m)\u001b[49m\n\u001b[32m    176\u001b[39m \u001b[38;5;28;01mreturn\u001b[39;00m module._hf_hook.post_forward(module, output)\n",
      "\u001b[36mFile \u001b[39m\u001b[32m~/gpu_test/venv/lib/python3.12/site-packages/transformers/models/llama4/modeling_llama4.py:170\u001b[39m, in \u001b[36mLlama4TextMoe.forward\u001b[39m\u001b[34m(self, hidden_states)\u001b[39m\n\u001b[32m    168\u001b[39m \u001b[38;5;66;03m# we gather inputs corresponding to each expert based on the router indices\u001b[39;00m\n\u001b[32m    169\u001b[39m routed_in = routed_in * router_scores.reshape(-\u001b[32m1\u001b[39m, \u001b[32m1\u001b[39m)\n\u001b[32m--> \u001b[39m\u001b[32m170\u001b[39m routed_out = \u001b[38;5;28;43mself\u001b[39;49m\u001b[43m.\u001b[49m\u001b[43mexperts\u001b[49m\u001b[43m(\u001b[49m\u001b[43mrouted_in\u001b[49m\u001b[43m)\u001b[49m\n\u001b[32m    171\u001b[39m out = \u001b[38;5;28mself\u001b[39m.shared_expert(hidden_states)\n\u001b[32m    172\u001b[39m \u001b[38;5;66;03m# now that we finished expert computation -> we scatter add because we gathered previously\u001b[39;00m\n\u001b[32m    173\u001b[39m \u001b[38;5;66;03m# we have to do this because we used all experts on all tokens. This is faster than the for loop, tho you are compute bound\u001b[39;00m\n\u001b[32m    174\u001b[39m \u001b[38;5;66;03m# this scales a lot better if you do EP!\u001b[39;00m\n",
      "\u001b[36mFile \u001b[39m\u001b[32m~/gpu_test/venv/lib/python3.12/site-packages/torch/nn/modules/module.py:1736\u001b[39m, in \u001b[36mModule._wrapped_call_impl\u001b[39m\u001b[34m(self, *args, **kwargs)\u001b[39m\n\u001b[32m   1734\u001b[39m     \u001b[38;5;28;01mreturn\u001b[39;00m \u001b[38;5;28mself\u001b[39m._compiled_call_impl(*args, **kwargs)  \u001b[38;5;66;03m# type: ignore[misc]\u001b[39;00m\n\u001b[32m   1735\u001b[39m \u001b[38;5;28;01melse\u001b[39;00m:\n\u001b[32m-> \u001b[39m\u001b[32m1736\u001b[39m     \u001b[38;5;28;01mreturn\u001b[39;00m \u001b[38;5;28;43mself\u001b[39;49m\u001b[43m.\u001b[49m\u001b[43m_call_impl\u001b[49m\u001b[43m(\u001b[49m\u001b[43m*\u001b[49m\u001b[43margs\u001b[49m\u001b[43m,\u001b[49m\u001b[43m \u001b[49m\u001b[43m*\u001b[49m\u001b[43m*\u001b[49m\u001b[43mkwargs\u001b[49m\u001b[43m)\u001b[49m\n",
      "\u001b[36mFile \u001b[39m\u001b[32m~/gpu_test/venv/lib/python3.12/site-packages/torch/nn/modules/module.py:1747\u001b[39m, in \u001b[36mModule._call_impl\u001b[39m\u001b[34m(self, *args, **kwargs)\u001b[39m\n\u001b[32m   1742\u001b[39m \u001b[38;5;66;03m# If we don't have any hooks, we want to skip the rest of the logic in\u001b[39;00m\n\u001b[32m   1743\u001b[39m \u001b[38;5;66;03m# this function, and just call forward.\u001b[39;00m\n\u001b[32m   1744\u001b[39m \u001b[38;5;28;01mif\u001b[39;00m \u001b[38;5;129;01mnot\u001b[39;00m (\u001b[38;5;28mself\u001b[39m._backward_hooks \u001b[38;5;129;01mor\u001b[39;00m \u001b[38;5;28mself\u001b[39m._backward_pre_hooks \u001b[38;5;129;01mor\u001b[39;00m \u001b[38;5;28mself\u001b[39m._forward_hooks \u001b[38;5;129;01mor\u001b[39;00m \u001b[38;5;28mself\u001b[39m._forward_pre_hooks\n\u001b[32m   1745\u001b[39m         \u001b[38;5;129;01mor\u001b[39;00m _global_backward_pre_hooks \u001b[38;5;129;01mor\u001b[39;00m _global_backward_hooks\n\u001b[32m   1746\u001b[39m         \u001b[38;5;129;01mor\u001b[39;00m _global_forward_hooks \u001b[38;5;129;01mor\u001b[39;00m _global_forward_pre_hooks):\n\u001b[32m-> \u001b[39m\u001b[32m1747\u001b[39m     \u001b[38;5;28;01mreturn\u001b[39;00m \u001b[43mforward_call\u001b[49m\u001b[43m(\u001b[49m\u001b[43m*\u001b[49m\u001b[43margs\u001b[49m\u001b[43m,\u001b[49m\u001b[43m \u001b[49m\u001b[43m*\u001b[49m\u001b[43m*\u001b[49m\u001b[43mkwargs\u001b[49m\u001b[43m)\u001b[49m\n\u001b[32m   1749\u001b[39m result = \u001b[38;5;28;01mNone\u001b[39;00m\n\u001b[32m   1750\u001b[39m called_always_called_hooks = \u001b[38;5;28mset\u001b[39m()\n",
      "\u001b[36mFile \u001b[39m\u001b[32m~/gpu_test/venv/lib/python3.12/site-packages/accelerate/hooks.py:170\u001b[39m, in \u001b[36madd_hook_to_module.<locals>.new_forward\u001b[39m\u001b[34m(module, *args, **kwargs)\u001b[39m\n\u001b[32m    169\u001b[39m \u001b[38;5;28;01mdef\u001b[39;00m\u001b[38;5;250m \u001b[39m\u001b[34mnew_forward\u001b[39m(module, *args, **kwargs):\n\u001b[32m--> \u001b[39m\u001b[32m170\u001b[39m     args, kwargs = \u001b[43mmodule\u001b[49m\u001b[43m.\u001b[49m\u001b[43m_hf_hook\u001b[49m\u001b[43m.\u001b[49m\u001b[43mpre_forward\u001b[49m\u001b[43m(\u001b[49m\u001b[43mmodule\u001b[49m\u001b[43m,\u001b[49m\u001b[43m \u001b[49m\u001b[43m*\u001b[49m\u001b[43margs\u001b[49m\u001b[43m,\u001b[49m\u001b[43m \u001b[49m\u001b[43m*\u001b[49m\u001b[43m*\u001b[49m\u001b[43mkwargs\u001b[49m\u001b[43m)\u001b[49m\n\u001b[32m    171\u001b[39m     \u001b[38;5;28;01mif\u001b[39;00m module._hf_hook.no_grad:\n\u001b[32m    172\u001b[39m         \u001b[38;5;28;01mwith\u001b[39;00m torch.no_grad():\n",
      "\u001b[36mFile \u001b[39m\u001b[32m~/gpu_test/venv/lib/python3.12/site-packages/accelerate/hooks.py:341\u001b[39m, in \u001b[36mAlignDevicesHook.pre_forward\u001b[39m\u001b[34m(self, module, *args, **kwargs)\u001b[39m\n\u001b[32m    334\u001b[39m \u001b[38;5;28;01mfor\u001b[39;00m name, _ \u001b[38;5;129;01min\u001b[39;00m named_module_tensors(\n\u001b[32m    335\u001b[39m     module,\n\u001b[32m    336\u001b[39m     include_buffers=\u001b[38;5;28mself\u001b[39m.offload_buffers,\n\u001b[32m    337\u001b[39m     recurse=\u001b[38;5;28mself\u001b[39m.place_submodules,\n\u001b[32m    338\u001b[39m     remove_non_persistent=\u001b[38;5;28;01mTrue\u001b[39;00m,\n\u001b[32m    339\u001b[39m ):\n\u001b[32m    340\u001b[39m     fp16_statistics = \u001b[38;5;28;01mNone\u001b[39;00m\n\u001b[32m--> \u001b[39m\u001b[32m341\u001b[39m     value = \u001b[38;5;28;43mself\u001b[39;49m\u001b[43m.\u001b[49m\u001b[43mweights_map\u001b[49m\u001b[43m[\u001b[49m\u001b[43mname\u001b[49m\u001b[43m]\u001b[49m\n\u001b[32m    342\u001b[39m     \u001b[38;5;28;01mif\u001b[39;00m \u001b[33m\"\u001b[39m\u001b[33mweight\u001b[39m\u001b[33m\"\u001b[39m \u001b[38;5;129;01min\u001b[39;00m name \u001b[38;5;129;01mand\u001b[39;00m name.replace(\u001b[33m\"\u001b[39m\u001b[33mweight\u001b[39m\u001b[33m\"\u001b[39m, \u001b[33m\"\u001b[39m\u001b[33mSCB\u001b[39m\u001b[33m\"\u001b[39m) \u001b[38;5;129;01min\u001b[39;00m \u001b[38;5;28mself\u001b[39m.weights_map.keys():\n\u001b[32m    343\u001b[39m         \u001b[38;5;28;01mif\u001b[39;00m value.dtype == torch.int8:\n",
      "\u001b[36mFile \u001b[39m\u001b[32m~/gpu_test/venv/lib/python3.12/site-packages/accelerate/utils/offload.py:118\u001b[39m, in \u001b[36mPrefixedDataset.__getitem__\u001b[39m\u001b[34m(self, key)\u001b[39m\n\u001b[32m    117\u001b[39m \u001b[38;5;28;01mdef\u001b[39;00m\u001b[38;5;250m \u001b[39m\u001b[34m__getitem__\u001b[39m(\u001b[38;5;28mself\u001b[39m, key):\n\u001b[32m--> \u001b[39m\u001b[32m118\u001b[39m     \u001b[38;5;28;01mreturn\u001b[39;00m \u001b[38;5;28;43mself\u001b[39;49m\u001b[43m.\u001b[49m\u001b[43mdataset\u001b[49m\u001b[43m[\u001b[49m\u001b[33;43mf\u001b[39;49m\u001b[33;43m\"\u001b[39;49m\u001b[38;5;132;43;01m{\u001b[39;49;00m\u001b[38;5;28;43mself\u001b[39;49m\u001b[43m.\u001b[49m\u001b[43mprefix\u001b[49m\u001b[38;5;132;43;01m}\u001b[39;49;00m\u001b[38;5;132;43;01m{\u001b[39;49;00m\u001b[43mkey\u001b[49m\u001b[38;5;132;43;01m}\u001b[39;49;00m\u001b[33;43m\"\u001b[39;49m\u001b[43m]\u001b[49m\n",
      "\u001b[36mFile \u001b[39m\u001b[32m~/gpu_test/venv/lib/python3.12/site-packages/accelerate/utils/offload.py:171\u001b[39m, in \u001b[36mOffloadedWeightsLoader.__getitem__\u001b[39m\u001b[34m(self, key)\u001b[39m\n\u001b[32m    169\u001b[39m \u001b[38;5;28;01mtry\u001b[39;00m:\n\u001b[32m    170\u001b[39m     \u001b[38;5;28;01mwith\u001b[39;00m safe_open(weight_info[\u001b[33m\"\u001b[39m\u001b[33msafetensors_file\u001b[39m\u001b[33m\"\u001b[39m], framework=\u001b[33m\"\u001b[39m\u001b[33mpt\u001b[39m\u001b[33m\"\u001b[39m, device=device) \u001b[38;5;28;01mas\u001b[39;00m f:\n\u001b[32m--> \u001b[39m\u001b[32m171\u001b[39m         tensor = \u001b[43mf\u001b[49m\u001b[43m.\u001b[49m\u001b[43mget_tensor\u001b[49m\u001b[43m(\u001b[49m\u001b[43mweight_info\u001b[49m\u001b[43m.\u001b[49m\u001b[43mget\u001b[49m\u001b[43m(\u001b[49m\u001b[33;43m\"\u001b[39;49m\u001b[33;43mweight_name\u001b[39;49m\u001b[33;43m\"\u001b[39;49m\u001b[43m,\u001b[49m\u001b[43m \u001b[49m\u001b[43mkey\u001b[49m\u001b[43m)\u001b[49m\u001b[43m)\u001b[49m\n\u001b[32m    172\u001b[39m \u001b[38;5;28;01mexcept\u001b[39;00m \u001b[38;5;167;01mTypeError\u001b[39;00m:\n\u001b[32m    173\u001b[39m     \u001b[38;5;66;03m# if failed to get_tensor on the device, such as bf16 on mps, try to load it on CPU first\u001b[39;00m\n\u001b[32m    174\u001b[39m     \u001b[38;5;28;01mwith\u001b[39;00m safe_open(weight_info[\u001b[33m\"\u001b[39m\u001b[33msafetensors_file\u001b[39m\u001b[33m\"\u001b[39m], framework=\u001b[33m\"\u001b[39m\u001b[33mpt\u001b[39m\u001b[33m\"\u001b[39m, device=\u001b[33m\"\u001b[39m\u001b[33mcpu\u001b[39m\u001b[33m\"\u001b[39m) \u001b[38;5;28;01mas\u001b[39;00m f:\n",
      "\u001b[31mKeyboardInterrupt\u001b[39m: "
     ]
    }
   ],
   "source": [
    "# 모델 추론 (텍스트 생성)\n",
    "import time\n",
    "start_time = time.time()\n",
    "output = model2.generate(\n",
    "    input_ids.to(\"cuda\"), # 입력 텍스트 토큰을 GPU로 이동\n",
    "    eos_token_id=tokenizer.eos_token_id, # 모델이 \"생성 종료\" 판단에 사용할 토큰 ID\n",
    "    max_new_tokens=128 # 최대 생성할 토큰 수. 이 수만큼 새로운 단어/문장을 생성\n",
    ") # 추론 출력 시간 측정\n",
    "end_time = time.time()\n",
    "print(f\"추론 출력 시간: {end_time - start_time:.2f}초\")"
   ]
  },
  {
   "cell_type": "code",
   "execution_count": 7,
   "metadata": {},
   "outputs": [],
   "source": [
    "url1 = \"https://huggingface.co/datasets/huggingface/documentation-images/resolve/0052a70beed5bf71b92610a43a52df6d286cd5f3/diffusers/rabbit.jpg\"\n",
    "url2 = \"https://huggingface.co/datasets/huggingface/documentation-images/resolve/main/datasets/cat_style_layout.png\""
   ]
  },
  {
   "cell_type": "code",
   "execution_count": 8,
   "metadata": {},
   "outputs": [],
   "source": [
    "messages = [\n",
    "    {\n",
    "        \"role\": \"user\",\n",
    "        \"content\": [\n",
    "            {\"type\": \"image\", \"url\": url1},\n",
    "            {\"type\": \"image\", \"url\": url2},\n",
    "            {\"type\": \"text\", \"text\": \"Can you describe how these two images are similar, and how they differ?\"},\n",
    "        ]\n",
    "    },\n",
    "]"
   ]
  },
  {
   "cell_type": "code",
   "execution_count": 9,
   "metadata": {},
   "outputs": [],
   "source": [
    "inputs = processor.apply_chat_template(\n",
    "    messages,\n",
    "    add_generation_prompt=True, # 마지막에 모델이 응답하도록 프롬프트 추가\n",
    "    tokenize=True, # 텍스트/이미지 -> 토큰 변환\n",
    "    return_dict=True, # 딕셔너리 형태로 반환\n",
    "    return_tensors=\"pt\", # PyTorch 텐서로 반환\n",
    ").to(model.device) # 모델과 동일한 디바이스로 이동 (GPU)"
   ]
  },
  {
   "cell_type": "code",
   "execution_count": 16,
   "metadata": {},
   "outputs": [
    {
     "data": {
      "text/plain": [
       "{'input_ids': tensor([[200000, 200005,   1556,  ..., 140680, 200006,    368]]), 'attention_mask': tensor([[1, 1, 1,  ..., 1, 1, 1]]), 'pixel_values': tensor([[[[ 0.8047,  0.7812,  0.7578,  ...,  0.8203,  0.8203,  0.8125],\n",
       "          [ 0.7969,  0.7734,  0.7500,  ...,  0.8047,  0.8047,  0.8047],\n",
       "          [ 0.7891,  0.7656,  0.7422,  ...,  0.7969,  0.7969,  0.7891],\n",
       "          ...,\n",
       "          [-0.0742, -0.0742, -0.0742,  ...,  0.2578,  0.2578,  0.2500],\n",
       "          [-0.0586, -0.0586, -0.0586,  ...,  0.2578,  0.2578,  0.2500],\n",
       "          [-0.0273, -0.0352, -0.0273,  ...,  0.2500,  0.2578,  0.2578]],\n",
       "\n",
       "         [[ 0.7969,  0.7812,  0.7578,  ...,  0.7344,  0.7344,  0.7344],\n",
       "          [ 0.7891,  0.7734,  0.7500,  ...,  0.7266,  0.7266,  0.7266],\n",
       "          [ 0.7812,  0.7656,  0.7422,  ...,  0.7188,  0.7188,  0.7266],\n",
       "          ...,\n",
       "          [-0.1523, -0.1680, -0.1680,  ...,  0.0547,  0.0547,  0.0547],\n",
       "          [-0.1367, -0.1523, -0.1523,  ...,  0.0547,  0.0547,  0.0625],\n",
       "          [-0.1211, -0.1367, -0.1367,  ...,  0.0469,  0.0547,  0.0625]],\n",
       "\n",
       "         [[ 0.7812,  0.7812,  0.7578,  ...,  0.7188,  0.7188,  0.7188],\n",
       "          [ 0.7734,  0.7734,  0.7500,  ...,  0.7109,  0.7109,  0.7109],\n",
       "          [ 0.7656,  0.7656,  0.7422,  ...,  0.7031,  0.7031,  0.7031],\n",
       "          ...,\n",
       "          [-0.3633, -0.3711, -0.3711,  ..., -0.1602, -0.1602, -0.1680],\n",
       "          [-0.3477, -0.3555, -0.3555,  ..., -0.1602, -0.1602, -0.1602],\n",
       "          [-0.3398, -0.3477, -0.3477,  ..., -0.1680, -0.1680, -0.1602]]],\n",
       "\n",
       "\n",
       "        [[[ 0.8047,  0.7969,  0.7969,  ...,  0.4453,  0.4531,  0.4531],\n",
       "          [ 0.7969,  0.7891,  0.7891,  ...,  0.4062,  0.4141,  0.4219],\n",
       "          [ 0.7891,  0.7891,  0.7891,  ...,  0.3438,  0.3516,  0.3594],\n",
       "          ...,\n",
       "          [ 0.2031,  0.1719,  0.1484,  ...,  0.6094,  0.6094,  0.6094],\n",
       "          [ 0.2266,  0.1953,  0.1719,  ...,  0.6172,  0.6172,  0.6172],\n",
       "          [ 0.2422,  0.2266,  0.2031,  ...,  0.5938,  0.5938,  0.6016]],\n",
       "\n",
       "         [[ 0.7578,  0.7578,  0.7578,  ...,  0.4688,  0.4531,  0.4766],\n",
       "          [ 0.7500,  0.7578,  0.7578,  ...,  0.4297,  0.4219,  0.4375],\n",
       "          [ 0.7422,  0.7422,  0.7422,  ...,  0.3594,  0.3516,  0.3672],\n",
       "          ...,\n",
       "          [ 0.0547,  0.0391,  0.0156,  ...,  0.6406,  0.6406,  0.6328],\n",
       "          [ 0.0781,  0.0625,  0.0391,  ...,  0.6641,  0.6641,  0.6641],\n",
       "          [ 0.0938,  0.0859,  0.0625,  ...,  0.6719,  0.6719,  0.6719]],\n",
       "\n",
       "         [[ 0.7266,  0.7266,  0.7266,  ...,  0.3203,  0.3438,  0.3750],\n",
       "          [ 0.7188,  0.7266,  0.7266,  ...,  0.2344,  0.2500,  0.2891],\n",
       "          [ 0.7109,  0.7109,  0.7109,  ...,  0.0625,  0.0781,  0.1172],\n",
       "          ...,\n",
       "          [-0.1914, -0.1992, -0.2227,  ...,  0.4141,  0.4141,  0.4062],\n",
       "          [-0.1680, -0.1758, -0.1992,  ...,  0.4141,  0.4141,  0.4062],\n",
       "          [-0.1602, -0.1602, -0.1758,  ...,  0.3984,  0.3984,  0.3984]]],\n",
       "\n",
       "\n",
       "        [[[ 0.4375,  0.4297,  0.4297,  ..., -0.7969, -0.7969, -0.8047],\n",
       "          [ 0.4062,  0.3984,  0.4062,  ..., -0.7969, -0.7969, -0.8047],\n",
       "          [ 0.3516,  0.3594,  0.3828,  ..., -0.7969, -0.7969, -0.8047],\n",
       "          ...,\n",
       "          [ 0.5859,  0.5859,  0.5859,  ..., -0.4492, -0.5234, -0.5156],\n",
       "          [ 0.6094,  0.6016,  0.6016,  ..., -0.4492, -0.5312, -0.5391],\n",
       "          [ 0.6172,  0.6172,  0.6172,  ..., -0.4492, -0.5312, -0.5625]],\n",
       "\n",
       "         [[ 0.5234,  0.5234,  0.5156,  ..., -0.8203, -0.8203, -0.8203],\n",
       "          [ 0.4844,  0.4844,  0.4844,  ..., -0.8203, -0.8203, -0.8203],\n",
       "          [ 0.4141,  0.4297,  0.4375,  ..., -0.8203, -0.8203, -0.8203],\n",
       "          ...,\n",
       "          [ 0.6250,  0.6250,  0.6250,  ..., -0.5781, -0.6406, -0.6328],\n",
       "          [ 0.6562,  0.6484,  0.6484,  ..., -0.5781, -0.6484, -0.6562],\n",
       "          [ 0.6641,  0.6641,  0.6641,  ..., -0.5781, -0.6484, -0.6797]],\n",
       "\n",
       "         [[ 0.4062,  0.4219,  0.4375,  ..., -0.8594, -0.8594, -0.8594],\n",
       "          [ 0.3203,  0.3438,  0.3672,  ..., -0.8594, -0.8594, -0.8594],\n",
       "          [ 0.1797,  0.2188,  0.2500,  ..., -0.8594, -0.8594, -0.8594],\n",
       "          ...,\n",
       "          [ 0.3750,  0.3672,  0.3750,  ..., -0.7734, -0.8203, -0.8047],\n",
       "          [ 0.3750,  0.3672,  0.3750,  ..., -0.7734, -0.8281, -0.8281],\n",
       "          [ 0.3672,  0.3672,  0.3750,  ..., -0.7656, -0.8203, -0.8438]]],\n",
       "\n",
       "\n",
       "        ...,\n",
       "\n",
       "\n",
       "        [[[ 0.4844,  0.4688,  0.5234,  ...,  0.2422,  0.2031,  0.2812],\n",
       "          [ 0.4922,  0.4141,  0.4609,  ...,  0.2656,  0.2188,  0.1875],\n",
       "          [ 0.3125,  0.2891,  0.2500,  ...,  0.1953,  0.1484,  0.0859],\n",
       "          ...,\n",
       "          [-1.0000, -1.0000, -1.0000,  ..., -1.0000, -1.0000, -1.0000],\n",
       "          [-1.0000, -1.0000, -1.0000,  ..., -1.0000, -1.0000, -1.0000],\n",
       "          [-1.0000, -1.0000, -1.0000,  ..., -1.0000, -1.0000, -1.0000]],\n",
       "\n",
       "         [[ 0.3047,  0.2812,  0.3359,  ...,  0.1172,  0.0781,  0.1641],\n",
       "          [ 0.2969,  0.2109,  0.2656,  ...,  0.1406,  0.0938,  0.0625],\n",
       "          [ 0.1250,  0.1016,  0.0703,  ...,  0.0625,  0.0156, -0.0586],\n",
       "          ...,\n",
       "          [-1.0000, -1.0000, -1.0000,  ..., -1.0000, -1.0000, -1.0000],\n",
       "          [-1.0000, -1.0000, -1.0000,  ..., -1.0000, -1.0000, -1.0000],\n",
       "          [-1.0000, -1.0000, -1.0000,  ..., -1.0000, -1.0000, -1.0000]],\n",
       "\n",
       "         [[ 0.0547,  0.0391,  0.0781,  ..., -0.0820, -0.1211, -0.0508],\n",
       "          [ 0.0469, -0.0195,  0.0234,  ..., -0.0586, -0.1133, -0.1445],\n",
       "          [-0.1289, -0.1445, -0.1758,  ..., -0.1289, -0.1836, -0.2461],\n",
       "          ...,\n",
       "          [-1.0000, -1.0000, -1.0000,  ..., -1.0000, -1.0000, -1.0000],\n",
       "          [-1.0000, -1.0000, -1.0000,  ..., -1.0000, -1.0000, -1.0000],\n",
       "          [-1.0000, -1.0000, -1.0000,  ..., -1.0000, -1.0000, -1.0000]]],\n",
       "\n",
       "\n",
       "        [[[ 0.3281,  0.2969,  0.3047,  ..., -1.0000, -1.0000, -1.0000],\n",
       "          [ 0.1797,  0.2188,  0.2500,  ..., -1.0000, -1.0000, -1.0000],\n",
       "          [ 0.1250,  0.0781,  0.1172,  ..., -1.0000, -1.0000, -1.0000],\n",
       "          ...,\n",
       "          [-1.0000, -1.0000, -1.0000,  ..., -1.0000, -1.0000, -1.0000],\n",
       "          [-1.0000, -1.0000, -1.0000,  ..., -1.0000, -1.0000, -1.0000],\n",
       "          [-1.0000, -1.0000, -1.0000,  ..., -1.0000, -1.0000, -1.0000]],\n",
       "\n",
       "         [[ 0.1953,  0.1641,  0.1875,  ..., -1.0000, -1.0000, -1.0000],\n",
       "          [ 0.0547,  0.1016,  0.1172,  ..., -1.0000, -1.0000, -1.0000],\n",
       "          [-0.0195, -0.0664, -0.0195,  ..., -1.0000, -1.0000, -1.0000],\n",
       "          ...,\n",
       "          [-1.0000, -1.0000, -1.0000,  ..., -1.0000, -1.0000, -1.0000],\n",
       "          [-1.0000, -1.0000, -1.0000,  ..., -1.0000, -1.0000, -1.0000],\n",
       "          [-1.0000, -1.0000, -1.0000,  ..., -1.0000, -1.0000, -1.0000]],\n",
       "\n",
       "         [[-0.0039, -0.0430, -0.0352,  ..., -1.0000, -1.0000, -1.0000],\n",
       "          [-0.1523, -0.1211, -0.0898,  ..., -1.0000, -1.0000, -1.0000],\n",
       "          [-0.2148, -0.2617, -0.2227,  ..., -1.0000, -1.0000, -1.0000],\n",
       "          ...,\n",
       "          [-1.0000, -1.0000, -1.0000,  ..., -1.0000, -1.0000, -1.0000],\n",
       "          [-1.0000, -1.0000, -1.0000,  ..., -1.0000, -1.0000, -1.0000],\n",
       "          [-1.0000, -1.0000, -1.0000,  ..., -1.0000, -1.0000, -1.0000]]],\n",
       "\n",
       "\n",
       "        [[[-0.7891, -0.7812, -0.7578,  ...,  0.5156,  0.5156,  0.5156],\n",
       "          [-0.8125, -0.8125, -0.7969,  ...,  0.5234,  0.5234,  0.5156],\n",
       "          [-0.8047, -0.8047, -0.8125,  ...,  0.5234,  0.5234,  0.5234],\n",
       "          ...,\n",
       "          [-0.3008, -0.2461, -0.1992,  ..., -0.1367, -0.1445, -0.1758],\n",
       "          [-0.2227, -0.1758, -0.1602,  ..., -0.0117,  0.0078,  0.0234],\n",
       "          [-0.1680, -0.1523, -0.1602,  ...,  0.1094,  0.1094,  0.1797]],\n",
       "\n",
       "         [[-0.7344, -0.7188, -0.6875,  ...,  0.5469,  0.5469,  0.5469],\n",
       "          [-0.7500, -0.7500, -0.7344,  ...,  0.5469,  0.5469,  0.5469],\n",
       "          [-0.7344, -0.7344, -0.7422,  ...,  0.5547,  0.5547,  0.5547],\n",
       "          ...,\n",
       "          [-0.1211, -0.0742, -0.0352,  ..., -0.3320, -0.3398, -0.3633],\n",
       "          [-0.0508, -0.0273, -0.0039,  ..., -0.1992, -0.1914, -0.1680],\n",
       "          [-0.0117,  0.0078, -0.0117,  ..., -0.0820, -0.0977, -0.0117]],\n",
       "\n",
       "         [[-0.8594, -0.8516, -0.8359,  ...,  0.5156,  0.5156,  0.5156],\n",
       "          [-0.8672, -0.8672, -0.8594,  ...,  0.5156,  0.5156,  0.5156],\n",
       "          [-0.8672, -0.8594, -0.8516,  ...,  0.5156,  0.5234,  0.5234],\n",
       "          ...,\n",
       "          [-0.4492, -0.3945, -0.3477,  ..., -0.5469, -0.5547, -0.5703],\n",
       "          [-0.3633, -0.3320, -0.3164,  ..., -0.4180, -0.4023, -0.3867],\n",
       "          [-0.3242, -0.3086, -0.3242,  ..., -0.3008, -0.3164, -0.2461]]]],\n",
       "       dtype=torch.bfloat16)}"
      ]
     },
     "execution_count": 16,
     "metadata": {},
     "output_type": "execute_result"
    }
   ],
   "source": [
    "inputs = processor.apply_chat_template(\n",
    "    messages,\n",
    "    add_generation_prompt=True, # 마지막에 모델이 응답하도록 프롬프트 추가\n",
    "    tokenize=True, # 텍스트/이미지 -> 토큰 변환\n",
    "    return_dict=True, # 딕셔너리 형태로 반환\n",
    "    return_tensors=\"pt\", # PyTorch 텐서로 반환\n",
    ")\n",
    "inputs"
   ]
  },
  {
   "cell_type": "code",
   "execution_count": 13,
   "metadata": {},
   "outputs": [
    {
     "data": {
      "text/plain": [
       "{'input_ids': tensor([[200000, 200005,   1556,  ..., 140680, 200006,    368]],\n",
       "       device='cuda:0'), 'attention_mask': tensor([[1, 1, 1,  ..., 1, 1, 1]], device='cuda:0'), 'pixel_values': tensor([[[[ 0.8047,  0.7812,  0.7578,  ...,  0.8203,  0.8203,  0.8125],\n",
       "          [ 0.7969,  0.7734,  0.7500,  ...,  0.8047,  0.8047,  0.8047],\n",
       "          [ 0.7891,  0.7656,  0.7422,  ...,  0.7969,  0.7969,  0.7891],\n",
       "          ...,\n",
       "          [-0.0742, -0.0742, -0.0742,  ...,  0.2578,  0.2578,  0.2500],\n",
       "          [-0.0586, -0.0586, -0.0586,  ...,  0.2578,  0.2578,  0.2500],\n",
       "          [-0.0273, -0.0352, -0.0273,  ...,  0.2500,  0.2578,  0.2578]],\n",
       "\n",
       "         [[ 0.7969,  0.7812,  0.7578,  ...,  0.7344,  0.7344,  0.7344],\n",
       "          [ 0.7891,  0.7734,  0.7500,  ...,  0.7266,  0.7266,  0.7266],\n",
       "          [ 0.7812,  0.7656,  0.7422,  ...,  0.7188,  0.7188,  0.7266],\n",
       "          ...,\n",
       "          [-0.1523, -0.1680, -0.1680,  ...,  0.0547,  0.0547,  0.0547],\n",
       "          [-0.1367, -0.1523, -0.1523,  ...,  0.0547,  0.0547,  0.0625],\n",
       "          [-0.1211, -0.1367, -0.1367,  ...,  0.0469,  0.0547,  0.0625]],\n",
       "\n",
       "         [[ 0.7812,  0.7812,  0.7578,  ...,  0.7188,  0.7188,  0.7188],\n",
       "          [ 0.7734,  0.7734,  0.7500,  ...,  0.7109,  0.7109,  0.7109],\n",
       "          [ 0.7656,  0.7656,  0.7422,  ...,  0.7031,  0.7031,  0.7031],\n",
       "          ...,\n",
       "          [-0.3633, -0.3711, -0.3711,  ..., -0.1602, -0.1602, -0.1680],\n",
       "          [-0.3477, -0.3555, -0.3555,  ..., -0.1602, -0.1602, -0.1602],\n",
       "          [-0.3398, -0.3477, -0.3477,  ..., -0.1680, -0.1680, -0.1602]]],\n",
       "\n",
       "\n",
       "        [[[ 0.8047,  0.7969,  0.7969,  ...,  0.4453,  0.4531,  0.4531],\n",
       "          [ 0.7969,  0.7891,  0.7891,  ...,  0.4062,  0.4141,  0.4219],\n",
       "          [ 0.7891,  0.7891,  0.7891,  ...,  0.3438,  0.3516,  0.3594],\n",
       "          ...,\n",
       "          [ 0.2031,  0.1719,  0.1484,  ...,  0.6094,  0.6094,  0.6094],\n",
       "          [ 0.2266,  0.1953,  0.1719,  ...,  0.6172,  0.6172,  0.6172],\n",
       "          [ 0.2422,  0.2266,  0.2031,  ...,  0.5938,  0.5938,  0.6016]],\n",
       "\n",
       "         [[ 0.7578,  0.7578,  0.7578,  ...,  0.4688,  0.4531,  0.4766],\n",
       "          [ 0.7500,  0.7578,  0.7578,  ...,  0.4297,  0.4219,  0.4375],\n",
       "          [ 0.7422,  0.7422,  0.7422,  ...,  0.3594,  0.3516,  0.3672],\n",
       "          ...,\n",
       "          [ 0.0547,  0.0391,  0.0156,  ...,  0.6406,  0.6406,  0.6328],\n",
       "          [ 0.0781,  0.0625,  0.0391,  ...,  0.6641,  0.6641,  0.6641],\n",
       "          [ 0.0938,  0.0859,  0.0625,  ...,  0.6719,  0.6719,  0.6719]],\n",
       "\n",
       "         [[ 0.7266,  0.7266,  0.7266,  ...,  0.3203,  0.3438,  0.3750],\n",
       "          [ 0.7188,  0.7266,  0.7266,  ...,  0.2344,  0.2500,  0.2891],\n",
       "          [ 0.7109,  0.7109,  0.7109,  ...,  0.0625,  0.0781,  0.1172],\n",
       "          ...,\n",
       "          [-0.1914, -0.1992, -0.2227,  ...,  0.4141,  0.4141,  0.4062],\n",
       "          [-0.1680, -0.1758, -0.1992,  ...,  0.4141,  0.4141,  0.4062],\n",
       "          [-0.1602, -0.1602, -0.1758,  ...,  0.3984,  0.3984,  0.3984]]],\n",
       "\n",
       "\n",
       "        [[[ 0.4375,  0.4297,  0.4297,  ..., -0.7969, -0.7969, -0.8047],\n",
       "          [ 0.4062,  0.3984,  0.4062,  ..., -0.7969, -0.7969, -0.8047],\n",
       "          [ 0.3516,  0.3594,  0.3828,  ..., -0.7969, -0.7969, -0.8047],\n",
       "          ...,\n",
       "          [ 0.5859,  0.5859,  0.5859,  ..., -0.4492, -0.5234, -0.5156],\n",
       "          [ 0.6094,  0.6016,  0.6016,  ..., -0.4492, -0.5312, -0.5391],\n",
       "          [ 0.6172,  0.6172,  0.6172,  ..., -0.4492, -0.5312, -0.5625]],\n",
       "\n",
       "         [[ 0.5234,  0.5234,  0.5156,  ..., -0.8203, -0.8203, -0.8203],\n",
       "          [ 0.4844,  0.4844,  0.4844,  ..., -0.8203, -0.8203, -0.8203],\n",
       "          [ 0.4141,  0.4297,  0.4375,  ..., -0.8203, -0.8203, -0.8203],\n",
       "          ...,\n",
       "          [ 0.6250,  0.6250,  0.6250,  ..., -0.5781, -0.6406, -0.6328],\n",
       "          [ 0.6562,  0.6484,  0.6484,  ..., -0.5781, -0.6484, -0.6562],\n",
       "          [ 0.6641,  0.6641,  0.6641,  ..., -0.5781, -0.6484, -0.6797]],\n",
       "\n",
       "         [[ 0.4062,  0.4219,  0.4375,  ..., -0.8594, -0.8594, -0.8594],\n",
       "          [ 0.3203,  0.3438,  0.3672,  ..., -0.8594, -0.8594, -0.8594],\n",
       "          [ 0.1797,  0.2188,  0.2500,  ..., -0.8594, -0.8594, -0.8594],\n",
       "          ...,\n",
       "          [ 0.3750,  0.3672,  0.3750,  ..., -0.7734, -0.8203, -0.8047],\n",
       "          [ 0.3750,  0.3672,  0.3750,  ..., -0.7734, -0.8281, -0.8281],\n",
       "          [ 0.3672,  0.3672,  0.3750,  ..., -0.7656, -0.8203, -0.8438]]],\n",
       "\n",
       "\n",
       "        ...,\n",
       "\n",
       "\n",
       "        [[[ 0.4844,  0.4688,  0.5234,  ...,  0.2422,  0.2031,  0.2812],\n",
       "          [ 0.4922,  0.4141,  0.4609,  ...,  0.2656,  0.2188,  0.1875],\n",
       "          [ 0.3125,  0.2891,  0.2500,  ...,  0.1953,  0.1484,  0.0859],\n",
       "          ...,\n",
       "          [-1.0000, -1.0000, -1.0000,  ..., -1.0000, -1.0000, -1.0000],\n",
       "          [-1.0000, -1.0000, -1.0000,  ..., -1.0000, -1.0000, -1.0000],\n",
       "          [-1.0000, -1.0000, -1.0000,  ..., -1.0000, -1.0000, -1.0000]],\n",
       "\n",
       "         [[ 0.3047,  0.2812,  0.3359,  ...,  0.1172,  0.0781,  0.1641],\n",
       "          [ 0.2969,  0.2109,  0.2656,  ...,  0.1406,  0.0938,  0.0625],\n",
       "          [ 0.1250,  0.1016,  0.0703,  ...,  0.0625,  0.0156, -0.0586],\n",
       "          ...,\n",
       "          [-1.0000, -1.0000, -1.0000,  ..., -1.0000, -1.0000, -1.0000],\n",
       "          [-1.0000, -1.0000, -1.0000,  ..., -1.0000, -1.0000, -1.0000],\n",
       "          [-1.0000, -1.0000, -1.0000,  ..., -1.0000, -1.0000, -1.0000]],\n",
       "\n",
       "         [[ 0.0547,  0.0391,  0.0781,  ..., -0.0820, -0.1211, -0.0508],\n",
       "          [ 0.0469, -0.0195,  0.0234,  ..., -0.0586, -0.1133, -0.1445],\n",
       "          [-0.1289, -0.1445, -0.1758,  ..., -0.1289, -0.1836, -0.2461],\n",
       "          ...,\n",
       "          [-1.0000, -1.0000, -1.0000,  ..., -1.0000, -1.0000, -1.0000],\n",
       "          [-1.0000, -1.0000, -1.0000,  ..., -1.0000, -1.0000, -1.0000],\n",
       "          [-1.0000, -1.0000, -1.0000,  ..., -1.0000, -1.0000, -1.0000]]],\n",
       "\n",
       "\n",
       "        [[[ 0.3281,  0.2969,  0.3047,  ..., -1.0000, -1.0000, -1.0000],\n",
       "          [ 0.1797,  0.2188,  0.2500,  ..., -1.0000, -1.0000, -1.0000],\n",
       "          [ 0.1250,  0.0781,  0.1172,  ..., -1.0000, -1.0000, -1.0000],\n",
       "          ...,\n",
       "          [-1.0000, -1.0000, -1.0000,  ..., -1.0000, -1.0000, -1.0000],\n",
       "          [-1.0000, -1.0000, -1.0000,  ..., -1.0000, -1.0000, -1.0000],\n",
       "          [-1.0000, -1.0000, -1.0000,  ..., -1.0000, -1.0000, -1.0000]],\n",
       "\n",
       "         [[ 0.1953,  0.1641,  0.1875,  ..., -1.0000, -1.0000, -1.0000],\n",
       "          [ 0.0547,  0.1016,  0.1172,  ..., -1.0000, -1.0000, -1.0000],\n",
       "          [-0.0195, -0.0664, -0.0195,  ..., -1.0000, -1.0000, -1.0000],\n",
       "          ...,\n",
       "          [-1.0000, -1.0000, -1.0000,  ..., -1.0000, -1.0000, -1.0000],\n",
       "          [-1.0000, -1.0000, -1.0000,  ..., -1.0000, -1.0000, -1.0000],\n",
       "          [-1.0000, -1.0000, -1.0000,  ..., -1.0000, -1.0000, -1.0000]],\n",
       "\n",
       "         [[-0.0039, -0.0430, -0.0352,  ..., -1.0000, -1.0000, -1.0000],\n",
       "          [-0.1523, -0.1211, -0.0898,  ..., -1.0000, -1.0000, -1.0000],\n",
       "          [-0.2148, -0.2617, -0.2227,  ..., -1.0000, -1.0000, -1.0000],\n",
       "          ...,\n",
       "          [-1.0000, -1.0000, -1.0000,  ..., -1.0000, -1.0000, -1.0000],\n",
       "          [-1.0000, -1.0000, -1.0000,  ..., -1.0000, -1.0000, -1.0000],\n",
       "          [-1.0000, -1.0000, -1.0000,  ..., -1.0000, -1.0000, -1.0000]]],\n",
       "\n",
       "\n",
       "        [[[-0.7891, -0.7812, -0.7578,  ...,  0.5156,  0.5156,  0.5156],\n",
       "          [-0.8125, -0.8125, -0.7969,  ...,  0.5234,  0.5234,  0.5156],\n",
       "          [-0.8047, -0.8047, -0.8125,  ...,  0.5234,  0.5234,  0.5234],\n",
       "          ...,\n",
       "          [-0.3008, -0.2461, -0.1992,  ..., -0.1367, -0.1445, -0.1758],\n",
       "          [-0.2227, -0.1758, -0.1602,  ..., -0.0117,  0.0078,  0.0234],\n",
       "          [-0.1680, -0.1523, -0.1602,  ...,  0.1094,  0.1094,  0.1797]],\n",
       "\n",
       "         [[-0.7344, -0.7188, -0.6875,  ...,  0.5469,  0.5469,  0.5469],\n",
       "          [-0.7500, -0.7500, -0.7344,  ...,  0.5469,  0.5469,  0.5469],\n",
       "          [-0.7344, -0.7344, -0.7422,  ...,  0.5547,  0.5547,  0.5547],\n",
       "          ...,\n",
       "          [-0.1211, -0.0742, -0.0352,  ..., -0.3320, -0.3398, -0.3633],\n",
       "          [-0.0508, -0.0273, -0.0039,  ..., -0.1992, -0.1914, -0.1680],\n",
       "          [-0.0117,  0.0078, -0.0117,  ..., -0.0820, -0.0977, -0.0117]],\n",
       "\n",
       "         [[-0.8594, -0.8516, -0.8359,  ...,  0.5156,  0.5156,  0.5156],\n",
       "          [-0.8672, -0.8672, -0.8594,  ...,  0.5156,  0.5156,  0.5156],\n",
       "          [-0.8672, -0.8594, -0.8516,  ...,  0.5156,  0.5234,  0.5234],\n",
       "          ...,\n",
       "          [-0.4492, -0.3945, -0.3477,  ..., -0.5469, -0.5547, -0.5703],\n",
       "          [-0.3633, -0.3320, -0.3164,  ..., -0.4180, -0.4023, -0.3867],\n",
       "          [-0.3242, -0.3086, -0.3242,  ..., -0.3008, -0.3164, -0.2461]]]],\n",
       "       device='cuda:0', dtype=torch.bfloat16)}"
      ]
     },
     "execution_count": 13,
     "metadata": {},
     "output_type": "execute_result"
    }
   ],
   "source": [
    "inputs"
   ]
  },
  {
   "cell_type": "code",
   "execution_count": 11,
   "metadata": {},
   "outputs": [
    {
     "data": {
      "text/plain": [
       "torch.Size([1, 4959])"
      ]
     },
     "execution_count": 11,
     "metadata": {},
     "output_type": "execute_result"
    }
   ],
   "source": [
    "inputs[\"attention_mask\"].shape"
   ]
  },
  {
   "cell_type": "code",
   "execution_count": 12,
   "metadata": {},
   "outputs": [
    {
     "data": {
      "text/plain": [
       "tensor([1, 1, 1,  ..., 1, 1, 1], device='cuda:0')"
      ]
     },
     "execution_count": 12,
     "metadata": {},
     "output_type": "execute_result"
    }
   ],
   "source": [
    "inputs[\"attention_mask\"].squeeze()"
   ]
  },
  {
   "cell_type": "code",
   "execution_count": null,
   "metadata": {},
   "outputs": [
    {
     "ename": "NameError",
     "evalue": "name 'input_ids' is not defined",
     "output_type": "error",
     "traceback": [
      "\u001b[31m---------------------------------------------------------------------------\u001b[39m",
      "\u001b[31mNameError\u001b[39m                                 Traceback (most recent call last)",
      "\u001b[36mCell\u001b[39m\u001b[36m \u001b[39m\u001b[32mIn[15]\u001b[39m\u001b[32m, line 2\u001b[39m\n\u001b[32m      1\u001b[39m outputs = model.generate(\n\u001b[32m----> \u001b[39m\u001b[32m2\u001b[39m     \u001b[43minput_ids\u001b[49m.to(),\n\u001b[32m      3\u001b[39m     max_new_tokens=\u001b[32m256\u001b[39m, \u001b[38;5;66;03m# 최대 생성 토큰 수\u001b[39;00m\n\u001b[32m      4\u001b[39m     pad_token_id=processor.tokenizer.pad_token_id,  \u001b[38;5;66;03m# 패딩 토큰 ID\u001b[39;00m\n\u001b[32m      5\u001b[39m     eos_token_id=processor.tokenizer.eos_token_id   \u001b[38;5;66;03m# 문장 끝 토큰 ID\u001b[39;00m\n\u001b[32m      6\u001b[39m )\n",
      "\u001b[31mNameError\u001b[39m: name 'input_ids' is not defined"
     ]
    }
   ],
   "source": [
    "outputs = model.generate(\n",
    "    input_ids.to(\"cuda\"),\n",
    "    eos_token_id=tokenizer.eos_token_id,\n",
    "    max_new_tokens=256, # 최대 생성 토큰 수\n",
    ")"
   ]
  },
  {
   "cell_type": "code",
   "execution_count": 10,
   "metadata": {},
   "outputs": [
    {
     "ename": "ValueError",
     "evalue": "too many values to unpack (expected 2)",
     "output_type": "error",
     "traceback": [
      "\u001b[31m---------------------------------------------------------------------------\u001b[39m",
      "\u001b[31mValueError\u001b[39m                                Traceback (most recent call last)",
      "\u001b[36mCell\u001b[39m\u001b[36m \u001b[39m\u001b[32mIn[10]\u001b[39m\u001b[32m, line 1\u001b[39m\n\u001b[32m----> \u001b[39m\u001b[32m1\u001b[39m outputs = \u001b[43mmodel\u001b[49m\u001b[43m.\u001b[49m\u001b[43mgenerate\u001b[49m\u001b[43m(\u001b[49m\n\u001b[32m      2\u001b[39m \u001b[43m    \u001b[49m\u001b[43m*\u001b[49m\u001b[43m*\u001b[49m\u001b[43minputs\u001b[49m\u001b[43m,\u001b[49m\n\u001b[32m      3\u001b[39m \u001b[43m    \u001b[49m\u001b[43mmax_new_tokens\u001b[49m\u001b[43m=\u001b[49m\u001b[32;43m256\u001b[39;49m\u001b[43m,\u001b[49m\u001b[43m \u001b[49m\u001b[38;5;66;43;03m# 최대 생성 토큰 수\u001b[39;49;00m\n\u001b[32m      4\u001b[39m \u001b[43m)\u001b[49m\n",
      "\u001b[36mFile \u001b[39m\u001b[32m~/gpu_test/venv/lib/python3.12/site-packages/torch/utils/_contextlib.py:116\u001b[39m, in \u001b[36mcontext_decorator.<locals>.decorate_context\u001b[39m\u001b[34m(*args, **kwargs)\u001b[39m\n\u001b[32m    113\u001b[39m \u001b[38;5;129m@functools\u001b[39m.wraps(func)\n\u001b[32m    114\u001b[39m \u001b[38;5;28;01mdef\u001b[39;00m\u001b[38;5;250m \u001b[39m\u001b[34mdecorate_context\u001b[39m(*args, **kwargs):\n\u001b[32m    115\u001b[39m     \u001b[38;5;28;01mwith\u001b[39;00m ctx_factory():\n\u001b[32m--> \u001b[39m\u001b[32m116\u001b[39m         \u001b[38;5;28;01mreturn\u001b[39;00m \u001b[43mfunc\u001b[49m\u001b[43m(\u001b[49m\u001b[43m*\u001b[49m\u001b[43margs\u001b[49m\u001b[43m,\u001b[49m\u001b[43m \u001b[49m\u001b[43m*\u001b[49m\u001b[43m*\u001b[49m\u001b[43mkwargs\u001b[49m\u001b[43m)\u001b[49m\n",
      "\u001b[36mFile \u001b[39m\u001b[32m~/gpu_test/venv/lib/python3.12/site-packages/transformers/generation/utils.py:2597\u001b[39m, in \u001b[36mGenerationMixin.generate\u001b[39m\u001b[34m(self, inputs, generation_config, logits_processor, stopping_criteria, prefix_allowed_tokens_fn, synced_gpus, assistant_model, streamer, negative_prompt_ids, negative_prompt_attention_mask, use_model_defaults, custom_generate, **kwargs)\u001b[39m\n\u001b[32m   2589\u001b[39m     input_ids, model_kwargs = \u001b[38;5;28mself\u001b[39m._expand_inputs_for_generation(\n\u001b[32m   2590\u001b[39m         input_ids=input_ids,\n\u001b[32m   2591\u001b[39m         expand_size=generation_config.num_return_sequences,\n\u001b[32m   2592\u001b[39m         is_encoder_decoder=\u001b[38;5;28mself\u001b[39m.config.is_encoder_decoder,\n\u001b[32m   2593\u001b[39m         **model_kwargs,\n\u001b[32m   2594\u001b[39m     )\n\u001b[32m   2596\u001b[39m     \u001b[38;5;66;03m# 12. run sample (it degenerates to greedy search when `generation_config.do_sample=False`)\u001b[39;00m\n\u001b[32m-> \u001b[39m\u001b[32m2597\u001b[39m     result = \u001b[38;5;28;43mself\u001b[39;49m\u001b[43m.\u001b[49m\u001b[43m_sample\u001b[49m\u001b[43m(\u001b[49m\n\u001b[32m   2598\u001b[39m \u001b[43m        \u001b[49m\u001b[43minput_ids\u001b[49m\u001b[43m,\u001b[49m\n\u001b[32m   2599\u001b[39m \u001b[43m        \u001b[49m\u001b[43mlogits_processor\u001b[49m\u001b[43m=\u001b[49m\u001b[43mprepared_logits_processor\u001b[49m\u001b[43m,\u001b[49m\n\u001b[32m   2600\u001b[39m \u001b[43m        \u001b[49m\u001b[43mstopping_criteria\u001b[49m\u001b[43m=\u001b[49m\u001b[43mprepared_stopping_criteria\u001b[49m\u001b[43m,\u001b[49m\n\u001b[32m   2601\u001b[39m \u001b[43m        \u001b[49m\u001b[43mgeneration_config\u001b[49m\u001b[43m=\u001b[49m\u001b[43mgeneration_config\u001b[49m\u001b[43m,\u001b[49m\n\u001b[32m   2602\u001b[39m \u001b[43m        \u001b[49m\u001b[43msynced_gpus\u001b[49m\u001b[43m=\u001b[49m\u001b[43msynced_gpus\u001b[49m\u001b[43m,\u001b[49m\n\u001b[32m   2603\u001b[39m \u001b[43m        \u001b[49m\u001b[43mstreamer\u001b[49m\u001b[43m=\u001b[49m\u001b[43mstreamer\u001b[49m\u001b[43m,\u001b[49m\n\u001b[32m   2604\u001b[39m \u001b[43m        \u001b[49m\u001b[43m*\u001b[49m\u001b[43m*\u001b[49m\u001b[43mmodel_kwargs\u001b[49m\u001b[43m,\u001b[49m\n\u001b[32m   2605\u001b[39m \u001b[43m    \u001b[49m\u001b[43m)\u001b[49m\n\u001b[32m   2607\u001b[39m \u001b[38;5;28;01melif\u001b[39;00m generation_mode \u001b[38;5;129;01min\u001b[39;00m (GenerationMode.BEAM_SAMPLE, GenerationMode.BEAM_SEARCH):\n\u001b[32m   2608\u001b[39m     \u001b[38;5;66;03m# 11. interleave input_ids with `num_beams` additional sequences per batch\u001b[39;00m\n\u001b[32m   2609\u001b[39m     input_ids, model_kwargs = \u001b[38;5;28mself\u001b[39m._expand_inputs_for_generation(\n\u001b[32m   2610\u001b[39m         input_ids=input_ids,\n\u001b[32m   2611\u001b[39m         expand_size=generation_config.num_beams,\n\u001b[32m   2612\u001b[39m         is_encoder_decoder=\u001b[38;5;28mself\u001b[39m.config.is_encoder_decoder,\n\u001b[32m   2613\u001b[39m         **model_kwargs,\n\u001b[32m   2614\u001b[39m     )\n",
      "\u001b[36mFile \u001b[39m\u001b[32m~/gpu_test/venv/lib/python3.12/site-packages/transformers/generation/utils.py:3557\u001b[39m, in \u001b[36mGenerationMixin._sample\u001b[39m\u001b[34m(self, input_ids, logits_processor, stopping_criteria, generation_config, synced_gpus, streamer, **model_kwargs)\u001b[39m\n\u001b[32m   3554\u001b[39m model_inputs.update({\u001b[33m\"\u001b[39m\u001b[33moutput_hidden_states\u001b[39m\u001b[33m\"\u001b[39m: output_hidden_states} \u001b[38;5;28;01mif\u001b[39;00m output_hidden_states \u001b[38;5;28;01melse\u001b[39;00m {})\n\u001b[32m   3556\u001b[39m \u001b[38;5;28;01mif\u001b[39;00m is_prefill:\n\u001b[32m-> \u001b[39m\u001b[32m3557\u001b[39m     outputs = \u001b[38;5;28;43mself\u001b[39;49m\u001b[43m(\u001b[49m\u001b[43m*\u001b[49m\u001b[43m*\u001b[49m\u001b[43mmodel_inputs\u001b[49m\u001b[43m,\u001b[49m\u001b[43m \u001b[49m\u001b[43mreturn_dict\u001b[49m\u001b[43m=\u001b[49m\u001b[38;5;28;43;01mTrue\u001b[39;49;00m\u001b[43m)\u001b[49m\n\u001b[32m   3558\u001b[39m     is_prefill = \u001b[38;5;28;01mFalse\u001b[39;00m\n\u001b[32m   3559\u001b[39m \u001b[38;5;28;01melse\u001b[39;00m:\n",
      "\u001b[36mFile \u001b[39m\u001b[32m~/gpu_test/venv/lib/python3.12/site-packages/torch/nn/modules/module.py:1736\u001b[39m, in \u001b[36mModule._wrapped_call_impl\u001b[39m\u001b[34m(self, *args, **kwargs)\u001b[39m\n\u001b[32m   1734\u001b[39m     \u001b[38;5;28;01mreturn\u001b[39;00m \u001b[38;5;28mself\u001b[39m._compiled_call_impl(*args, **kwargs)  \u001b[38;5;66;03m# type: ignore[misc]\u001b[39;00m\n\u001b[32m   1735\u001b[39m \u001b[38;5;28;01melse\u001b[39;00m:\n\u001b[32m-> \u001b[39m\u001b[32m1736\u001b[39m     \u001b[38;5;28;01mreturn\u001b[39;00m \u001b[38;5;28;43mself\u001b[39;49m\u001b[43m.\u001b[49m\u001b[43m_call_impl\u001b[49m\u001b[43m(\u001b[49m\u001b[43m*\u001b[49m\u001b[43margs\u001b[49m\u001b[43m,\u001b[49m\u001b[43m \u001b[49m\u001b[43m*\u001b[49m\u001b[43m*\u001b[49m\u001b[43mkwargs\u001b[49m\u001b[43m)\u001b[49m\n",
      "\u001b[36mFile \u001b[39m\u001b[32m~/gpu_test/venv/lib/python3.12/site-packages/torch/nn/modules/module.py:1747\u001b[39m, in \u001b[36mModule._call_impl\u001b[39m\u001b[34m(self, *args, **kwargs)\u001b[39m\n\u001b[32m   1742\u001b[39m \u001b[38;5;66;03m# If we don't have any hooks, we want to skip the rest of the logic in\u001b[39;00m\n\u001b[32m   1743\u001b[39m \u001b[38;5;66;03m# this function, and just call forward.\u001b[39;00m\n\u001b[32m   1744\u001b[39m \u001b[38;5;28;01mif\u001b[39;00m \u001b[38;5;129;01mnot\u001b[39;00m (\u001b[38;5;28mself\u001b[39m._backward_hooks \u001b[38;5;129;01mor\u001b[39;00m \u001b[38;5;28mself\u001b[39m._backward_pre_hooks \u001b[38;5;129;01mor\u001b[39;00m \u001b[38;5;28mself\u001b[39m._forward_hooks \u001b[38;5;129;01mor\u001b[39;00m \u001b[38;5;28mself\u001b[39m._forward_pre_hooks\n\u001b[32m   1745\u001b[39m         \u001b[38;5;129;01mor\u001b[39;00m _global_backward_pre_hooks \u001b[38;5;129;01mor\u001b[39;00m _global_backward_hooks\n\u001b[32m   1746\u001b[39m         \u001b[38;5;129;01mor\u001b[39;00m _global_forward_hooks \u001b[38;5;129;01mor\u001b[39;00m _global_forward_pre_hooks):\n\u001b[32m-> \u001b[39m\u001b[32m1747\u001b[39m     \u001b[38;5;28;01mreturn\u001b[39;00m \u001b[43mforward_call\u001b[49m\u001b[43m(\u001b[49m\u001b[43m*\u001b[49m\u001b[43margs\u001b[49m\u001b[43m,\u001b[49m\u001b[43m \u001b[49m\u001b[43m*\u001b[49m\u001b[43m*\u001b[49m\u001b[43mkwargs\u001b[49m\u001b[43m)\u001b[49m\n\u001b[32m   1749\u001b[39m result = \u001b[38;5;28;01mNone\u001b[39;00m\n\u001b[32m   1750\u001b[39m called_always_called_hooks = \u001b[38;5;28mset\u001b[39m()\n",
      "\u001b[36mFile \u001b[39m\u001b[32m~/gpu_test/venv/lib/python3.12/site-packages/accelerate/hooks.py:175\u001b[39m, in \u001b[36madd_hook_to_module.<locals>.new_forward\u001b[39m\u001b[34m(module, *args, **kwargs)\u001b[39m\n\u001b[32m    173\u001b[39m         output = module._old_forward(*args, **kwargs)\n\u001b[32m    174\u001b[39m \u001b[38;5;28;01melse\u001b[39;00m:\n\u001b[32m--> \u001b[39m\u001b[32m175\u001b[39m     output = \u001b[43mmodule\u001b[49m\u001b[43m.\u001b[49m\u001b[43m_old_forward\u001b[49m\u001b[43m(\u001b[49m\u001b[43m*\u001b[49m\u001b[43margs\u001b[49m\u001b[43m,\u001b[49m\u001b[43m \u001b[49m\u001b[43m*\u001b[49m\u001b[43m*\u001b[49m\u001b[43mkwargs\u001b[49m\u001b[43m)\u001b[49m\n\u001b[32m    176\u001b[39m \u001b[38;5;28;01mreturn\u001b[39;00m module._hf_hook.post_forward(module, output)\n",
      "\u001b[36mFile \u001b[39m\u001b[32m~/gpu_test/venv/lib/python3.12/site-packages/transformers/models/llama4/modeling_llama4.py:1652\u001b[39m, in \u001b[36mLlama4ForConditionalGeneration.forward\u001b[39m\u001b[34m(self, input_ids, pixel_values, attention_mask, position_ids, past_key_values, inputs_embeds, vision_feature_layer, vision_feature_select_strategy, labels, use_cache, output_attentions, output_hidden_states, return_dict, cache_position, logits_to_keep, image_sizes, **kwargs)\u001b[39m\n\u001b[32m   1649\u001b[39m     inputs_embeds = inputs_embeds.masked_scatter(expanded_mask, projected_vision_flat)\n\u001b[32m   1650\u001b[39m     inputs_embeds = inputs_embeds.view(original_inputs_embeds_shape)\n\u001b[32m-> \u001b[39m\u001b[32m1652\u001b[39m outputs = \u001b[38;5;28;43mself\u001b[39;49m\u001b[43m.\u001b[49m\u001b[43mlanguage_model\u001b[49m\u001b[43m(\u001b[49m\n\u001b[32m   1653\u001b[39m \u001b[43m    \u001b[49m\u001b[43mattention_mask\u001b[49m\u001b[43m=\u001b[49m\u001b[43mattention_mask\u001b[49m\u001b[43m,\u001b[49m\n\u001b[32m   1654\u001b[39m \u001b[43m    \u001b[49m\u001b[43mposition_ids\u001b[49m\u001b[43m=\u001b[49m\u001b[43mposition_ids\u001b[49m\u001b[43m,\u001b[49m\n\u001b[32m   1655\u001b[39m \u001b[43m    \u001b[49m\u001b[43mpast_key_values\u001b[49m\u001b[43m=\u001b[49m\u001b[43mpast_key_values\u001b[49m\u001b[43m,\u001b[49m\n\u001b[32m   1656\u001b[39m \u001b[43m    \u001b[49m\u001b[43minputs_embeds\u001b[49m\u001b[43m=\u001b[49m\u001b[43minputs_embeds\u001b[49m\u001b[43m,\u001b[49m\n\u001b[32m   1657\u001b[39m \u001b[43m    \u001b[49m\u001b[43muse_cache\u001b[49m\u001b[43m=\u001b[49m\u001b[43muse_cache\u001b[49m\u001b[43m,\u001b[49m\n\u001b[32m   1658\u001b[39m \u001b[43m    \u001b[49m\u001b[43moutput_attentions\u001b[49m\u001b[43m=\u001b[49m\u001b[43moutput_attentions\u001b[49m\u001b[43m,\u001b[49m\n\u001b[32m   1659\u001b[39m \u001b[43m    \u001b[49m\u001b[43moutput_hidden_states\u001b[49m\u001b[43m=\u001b[49m\u001b[43moutput_hidden_states\u001b[49m\u001b[43m,\u001b[49m\n\u001b[32m   1660\u001b[39m \u001b[43m    \u001b[49m\u001b[43mreturn_dict\u001b[49m\u001b[43m=\u001b[49m\u001b[43mreturn_dict\u001b[49m\u001b[43m,\u001b[49m\n\u001b[32m   1661\u001b[39m \u001b[43m    \u001b[49m\u001b[43mcache_position\u001b[49m\u001b[43m=\u001b[49m\u001b[43mcache_position\u001b[49m\u001b[43m,\u001b[49m\n\u001b[32m   1662\u001b[39m \u001b[43m    \u001b[49m\u001b[43mlogits_to_keep\u001b[49m\u001b[43m=\u001b[49m\u001b[43mlogits_to_keep\u001b[49m\u001b[43m,\u001b[49m\n\u001b[32m   1663\u001b[39m \u001b[43m    \u001b[49m\u001b[43m*\u001b[49m\u001b[43m*\u001b[49m\u001b[43mkwargs\u001b[49m\u001b[43m,\u001b[49m\n\u001b[32m   1664\u001b[39m \u001b[43m\u001b[49m\u001b[43m)\u001b[49m\n\u001b[32m   1666\u001b[39m logits = outputs[\u001b[32m0\u001b[39m]\n\u001b[32m   1668\u001b[39m loss = \u001b[38;5;28;01mNone\u001b[39;00m\n",
      "\u001b[36mFile \u001b[39m\u001b[32m~/gpu_test/venv/lib/python3.12/site-packages/torch/nn/modules/module.py:1736\u001b[39m, in \u001b[36mModule._wrapped_call_impl\u001b[39m\u001b[34m(self, *args, **kwargs)\u001b[39m\n\u001b[32m   1734\u001b[39m     \u001b[38;5;28;01mreturn\u001b[39;00m \u001b[38;5;28mself\u001b[39m._compiled_call_impl(*args, **kwargs)  \u001b[38;5;66;03m# type: ignore[misc]\u001b[39;00m\n\u001b[32m   1735\u001b[39m \u001b[38;5;28;01melse\u001b[39;00m:\n\u001b[32m-> \u001b[39m\u001b[32m1736\u001b[39m     \u001b[38;5;28;01mreturn\u001b[39;00m \u001b[38;5;28;43mself\u001b[39;49m\u001b[43m.\u001b[49m\u001b[43m_call_impl\u001b[49m\u001b[43m(\u001b[49m\u001b[43m*\u001b[49m\u001b[43margs\u001b[49m\u001b[43m,\u001b[49m\u001b[43m \u001b[49m\u001b[43m*\u001b[49m\u001b[43m*\u001b[49m\u001b[43mkwargs\u001b[49m\u001b[43m)\u001b[49m\n",
      "\u001b[36mFile \u001b[39m\u001b[32m~/gpu_test/venv/lib/python3.12/site-packages/torch/nn/modules/module.py:1747\u001b[39m, in \u001b[36mModule._call_impl\u001b[39m\u001b[34m(self, *args, **kwargs)\u001b[39m\n\u001b[32m   1742\u001b[39m \u001b[38;5;66;03m# If we don't have any hooks, we want to skip the rest of the logic in\u001b[39;00m\n\u001b[32m   1743\u001b[39m \u001b[38;5;66;03m# this function, and just call forward.\u001b[39;00m\n\u001b[32m   1744\u001b[39m \u001b[38;5;28;01mif\u001b[39;00m \u001b[38;5;129;01mnot\u001b[39;00m (\u001b[38;5;28mself\u001b[39m._backward_hooks \u001b[38;5;129;01mor\u001b[39;00m \u001b[38;5;28mself\u001b[39m._backward_pre_hooks \u001b[38;5;129;01mor\u001b[39;00m \u001b[38;5;28mself\u001b[39m._forward_hooks \u001b[38;5;129;01mor\u001b[39;00m \u001b[38;5;28mself\u001b[39m._forward_pre_hooks\n\u001b[32m   1745\u001b[39m         \u001b[38;5;129;01mor\u001b[39;00m _global_backward_pre_hooks \u001b[38;5;129;01mor\u001b[39;00m _global_backward_hooks\n\u001b[32m   1746\u001b[39m         \u001b[38;5;129;01mor\u001b[39;00m _global_forward_hooks \u001b[38;5;129;01mor\u001b[39;00m _global_forward_pre_hooks):\n\u001b[32m-> \u001b[39m\u001b[32m1747\u001b[39m     \u001b[38;5;28;01mreturn\u001b[39;00m \u001b[43mforward_call\u001b[49m\u001b[43m(\u001b[49m\u001b[43m*\u001b[49m\u001b[43margs\u001b[49m\u001b[43m,\u001b[49m\u001b[43m \u001b[49m\u001b[43m*\u001b[49m\u001b[43m*\u001b[49m\u001b[43mkwargs\u001b[49m\u001b[43m)\u001b[49m\n\u001b[32m   1749\u001b[39m result = \u001b[38;5;28;01mNone\u001b[39;00m\n\u001b[32m   1750\u001b[39m called_always_called_hooks = \u001b[38;5;28mset\u001b[39m()\n",
      "\u001b[36mFile \u001b[39m\u001b[32m~/gpu_test/venv/lib/python3.12/site-packages/transformers/utils/generic.py:969\u001b[39m, in \u001b[36mcan_return_tuple.<locals>.wrapper\u001b[39m\u001b[34m(self, *args, **kwargs)\u001b[39m\n\u001b[32m    966\u001b[39m     set_attribute_for_modules(\u001b[38;5;28mself\u001b[39m, \u001b[33m\"\u001b[39m\u001b[33m_is_top_level_module\u001b[39m\u001b[33m\"\u001b[39m, \u001b[38;5;28;01mFalse\u001b[39;00m)\n\u001b[32m    968\u001b[39m \u001b[38;5;28;01mtry\u001b[39;00m:\n\u001b[32m--> \u001b[39m\u001b[32m969\u001b[39m     output = \u001b[43mfunc\u001b[49m\u001b[43m(\u001b[49m\u001b[38;5;28;43mself\u001b[39;49m\u001b[43m,\u001b[49m\u001b[43m \u001b[49m\u001b[43m*\u001b[49m\u001b[43margs\u001b[49m\u001b[43m,\u001b[49m\u001b[43m \u001b[49m\u001b[43m*\u001b[49m\u001b[43m*\u001b[49m\u001b[43mkwargs\u001b[49m\u001b[43m)\u001b[49m\n\u001b[32m    970\u001b[39m     \u001b[38;5;28;01mif\u001b[39;00m is_requested_to_return_tuple \u001b[38;5;129;01mor\u001b[39;00m (is_configured_to_return_tuple \u001b[38;5;129;01mand\u001b[39;00m is_top_level_module):\n\u001b[32m    971\u001b[39m         output = output.to_tuple()\n",
      "\u001b[36mFile \u001b[39m\u001b[32m~/gpu_test/venv/lib/python3.12/site-packages/transformers/models/llama4/modeling_llama4.py:936\u001b[39m, in \u001b[36mLlama4ForCausalLM.forward\u001b[39m\u001b[34m(self, input_ids, attention_mask, position_ids, past_key_values, inputs_embeds, labels, use_cache, output_attentions, output_hidden_states, return_dict, cache_position, logits_to_keep, **kwargs)\u001b[39m\n\u001b[32m    933\u001b[39m return_dict = return_dict \u001b[38;5;28;01mif\u001b[39;00m return_dict \u001b[38;5;129;01mis\u001b[39;00m \u001b[38;5;129;01mnot\u001b[39;00m \u001b[38;5;28;01mNone\u001b[39;00m \u001b[38;5;28;01melse\u001b[39;00m \u001b[38;5;28mself\u001b[39m.config.use_return_dict\n\u001b[32m    935\u001b[39m \u001b[38;5;66;03m# decoder outputs consists of (dec_features, layer_state, dec_hidden, dec_attn)\u001b[39;00m\n\u001b[32m--> \u001b[39m\u001b[32m936\u001b[39m outputs = \u001b[38;5;28;43mself\u001b[39;49m\u001b[43m.\u001b[49m\u001b[43mmodel\u001b[49m\u001b[43m(\u001b[49m\n\u001b[32m    937\u001b[39m \u001b[43m    \u001b[49m\u001b[43minput_ids\u001b[49m\u001b[43m=\u001b[49m\u001b[43minput_ids\u001b[49m\u001b[43m,\u001b[49m\n\u001b[32m    938\u001b[39m \u001b[43m    \u001b[49m\u001b[43mattention_mask\u001b[49m\u001b[43m=\u001b[49m\u001b[43mattention_mask\u001b[49m\u001b[43m,\u001b[49m\n\u001b[32m    939\u001b[39m \u001b[43m    \u001b[49m\u001b[43mposition_ids\u001b[49m\u001b[43m=\u001b[49m\u001b[43mposition_ids\u001b[49m\u001b[43m,\u001b[49m\n\u001b[32m    940\u001b[39m \u001b[43m    \u001b[49m\u001b[43mpast_key_values\u001b[49m\u001b[43m=\u001b[49m\u001b[43mpast_key_values\u001b[49m\u001b[43m,\u001b[49m\n\u001b[32m    941\u001b[39m \u001b[43m    \u001b[49m\u001b[43minputs_embeds\u001b[49m\u001b[43m=\u001b[49m\u001b[43minputs_embeds\u001b[49m\u001b[43m,\u001b[49m\n\u001b[32m    942\u001b[39m \u001b[43m    \u001b[49m\u001b[43muse_cache\u001b[49m\u001b[43m=\u001b[49m\u001b[43muse_cache\u001b[49m\u001b[43m,\u001b[49m\n\u001b[32m    943\u001b[39m \u001b[43m    \u001b[49m\u001b[43moutput_attentions\u001b[49m\u001b[43m=\u001b[49m\u001b[43moutput_attentions\u001b[49m\u001b[43m,\u001b[49m\n\u001b[32m    944\u001b[39m \u001b[43m    \u001b[49m\u001b[43moutput_hidden_states\u001b[49m\u001b[43m=\u001b[49m\u001b[43moutput_hidden_states\u001b[49m\u001b[43m,\u001b[49m\n\u001b[32m    945\u001b[39m \u001b[43m    \u001b[49m\u001b[43mreturn_dict\u001b[49m\u001b[43m=\u001b[49m\u001b[38;5;28;43;01mTrue\u001b[39;49;00m\u001b[43m,\u001b[49m\n\u001b[32m    946\u001b[39m \u001b[43m    \u001b[49m\u001b[43mcache_position\u001b[49m\u001b[43m=\u001b[49m\u001b[43mcache_position\u001b[49m\u001b[43m,\u001b[49m\n\u001b[32m    947\u001b[39m \u001b[43m    \u001b[49m\u001b[43m*\u001b[49m\u001b[43m*\u001b[49m\u001b[43mkwargs\u001b[49m\u001b[43m,\u001b[49m\n\u001b[32m    948\u001b[39m \u001b[43m\u001b[49m\u001b[43m)\u001b[49m\n\u001b[32m    950\u001b[39m hidden_states = outputs[\u001b[32m0\u001b[39m]\n\u001b[32m    951\u001b[39m \u001b[38;5;66;03m# Only compute necessary logits, and do not upcast them to float if we are not computing the loss\u001b[39;00m\n",
      "\u001b[36mFile \u001b[39m\u001b[32m~/gpu_test/venv/lib/python3.12/site-packages/torch/nn/modules/module.py:1736\u001b[39m, in \u001b[36mModule._wrapped_call_impl\u001b[39m\u001b[34m(self, *args, **kwargs)\u001b[39m\n\u001b[32m   1734\u001b[39m     \u001b[38;5;28;01mreturn\u001b[39;00m \u001b[38;5;28mself\u001b[39m._compiled_call_impl(*args, **kwargs)  \u001b[38;5;66;03m# type: ignore[misc]\u001b[39;00m\n\u001b[32m   1735\u001b[39m \u001b[38;5;28;01melse\u001b[39;00m:\n\u001b[32m-> \u001b[39m\u001b[32m1736\u001b[39m     \u001b[38;5;28;01mreturn\u001b[39;00m \u001b[38;5;28;43mself\u001b[39;49m\u001b[43m.\u001b[49m\u001b[43m_call_impl\u001b[49m\u001b[43m(\u001b[49m\u001b[43m*\u001b[49m\u001b[43margs\u001b[49m\u001b[43m,\u001b[49m\u001b[43m \u001b[49m\u001b[43m*\u001b[49m\u001b[43m*\u001b[49m\u001b[43mkwargs\u001b[49m\u001b[43m)\u001b[49m\n",
      "\u001b[36mFile \u001b[39m\u001b[32m~/gpu_test/venv/lib/python3.12/site-packages/torch/nn/modules/module.py:1747\u001b[39m, in \u001b[36mModule._call_impl\u001b[39m\u001b[34m(self, *args, **kwargs)\u001b[39m\n\u001b[32m   1742\u001b[39m \u001b[38;5;66;03m# If we don't have any hooks, we want to skip the rest of the logic in\u001b[39;00m\n\u001b[32m   1743\u001b[39m \u001b[38;5;66;03m# this function, and just call forward.\u001b[39;00m\n\u001b[32m   1744\u001b[39m \u001b[38;5;28;01mif\u001b[39;00m \u001b[38;5;129;01mnot\u001b[39;00m (\u001b[38;5;28mself\u001b[39m._backward_hooks \u001b[38;5;129;01mor\u001b[39;00m \u001b[38;5;28mself\u001b[39m._backward_pre_hooks \u001b[38;5;129;01mor\u001b[39;00m \u001b[38;5;28mself\u001b[39m._forward_hooks \u001b[38;5;129;01mor\u001b[39;00m \u001b[38;5;28mself\u001b[39m._forward_pre_hooks\n\u001b[32m   1745\u001b[39m         \u001b[38;5;129;01mor\u001b[39;00m _global_backward_pre_hooks \u001b[38;5;129;01mor\u001b[39;00m _global_backward_hooks\n\u001b[32m   1746\u001b[39m         \u001b[38;5;129;01mor\u001b[39;00m _global_forward_hooks \u001b[38;5;129;01mor\u001b[39;00m _global_forward_pre_hooks):\n\u001b[32m-> \u001b[39m\u001b[32m1747\u001b[39m     \u001b[38;5;28;01mreturn\u001b[39;00m \u001b[43mforward_call\u001b[49m\u001b[43m(\u001b[49m\u001b[43m*\u001b[49m\u001b[43margs\u001b[49m\u001b[43m,\u001b[49m\u001b[43m \u001b[49m\u001b[43m*\u001b[49m\u001b[43m*\u001b[49m\u001b[43mkwargs\u001b[49m\u001b[43m)\u001b[49m\n\u001b[32m   1749\u001b[39m result = \u001b[38;5;28;01mNone\u001b[39;00m\n\u001b[32m   1750\u001b[39m called_always_called_hooks = \u001b[38;5;28mset\u001b[39m()\n",
      "\u001b[36mFile \u001b[39m\u001b[32m~/gpu_test/venv/lib/python3.12/site-packages/transformers/utils/generic.py:969\u001b[39m, in \u001b[36mcan_return_tuple.<locals>.wrapper\u001b[39m\u001b[34m(self, *args, **kwargs)\u001b[39m\n\u001b[32m    966\u001b[39m     set_attribute_for_modules(\u001b[38;5;28mself\u001b[39m, \u001b[33m\"\u001b[39m\u001b[33m_is_top_level_module\u001b[39m\u001b[33m\"\u001b[39m, \u001b[38;5;28;01mFalse\u001b[39;00m)\n\u001b[32m    968\u001b[39m \u001b[38;5;28;01mtry\u001b[39;00m:\n\u001b[32m--> \u001b[39m\u001b[32m969\u001b[39m     output = \u001b[43mfunc\u001b[49m\u001b[43m(\u001b[49m\u001b[38;5;28;43mself\u001b[39;49m\u001b[43m,\u001b[49m\u001b[43m \u001b[49m\u001b[43m*\u001b[49m\u001b[43margs\u001b[49m\u001b[43m,\u001b[49m\u001b[43m \u001b[49m\u001b[43m*\u001b[49m\u001b[43m*\u001b[49m\u001b[43mkwargs\u001b[49m\u001b[43m)\u001b[49m\n\u001b[32m    970\u001b[39m     \u001b[38;5;28;01mif\u001b[39;00m is_requested_to_return_tuple \u001b[38;5;129;01mor\u001b[39;00m (is_configured_to_return_tuple \u001b[38;5;129;01mand\u001b[39;00m is_top_level_module):\n\u001b[32m    971\u001b[39m         output = output.to_tuple()\n",
      "\u001b[36mFile \u001b[39m\u001b[32m~/gpu_test/venv/lib/python3.12/site-packages/transformers/models/llama4/modeling_llama4.py:578\u001b[39m, in \u001b[36mLlama4TextModel.forward\u001b[39m\u001b[34m(self, input_ids, attention_mask, position_ids, past_key_values, inputs_embeds, use_cache, output_attentions, output_hidden_states, return_dict, cache_position, **flash_attn_kwargs)\u001b[39m\n\u001b[32m    575\u001b[39m \u001b[38;5;28;01mif\u001b[39;00m position_ids \u001b[38;5;129;01mis\u001b[39;00m \u001b[38;5;28;01mNone\u001b[39;00m:\n\u001b[32m    576\u001b[39m     position_ids = cache_position.unsqueeze(\u001b[32m0\u001b[39m)\n\u001b[32m--> \u001b[39m\u001b[32m578\u001b[39m causal_mask, chunk_causal_mask = \u001b[38;5;28;43mself\u001b[39;49m\u001b[43m.\u001b[49m\u001b[43m_update_causal_mask\u001b[49m\u001b[43m(\u001b[49m\n\u001b[32m    579\u001b[39m \u001b[43m    \u001b[49m\u001b[43mattention_mask\u001b[49m\u001b[43m,\u001b[49m\u001b[43m \u001b[49m\u001b[43minputs_embeds\u001b[49m\u001b[43m,\u001b[49m\u001b[43m \u001b[49m\u001b[43mcache_position\u001b[49m\u001b[43m,\u001b[49m\u001b[43m \u001b[49m\u001b[43mpast_key_values\u001b[49m\u001b[43m,\u001b[49m\u001b[43m \u001b[49m\u001b[43moutput_attentions\u001b[49m\u001b[43m,\u001b[49m\u001b[43m \u001b[49m\u001b[43muse_cache\u001b[49m\u001b[43m=\u001b[49m\u001b[43muse_cache\u001b[49m\n\u001b[32m    580\u001b[39m \u001b[43m\u001b[49m\u001b[43m)\u001b[49m\n\u001b[32m    582\u001b[39m hidden_states = inputs_embeds\n\u001b[32m    584\u001b[39m \u001b[38;5;66;03m# create position embeddings to be shared across the decoder layers\u001b[39;00m\n",
      "\u001b[36mFile \u001b[39m\u001b[32m~/gpu_test/venv/lib/python3.12/site-packages/transformers/models/llama4/modeling_llama4.py:691\u001b[39m, in \u001b[36mLlama4TextModel._update_causal_mask\u001b[39m\u001b[34m(self, attention_mask, input_tensor, cache_position, past_key_values, output_attentions, chunked_attention_mask, use_cache)\u001b[39m\n\u001b[32m    689\u001b[39m \u001b[38;5;28;01mif\u001b[39;00m using_chunked_attention:\n\u001b[32m    690\u001b[39m     offsets = (first_cache_position, \u001b[38;5;28mmax\u001b[39m(first_cache_position - attention_chunk_size + \u001b[32m1\u001b[39m, \u001b[32m0\u001b[39m))\n\u001b[32m--> \u001b[39m\u001b[32m691\u001b[39m     chunked_attention_mask = \u001b[43mmake_flex_block_causal_mask\u001b[49m\u001b[43m(\u001b[49m\n\u001b[32m    692\u001b[39m \u001b[43m        \u001b[49m\u001b[43mattention_mask\u001b[49m\u001b[43m,\u001b[49m\u001b[43m \u001b[49m\u001b[43mattention_chunk_size\u001b[49m\u001b[43m,\u001b[49m\u001b[43m \u001b[49m\u001b[43msequence_length\u001b[49m\u001b[43m,\u001b[49m\u001b[43m \u001b[49m\u001b[43mkey_length\u001b[49m\u001b[43m,\u001b[49m\u001b[43m \u001b[49m\u001b[43moffsets\u001b[49m\u001b[43m=\u001b[49m\u001b[43moffsets\u001b[49m\n\u001b[32m    693\u001b[39m \u001b[43m    \u001b[49m\u001b[43m)\u001b[49m\n\u001b[32m    694\u001b[39m attention_mask = make_flex_block_causal_mask(\n\u001b[32m    695\u001b[39m     attention_mask,\n\u001b[32m    696\u001b[39m     query_length=sequence_length,\n\u001b[32m    697\u001b[39m     key_length=full_cache_length,\n\u001b[32m    698\u001b[39m     offsets=(first_cache_position, \u001b[32m0\u001b[39m),\n\u001b[32m    699\u001b[39m )\n\u001b[32m    700\u001b[39m \u001b[38;5;28;01mreturn\u001b[39;00m attention_mask, chunked_attention_mask\n",
      "\u001b[36mFile \u001b[39m\u001b[32m~/gpu_test/venv/lib/python3.12/site-packages/transformers/integrations/flex_attention.py:114\u001b[39m, in \u001b[36mmake_flex_block_causal_mask\u001b[39m\u001b[34m(attention_mask_2d, attention_chunk_size, query_length, key_length, offsets)\u001b[39m\n\u001b[32m     85\u001b[39m \u001b[38;5;28;01mdef\u001b[39;00m\u001b[38;5;250m \u001b[39m\u001b[34mmake_flex_block_causal_mask\u001b[39m(\n\u001b[32m     86\u001b[39m     attention_mask_2d: torch.Tensor,\n\u001b[32m     87\u001b[39m     attention_chunk_size: Optional[\u001b[38;5;28mint\u001b[39m] = \u001b[38;5;28;01mNone\u001b[39;00m,\n\u001b[32m   (...)\u001b[39m\u001b[32m     90\u001b[39m     offsets: Optional[Tuple[Offset, Offset]] = \u001b[38;5;28;01mNone\u001b[39;00m,\n\u001b[32m     91\u001b[39m ) -> \u001b[33m\"\u001b[39m\u001b[33mBlockMask\u001b[39m\u001b[33m\"\u001b[39m:\n\u001b[32m     92\u001b[39m \u001b[38;5;250m    \u001b[39m\u001b[33;03m\"\"\"\u001b[39;00m\n\u001b[32m     93\u001b[39m \u001b[33;03m    Create a block causal document mask for a batch of sequences, both packed and unpacked.\u001b[39;00m\n\u001b[32m     94\u001b[39m \u001b[33;03m    Create Block causal logic and passing it into :func:`torch.nn.attention.flex_attention.create_block_mask`.\u001b[39;00m\n\u001b[32m   (...)\u001b[39m\u001b[32m    112\u001b[39m \u001b[33;03m        BlockMask\u001b[39;00m\n\u001b[32m    113\u001b[39m \u001b[33;03m    \"\"\"\u001b[39;00m\n\u001b[32m--> \u001b[39m\u001b[32m114\u001b[39m     batch_size, total_seq_len = attention_mask_2d.shape\n\u001b[32m    115\u001b[39m     \u001b[38;5;28;01mif\u001b[39;00m \u001b[38;5;129;01mnot\u001b[39;00m key_length:\n\u001b[32m    116\u001b[39m         key_length = total_seq_len\n",
      "\u001b[31mValueError\u001b[39m: too many values to unpack (expected 2)"
     ]
    }
   ],
   "source": [
    "outputs = model.generate(\n",
    "    **inputs,\n",
    "    max_new_tokens=256, # 최대 생성 토큰 수\n",
    ")"
   ]
  },
  {
   "cell_type": "code",
   "execution_count": null,
   "metadata": {},
   "outputs": [],
   "source": [
    "response = processor.batch_decode(outputs[:, inputs[\"input_ids\"].shape[-1]:])[0] # 생성된 토큰 중 입력 부분을 제외한 응답 부분만 디코딩\n",
    "print(response)\n",
    "print(outputs[0])"
   ]
  },
  {
   "cell_type": "markdown",
   "metadata": {},
   "source": [
    "---"
   ]
  },
  {
   "cell_type": "code",
   "execution_count": 24,
   "metadata": {},
   "outputs": [],
   "source": [
    "del model"
   ]
  },
  {
   "cell_type": "code",
   "execution_count": 25,
   "metadata": {},
   "outputs": [],
   "source": [
    "del model2"
   ]
  },
  {
   "cell_type": "code",
   "execution_count": 26,
   "metadata": {},
   "outputs": [],
   "source": [
    "import gc"
   ]
  },
  {
   "cell_type": "code",
   "execution_count": 27,
   "metadata": {},
   "outputs": [
    {
     "data": {
      "text/plain": [
       "38314"
      ]
     },
     "execution_count": 27,
     "metadata": {},
     "output_type": "execute_result"
    }
   ],
   "source": [
    "gc.collect()"
   ]
  },
  {
   "cell_type": "code",
   "execution_count": 28,
   "metadata": {},
   "outputs": [],
   "source": [
    "torch.cuda.empty_cache()"
   ]
  }
 ],
 "metadata": {
  "kernelspec": {
   "display_name": "venv",
   "language": "python",
   "name": "python3"
  },
  "language_info": {
   "codemirror_mode": {
    "name": "ipython",
    "version": 3
   },
   "file_extension": ".py",
   "mimetype": "text/x-python",
   "name": "python",
   "nbconvert_exporter": "python",
   "pygments_lexer": "ipython3",
   "version": "3.12.3"
  }
 },
 "nbformat": 4,
 "nbformat_minor": 2
}
