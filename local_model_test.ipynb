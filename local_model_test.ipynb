{
 "cells": [
  {
   "cell_type": "code",
   "execution_count": 1,
   "metadata": {},
   "outputs": [],
   "source": [
    "import os\n",
    "import torch # 텐서 연산과 GPU 처리를 위한 PyTorch 라이브러리\n",
    "from transformers import AutoModelForCausalLM, AutoTokenizer # 허깅페이스에서 제공하는 모델과 토크나이저를 쉽게 불러오기 위한 라이브러리"
   ]
  },
  {
   "cell_type": "code",
   "execution_count": 9,
   "metadata": {},
   "outputs": [],
   "source": [
    "hf_token = os.getenv(\"HF_TOKEN\")"
   ]
  },
  {
   "cell_type": "code",
   "execution_count": null,
   "metadata": {},
   "outputs": [
    {
     "data": {
      "application/vnd.jupyter.widget-view+json": {
       "model_id": "090fb80d8c59416b9271c194cf8f4c85",
       "version_major": 2,
       "version_minor": 0
      },
      "text/plain": [
       "Fetching 7 files:   0%|          | 0/7 [00:00<?, ?it/s]"
      ]
     },
     "metadata": {},
     "output_type": "display_data"
    },
    {
     "data": {
      "application/vnd.jupyter.widget-view+json": {
       "model_id": "ec41545bf6fe4bcd8fc782ce78ceed88",
       "version_major": 2,
       "version_minor": 0
      },
      "text/plain": [
       "model-00005-of-00007.safetensors:   5%|5         | 273M/5.27G [00:00<?, ?B/s]"
      ]
     },
     "metadata": {},
     "output_type": "display_data"
    },
    {
     "data": {
      "application/vnd.jupyter.widget-view+json": {
       "model_id": "5cf803b22d02475795b1174bbbf08d54",
       "version_major": 2,
       "version_minor": 0
      },
      "text/plain": [
       "model-00002-of-00007.safetensors:   6%|5         | 315M/5.31G [00:00<?, ?B/s]"
      ]
     },
     "metadata": {},
     "output_type": "display_data"
    },
    {
     "data": {
      "application/vnd.jupyter.widget-view+json": {
       "model_id": "8235979cdef34c998d07cf406363ac66",
       "version_major": 2,
       "version_minor": 0
      },
      "text/plain": [
       "model-00006-of-00007.safetensors:   9%|9         | 482M/5.31G [00:00<?, ?B/s]"
      ]
     },
     "metadata": {},
     "output_type": "display_data"
    },
    {
     "data": {
      "application/vnd.jupyter.widget-view+json": {
       "model_id": "30fac8b0c7154778a022fa1832c0d06f",
       "version_major": 2,
       "version_minor": 0
      },
      "text/plain": [
       "model-00007-of-00007.safetensors:  14%|#4        | 283M/1.96G [00:00<?, ?B/s]"
      ]
     },
     "metadata": {},
     "output_type": "display_data"
    },
    {
     "data": {
      "application/vnd.jupyter.widget-view+json": {
       "model_id": "4d082f5ddef04e18b1386889fdf554f5",
       "version_major": 2,
       "version_minor": 0
      },
      "text/plain": [
       "model-00004-of-00007.safetensors:   4%|3         | 199M/5.03G [00:00<?, ?B/s]"
      ]
     },
     "metadata": {},
     "output_type": "display_data"
    },
    {
     "data": {
      "application/vnd.jupyter.widget-view+json": {
       "model_id": "1f17dc9f2e6f406782bf54be8f4560ad",
       "version_major": 2,
       "version_minor": 0
      },
      "text/plain": [
       "model-00001-of-00007.safetensors:   8%|7         | 419M/5.35G [00:00<?, ?B/s]"
      ]
     },
     "metadata": {},
     "output_type": "display_data"
    },
    {
     "data": {
      "application/vnd.jupyter.widget-view+json": {
       "model_id": "5deba1174a264724b92986d4b5f2640e",
       "version_major": 2,
       "version_minor": 0
      },
      "text/plain": [
       "model-00003-of-00007.safetensors:   7%|6         | 372M/5.37G [00:00<?, ?B/s]"
      ]
     },
     "metadata": {},
     "output_type": "display_data"
    },
    {
     "data": {
      "application/vnd.jupyter.widget-view+json": {
       "model_id": "9bae7925d8864279a147da7c36ace02b",
       "version_major": 2,
       "version_minor": 0
      },
      "text/plain": [
       "Loading checkpoint shards:   0%|          | 0/7 [00:00<?, ?it/s]"
      ]
     },
     "metadata": {},
     "output_type": "display_data"
    },
    {
     "data": {
      "application/vnd.jupyter.widget-view+json": {
       "model_id": "7823f29aef3d4471bb77d9cd9e31ca82",
       "version_major": 2,
       "version_minor": 0
      },
      "text/plain": [
       "generation_config.json:   0%|          | 0.00/132 [00:00<?, ?B/s]"
      ]
     },
     "metadata": {},
     "output_type": "display_data"
    }
   ],
   "source": [
    "# 모델 로딩\n",
    "model = AutoModelForCausalLM.from_pretrained(\n",
    "    \"LGAI-EXAONE/EXAONE-3.0-7.8B-Instruct\",\n",
    "    token=hf_token,\n",
    "    torch_dtype=torch.bfloat16,\n",
    "    trust_remote_code=True,\n",
    ")"
   ]
  },
  {
   "cell_type": "code",
   "execution_count": 22,
   "metadata": {},
   "outputs": [
    {
     "data": {
      "application/vnd.jupyter.widget-view+json": {
       "model_id": "8ec11aae691840ffabb2bb6cb7ac9203",
       "version_major": 2,
       "version_minor": 0
      },
      "text/plain": [
       "Loading checkpoint shards:   0%|          | 0/7 [00:00<?, ?it/s]"
      ]
     },
     "metadata": {},
     "output_type": "display_data"
    }
   ],
   "source": [
    "# 모델 로딩\n",
    "model = AutoModelForCausalLM.from_pretrained(\n",
    "    \"LGAI-EXAONE/EXAONE-3.0-7.8B-Instruct\",\n",
    "    token=hf_token,\n",
    "    torch_dtype=torch.bfloat16,\n",
    "    trust_remote_code=True,\n",
    "    device_map=\"auto\"\n",
    ")"
   ]
  },
  {
   "cell_type": "code",
   "execution_count": 35,
   "metadata": {},
   "outputs": [
    {
     "name": "stdout",
     "output_type": "stream",
     "text": [
      "{'transformer.wte': 0, 'transformer.drop': 0, 'transformer.h.0': 0, 'transformer.h.1': 0, 'transformer.h.2': 0, 'transformer.h.3': 0, 'transformer.h.4': 0, 'transformer.h.5': 0, 'transformer.h.6': 1, 'transformer.h.7': 1, 'transformer.h.8': 1, 'transformer.h.9': 1, 'transformer.h.10': 1, 'transformer.h.11': 1, 'transformer.h.12': 1, 'transformer.h.13': 1, 'transformer.h.14': 1, 'transformer.h.15': 1, 'transformer.h.16': 2, 'transformer.h.17': 2, 'transformer.h.18': 2, 'transformer.h.19': 2, 'transformer.h.20': 2, 'transformer.h.21': 2, 'transformer.h.22': 2, 'transformer.h.23': 2, 'transformer.h.24': 2, 'transformer.h.25': 2, 'transformer.h.26': 3, 'transformer.h.27': 3, 'transformer.h.28': 3, 'transformer.h.29': 3, 'transformer.h.30': 3, 'transformer.h.31': 3, 'transformer.ln_f': 3, 'transformer.rotary': 3, 'lm_head': 3}\n"
     ]
    }
   ],
   "source": [
    "print(model.hf_device_map)"
   ]
  },
  {
   "cell_type": "markdown",
   "metadata": {},
   "source": [
    "| GPU      | 로드된 레이어                                    |\n",
    "| -------- | ------------------------------------------ |\n",
    "| `cuda:0` | `embedding` 계층, `drop`, `h.0 ~ h.5`        |\n",
    "| `cuda:1` | `h.6 ~ h.15`                               |\n",
    "| `cuda:2` | `h.16 ~ h.25`                              |\n",
    "| `cuda:3` | `h.26 ~ h.31`, `ln_f`, `rotary`, `lm_head` |\n"
   ]
  },
  {
   "cell_type": "markdown",
   "metadata": {},
   "source": [
    "- `transformer.wte`: 토큰 임베딩 (word token embedding)\n",
    "- `transformer.h.n`: Transformer 블록 (총 32개, h.0 ~ h.31)\n",
    "- `transformer.ln_f`: 마지막 LayerNorm\n",
    "- `lm_head`: 최종 로짓 계산 계층\n",
    "- `rotary`: Rotary positional embedding 관련 파트"
   ]
  },
  {
   "cell_type": "code",
   "execution_count": 23,
   "metadata": {},
   "outputs": [
    {
     "data": {
      "text/plain": [
       "GPT2TokenizerFast(name_or_path='LGAI-EXAONE/EXAONE-3.0-7.8B-Instruct', vocab_size=102400, model_max_length=1000000000000000019884624838656, is_fast=True, padding_side='right', truncation_side='right', special_tokens={'bos_token': '[BOS]', 'eos_token': '[|endofturn|]', 'unk_token': '[UNK]', 'pad_token': '[PAD]'}, clean_up_tokenization_spaces=True, added_tokens_decoder={\n",
       "\t0: AddedToken(\"[PAD]\", rstrip=False, lstrip=False, single_word=False, normalized=False, special=True),\n",
       "\t1: AddedToken(\"[BOS]\", rstrip=False, lstrip=False, single_word=False, normalized=False, special=True),\n",
       "\t2: AddedToken(\"[EOS]\", rstrip=False, lstrip=False, single_word=False, normalized=False, special=True),\n",
       "\t3: AddedToken(\"[UNK]\", rstrip=False, lstrip=False, single_word=False, normalized=False, special=True),\n",
       "\t4: AddedToken(\"                               \", rstrip=False, lstrip=False, single_word=False, normalized=False, special=False),\n",
       "\t5: AddedToken(\"                              \", rstrip=False, lstrip=False, single_word=False, normalized=False, special=False),\n",
       "\t6: AddedToken(\"                             \", rstrip=False, lstrip=False, single_word=False, normalized=False, special=False),\n",
       "\t7: AddedToken(\"                            \", rstrip=False, lstrip=False, single_word=False, normalized=False, special=False),\n",
       "\t8: AddedToken(\"                           \", rstrip=False, lstrip=False, single_word=False, normalized=False, special=False),\n",
       "\t9: AddedToken(\"                          \", rstrip=False, lstrip=False, single_word=False, normalized=False, special=False),\n",
       "\t10: AddedToken(\"                         \", rstrip=False, lstrip=False, single_word=False, normalized=False, special=False),\n",
       "\t11: AddedToken(\"                        \", rstrip=False, lstrip=False, single_word=False, normalized=False, special=False),\n",
       "\t12: AddedToken(\"                       \", rstrip=False, lstrip=False, single_word=False, normalized=False, special=False),\n",
       "\t13: AddedToken(\"                      \", rstrip=False, lstrip=False, single_word=False, normalized=False, special=False),\n",
       "\t14: AddedToken(\"                     \", rstrip=False, lstrip=False, single_word=False, normalized=False, special=False),\n",
       "\t15: AddedToken(\"                    \", rstrip=False, lstrip=False, single_word=False, normalized=False, special=False),\n",
       "\t16: AddedToken(\"                   \", rstrip=False, lstrip=False, single_word=False, normalized=False, special=False),\n",
       "\t17: AddedToken(\"                  \", rstrip=False, lstrip=False, single_word=False, normalized=False, special=False),\n",
       "\t18: AddedToken(\"                 \", rstrip=False, lstrip=False, single_word=False, normalized=False, special=False),\n",
       "\t19: AddedToken(\"                \", rstrip=False, lstrip=False, single_word=False, normalized=False, special=False),\n",
       "\t20: AddedToken(\"               \", rstrip=False, lstrip=False, single_word=False, normalized=False, special=False),\n",
       "\t21: AddedToken(\"              \", rstrip=False, lstrip=False, single_word=False, normalized=False, special=False),\n",
       "\t22: AddedToken(\"             \", rstrip=False, lstrip=False, single_word=False, normalized=False, special=False),\n",
       "\t23: AddedToken(\"            \", rstrip=False, lstrip=False, single_word=False, normalized=False, special=False),\n",
       "\t24: AddedToken(\"           \", rstrip=False, lstrip=False, single_word=False, normalized=False, special=False),\n",
       "\t25: AddedToken(\"          \", rstrip=False, lstrip=False, single_word=False, normalized=False, special=False),\n",
       "\t26: AddedToken(\"         \", rstrip=False, lstrip=False, single_word=False, normalized=False, special=False),\n",
       "\t27: AddedToken(\"        \", rstrip=False, lstrip=False, single_word=False, normalized=False, special=False),\n",
       "\t28: AddedToken(\"       \", rstrip=False, lstrip=False, single_word=False, normalized=False, special=False),\n",
       "\t29: AddedToken(\"      \", rstrip=False, lstrip=False, single_word=False, normalized=False, special=False),\n",
       "\t30: AddedToken(\"     \", rstrip=False, lstrip=False, single_word=False, normalized=False, special=False),\n",
       "\t31: AddedToken(\"    \", rstrip=False, lstrip=False, single_word=False, normalized=False, special=False),\n",
       "\t32: AddedToken(\"   \", rstrip=False, lstrip=False, single_word=False, normalized=False, special=False),\n",
       "\t33: AddedToken(\"  \", rstrip=False, lstrip=False, single_word=False, normalized=False, special=False),\n",
       "\t34: AddedToken(\"\t\t\t\t\t\t\t\t\t\", rstrip=False, lstrip=False, single_word=False, normalized=False, special=False),\n",
       "\t35: AddedToken(\"\t\t\t\t\t\t\t\t\", rstrip=False, lstrip=False, single_word=False, normalized=False, special=False),\n",
       "\t36: AddedToken(\"\t\t\t\t\t\t\t\", rstrip=False, lstrip=False, single_word=False, normalized=False, special=False),\n",
       "\t37: AddedToken(\"\t\t\t\t\t\t\", rstrip=False, lstrip=False, single_word=False, normalized=False, special=False),\n",
       "\t38: AddedToken(\"\t\t\t\t\t\", rstrip=False, lstrip=False, single_word=False, normalized=False, special=False),\n",
       "\t39: AddedToken(\"\t\t\t\t\", rstrip=False, lstrip=False, single_word=False, normalized=False, special=False),\n",
       "\t40: AddedToken(\"\t\t\t\", rstrip=False, lstrip=False, single_word=False, normalized=False, special=False),\n",
       "\t41: AddedToken(\"\t\t\", rstrip=False, lstrip=False, single_word=False, normalized=False, special=False),\n",
       "\t42: AddedToken(\"<|endoftext|>\", rstrip=False, lstrip=False, single_word=False, normalized=False, special=True),\n",
       "\t43: AddedToken(\"<|c|>\", rstrip=False, lstrip=False, single_word=False, normalized=False, special=True),\n",
       "\t44: AddedToken(\"<|c++|>\", rstrip=False, lstrip=False, single_word=False, normalized=False, special=True),\n",
       "\t45: AddedToken(\"<|python|>\", rstrip=False, lstrip=False, single_word=False, normalized=False, special=True),\n",
       "\t46: AddedToken(\"<|javascript|>\", rstrip=False, lstrip=False, single_word=False, normalized=False, special=True),\n",
       "\t47: AddedToken(\"<|markdown|>\", rstrip=False, lstrip=False, single_word=False, normalized=False, special=True),\n",
       "\t48: AddedToken(\"<|html|>\", rstrip=False, lstrip=False, single_word=False, normalized=False, special=True),\n",
       "\t49: AddedToken(\"<|css|>\", rstrip=False, lstrip=False, single_word=False, normalized=False, special=True),\n",
       "\t50: AddedToken(\"<|vue|>\", rstrip=False, lstrip=False, single_word=False, normalized=False, special=True),\n",
       "\t51: AddedToken(\"<|java|>\", rstrip=False, lstrip=False, single_word=False, normalized=False, special=True),\n",
       "\t52: AddedToken(\"PI:URL\", rstrip=False, lstrip=False, single_word=False, normalized=False, special=True),\n",
       "\t53: AddedToken(\"PI:EMAIL\", rstrip=False, lstrip=False, single_word=False, normalized=False, special=True),\n",
       "\t54: AddedToken(\"PI:ACCOUNT_NUM\", rstrip=False, lstrip=False, single_word=False, normalized=False, special=True),\n",
       "\t55: AddedToken(\"PI:PHONE_NUM\", rstrip=False, lstrip=False, single_word=False, normalized=False, special=True),\n",
       "\t56: AddedToken(\"PI:BUSINESS_NUM\", rstrip=False, lstrip=False, single_word=False, normalized=False, special=True),\n",
       "\t57: AddedToken(\"PI:ANNON\", rstrip=False, lstrip=False, single_word=False, normalized=False, special=True),\n",
       "\t58: AddedToken(\"PI:KEY\", rstrip=False, lstrip=False, single_word=False, normalized=False, special=True),\n",
       "\t59: AddedToken(\"PI:ID\", rstrip=False, lstrip=False, single_word=False, normalized=False, special=True),\n",
       "\t60: AddedToken(\"PI:IP_ADDRESS\", rstrip=False, lstrip=False, single_word=False, normalized=False, special=True),\n",
       "\t61: AddedToken(\"PI:USER\", rstrip=False, lstrip=False, single_word=False, normalized=False, special=True),\n",
       "\t62: AddedToken(\"[unused0]\", rstrip=False, lstrip=False, single_word=False, normalized=False, special=True),\n",
       "\t63: AddedToken(\"[unused1]\", rstrip=False, lstrip=False, single_word=False, normalized=False, special=True),\n",
       "\t64: AddedToken(\"[unused2]\", rstrip=False, lstrip=False, single_word=False, normalized=False, special=True),\n",
       "\t65: AddedToken(\"[unused3]\", rstrip=False, lstrip=False, single_word=False, normalized=False, special=True),\n",
       "\t66: AddedToken(\"[unused4]\", rstrip=False, lstrip=False, single_word=False, normalized=False, special=True),\n",
       "\t67: AddedToken(\"[unused5]\", rstrip=False, lstrip=False, single_word=False, normalized=False, special=True),\n",
       "\t68: AddedToken(\"[unused6]\", rstrip=False, lstrip=False, single_word=False, normalized=False, special=True),\n",
       "\t69: AddedToken(\"[unused7]\", rstrip=False, lstrip=False, single_word=False, normalized=False, special=True),\n",
       "\t70: AddedToken(\"[unused8]\", rstrip=False, lstrip=False, single_word=False, normalized=False, special=True),\n",
       "\t71: AddedToken(\"[unused9]\", rstrip=False, lstrip=False, single_word=False, normalized=False, special=True),\n",
       "\t72: AddedToken(\"[unused10]\", rstrip=False, lstrip=False, single_word=False, normalized=False, special=True),\n",
       "\t73: AddedToken(\"[unused11]\", rstrip=False, lstrip=False, single_word=False, normalized=False, special=True),\n",
       "\t74: AddedToken(\"[unused12]\", rstrip=False, lstrip=False, single_word=False, normalized=False, special=True),\n",
       "\t75: AddedToken(\"[unused13]\", rstrip=False, lstrip=False, single_word=False, normalized=False, special=True),\n",
       "\t76: AddedToken(\"[unused14]\", rstrip=False, lstrip=False, single_word=False, normalized=False, special=True),\n",
       "\t77: AddedToken(\"[unused15]\", rstrip=False, lstrip=False, single_word=False, normalized=False, special=True),\n",
       "\t78: AddedToken(\"[unused16]\", rstrip=False, lstrip=False, single_word=False, normalized=False, special=True),\n",
       "\t79: AddedToken(\"[unused17]\", rstrip=False, lstrip=False, single_word=False, normalized=False, special=True),\n",
       "\t80: AddedToken(\"[unused18]\", rstrip=False, lstrip=False, single_word=False, normalized=False, special=True),\n",
       "\t81: AddedToken(\"[unused19]\", rstrip=False, lstrip=False, single_word=False, normalized=False, special=True),\n",
       "\t82: AddedToken(\"[unused20]\", rstrip=False, lstrip=False, single_word=False, normalized=False, special=True),\n",
       "\t83: AddedToken(\"[unused21]\", rstrip=False, lstrip=False, single_word=False, normalized=False, special=True),\n",
       "\t84: AddedToken(\"[unused22]\", rstrip=False, lstrip=False, single_word=False, normalized=False, special=True),\n",
       "\t85: AddedToken(\"[unused23]\", rstrip=False, lstrip=False, single_word=False, normalized=False, special=True),\n",
       "\t86: AddedToken(\"[unused24]\", rstrip=False, lstrip=False, single_word=False, normalized=False, special=True),\n",
       "\t87: AddedToken(\"[unused25]\", rstrip=False, lstrip=False, single_word=False, normalized=False, special=True),\n",
       "\t88: AddedToken(\"[unused26]\", rstrip=False, lstrip=False, single_word=False, normalized=False, special=True),\n",
       "\t89: AddedToken(\"[unused27]\", rstrip=False, lstrip=False, single_word=False, normalized=False, special=True),\n",
       "\t90: AddedToken(\"[unused28]\", rstrip=False, lstrip=False, single_word=False, normalized=False, special=True),\n",
       "\t91: AddedToken(\"[unused29]\", rstrip=False, lstrip=False, single_word=False, normalized=False, special=True),\n",
       "\t92: AddedToken(\"[unused30]\", rstrip=False, lstrip=False, single_word=False, normalized=False, special=True),\n",
       "\t93: AddedToken(\"[unused31]\", rstrip=False, lstrip=False, single_word=False, normalized=False, special=True),\n",
       "\t94: AddedToken(\"[unused32]\", rstrip=False, lstrip=False, single_word=False, normalized=False, special=True),\n",
       "\t95: AddedToken(\"[unused33]\", rstrip=False, lstrip=False, single_word=False, normalized=False, special=True),\n",
       "\t96: AddedToken(\"[unused34]\", rstrip=False, lstrip=False, single_word=False, normalized=False, special=True),\n",
       "\t97: AddedToken(\"[unused35]\", rstrip=False, lstrip=False, single_word=False, normalized=False, special=True),\n",
       "\t98: AddedToken(\"[unused36]\", rstrip=False, lstrip=False, single_word=False, normalized=False, special=True),\n",
       "\t99: AddedToken(\"[unused37]\", rstrip=False, lstrip=False, single_word=False, normalized=False, special=True),\n",
       "\t100: AddedToken(\"[unused38]\", rstrip=False, lstrip=False, single_word=False, normalized=False, special=True),\n",
       "\t101: AddedToken(\"[unused39]\", rstrip=False, lstrip=False, single_word=False, normalized=False, special=True),\n",
       "\t102: AddedToken(\"[unused40]\", rstrip=False, lstrip=False, single_word=False, normalized=False, special=True),\n",
       "\t103: AddedToken(\"[unused41]\", rstrip=False, lstrip=False, single_word=False, normalized=False, special=True),\n",
       "\t104: AddedToken(\"[unused42]\", rstrip=False, lstrip=False, single_word=False, normalized=False, special=True),\n",
       "\t105: AddedToken(\"[unused43]\", rstrip=False, lstrip=False, single_word=False, normalized=False, special=True),\n",
       "\t106: AddedToken(\"[unused44]\", rstrip=False, lstrip=False, single_word=False, normalized=False, special=True),\n",
       "\t107: AddedToken(\"[unused45]\", rstrip=False, lstrip=False, single_word=False, normalized=False, special=True),\n",
       "\t108: AddedToken(\"[unused46]\", rstrip=False, lstrip=False, single_word=False, normalized=False, special=True),\n",
       "\t109: AddedToken(\"[unused47]\", rstrip=False, lstrip=False, single_word=False, normalized=False, special=True),\n",
       "\t110: AddedToken(\"[unused48]\", rstrip=False, lstrip=False, single_word=False, normalized=False, special=True),\n",
       "\t111: AddedToken(\"[unused49]\", rstrip=False, lstrip=False, single_word=False, normalized=False, special=True),\n",
       "\t112: AddedToken(\"[unused50]\", rstrip=False, lstrip=False, single_word=False, normalized=False, special=True),\n",
       "\t113: AddedToken(\"[unused51]\", rstrip=False, lstrip=False, single_word=False, normalized=False, special=True),\n",
       "\t114: AddedToken(\"[unused52]\", rstrip=False, lstrip=False, single_word=False, normalized=False, special=True),\n",
       "\t115: AddedToken(\"[unused53]\", rstrip=False, lstrip=False, single_word=False, normalized=False, special=True),\n",
       "\t116: AddedToken(\"[unused54]\", rstrip=False, lstrip=False, single_word=False, normalized=False, special=True),\n",
       "\t117: AddedToken(\"[unused55]\", rstrip=False, lstrip=False, single_word=False, normalized=False, special=True),\n",
       "\t118: AddedToken(\"[unused56]\", rstrip=False, lstrip=False, single_word=False, normalized=False, special=True),\n",
       "\t119: AddedToken(\"[unused57]\", rstrip=False, lstrip=False, single_word=False, normalized=False, special=True),\n",
       "\t120: AddedToken(\"[unused58]\", rstrip=False, lstrip=False, single_word=False, normalized=False, special=True),\n",
       "\t121: AddedToken(\"[unused59]\", rstrip=False, lstrip=False, single_word=False, normalized=False, special=True),\n",
       "\t122: AddedToken(\"[unused60]\", rstrip=False, lstrip=False, single_word=False, normalized=False, special=True),\n",
       "\t123: AddedToken(\"[unused61]\", rstrip=False, lstrip=False, single_word=False, normalized=False, special=True),\n",
       "\t124: AddedToken(\"[unused62]\", rstrip=False, lstrip=False, single_word=False, normalized=False, special=True),\n",
       "\t125: AddedToken(\"[unused63]\", rstrip=False, lstrip=False, single_word=False, normalized=False, special=True),\n",
       "\t126: AddedToken(\"[unused64]\", rstrip=False, lstrip=False, single_word=False, normalized=False, special=True),\n",
       "\t127: AddedToken(\"[unused65]\", rstrip=False, lstrip=False, single_word=False, normalized=False, special=True),\n",
       "\t128: AddedToken(\"[unused66]\", rstrip=False, lstrip=False, single_word=False, normalized=False, special=True),\n",
       "\t129: AddedToken(\"[unused67]\", rstrip=False, lstrip=False, single_word=False, normalized=False, special=True),\n",
       "\t130: AddedToken(\"[unused68]\", rstrip=False, lstrip=False, single_word=False, normalized=False, special=True),\n",
       "\t131: AddedToken(\"[unused69]\", rstrip=False, lstrip=False, single_word=False, normalized=False, special=True),\n",
       "\t132: AddedToken(\"[unused70]\", rstrip=False, lstrip=False, single_word=False, normalized=False, special=True),\n",
       "\t133: AddedToken(\"[unused71]\", rstrip=False, lstrip=False, single_word=False, normalized=False, special=True),\n",
       "\t134: AddedToken(\"[unused72]\", rstrip=False, lstrip=False, single_word=False, normalized=False, special=True),\n",
       "\t135: AddedToken(\"[unused73]\", rstrip=False, lstrip=False, single_word=False, normalized=False, special=True),\n",
       "\t136: AddedToken(\"[unused74]\", rstrip=False, lstrip=False, single_word=False, normalized=False, special=True),\n",
       "\t137: AddedToken(\"[unused75]\", rstrip=False, lstrip=False, single_word=False, normalized=False, special=True),\n",
       "\t138: AddedToken(\"[unused76]\", rstrip=False, lstrip=False, single_word=False, normalized=False, special=True),\n",
       "\t139: AddedToken(\"[unused77]\", rstrip=False, lstrip=False, single_word=False, normalized=False, special=True),\n",
       "\t140: AddedToken(\"[unused78]\", rstrip=False, lstrip=False, single_word=False, normalized=False, special=True),\n",
       "\t141: AddedToken(\"[unused79]\", rstrip=False, lstrip=False, single_word=False, normalized=False, special=True),\n",
       "\t142: AddedToken(\"[unused80]\", rstrip=False, lstrip=False, single_word=False, normalized=False, special=True),\n",
       "\t143: AddedToken(\"[unused81]\", rstrip=False, lstrip=False, single_word=False, normalized=False, special=True),\n",
       "\t144: AddedToken(\"[unused82]\", rstrip=False, lstrip=False, single_word=False, normalized=False, special=True),\n",
       "\t145: AddedToken(\"[unused83]\", rstrip=False, lstrip=False, single_word=False, normalized=False, special=True),\n",
       "\t146: AddedToken(\"[unused84]\", rstrip=False, lstrip=False, single_word=False, normalized=False, special=True),\n",
       "\t147: AddedToken(\"[unused85]\", rstrip=False, lstrip=False, single_word=False, normalized=False, special=True),\n",
       "\t148: AddedToken(\"[unused86]\", rstrip=False, lstrip=False, single_word=False, normalized=False, special=True),\n",
       "\t149: AddedToken(\"[unused87]\", rstrip=False, lstrip=False, single_word=False, normalized=False, special=True),\n",
       "\t150: AddedToken(\"[unused88]\", rstrip=False, lstrip=False, single_word=False, normalized=False, special=True),\n",
       "\t151: AddedToken(\"[unused89]\", rstrip=False, lstrip=False, single_word=False, normalized=False, special=True),\n",
       "\t152: AddedToken(\"[unused90]\", rstrip=False, lstrip=False, single_word=False, normalized=False, special=True),\n",
       "\t153: AddedToken(\"[unused91]\", rstrip=False, lstrip=False, single_word=False, normalized=False, special=True),\n",
       "\t154: AddedToken(\"[unused92]\", rstrip=False, lstrip=False, single_word=False, normalized=False, special=True),\n",
       "\t155: AddedToken(\"[unused93]\", rstrip=False, lstrip=False, single_word=False, normalized=False, special=True),\n",
       "\t156: AddedToken(\"[unused94]\", rstrip=False, lstrip=False, single_word=False, normalized=False, special=True),\n",
       "\t157: AddedToken(\"[unused95]\", rstrip=False, lstrip=False, single_word=False, normalized=False, special=True),\n",
       "\t158: AddedToken(\"[unused96]\", rstrip=False, lstrip=False, single_word=False, normalized=False, special=True),\n",
       "\t159: AddedToken(\"[unused97]\", rstrip=False, lstrip=False, single_word=False, normalized=False, special=True),\n",
       "\t160: AddedToken(\"[unused98]\", rstrip=False, lstrip=False, single_word=False, normalized=False, special=True),\n",
       "\t161: AddedToken(\"[unused99]\", rstrip=False, lstrip=False, single_word=False, normalized=False, special=True),\n",
       "\t162: AddedToken(\"[extra_id_0]\", rstrip=False, lstrip=False, single_word=False, normalized=False, special=True),\n",
       "\t163: AddedToken(\"[extra_id_1]\", rstrip=False, lstrip=False, single_word=False, normalized=False, special=True),\n",
       "\t164: AddedToken(\"[extra_id_2]\", rstrip=False, lstrip=False, single_word=False, normalized=False, special=True),\n",
       "\t165: AddedToken(\"[extra_id_3]\", rstrip=False, lstrip=False, single_word=False, normalized=False, special=True),\n",
       "\t166: AddedToken(\"[extra_id_4]\", rstrip=False, lstrip=False, single_word=False, normalized=False, special=True),\n",
       "\t167: AddedToken(\"[extra_id_5]\", rstrip=False, lstrip=False, single_word=False, normalized=False, special=True),\n",
       "\t168: AddedToken(\"[extra_id_6]\", rstrip=False, lstrip=False, single_word=False, normalized=False, special=True),\n",
       "\t169: AddedToken(\"[extra_id_7]\", rstrip=False, lstrip=False, single_word=False, normalized=False, special=True),\n",
       "\t170: AddedToken(\"[extra_id_8]\", rstrip=False, lstrip=False, single_word=False, normalized=False, special=True),\n",
       "\t171: AddedToken(\"[extra_id_9]\", rstrip=False, lstrip=False, single_word=False, normalized=False, special=True),\n",
       "\t172: AddedToken(\"[extra_id_10]\", rstrip=False, lstrip=False, single_word=False, normalized=False, special=True),\n",
       "\t173: AddedToken(\"[extra_id_11]\", rstrip=False, lstrip=False, single_word=False, normalized=False, special=True),\n",
       "\t174: AddedToken(\"[extra_id_12]\", rstrip=False, lstrip=False, single_word=False, normalized=False, special=True),\n",
       "\t175: AddedToken(\"[extra_id_13]\", rstrip=False, lstrip=False, single_word=False, normalized=False, special=True),\n",
       "\t176: AddedToken(\"[extra_id_14]\", rstrip=False, lstrip=False, single_word=False, normalized=False, special=True),\n",
       "\t177: AddedToken(\"[extra_id_15]\", rstrip=False, lstrip=False, single_word=False, normalized=False, special=True),\n",
       "\t178: AddedToken(\"[extra_id_16]\", rstrip=False, lstrip=False, single_word=False, normalized=False, special=True),\n",
       "\t179: AddedToken(\"[extra_id_17]\", rstrip=False, lstrip=False, single_word=False, normalized=False, special=True),\n",
       "\t180: AddedToken(\"[extra_id_18]\", rstrip=False, lstrip=False, single_word=False, normalized=False, special=True),\n",
       "\t181: AddedToken(\"[extra_id_19]\", rstrip=False, lstrip=False, single_word=False, normalized=False, special=True),\n",
       "\t182: AddedToken(\"[extra_id_20]\", rstrip=False, lstrip=False, single_word=False, normalized=False, special=True),\n",
       "\t183: AddedToken(\"[extra_id_21]\", rstrip=False, lstrip=False, single_word=False, normalized=False, special=True),\n",
       "\t184: AddedToken(\"[extra_id_22]\", rstrip=False, lstrip=False, single_word=False, normalized=False, special=True),\n",
       "\t185: AddedToken(\"[extra_id_23]\", rstrip=False, lstrip=False, single_word=False, normalized=False, special=True),\n",
       "\t186: AddedToken(\"[extra_id_24]\", rstrip=False, lstrip=False, single_word=False, normalized=False, special=True),\n",
       "\t187: AddedToken(\"[extra_id_25]\", rstrip=False, lstrip=False, single_word=False, normalized=False, special=True),\n",
       "\t188: AddedToken(\"[extra_id_26]\", rstrip=False, lstrip=False, single_word=False, normalized=False, special=True),\n",
       "\t189: AddedToken(\"[extra_id_27]\", rstrip=False, lstrip=False, single_word=False, normalized=False, special=True),\n",
       "\t190: AddedToken(\"[extra_id_28]\", rstrip=False, lstrip=False, single_word=False, normalized=False, special=True),\n",
       "\t191: AddedToken(\"[extra_id_29]\", rstrip=False, lstrip=False, single_word=False, normalized=False, special=True),\n",
       "\t192: AddedToken(\"[extra_id_30]\", rstrip=False, lstrip=False, single_word=False, normalized=False, special=True),\n",
       "\t193: AddedToken(\"[extra_id_31]\", rstrip=False, lstrip=False, single_word=False, normalized=False, special=True),\n",
       "\t194: AddedToken(\"[extra_id_32]\", rstrip=False, lstrip=False, single_word=False, normalized=False, special=True),\n",
       "\t195: AddedToken(\"[extra_id_33]\", rstrip=False, lstrip=False, single_word=False, normalized=False, special=True),\n",
       "\t196: AddedToken(\"[extra_id_34]\", rstrip=False, lstrip=False, single_word=False, normalized=False, special=True),\n",
       "\t197: AddedToken(\"[extra_id_35]\", rstrip=False, lstrip=False, single_word=False, normalized=False, special=True),\n",
       "\t198: AddedToken(\"[extra_id_36]\", rstrip=False, lstrip=False, single_word=False, normalized=False, special=True),\n",
       "\t199: AddedToken(\"[extra_id_37]\", rstrip=False, lstrip=False, single_word=False, normalized=False, special=True),\n",
       "\t200: AddedToken(\"[extra_id_38]\", rstrip=False, lstrip=False, single_word=False, normalized=False, special=True),\n",
       "\t201: AddedToken(\"[extra_id_39]\", rstrip=False, lstrip=False, single_word=False, normalized=False, special=True),\n",
       "\t202: AddedToken(\"[extra_id_40]\", rstrip=False, lstrip=False, single_word=False, normalized=False, special=True),\n",
       "\t203: AddedToken(\"[extra_id_41]\", rstrip=False, lstrip=False, single_word=False, normalized=False, special=True),\n",
       "\t204: AddedToken(\"[extra_id_42]\", rstrip=False, lstrip=False, single_word=False, normalized=False, special=True),\n",
       "\t205: AddedToken(\"[extra_id_43]\", rstrip=False, lstrip=False, single_word=False, normalized=False, special=True),\n",
       "\t206: AddedToken(\"[extra_id_44]\", rstrip=False, lstrip=False, single_word=False, normalized=False, special=True),\n",
       "\t207: AddedToken(\"[extra_id_45]\", rstrip=False, lstrip=False, single_word=False, normalized=False, special=True),\n",
       "\t208: AddedToken(\"[extra_id_46]\", rstrip=False, lstrip=False, single_word=False, normalized=False, special=True),\n",
       "\t209: AddedToken(\"[extra_id_47]\", rstrip=False, lstrip=False, single_word=False, normalized=False, special=True),\n",
       "\t210: AddedToken(\"[extra_id_48]\", rstrip=False, lstrip=False, single_word=False, normalized=False, special=True),\n",
       "\t211: AddedToken(\"[extra_id_49]\", rstrip=False, lstrip=False, single_word=False, normalized=False, special=True),\n",
       "\t212: AddedToken(\"[extra_id_50]\", rstrip=False, lstrip=False, single_word=False, normalized=False, special=True),\n",
       "\t213: AddedToken(\"[extra_id_51]\", rstrip=False, lstrip=False, single_word=False, normalized=False, special=True),\n",
       "\t214: AddedToken(\"[extra_id_52]\", rstrip=False, lstrip=False, single_word=False, normalized=False, special=True),\n",
       "\t215: AddedToken(\"[extra_id_53]\", rstrip=False, lstrip=False, single_word=False, normalized=False, special=True),\n",
       "\t216: AddedToken(\"[extra_id_54]\", rstrip=False, lstrip=False, single_word=False, normalized=False, special=True),\n",
       "\t217: AddedToken(\"[extra_id_55]\", rstrip=False, lstrip=False, single_word=False, normalized=False, special=True),\n",
       "\t218: AddedToken(\"[extra_id_56]\", rstrip=False, lstrip=False, single_word=False, normalized=False, special=True),\n",
       "\t219: AddedToken(\"[extra_id_57]\", rstrip=False, lstrip=False, single_word=False, normalized=False, special=True),\n",
       "\t220: AddedToken(\"[extra_id_58]\", rstrip=False, lstrip=False, single_word=False, normalized=False, special=True),\n",
       "\t221: AddedToken(\"[extra_id_59]\", rstrip=False, lstrip=False, single_word=False, normalized=False, special=True),\n",
       "\t222: AddedToken(\"[extra_id_60]\", rstrip=False, lstrip=False, single_word=False, normalized=False, special=True),\n",
       "\t223: AddedToken(\"[extra_id_61]\", rstrip=False, lstrip=False, single_word=False, normalized=False, special=True),\n",
       "\t224: AddedToken(\"[extra_id_62]\", rstrip=False, lstrip=False, single_word=False, normalized=False, special=True),\n",
       "\t225: AddedToken(\"[extra_id_63]\", rstrip=False, lstrip=False, single_word=False, normalized=False, special=True),\n",
       "\t226: AddedToken(\"[extra_id_64]\", rstrip=False, lstrip=False, single_word=False, normalized=False, special=True),\n",
       "\t227: AddedToken(\"[extra_id_65]\", rstrip=False, lstrip=False, single_word=False, normalized=False, special=True),\n",
       "\t228: AddedToken(\"[extra_id_66]\", rstrip=False, lstrip=False, single_word=False, normalized=False, special=True),\n",
       "\t229: AddedToken(\"[extra_id_67]\", rstrip=False, lstrip=False, single_word=False, normalized=False, special=True),\n",
       "\t230: AddedToken(\"[extra_id_68]\", rstrip=False, lstrip=False, single_word=False, normalized=False, special=True),\n",
       "\t231: AddedToken(\"[extra_id_69]\", rstrip=False, lstrip=False, single_word=False, normalized=False, special=True),\n",
       "\t232: AddedToken(\"[extra_id_70]\", rstrip=False, lstrip=False, single_word=False, normalized=False, special=True),\n",
       "\t233: AddedToken(\"[extra_id_71]\", rstrip=False, lstrip=False, single_word=False, normalized=False, special=True),\n",
       "\t234: AddedToken(\"[extra_id_72]\", rstrip=False, lstrip=False, single_word=False, normalized=False, special=True),\n",
       "\t235: AddedToken(\"[extra_id_73]\", rstrip=False, lstrip=False, single_word=False, normalized=False, special=True),\n",
       "\t236: AddedToken(\"[extra_id_74]\", rstrip=False, lstrip=False, single_word=False, normalized=False, special=True),\n",
       "\t237: AddedToken(\"[extra_id_75]\", rstrip=False, lstrip=False, single_word=False, normalized=False, special=True),\n",
       "\t238: AddedToken(\"[extra_id_76]\", rstrip=False, lstrip=False, single_word=False, normalized=False, special=True),\n",
       "\t239: AddedToken(\"[extra_id_77]\", rstrip=False, lstrip=False, single_word=False, normalized=False, special=True),\n",
       "\t240: AddedToken(\"[extra_id_78]\", rstrip=False, lstrip=False, single_word=False, normalized=False, special=True),\n",
       "\t241: AddedToken(\"[extra_id_79]\", rstrip=False, lstrip=False, single_word=False, normalized=False, special=True),\n",
       "\t242: AddedToken(\"[extra_id_80]\", rstrip=False, lstrip=False, single_word=False, normalized=False, special=True),\n",
       "\t243: AddedToken(\"[extra_id_81]\", rstrip=False, lstrip=False, single_word=False, normalized=False, special=True),\n",
       "\t244: AddedToken(\"[extra_id_82]\", rstrip=False, lstrip=False, single_word=False, normalized=False, special=True),\n",
       "\t245: AddedToken(\"[extra_id_83]\", rstrip=False, lstrip=False, single_word=False, normalized=False, special=True),\n",
       "\t246: AddedToken(\"[extra_id_84]\", rstrip=False, lstrip=False, single_word=False, normalized=False, special=True),\n",
       "\t247: AddedToken(\"[extra_id_85]\", rstrip=False, lstrip=False, single_word=False, normalized=False, special=True),\n",
       "\t248: AddedToken(\"[extra_id_86]\", rstrip=False, lstrip=False, single_word=False, normalized=False, special=True),\n",
       "\t249: AddedToken(\"[extra_id_87]\", rstrip=False, lstrip=False, single_word=False, normalized=False, special=True),\n",
       "\t250: AddedToken(\"[extra_id_88]\", rstrip=False, lstrip=False, single_word=False, normalized=False, special=True),\n",
       "\t251: AddedToken(\"[extra_id_89]\", rstrip=False, lstrip=False, single_word=False, normalized=False, special=True),\n",
       "\t252: AddedToken(\"[extra_id_90]\", rstrip=False, lstrip=False, single_word=False, normalized=False, special=True),\n",
       "\t253: AddedToken(\"[extra_id_91]\", rstrip=False, lstrip=False, single_word=False, normalized=False, special=True),\n",
       "\t254: AddedToken(\"[extra_id_92]\", rstrip=False, lstrip=False, single_word=False, normalized=False, special=True),\n",
       "\t255: AddedToken(\"[extra_id_93]\", rstrip=False, lstrip=False, single_word=False, normalized=False, special=True),\n",
       "\t256: AddedToken(\"[extra_id_94]\", rstrip=False, lstrip=False, single_word=False, normalized=False, special=True),\n",
       "\t257: AddedToken(\"[extra_id_95]\", rstrip=False, lstrip=False, single_word=False, normalized=False, special=True),\n",
       "\t258: AddedToken(\"[extra_id_96]\", rstrip=False, lstrip=False, single_word=False, normalized=False, special=True),\n",
       "\t259: AddedToken(\"[extra_id_97]\", rstrip=False, lstrip=False, single_word=False, normalized=False, special=True),\n",
       "\t260: AddedToken(\"[extra_id_98]\", rstrip=False, lstrip=False, single_word=False, normalized=False, special=True),\n",
       "\t261: AddedToken(\"[extra_id_99]\", rstrip=False, lstrip=False, single_word=False, normalized=False, special=True),\n",
       "\t262: AddedToken(\"[extra_id_100]\", rstrip=False, lstrip=False, single_word=False, normalized=False, special=True),\n",
       "\t263: AddedToken(\"[extra_id_101]\", rstrip=False, lstrip=False, single_word=False, normalized=False, special=True),\n",
       "\t264: AddedToken(\"[extra_id_102]\", rstrip=False, lstrip=False, single_word=False, normalized=False, special=True),\n",
       "\t265: AddedToken(\"[extra_id_103]\", rstrip=False, lstrip=False, single_word=False, normalized=False, special=True),\n",
       "\t266: AddedToken(\"[extra_id_104]\", rstrip=False, lstrip=False, single_word=False, normalized=False, special=True),\n",
       "\t267: AddedToken(\"[extra_id_105]\", rstrip=False, lstrip=False, single_word=False, normalized=False, special=True),\n",
       "\t268: AddedToken(\"[extra_id_106]\", rstrip=False, lstrip=False, single_word=False, normalized=False, special=True),\n",
       "\t269: AddedToken(\"[extra_id_107]\", rstrip=False, lstrip=False, single_word=False, normalized=False, special=True),\n",
       "\t270: AddedToken(\"[extra_id_108]\", rstrip=False, lstrip=False, single_word=False, normalized=False, special=True),\n",
       "\t271: AddedToken(\"[extra_id_109]\", rstrip=False, lstrip=False, single_word=False, normalized=False, special=True),\n",
       "\t272: AddedToken(\"[extra_id_110]\", rstrip=False, lstrip=False, single_word=False, normalized=False, special=True),\n",
       "\t273: AddedToken(\"[extra_id_111]\", rstrip=False, lstrip=False, single_word=False, normalized=False, special=True),\n",
       "\t274: AddedToken(\"[extra_id_112]\", rstrip=False, lstrip=False, single_word=False, normalized=False, special=True),\n",
       "\t275: AddedToken(\"[extra_id_113]\", rstrip=False, lstrip=False, single_word=False, normalized=False, special=True),\n",
       "\t276: AddedToken(\"[extra_id_114]\", rstrip=False, lstrip=False, single_word=False, normalized=False, special=True),\n",
       "\t277: AddedToken(\"[extra_id_115]\", rstrip=False, lstrip=False, single_word=False, normalized=False, special=True),\n",
       "\t278: AddedToken(\"[extra_id_116]\", rstrip=False, lstrip=False, single_word=False, normalized=False, special=True),\n",
       "\t279: AddedToken(\"[extra_id_117]\", rstrip=False, lstrip=False, single_word=False, normalized=False, special=True),\n",
       "\t280: AddedToken(\"[extra_id_118]\", rstrip=False, lstrip=False, single_word=False, normalized=False, special=True),\n",
       "\t281: AddedToken(\"[extra_id_119]\", rstrip=False, lstrip=False, single_word=False, normalized=False, special=True),\n",
       "\t282: AddedToken(\"[extra_id_120]\", rstrip=False, lstrip=False, single_word=False, normalized=False, special=True),\n",
       "\t283: AddedToken(\"[extra_id_121]\", rstrip=False, lstrip=False, single_word=False, normalized=False, special=True),\n",
       "\t284: AddedToken(\"[extra_id_122]\", rstrip=False, lstrip=False, single_word=False, normalized=False, special=True),\n",
       "\t285: AddedToken(\"[extra_id_123]\", rstrip=False, lstrip=False, single_word=False, normalized=False, special=True),\n",
       "\t286: AddedToken(\"[extra_id_124]\", rstrip=False, lstrip=False, single_word=False, normalized=False, special=True),\n",
       "\t287: AddedToken(\"[extra_id_125]\", rstrip=False, lstrip=False, single_word=False, normalized=False, special=True),\n",
       "\t288: AddedToken(\"[extra_id_126]\", rstrip=False, lstrip=False, single_word=False, normalized=False, special=True),\n",
       "\t289: AddedToken(\"[extra_id_127]\", rstrip=False, lstrip=False, single_word=False, normalized=False, special=True),\n",
       "\t290: AddedToken(\"[extra_id_128]\", rstrip=False, lstrip=False, single_word=False, normalized=False, special=True),\n",
       "\t291: AddedToken(\"[extra_id_129]\", rstrip=False, lstrip=False, single_word=False, normalized=False, special=True),\n",
       "\t292: AddedToken(\"[extra_id_130]\", rstrip=False, lstrip=False, single_word=False, normalized=False, special=True),\n",
       "\t293: AddedToken(\"[extra_id_131]\", rstrip=False, lstrip=False, single_word=False, normalized=False, special=True),\n",
       "\t294: AddedToken(\"[extra_id_132]\", rstrip=False, lstrip=False, single_word=False, normalized=False, special=True),\n",
       "\t295: AddedToken(\"[extra_id_133]\", rstrip=False, lstrip=False, single_word=False, normalized=False, special=True),\n",
       "\t296: AddedToken(\"[extra_id_134]\", rstrip=False, lstrip=False, single_word=False, normalized=False, special=True),\n",
       "\t297: AddedToken(\"[extra_id_135]\", rstrip=False, lstrip=False, single_word=False, normalized=False, special=True),\n",
       "\t298: AddedToken(\"[extra_id_136]\", rstrip=False, lstrip=False, single_word=False, normalized=False, special=True),\n",
       "\t299: AddedToken(\"[extra_id_137]\", rstrip=False, lstrip=False, single_word=False, normalized=False, special=True),\n",
       "\t300: AddedToken(\"[extra_id_138]\", rstrip=False, lstrip=False, single_word=False, normalized=False, special=True),\n",
       "\t301: AddedToken(\"[extra_id_139]\", rstrip=False, lstrip=False, single_word=False, normalized=False, special=True),\n",
       "\t302: AddedToken(\"[extra_id_140]\", rstrip=False, lstrip=False, single_word=False, normalized=False, special=True),\n",
       "\t303: AddedToken(\"[extra_id_141]\", rstrip=False, lstrip=False, single_word=False, normalized=False, special=True),\n",
       "\t304: AddedToken(\"[extra_id_142]\", rstrip=False, lstrip=False, single_word=False, normalized=False, special=True),\n",
       "\t305: AddedToken(\"[extra_id_143]\", rstrip=False, lstrip=False, single_word=False, normalized=False, special=True),\n",
       "\t306: AddedToken(\"[extra_id_144]\", rstrip=False, lstrip=False, single_word=False, normalized=False, special=True),\n",
       "\t307: AddedToken(\"[extra_id_145]\", rstrip=False, lstrip=False, single_word=False, normalized=False, special=True),\n",
       "\t308: AddedToken(\"[extra_id_146]\", rstrip=False, lstrip=False, single_word=False, normalized=False, special=True),\n",
       "\t309: AddedToken(\"[extra_id_147]\", rstrip=False, lstrip=False, single_word=False, normalized=False, special=True),\n",
       "\t310: AddedToken(\"[extra_id_148]\", rstrip=False, lstrip=False, single_word=False, normalized=False, special=True),\n",
       "\t311: AddedToken(\"[extra_id_149]\", rstrip=False, lstrip=False, single_word=False, normalized=False, special=True),\n",
       "\t312: AddedToken(\"[extra_id_150]\", rstrip=False, lstrip=False, single_word=False, normalized=False, special=True),\n",
       "\t313: AddedToken(\"[extra_id_151]\", rstrip=False, lstrip=False, single_word=False, normalized=False, special=True),\n",
       "\t314: AddedToken(\"[extra_id_152]\", rstrip=False, lstrip=False, single_word=False, normalized=False, special=True),\n",
       "\t315: AddedToken(\"[extra_id_153]\", rstrip=False, lstrip=False, single_word=False, normalized=False, special=True),\n",
       "\t316: AddedToken(\"[extra_id_154]\", rstrip=False, lstrip=False, single_word=False, normalized=False, special=True),\n",
       "\t317: AddedToken(\"[extra_id_155]\", rstrip=False, lstrip=False, single_word=False, normalized=False, special=True),\n",
       "\t318: AddedToken(\"[extra_id_156]\", rstrip=False, lstrip=False, single_word=False, normalized=False, special=True),\n",
       "\t319: AddedToken(\"[extra_id_157]\", rstrip=False, lstrip=False, single_word=False, normalized=False, special=True),\n",
       "\t320: AddedToken(\"[extra_id_158]\", rstrip=False, lstrip=False, single_word=False, normalized=False, special=True),\n",
       "\t321: AddedToken(\"[extra_id_159]\", rstrip=False, lstrip=False, single_word=False, normalized=False, special=True),\n",
       "\t322: AddedToken(\"[extra_id_160]\", rstrip=False, lstrip=False, single_word=False, normalized=False, special=True),\n",
       "\t323: AddedToken(\"[extra_id_161]\", rstrip=False, lstrip=False, single_word=False, normalized=False, special=True),\n",
       "\t324: AddedToken(\"[extra_id_162]\", rstrip=False, lstrip=False, single_word=False, normalized=False, special=True),\n",
       "\t325: AddedToken(\"[extra_id_163]\", rstrip=False, lstrip=False, single_word=False, normalized=False, special=True),\n",
       "\t326: AddedToken(\"[extra_id_164]\", rstrip=False, lstrip=False, single_word=False, normalized=False, special=True),\n",
       "\t327: AddedToken(\"[extra_id_165]\", rstrip=False, lstrip=False, single_word=False, normalized=False, special=True),\n",
       "\t328: AddedToken(\"[extra_id_166]\", rstrip=False, lstrip=False, single_word=False, normalized=False, special=True),\n",
       "\t329: AddedToken(\"[extra_id_167]\", rstrip=False, lstrip=False, single_word=False, normalized=False, special=True),\n",
       "\t330: AddedToken(\"[extra_id_168]\", rstrip=False, lstrip=False, single_word=False, normalized=False, special=True),\n",
       "\t331: AddedToken(\"[extra_id_169]\", rstrip=False, lstrip=False, single_word=False, normalized=False, special=True),\n",
       "\t332: AddedToken(\"[extra_id_170]\", rstrip=False, lstrip=False, single_word=False, normalized=False, special=True),\n",
       "\t333: AddedToken(\"[extra_id_171]\", rstrip=False, lstrip=False, single_word=False, normalized=False, special=True),\n",
       "\t334: AddedToken(\"[extra_id_172]\", rstrip=False, lstrip=False, single_word=False, normalized=False, special=True),\n",
       "\t335: AddedToken(\"[extra_id_173]\", rstrip=False, lstrip=False, single_word=False, normalized=False, special=True),\n",
       "\t336: AddedToken(\"[extra_id_174]\", rstrip=False, lstrip=False, single_word=False, normalized=False, special=True),\n",
       "\t337: AddedToken(\"[extra_id_175]\", rstrip=False, lstrip=False, single_word=False, normalized=False, special=True),\n",
       "\t338: AddedToken(\"[extra_id_176]\", rstrip=False, lstrip=False, single_word=False, normalized=False, special=True),\n",
       "\t339: AddedToken(\"[extra_id_177]\", rstrip=False, lstrip=False, single_word=False, normalized=False, special=True),\n",
       "\t340: AddedToken(\"[extra_id_178]\", rstrip=False, lstrip=False, single_word=False, normalized=False, special=True),\n",
       "\t341: AddedToken(\"[extra_id_179]\", rstrip=False, lstrip=False, single_word=False, normalized=False, special=True),\n",
       "\t342: AddedToken(\"[extra_id_180]\", rstrip=False, lstrip=False, single_word=False, normalized=False, special=True),\n",
       "\t343: AddedToken(\"[extra_id_181]\", rstrip=False, lstrip=False, single_word=False, normalized=False, special=True),\n",
       "\t344: AddedToken(\"[extra_id_182]\", rstrip=False, lstrip=False, single_word=False, normalized=False, special=True),\n",
       "\t345: AddedToken(\"[extra_id_183]\", rstrip=False, lstrip=False, single_word=False, normalized=False, special=True),\n",
       "\t346: AddedToken(\"[extra_id_184]\", rstrip=False, lstrip=False, single_word=False, normalized=False, special=True),\n",
       "\t347: AddedToken(\"[extra_id_185]\", rstrip=False, lstrip=False, single_word=False, normalized=False, special=True),\n",
       "\t348: AddedToken(\"[extra_id_186]\", rstrip=False, lstrip=False, single_word=False, normalized=False, special=True),\n",
       "\t349: AddedToken(\"[extra_id_187]\", rstrip=False, lstrip=False, single_word=False, normalized=False, special=True),\n",
       "\t350: AddedToken(\"[extra_id_188]\", rstrip=False, lstrip=False, single_word=False, normalized=False, special=True),\n",
       "\t351: AddedToken(\"[extra_id_189]\", rstrip=False, lstrip=False, single_word=False, normalized=False, special=True),\n",
       "\t352: AddedToken(\"[extra_id_190]\", rstrip=False, lstrip=False, single_word=False, normalized=False, special=True),\n",
       "\t353: AddedToken(\"[extra_id_191]\", rstrip=False, lstrip=False, single_word=False, normalized=False, special=True),\n",
       "\t354: AddedToken(\"[extra_id_192]\", rstrip=False, lstrip=False, single_word=False, normalized=False, special=True),\n",
       "\t355: AddedToken(\"[extra_id_193]\", rstrip=False, lstrip=False, single_word=False, normalized=False, special=True),\n",
       "\t356: AddedToken(\"[extra_id_194]\", rstrip=False, lstrip=False, single_word=False, normalized=False, special=True),\n",
       "\t357: AddedToken(\"[extra_id_195]\", rstrip=False, lstrip=False, single_word=False, normalized=False, special=True),\n",
       "\t358: AddedToken(\"[extra_id_196]\", rstrip=False, lstrip=False, single_word=False, normalized=False, special=True),\n",
       "\t359: AddedToken(\"[extra_id_197]\", rstrip=False, lstrip=False, single_word=False, normalized=False, special=True),\n",
       "\t360: AddedToken(\"[extra_id_198]\", rstrip=False, lstrip=False, single_word=False, normalized=False, special=True),\n",
       "\t361: AddedToken(\"[|endofturn|]\", rstrip=False, lstrip=False, single_word=False, normalized=False, special=True),\n",
       "}\n",
       ")"
      ]
     },
     "execution_count": 23,
     "metadata": {},
     "output_type": "execute_result"
    }
   ],
   "source": [
    "# 토크나이저 로딩\n",
    "tokenizer = AutoTokenizer.from_pretrained(\"LGAI-EXAONE/EXAONE-3.0-7.8B-Instruct\")\n",
    "tokenizer"
   ]
  },
  {
   "cell_type": "code",
   "execution_count": 39,
   "metadata": {},
   "outputs": [
    {
     "data": {
      "text/plain": [
       "tensor([[  420,   453, 47982,   453,   422,  5094,   937, 11522,   394,  5746,\n",
       "          1932,  1005,  7401, 10680,  8385,   373,   619, 12913, 19415,   375,\n",
       "           361,   560,   420,   453, 14719,   453,   422, 42090,   921,  1497,\n",
       "           904,   937,   560,   420,   453,  1167,  8659,   453,   422]])"
      ]
     },
     "execution_count": 39,
     "metadata": {},
     "output_type": "execute_result"
    }
   ],
   "source": [
    "# 프롬프트 설정\n",
    "prompt = \"Explain who you are\"\n",
    "# prompt = \"너의 소원을 말해봐\"\n",
    "\n",
    "# 메시지 구성\n",
    "messages = [\n",
    "    {\n",
    "        \"role\": \"system\",\n",
    "        \"content\": \"You are EXAONE model from LG AI Research, a helpful assistant.\"\n",
    "    },\n",
    "    {\n",
    "        \"role\": \"user\", \n",
    "        \"content\": prompt\n",
    "    }\n",
    "]\n",
    "\n",
    "# 템플릿에 맞게 토큰화\n",
    "input_ids = tokenizer.apply_chat_template(\n",
    "    messages,\n",
    "    tokenize=True, # 텍스트 -> 토큰 id로 변환\n",
    "    add_generation_prompt=True, # 마지막에 모델이 응답할 자리 표시 추가\n",
    "    return_tensors=\"pt\" # PyTorch 텐서로 변환\n",
    "    )\n",
    "input_ids"
   ]
  },
  {
   "cell_type": "code",
   "execution_count": 40,
   "metadata": {},
   "outputs": [
    {
     "name": "stdout",
     "output_type": "stream",
     "text": [
      "추론 출력 시간: 3.09초\n"
     ]
    }
   ],
   "source": [
    "# 모델 추론 (텍스트 생성)\n",
    "import time\n",
    "start_time = time.time()\n",
    "output = model.generate(\n",
    "    input_ids.to(\"cuda\"),\n",
    "    eos_token_id=tokenizer.eos_token_id,\n",
    "    max_new_tokens=128\n",
    ") # 추론 출력 시간 측정\n",
    "end_time = time.time()\n",
    "print(f\"추론 출력 시간: {end_time - start_time:.2f}초\")"
   ]
  },
  {
   "cell_type": "markdown",
   "metadata": {},
   "source": [
    "- cpu 사용시 52초\n",
    "- gpu 사용시 3.23초 (device_map=\"auto\")\n",
    "- device_map=\"auto\" 가 어떻게 잡혔는지 확인할 수 있을까?"
   ]
  },
  {
   "cell_type": "code",
   "execution_count": 41,
   "metadata": {},
   "outputs": [
    {
     "data": {
      "text/plain": [
       "tensor([[  420,   453, 47982,   453,   422,  5094,   937, 11522,   394,  5746,\n",
       "          1932,  1005,  7401, 10680,  8385,   373,   619, 12913, 19415,   375,\n",
       "           361,   560,   420,   453, 14719,   453,   422, 42090,   921,  1497,\n",
       "           904,   937,   560,   420,   453,  1167,  8659,   453,   422, 33381,\n",
       "           362,   768,   368,   438, 11522,   394,  5746,   582,   380,   375,\n",
       "           377,   373,   662,  9944,  5004,  1932,  5218,   956,  7401, 10680,\n",
       "          8385,   375,  4134,  5364,  1748,   772,   681, 12148,  5288,   956,\n",
       "          7315,  2454,   373, 32720,  5344,   373,   686, 12429,   851,  4158,\n",
       "          9867,  1935,  5295,  5004,   375,   768,   368,   438,  5878,   681,\n",
       "          3527,   686,  8435,  3495,   374, 12541,  2591,  2357,   807,   629,\n",
       "          1602,   768,   368,   777,  1441, 13078,   807,   375,  4134,  6837,\n",
       "           772,   681,   821,   619, 12913,   686, 33076, 19415,   666,  1314,\n",
       "          7551,  6270,   375,  2386,   904,  1072,  1491,  5344,   913,  1788,\n",
       "         12274,   373,  3537,  2992,   681,  3241,   362,   361]],\n",
       "       device='cuda:0')"
      ]
     },
     "execution_count": 41,
     "metadata": {},
     "output_type": "execute_result"
    }
   ],
   "source": [
    "output"
   ]
  },
  {
   "cell_type": "code",
   "execution_count": 43,
   "metadata": {},
   "outputs": [
    {
     "name": "stdout",
     "output_type": "stream",
     "text": [
      "[|system|]You are EXAONE model from LG AI Research, a helpful assistant.[|endofturn|]\n",
      "[|user|]Explain who you are\n",
      "[|assistant|]Hello! I'm EXAONE 3.0, an advanced language model developed by LG AI Research. My primary function is to assist users by providing information, answering questions, and helping with various tasks using natural language. I'm designed to understand and generate human-like text based on the data I've been trained on. My goal is to be a helpful and informative assistant in your daily activities. If you have any questions or need assistance, feel free to ask![|endofturn|]\n"
     ]
    }
   ],
   "source": [
    "res = tokenizer.decode(output[0])\n",
    "print(res)"
   ]
  }
 ],
 "metadata": {
  "kernelspec": {
   "display_name": "venv",
   "language": "python",
   "name": "python3"
  },
  "language_info": {
   "codemirror_mode": {
    "name": "ipython",
    "version": 3
   },
   "file_extension": ".py",
   "mimetype": "text/x-python",
   "name": "python",
   "nbconvert_exporter": "python",
   "pygments_lexer": "ipython3",
   "version": "3.12.3"
  }
 },
 "nbformat": 4,
 "nbformat_minor": 2
}
